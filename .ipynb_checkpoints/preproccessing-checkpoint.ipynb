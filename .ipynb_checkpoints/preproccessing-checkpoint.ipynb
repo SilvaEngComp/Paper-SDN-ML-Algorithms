{
 "cells": [
  {
   "cell_type": "code",
   "execution_count": 4,
   "metadata": {},
   "outputs": [],
   "source": [
    "import pandas as pd\n",
    "import numpy as np\n",
    "import math\n",
    "from datetime import datetime\n",
    "import csv\n",
    "import time\n",
    "\n"
   ]
  },
  {
   "cell_type": "code",
   "execution_count": 6,
   "metadata": {},
   "outputs": [
    {
     "name": "stderr",
     "output_type": "stream",
     "text": [
      "C:\\Users\\silva\\anaconda3\\lib\\site-packages\\IPython\\core\\interactiveshell.py:3146: DtypeWarning: Columns (7) have mixed types.Specify dtype option on import or set low_memory=False.\n",
      "  has_raised = await self.run_ast_nodes(code_ast.body, cell_name,\n"
     ]
    }
   ],
   "source": [
    "dataset = pd.read_csv('data4.csv', delimiter=\";\")\n",
    "dataset.date = dataset.date+ ' ' +dataset.time\n",
    "dataset.date= pd.to_datetime(dataset.date, infer_datetime_format=True)\n"
   ]
  },
  {
   "cell_type": "code",
   "execution_count": null,
   "metadata": {},
   "outputs": [],
   "source": [
    "test=[]\n",
    "for i in dataset.date:\n",
    "    print(dataset[\"date\"][0:19])\n"
   ]
  },
  {
   "cell_type": "code",
   "execution_count": 7,
   "metadata": {},
   "outputs": [],
   "source": [
    "dataset.drop('time', axis=1, inplace=True)\n"
   ]
  },
  {
   "cell_type": "code",
   "execution_count": 8,
   "metadata": {},
   "outputs": [
    {
     "data": {
      "text/html": [
       "<div>\n",
       "<style scoped>\n",
       "    .dataframe tbody tr th:only-of-type {\n",
       "        vertical-align: middle;\n",
       "    }\n",
       "\n",
       "    .dataframe tbody tr th {\n",
       "        vertical-align: top;\n",
       "    }\n",
       "\n",
       "    .dataframe thead th {\n",
       "        text-align: right;\n",
       "    }\n",
       "</style>\n",
       "<table border=\"1\" class=\"dataframe\">\n",
       "  <thead>\n",
       "    <tr style=\"text-align: right;\">\n",
       "      <th></th>\n",
       "      <th>date</th>\n",
       "      <th>epoch</th>\n",
       "      <th>moteid</th>\n",
       "      <th>temperature</th>\n",
       "      <th>humidity</th>\n",
       "      <th>light</th>\n",
       "      <th>voltage</th>\n",
       "      <th>Unnamed: 8</th>\n",
       "    </tr>\n",
       "  </thead>\n",
       "  <tbody>\n",
       "    <tr>\n",
       "      <th>0</th>\n",
       "      <td>2004-03-31 03:38:15.757551</td>\n",
       "      <td>2</td>\n",
       "      <td>1</td>\n",
       "      <td>122.153</td>\n",
       "      <td>-391.901</td>\n",
       "      <td>11.04</td>\n",
       "      <td>203.397</td>\n",
       "      <td>NaN</td>\n",
       "    </tr>\n",
       "    <tr>\n",
       "      <th>1</th>\n",
       "      <td>2004-02-28 00:59:16.027850</td>\n",
       "      <td>3</td>\n",
       "      <td>1</td>\n",
       "      <td>199.884</td>\n",
       "      <td>370.933</td>\n",
       "      <td>45.08</td>\n",
       "      <td>269.964</td>\n",
       "      <td>NaN</td>\n",
       "    </tr>\n",
       "    <tr>\n",
       "      <th>2</th>\n",
       "      <td>2004-02-28 01:03:16.333930</td>\n",
       "      <td>11</td>\n",
       "      <td>1</td>\n",
       "      <td>193.024</td>\n",
       "      <td>384.629</td>\n",
       "      <td>45.08</td>\n",
       "      <td>268.742</td>\n",
       "      <td>NaN</td>\n",
       "    </tr>\n",
       "    <tr>\n",
       "      <th>3</th>\n",
       "      <td>2004-02-28 01:06:16.013453</td>\n",
       "      <td>17</td>\n",
       "      <td>1</td>\n",
       "      <td>191.652</td>\n",
       "      <td>388.039</td>\n",
       "      <td>45.08</td>\n",
       "      <td>268.742</td>\n",
       "      <td>NaN</td>\n",
       "    </tr>\n",
       "    <tr>\n",
       "      <th>4</th>\n",
       "      <td>2004-02-28 01:06:46.778088</td>\n",
       "      <td>18</td>\n",
       "      <td>1</td>\n",
       "      <td>19.175</td>\n",
       "      <td>388.379</td>\n",
       "      <td>45.08</td>\n",
       "      <td>269.964</td>\n",
       "      <td>NaN</td>\n",
       "    </tr>\n",
       "    <tr>\n",
       "      <th>...</th>\n",
       "      <td>...</td>\n",
       "      <td>...</td>\n",
       "      <td>...</td>\n",
       "      <td>...</td>\n",
       "      <td>...</td>\n",
       "      <td>...</td>\n",
       "      <td>...</td>\n",
       "      <td>...</td>\n",
       "    </tr>\n",
       "    <tr>\n",
       "      <th>89957</th>\n",
       "      <td>2004-03-21 19:03:31.489586</td>\n",
       "      <td>65530</td>\n",
       "      <td>2</td>\n",
       "      <td>214.388</td>\n",
       "      <td>467.542</td>\n",
       "      <td>12.88</td>\n",
       "      <td>233.827</td>\n",
       "      <td>NaN</td>\n",
       "    </tr>\n",
       "    <tr>\n",
       "      <th>89958</th>\n",
       "      <td>2004-03-21 19:03:58.335546</td>\n",
       "      <td>65531</td>\n",
       "      <td>2</td>\n",
       "      <td>214.388</td>\n",
       "      <td>466.232</td>\n",
       "      <td>12.88</td>\n",
       "      <td>233.827</td>\n",
       "      <td>NaN</td>\n",
       "    </tr>\n",
       "    <tr>\n",
       "      <th>89959</th>\n",
       "      <td>2004-03-21 19:04:38.153783</td>\n",
       "      <td>65532</td>\n",
       "      <td>2</td>\n",
       "      <td>21.429</td>\n",
       "      <td>468.524</td>\n",
       "      <td>11.04</td>\n",
       "      <td>233.827</td>\n",
       "      <td>NaN</td>\n",
       "    </tr>\n",
       "    <tr>\n",
       "      <th>89960</th>\n",
       "      <td>2004-03-21 19:04:55.907065</td>\n",
       "      <td>65533</td>\n",
       "      <td>2</td>\n",
       "      <td>21.429</td>\n",
       "      <td>465.577</td>\n",
       "      <td>11.04</td>\n",
       "      <td>233.827</td>\n",
       "      <td>NaN</td>\n",
       "    </tr>\n",
       "    <tr>\n",
       "      <th>89961</th>\n",
       "      <td>2004-03-21 19:05:56.020753</td>\n",
       "      <td>65535</td>\n",
       "      <td>2</td>\n",
       "      <td>214.192</td>\n",
       "      <td>467.542</td>\n",
       "      <td>11.04</td>\n",
       "      <td>233.827</td>\n",
       "      <td>NaN</td>\n",
       "    </tr>\n",
       "  </tbody>\n",
       "</table>\n",
       "<p>89962 rows × 8 columns</p>\n",
       "</div>"
      ],
      "text/plain": [
       "                            date  epoch  moteid  temperature  humidity  light  \\\n",
       "0     2004-03-31 03:38:15.757551      2       1      122.153  -391.901  11.04   \n",
       "1     2004-02-28 00:59:16.027850      3       1      199.884   370.933  45.08   \n",
       "2     2004-02-28 01:03:16.333930     11       1      193.024   384.629  45.08   \n",
       "3     2004-02-28 01:06:16.013453     17       1      191.652   388.039  45.08   \n",
       "4     2004-02-28 01:06:46.778088     18       1       19.175   388.379  45.08   \n",
       "...                          ...    ...     ...          ...       ...    ...   \n",
       "89957 2004-03-21 19:03:31.489586  65530       2      214.388   467.542  12.88   \n",
       "89958 2004-03-21 19:03:58.335546  65531       2      214.388   466.232  12.88   \n",
       "89959 2004-03-21 19:04:38.153783  65532       2       21.429   468.524  11.04   \n",
       "89960 2004-03-21 19:04:55.907065  65533       2       21.429   465.577  11.04   \n",
       "89961 2004-03-21 19:05:56.020753  65535       2      214.192   467.542  11.04   \n",
       "\n",
       "       voltage  Unnamed: 8  \n",
       "0      203.397         NaN  \n",
       "1      269.964         NaN  \n",
       "2      268.742         NaN  \n",
       "3      268.742         NaN  \n",
       "4      269.964         NaN  \n",
       "...        ...         ...  \n",
       "89957  233.827         NaN  \n",
       "89958  233.827         NaN  \n",
       "89959  233.827         NaN  \n",
       "89960  233.827         NaN  \n",
       "89961  233.827         NaN  \n",
       "\n",
       "[89962 rows x 8 columns]"
      ]
     },
     "execution_count": 8,
     "metadata": {},
     "output_type": "execute_result"
    }
   ],
   "source": [
    "nset  = dataset[(dataset[\"moteid\"] <=2)]\n",
    "nset"
   ]
  },
  {
   "cell_type": "code",
   "execution_count": 12,
   "metadata": {},
   "outputs": [],
   "source": [
    "MyLIst = []\n",
    "for i in np.arange((nset.shape[0]-1)):\n",
    "    if(nset.iloc[i+1, 2] == nset.iloc[i, 2]):\n",
    "        dalay = (nset.iloc[i+1, 0] - nset.iloc[i, 0]).total_seconds()\n",
    "        temperature = nset.iloc[i+1, 3] - nset.iloc[i, 3]\n",
    "        label = 0\n",
    "        if(temperature>=3):\n",
    "            label=1\n",
    "        MyLIst.append([time.mktime(nset.iloc[i, 0].timetuple()), nset.iloc[i, 0], dalay, nset.iloc[i,2], nset.iloc[i, 3], label])\n",
    "    \n"
   ]
  },
  {
   "cell_type": "code",
   "execution_count": 23,
   "metadata": {},
   "outputs": [],
   "source": [
    "MyLIst = []\n",
    "for i in np.arange((nset.shape[0]-1)):\n",
    "        dalay = (nset.iloc[i+1, 0] - nset.iloc[i, 0]).total_seconds()\n",
    "        delta_temperature = abs(nset.iloc[i+1, 3] - nset.iloc[i, 3])\n",
    "        sensor_id = nset.iloc[i,2]\n",
    "        hour = nset.iloc[i, 0].hour\n",
    "        minute = nset.iloc[i, 0].minute\n",
    "        second = nset.iloc[i, 0].second\n",
    "        day = nset.iloc[i, 0].day\n",
    "        month = nset.iloc[i, 0].month\n",
    "        label = 0\n",
    "        if(delta_temperature>=3):\n",
    "            label=1\n",
    "        MyLIst.append([nset.iloc[i, 0], hour,minute,second,day,month, dalay, sensor_id, nset.iloc[i, 3], label])\n",
    "    \n"
   ]
  },
  {
   "cell_type": "code",
   "execution_count": 2,
   "metadata": {},
   "outputs": [
    {
     "name": "stdout",
     "output_type": "stream",
     "text": [
      "Change has been detected in data: 6 - of index: 1006\n"
     ]
    }
   ],
   "source": [
    "# Imports\n",
    "import numpy as np\n",
    "from skmultiflow.drift_detection import PageHinkley\n",
    "ph = PageHinkley()\n",
    "# Simulating a data stream as a normal distribution of 1's and 0's\n",
    "data_stream = np.random.randint(2, size=2000)\n",
    "# Changing the data concept from index 999 to 2000\n",
    "for i in range(999, 2000):\n",
    "    data_stream[i] = np.random.randint(4, high=8)\n",
    "# Adding stream elements to the PageHinkley drift detector and verifying if drift occurred\n",
    "for i in range(2000):\n",
    "    ph.add_element(data_stream[i])\n",
    "    if ph.detected_change():\n",
    "        print('Change has been detected in data: ' + str(data_stream[i]) + ' - of index: ' + str(i))"
   ]
  },
  {
   "cell_type": "code",
   "execution_count": 24,
   "metadata": {},
   "outputs": [
    {
     "data": {
      "text/plain": [
       "Index(['date', 'hour', 'minut', 'second', 'day', 'month', 'delay', 'sensor_id',\n",
       "       'temperature', 'label'],\n",
       "      dtype='object')"
      ]
     },
     "execution_count": 24,
     "metadata": {},
     "output_type": "execute_result"
    }
   ],
   "source": [
    "cols = ['date', 'hour','minut','second','day','month', 'delay', 'sensor_id', 'temperature','label']\n",
    "df_ML = pd.DataFrame(MyLIst, columns = cols)\n",
    "df_ML.columns\n"
   ]
  },
  {
   "cell_type": "code",
   "execution_count": 25,
   "metadata": {},
   "outputs": [],
   "source": [
    "f = open('sdn_ml.csv','w')\n",
    "try:\n",
    "    writer = csv.writer(f)\n",
    "    writer.writerow(df_ML.columns)\n",
    "    for i in np.arange(int(df_ML.shape[0])):\n",
    "        writer.writerow(df_ML.iloc[i,])\n",
    "finally:\n",
    "    f.close()"
   ]
  },
  {
   "cell_type": "code",
   "execution_count": 26,
   "metadata": {},
   "outputs": [],
   "source": []
  },
  {
   "cell_type": "code",
   "execution_count": 27,
   "metadata": {},
   "outputs": [],
   "source": []
  },
  {
   "cell_type": "code",
   "execution_count": null,
   "metadata": {},
   "outputs": [],
   "source": []
  },
  {
   "cell_type": "code",
   "execution_count": null,
   "metadata": {},
   "outputs": [],
   "source": []
  }
 ],
 "metadata": {
  "kernelspec": {
   "display_name": "Python 3",
   "language": "python",
   "name": "python3"
  },
  "language_info": {
   "codemirror_mode": {
    "name": "ipython",
    "version": 3
   },
   "file_extension": ".py",
   "mimetype": "text/x-python",
   "name": "python",
   "nbconvert_exporter": "python",
   "pygments_lexer": "ipython3",
   "version": "3.8.5"
  }
 },
 "nbformat": 4,
 "nbformat_minor": 4
}
