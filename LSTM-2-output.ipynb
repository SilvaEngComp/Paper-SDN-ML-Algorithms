{
 "cells": [
  {
   "cell_type": "code",
   "execution_count": 1,
   "metadata": {},
   "outputs": [],
   "source": [
    "import os\n",
    "os.environ[\"TF_CPP_MIN_LOG_LEVEL\"] = \"2\""
   ]
  },
  {
   "cell_type": "code",
   "execution_count": 2,
   "metadata": {},
   "outputs": [],
   "source": [
    "import tensorflow as tf\n",
    "from tensorflow import keras\n",
    "from tensorflow.keras import layers\n",
    "import matplotlib.pyplot as plt\n",
    "import seaborn as sns\n",
    "\n",
    "import pandas as pd\n",
    "import numpy as np\n",
    "from sklearn.model_selection import train_test_split\n"
   ]
  },
  {
   "cell_type": "markdown",
   "metadata": {},
   "source": [
    "# Load Datas"
   ]
  },
  {
   "cell_type": "code",
   "execution_count": 3,
   "metadata": {},
   "outputs": [
    {
     "data": {
      "text/html": [
       "<div>\n",
       "<style scoped>\n",
       "    .dataframe tbody tr th:only-of-type {\n",
       "        vertical-align: middle;\n",
       "    }\n",
       "\n",
       "    .dataframe tbody tr th {\n",
       "        vertical-align: top;\n",
       "    }\n",
       "\n",
       "    .dataframe thead th {\n",
       "        text-align: right;\n",
       "    }\n",
       "</style>\n",
       "<table border=\"1\" class=\"dataframe\">\n",
       "  <thead>\n",
       "    <tr style=\"text-align: right;\">\n",
       "      <th></th>\n",
       "      <th>hour</th>\n",
       "      <th>minut</th>\n",
       "      <th>second</th>\n",
       "      <th>day</th>\n",
       "      <th>month</th>\n",
       "      <th>delay</th>\n",
       "      <th>sensor_id</th>\n",
       "      <th>temperature</th>\n",
       "      <th>label</th>\n",
       "    </tr>\n",
       "    <tr>\n",
       "      <th>timestamp</th>\n",
       "      <th></th>\n",
       "      <th></th>\n",
       "      <th></th>\n",
       "      <th></th>\n",
       "      <th></th>\n",
       "      <th></th>\n",
       "      <th></th>\n",
       "      <th></th>\n",
       "      <th></th>\n",
       "    </tr>\n",
       "  </thead>\n",
       "  <tbody>\n",
       "    <tr>\n",
       "      <th>2004-03-31 02:58:45</th>\n",
       "      <td>2</td>\n",
       "      <td>58</td>\n",
       "      <td>45</td>\n",
       "      <td>31</td>\n",
       "      <td>3</td>\n",
       "      <td>26.0</td>\n",
       "      <td>3</td>\n",
       "      <td>122.153</td>\n",
       "      <td>1</td>\n",
       "    </tr>\n",
       "    <tr>\n",
       "      <th>2004-02-28 00:58:46</th>\n",
       "      <td>0</td>\n",
       "      <td>58</td>\n",
       "      <td>46</td>\n",
       "      <td>28</td>\n",
       "      <td>2</td>\n",
       "      <td>26.0</td>\n",
       "      <td>3</td>\n",
       "      <td>20.204</td>\n",
       "      <td>1</td>\n",
       "    </tr>\n",
       "    <tr>\n",
       "      <th>2004-03-30 16:04:46</th>\n",
       "      <td>16</td>\n",
       "      <td>4</td>\n",
       "      <td>46</td>\n",
       "      <td>30</td>\n",
       "      <td>3</td>\n",
       "      <td>26.0</td>\n",
       "      <td>3</td>\n",
       "      <td>122.153</td>\n",
       "      <td>1</td>\n",
       "    </tr>\n",
       "    <tr>\n",
       "      <th>2004-03-30 14:43:05</th>\n",
       "      <td>14</td>\n",
       "      <td>43</td>\n",
       "      <td>5</td>\n",
       "      <td>30</td>\n",
       "      <td>3</td>\n",
       "      <td>26.0</td>\n",
       "      <td>3</td>\n",
       "      <td>122.153</td>\n",
       "      <td>1</td>\n",
       "    </tr>\n",
       "    <tr>\n",
       "      <th>2004-03-30 16:06:06</th>\n",
       "      <td>16</td>\n",
       "      <td>6</td>\n",
       "      <td>6</td>\n",
       "      <td>30</td>\n",
       "      <td>3</td>\n",
       "      <td>26.0</td>\n",
       "      <td>3</td>\n",
       "      <td>122.153</td>\n",
       "      <td>1</td>\n",
       "    </tr>\n",
       "  </tbody>\n",
       "</table>\n",
       "</div>"
      ],
      "text/plain": [
       "                     hour  minut  second  day  month  delay  sensor_id  \\\n",
       "timestamp                                                                \n",
       "2004-03-31 02:58:45     2     58      45   31      3   26.0          3   \n",
       "2004-02-28 00:58:46     0     58      46   28      2   26.0          3   \n",
       "2004-03-30 16:04:46    16      4      46   30      3   26.0          3   \n",
       "2004-03-30 14:43:05    14     43       5   30      3   26.0          3   \n",
       "2004-03-30 16:06:06    16      6       6   30      3   26.0          3   \n",
       "\n",
       "                     temperature  label  \n",
       "timestamp                                \n",
       "2004-03-31 02:58:45      122.153      1  \n",
       "2004-02-28 00:58:46       20.204      1  \n",
       "2004-03-30 16:04:46      122.153      1  \n",
       "2004-03-30 14:43:05      122.153      1  \n",
       "2004-03-30 16:06:06      122.153      1  "
      ]
     },
     "execution_count": 3,
     "metadata": {},
     "output_type": "execute_result"
    }
   ],
   "source": [
    "df = pd.read_csv('sdn_ml.csv')\n",
    "df.index = df['timestamp']\n",
    "df.drop('timestamp', axis=1, inplace=True)\n",
    "df.head()"
   ]
  },
  {
   "cell_type": "markdown",
   "metadata": {},
   "source": [
    "# Separing dataset"
   ]
  },
  {
   "cell_type": "code",
   "execution_count": 4,
   "metadata": {},
   "outputs": [],
   "source": [
    "train_size = int(len(df) * 0.9)\n",
    "test_size = len(df) - train_size\n",
    "train, test = df.iloc[0:train_size], df.iloc[train_size:len(df)]\n"
   ]
  },
  {
   "cell_type": "markdown",
   "metadata": {},
   "source": [
    "# Normalizing"
   ]
  },
  {
   "cell_type": "code",
   "execution_count": 5,
   "metadata": {},
   "outputs": [],
   "source": [
    "from sklearn.preprocessing import RobustScaler"
   ]
  },
  {
   "cell_type": "code",
   "execution_count": 6,
   "metadata": {},
   "outputs": [
    {
     "name": "stderr",
     "output_type": "stream",
     "text": [
      "C:\\Users\\silva\\anaconda3\\lib\\site-packages\\pandas\\core\\indexing.py:1736: SettingWithCopyWarning: \n",
      "A value is trying to be set on a copy of a slice from a DataFrame.\n",
      "Try using .loc[row_indexer,col_indexer] = value instead\n",
      "\n",
      "See the caveats in the documentation: https://pandas.pydata.org/pandas-docs/stable/user_guide/indexing.html#returning-a-view-versus-a-copy\n",
      "  isetter(loc, value[:, i].tolist())\n"
     ]
    }
   ],
   "source": [
    "f_columns = ['delay','temperature']\n",
    "\n",
    "f_transformer = RobustScaler()\n",
    "lb_transformer = RobustScaler()\n",
    "\n",
    "f_transformer = f_transformer.fit(train[f_columns].to_numpy())\n",
    "train.loc[:,f_columns] = f_transformer.transform(train[f_columns].to_numpy())\n",
    "\n",
    "#lb_transformer = lb_transformer.fit(train[['label']])\n",
    "#train['label'] = lb_transformer.transform(train[['label']])"
   ]
  },
  {
   "cell_type": "code",
   "execution_count": 14,
   "metadata": {},
   "outputs": [],
   "source": [
    "def create_dataset(X, y, time_steps=1):\n",
    "    Xs, ys = [], []\n",
    "    for i in range(len(X) - time_steps):\n",
    "        v = X.iloc[i: (i+time_steps),5:8].to_numpy()\n",
    "        Xs.append(v)\n",
    "        ys.append([y.iloc[i+time_steps],X.iloc[i:i+time_steps,5]])\n",
    "    return np.array(Xs), np.array(ys)"
   ]
  },
  {
   "cell_type": "code",
   "execution_count": 15,
   "metadata": {},
   "outputs": [],
   "source": [
    "TIME_STEPS = 30\n",
    "\n",
    "X_train,Y_train = create_dataset(train, train.label, time_steps=TIME_STEPS)\n",
    "X_test,Y_test = create_dataset(test, test.label, time_steps=TIME_STEPS)"
   ]
  },
  {
   "cell_type": "code",
   "execution_count": 16,
   "metadata": {},
   "outputs": [
    {
     "data": {
      "text/plain": [
       "(41543, 2)"
      ]
     },
     "execution_count": 16,
     "metadata": {},
     "output_type": "execute_result"
    }
   ],
   "source": [
    "Y_train.shape"
   ]
  },
  {
   "cell_type": "code",
   "execution_count": 11,
   "metadata": {},
   "outputs": [
    {
     "name": "stdout",
     "output_type": "stream",
     "text": [
      "<class 'numpy.ndarray'> <class 'numpy.ndarray'>\n"
     ]
    }
   ],
   "source": [
    "print(type(X_train), type(Y_train))"
   ]
  },
  {
   "cell_type": "markdown",
   "metadata": {},
   "source": [
    "# Training"
   ]
  },
  {
   "cell_type": "code",
   "execution_count": 12,
   "metadata": {},
   "outputs": [],
   "source": [
    "model = keras.Sequential()\n",
    "model.add(\n",
    "    keras.layers.Bidirectional(\n",
    "        keras.layers.LSTM(\n",
    "            units=128,\n",
    "            input_shape=(X_train.shape[1],X_train.shape[2])\n",
    "        )\n",
    "    ))\n",
    "model.add(keras.layers.Dense(units=128))\n",
    "model.add(keras.layers.Dense(units=128))\n",
    "model.add(keras.layers.Dense(units=128))\n",
    "model.add(keras.layers.Dropout(rate=0.2))\n",
    "model.add(keras.layers.Dense(units=1))\n",
    "#model.add(tf.keras.layers.ThresholdedReLU(theta=1))"
   ]
  },
  {
   "cell_type": "markdown",
   "metadata": {},
   "source": [
    "# Compilation"
   ]
  },
  {
   "cell_type": "code",
   "execution_count": 13,
   "metadata": {},
   "outputs": [],
   "source": [
    "loss =\"mse\"\n",
    "optim = tf.keras.optimizers.SGD(\n",
    "    learning_rate=0.001)\n",
    "metrics=[\"accuracy\"]"
   ]
  },
  {
   "cell_type": "code",
   "execution_count": 14,
   "metadata": {},
   "outputs": [],
   "source": [
    "model.compile(loss=loss, optimizer=optim, metrics=metrics)"
   ]
  },
  {
   "cell_type": "code",
   "execution_count": null,
   "metadata": {},
   "outputs": [
    {
     "name": "stdout",
     "output_type": "stream",
     "text": [
      "Epoch 1/50\n",
      "1169/1169 [==============================] - 57s 42ms/step - loss: 0.0177 - accuracy: 0.9959 - val_loss: 1.4890e-04 - val_accuracy: 1.0000\n",
      "Epoch 2/50\n",
      "1169/1169 [==============================] - 44s 38ms/step - loss: 0.0073 - accuracy: 1.0000 - val_loss: 9.3507e-05 - val_accuracy: 1.0000\n",
      "Epoch 3/50\n",
      "1169/1169 [==============================] - 45s 39ms/step - loss: 0.0054 - accuracy: 1.0000 - val_loss: 7.6407e-05 - val_accuracy: 1.0000\n",
      "Epoch 4/50\n",
      "1169/1169 [==============================] - 44s 38ms/step - loss: 0.0045 - accuracy: 1.0000 - val_loss: 6.8999e-05 - val_accuracy: 1.0000\n",
      "Epoch 5/50\n",
      "1169/1169 [==============================] - 42s 36ms/step - loss: 0.0039 - accuracy: 1.0000 - val_loss: 4.1459e-05 - val_accuracy: 1.0000\n",
      "Epoch 6/50\n",
      "1169/1169 [==============================] - 41s 35ms/step - loss: 0.0036 - accuracy: 1.0000 - val_loss: 5.5275e-05 - val_accuracy: 1.0000\n",
      "Epoch 7/50\n",
      "1169/1169 [==============================] - 42s 36ms/step - loss: 0.0033 - accuracy: 1.0000 - val_loss: 3.3514e-05 - val_accuracy: 1.0000\n",
      "Epoch 8/50\n",
      "1169/1169 [==============================] - 46s 39ms/step - loss: 0.0031 - accuracy: 1.0000 - val_loss: 5.0412e-05 - val_accuracy: 1.0000\n",
      "Epoch 9/50\n",
      "1169/1169 [==============================] - 45s 39ms/step - loss: 0.0029 - accuracy: 1.0000 - val_loss: 2.5626e-05 - val_accuracy: 1.0000\n",
      "Epoch 10/50\n",
      "1169/1169 [==============================] - 39s 34ms/step - loss: 0.0028 - accuracy: 1.0000 - val_loss: 2.1154e-05 - val_accuracy: 1.0000\n",
      "Epoch 11/50\n",
      "1169/1169 [==============================] - 41s 35ms/step - loss: 0.0027 - accuracy: 1.0000 - val_loss: 1.5813e-05 - val_accuracy: 1.0000\n",
      "Epoch 12/50\n",
      "1169/1169 [==============================] - 39s 34ms/step - loss: 0.0026 - accuracy: 1.0000 - val_loss: 2.9510e-05 - val_accuracy: 1.0000\n",
      "Epoch 13/50\n",
      "1169/1169 [==============================] - 41s 35ms/step - loss: 0.0025 - accuracy: 1.0000 - val_loss: 1.5347e-05 - val_accuracy: 1.0000\n",
      "Epoch 14/50\n",
      "1169/1169 [==============================] - 41s 35ms/step - loss: 0.0024 - accuracy: 1.0000 - val_loss: 1.2011e-05 - val_accuracy: 1.0000\n",
      "Epoch 15/50\n",
      "1169/1169 [==============================] - 43s 37ms/step - loss: 0.0023 - accuracy: 1.0000 - val_loss: 1.0915e-05 - val_accuracy: 1.0000\n",
      "Epoch 16/50\n",
      "1169/1169 [==============================] - 39s 34ms/step - loss: 0.0022 - accuracy: 1.0000 - val_loss: 9.6984e-06 - val_accuracy: 1.0000\n",
      "Epoch 17/50\n",
      "1169/1169 [==============================] - 41s 35ms/step - loss: 0.0022 - accuracy: 1.0000 - val_loss: 8.2394e-06 - val_accuracy: 1.0000\n",
      "Epoch 18/50\n",
      "1169/1169 [==============================] - 42s 36ms/step - loss: 0.0022 - accuracy: 1.0000 - val_loss: 1.5547e-05 - val_accuracy: 1.0000\n",
      "Epoch 19/50\n",
      "1169/1169 [==============================] - 41s 35ms/step - loss: 0.0021 - accuracy: 1.0000 - val_loss: 1.1528e-05 - val_accuracy: 1.0000\n",
      "Epoch 20/50\n",
      "1169/1169 [==============================] - 40s 34ms/step - loss: 0.0021 - accuracy: 1.0000 - val_loss: 1.4836e-05 - val_accuracy: 1.0000\n",
      "Epoch 21/50\n",
      "1169/1169 [==============================] - 43s 37ms/step - loss: 0.0020 - accuracy: 1.0000 - val_loss: 2.6533e-05 - val_accuracy: 1.0000\n",
      "Epoch 22/50\n",
      "1169/1169 [==============================] - 40s 34ms/step - loss: 0.0020 - accuracy: 1.0000 - val_loss: 1.1961e-05 - val_accuracy: 1.0000\n",
      "Epoch 23/50\n",
      "1169/1169 [==============================] - 41s 35ms/step - loss: 0.0019 - accuracy: 1.0000 - val_loss: 4.5819e-05 - val_accuracy: 1.0000\n",
      "Epoch 24/50\n",
      "1169/1169 [==============================] - 44s 38ms/step - loss: 0.0019 - accuracy: 1.0000 - val_loss: 5.7983e-05 - val_accuracy: 1.0000\n",
      "Epoch 25/50\n",
      "1169/1169 [==============================] - 40s 34ms/step - loss: 0.0019 - accuracy: 1.0000 - val_loss: 8.3190e-06 - val_accuracy: 1.0000\n",
      "Epoch 26/50\n",
      "1169/1169 [==============================] - 41s 35ms/step - loss: 0.0019 - accuracy: 1.0000 - val_loss: 1.3585e-05 - val_accuracy: 1.0000\n",
      "Epoch 27/50\n",
      "1169/1169 [==============================] - 44s 37ms/step - loss: 0.0018 - accuracy: 1.0000 - val_loss: 4.7947e-06 - val_accuracy: 1.0000\n",
      "Epoch 28/50\n",
      "1169/1169 [==============================] - 40s 35ms/step - loss: 0.0018 - accuracy: 1.0000 - val_loss: 2.8621e-05 - val_accuracy: 1.0000\n",
      "Epoch 29/50\n",
      "1169/1169 [==============================] - 40s 35ms/step - loss: 0.0017 - accuracy: 1.0000 - val_loss: 1.1783e-05 - val_accuracy: 1.0000\n",
      "Epoch 30/50\n",
      "1169/1169 [==============================] - 40s 34ms/step - loss: 0.0017 - accuracy: 1.0000 - val_loss: 5.1611e-06 - val_accuracy: 1.0000\n",
      "Epoch 31/50\n",
      "1169/1169 [==============================] - 41s 35ms/step - loss: 0.0017 - accuracy: 1.0000 - val_loss: 1.6517e-05 - val_accuracy: 1.0000\n",
      "Epoch 32/50\n",
      "1169/1169 [==============================] - 41s 35ms/step - loss: 0.0017 - accuracy: 1.0000 - val_loss: 1.3033e-05 - val_accuracy: 1.0000\n",
      "Epoch 33/50\n",
      "1169/1169 [==============================] - 41s 35ms/step - loss: 0.0016 - accuracy: 1.0000 - val_loss: 8.1986e-06 - val_accuracy: 1.0000\n",
      "Epoch 34/50\n",
      "1169/1169 [==============================] - 41s 35ms/step - loss: 0.0016 - accuracy: 1.0000 - val_loss: 1.4017e-05 - val_accuracy: 1.0000\n",
      "Epoch 35/50\n",
      "1169/1169 [==============================] - 42s 36ms/step - loss: 0.0016 - accuracy: 1.0000 - val_loss: 4.0376e-06 - val_accuracy: 1.0000\n",
      "Epoch 36/50\n",
      "1169/1169 [==============================] - 41s 35ms/step - loss: 0.0016 - accuracy: 1.0000 - val_loss: 6.7054e-06 - val_accuracy: 1.0000\n",
      "Epoch 37/50\n",
      "1169/1169 [==============================] - 41s 35ms/step - loss: 0.0015 - accuracy: 1.0000 - val_loss: 9.0040e-06 - val_accuracy: 1.0000\n",
      "Epoch 38/50\n",
      "1169/1169 [==============================] - 41s 35ms/step - loss: 0.0015 - accuracy: 1.0000 - val_loss: 4.8265e-06 - val_accuracy: 1.0000\n",
      "Epoch 39/50\n",
      "1169/1169 [==============================] - 43s 37ms/step - loss: 0.0015 - accuracy: 1.0000 - val_loss: 2.6377e-05 - val_accuracy: 1.0000\n",
      "Epoch 40/50\n",
      "1169/1169 [==============================] - 42s 36ms/step - loss: 0.0015 - accuracy: 1.0000 - val_loss: 7.3336e-06 - val_accuracy: 1.0000\n",
      "Epoch 41/50\n",
      "1169/1169 [==============================] - 43s 36ms/step - loss: 0.0015 - accuracy: 1.0000 - val_loss: 4.0673e-06 - val_accuracy: 1.0000\n",
      "Epoch 42/50\n",
      "1169/1169 [==============================] - 43s 37ms/step - loss: 0.0015 - accuracy: 1.0000 - val_loss: 6.0343e-06 - val_accuracy: 1.0000\n",
      "Epoch 43/50\n",
      " 443/1169 [==========>...................] - ETA: 28s - loss: 0.0015 - accuracy: 1.0000"
     ]
    }
   ],
   "source": [
    "history = model.fit(\n",
    "    X_train, Y_train, \n",
    "    epochs=50, \n",
    "    batch_size= 32,\n",
    "    validation_split=0.1,\n",
    "    shuffle=False\n",
    ")"
   ]
  },
  {
   "cell_type": "code",
   "execution_count": null,
   "metadata": {},
   "outputs": [],
   "source": [
    "plt.plot(history.history['accuracy'], label='train')\n",
    "plt.plot(history.history['val_accuracy'], label='validation')\n",
    "plt.legend();"
   ]
  },
  {
   "cell_type": "code",
   "execution_count": null,
   "metadata": {},
   "outputs": [],
   "source": [
    "plt.plot(history.history['loss'], label='train')\n",
    "plt.plot(history.history['val_loss'], label='validation')\n",
    "plt.legend();"
   ]
  },
  {
   "cell_type": "code",
   "execution_count": null,
   "metadata": {},
   "outputs": [],
   "source": [
    "y_pred = model.predict(X_test)"
   ]
  },
  {
   "cell_type": "code",
   "execution_count": null,
   "metadata": {},
   "outputs": [],
   "source": [
    "plt.plot(Y_test, marker='.', label='true')\n",
    "plt.plot(y_pred,'r',marker='.', label='predicted')\n",
    "plt.legend();"
   ]
  },
  {
   "cell_type": "code",
   "execution_count": null,
   "metadata": {},
   "outputs": [],
   "source": [
    "from sklearn.metrics import confusion_matrix\n"
   ]
  },
  {
   "cell_type": "code",
   "execution_count": null,
   "metadata": {},
   "outputs": [],
   "source": [
    "#confusion_matrix(y_test_inv, y_pred_inv)"
   ]
  },
  {
   "cell_type": "code",
   "execution_count": null,
   "metadata": {},
   "outputs": [],
   "source": [
    "y_pred"
   ]
  },
  {
   "cell_type": "code",
   "execution_count": null,
   "metadata": {},
   "outputs": [],
   "source": [
    "Y_test"
   ]
  },
  {
   "cell_type": "code",
   "execution_count": null,
   "metadata": {},
   "outputs": [],
   "source": [
    "# y_train_inv = lb_transformer.inverse_transform(Y_train.reshape(1,-1)) \n",
    "# y_test_inv = lb_transformer.inverse_transform(Y_test.reshape(1,-1))\n",
    "# y_pred_inv = lb_transformer.inverse_transform(y_pred)"
   ]
  },
  {
   "cell_type": "code",
   "execution_count": null,
   "metadata": {},
   "outputs": [],
   "source": []
  },
  {
   "cell_type": "code",
   "execution_count": null,
   "metadata": {},
   "outputs": [],
   "source": []
  }
 ],
 "metadata": {
  "kernelspec": {
   "display_name": "Python 3",
   "language": "python",
   "name": "python3"
  },
  "language_info": {
   "codemirror_mode": {
    "name": "ipython",
    "version": 3
   },
   "file_extension": ".py",
   "mimetype": "text/x-python",
   "name": "python",
   "nbconvert_exporter": "python",
   "pygments_lexer": "ipython3",
   "version": "3.8.5"
  }
 },
 "nbformat": 4,
 "nbformat_minor": 4
}
