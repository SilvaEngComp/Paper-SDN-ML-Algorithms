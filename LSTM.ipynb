{
 "cells": [
  {
   "cell_type": "code",
   "execution_count": 1,
   "metadata": {},
   "outputs": [],
   "source": [
    "import os\n",
    "os.environ[\"TF_CPP_MIN_LOG_LEVEL\"] = \"2\""
   ]
  },
  {
   "cell_type": "code",
   "execution_count": 2,
   "metadata": {},
   "outputs": [],
   "source": [
    "import tensorflow as tf\n",
    "from tensorflow import keras\n",
    "from tensorflow.keras import layers\n",
    "import matplotlib.pyplot as plt\n",
    "import seaborn as sns\n",
    "\n",
    "import pandas as pd\n",
    "import numpy as np\n",
    "from sklearn.model_selection import train_test_split\n"
   ]
  },
  {
   "cell_type": "markdown",
   "metadata": {},
   "source": [
    "# Load Datas"
   ]
  },
  {
   "cell_type": "code",
   "execution_count": 3,
   "metadata": {},
   "outputs": [
    {
     "data": {
      "text/html": [
       "<div>\n",
       "<style scoped>\n",
       "    .dataframe tbody tr th:only-of-type {\n",
       "        vertical-align: middle;\n",
       "    }\n",
       "\n",
       "    .dataframe tbody tr th {\n",
       "        vertical-align: top;\n",
       "    }\n",
       "\n",
       "    .dataframe thead th {\n",
       "        text-align: right;\n",
       "    }\n",
       "</style>\n",
       "<table border=\"1\" class=\"dataframe\">\n",
       "  <thead>\n",
       "    <tr style=\"text-align: right;\">\n",
       "      <th></th>\n",
       "      <th>hour</th>\n",
       "      <th>minut</th>\n",
       "      <th>second</th>\n",
       "      <th>day</th>\n",
       "      <th>month</th>\n",
       "      <th>delay</th>\n",
       "      <th>sensor_id</th>\n",
       "      <th>temperature</th>\n",
       "      <th>label</th>\n",
       "    </tr>\n",
       "    <tr>\n",
       "      <th>timestamp</th>\n",
       "      <th></th>\n",
       "      <th></th>\n",
       "      <th></th>\n",
       "      <th></th>\n",
       "      <th></th>\n",
       "      <th></th>\n",
       "      <th></th>\n",
       "      <th></th>\n",
       "      <th></th>\n",
       "    </tr>\n",
       "  </thead>\n",
       "  <tbody>\n",
       "    <tr>\n",
       "      <th>2004-03-31 02:58:45</th>\n",
       "      <td>2</td>\n",
       "      <td>58</td>\n",
       "      <td>45</td>\n",
       "      <td>31</td>\n",
       "      <td>3</td>\n",
       "      <td>0.0</td>\n",
       "      <td>3</td>\n",
       "      <td>122.153</td>\n",
       "      <td>0</td>\n",
       "    </tr>\n",
       "    <tr>\n",
       "      <th>2004-02-28 00:58:46</th>\n",
       "      <td>0</td>\n",
       "      <td>58</td>\n",
       "      <td>46</td>\n",
       "      <td>28</td>\n",
       "      <td>2</td>\n",
       "      <td>0.0</td>\n",
       "      <td>3</td>\n",
       "      <td>20.204</td>\n",
       "      <td>0</td>\n",
       "    </tr>\n",
       "    <tr>\n",
       "      <th>2004-03-30 16:04:46</th>\n",
       "      <td>16</td>\n",
       "      <td>4</td>\n",
       "      <td>46</td>\n",
       "      <td>30</td>\n",
       "      <td>3</td>\n",
       "      <td>0.0</td>\n",
       "      <td>3</td>\n",
       "      <td>122.153</td>\n",
       "      <td>0</td>\n",
       "    </tr>\n",
       "    <tr>\n",
       "      <th>2004-03-30 14:43:05</th>\n",
       "      <td>14</td>\n",
       "      <td>43</td>\n",
       "      <td>5</td>\n",
       "      <td>30</td>\n",
       "      <td>3</td>\n",
       "      <td>0.0</td>\n",
       "      <td>3</td>\n",
       "      <td>122.153</td>\n",
       "      <td>0</td>\n",
       "    </tr>\n",
       "    <tr>\n",
       "      <th>2004-03-30 16:06:06</th>\n",
       "      <td>16</td>\n",
       "      <td>6</td>\n",
       "      <td>6</td>\n",
       "      <td>30</td>\n",
       "      <td>3</td>\n",
       "      <td>0.0</td>\n",
       "      <td>3</td>\n",
       "      <td>122.153</td>\n",
       "      <td>0</td>\n",
       "    </tr>\n",
       "  </tbody>\n",
       "</table>\n",
       "</div>"
      ],
      "text/plain": [
       "                     hour  minut  second  day  month  delay  sensor_id  \\\n",
       "timestamp                                                                \n",
       "2004-03-31 02:58:45     2     58      45   31      3    0.0          3   \n",
       "2004-02-28 00:58:46     0     58      46   28      2    0.0          3   \n",
       "2004-03-30 16:04:46    16      4      46   30      3    0.0          3   \n",
       "2004-03-30 14:43:05    14     43       5   30      3    0.0          3   \n",
       "2004-03-30 16:06:06    16      6       6   30      3    0.0          3   \n",
       "\n",
       "                     temperature  label  \n",
       "timestamp                                \n",
       "2004-03-31 02:58:45      122.153      0  \n",
       "2004-02-28 00:58:46       20.204      0  \n",
       "2004-03-30 16:04:46      122.153      0  \n",
       "2004-03-30 14:43:05      122.153      0  \n",
       "2004-03-30 16:06:06      122.153      0  "
      ]
     },
     "execution_count": 3,
     "metadata": {},
     "output_type": "execute_result"
    }
   ],
   "source": [
    "df = pd.read_csv('sdn_ml.csv')\n",
    "df.index = df['timestamp']\n",
    "df.drop('timestamp', axis=1, inplace=True)\n",
    "df.head()"
   ]
  },
  {
   "cell_type": "markdown",
   "metadata": {},
   "source": [
    "# Separing dataset"
   ]
  },
  {
   "cell_type": "code",
   "execution_count": 4,
   "metadata": {},
   "outputs": [],
   "source": [
    "train_size = int(len(df) * 0.9)\n",
    "test_size = len(df) - train_size\n",
    "train, test = df.iloc[0:train_size], df.iloc[train_size:len(df)]\n"
   ]
  },
  {
   "cell_type": "markdown",
   "metadata": {},
   "source": [
    "# Normalizing"
   ]
  },
  {
   "cell_type": "code",
   "execution_count": 5,
   "metadata": {},
   "outputs": [],
   "source": [
    "from sklearn.preprocessing import RobustScaler"
   ]
  },
  {
   "cell_type": "code",
   "execution_count": 6,
   "metadata": {},
   "outputs": [
    {
     "name": "stderr",
     "output_type": "stream",
     "text": [
      "C:\\Users\\silva\\anaconda3\\lib\\site-packages\\pandas\\core\\indexing.py:1736: SettingWithCopyWarning: \n",
      "A value is trying to be set on a copy of a slice from a DataFrame.\n",
      "Try using .loc[row_indexer,col_indexer] = value instead\n",
      "\n",
      "See the caveats in the documentation: https://pandas.pydata.org/pandas-docs/stable/user_guide/indexing.html#returning-a-view-versus-a-copy\n",
      "  isetter(loc, value[:, i].tolist())\n"
     ]
    }
   ],
   "source": [
    "f_columns = ['delay','temperature']\n",
    "\n",
    "f_transformer = RobustScaler()\n",
    "lb_transformer = RobustScaler()\n",
    "\n",
    "f_transformer = f_transformer.fit(train[f_columns].to_numpy())\n",
    "train.loc[:,f_columns] = f_transformer.transform(train[f_columns].to_numpy())\n",
    "\n",
    "#lb_transformer = lb_transformer.fit(train[['label']])\n",
    "#train['label'] = lb_transformer.transform(train[['label']])"
   ]
  },
  {
   "cell_type": "code",
   "execution_count": 7,
   "metadata": {},
   "outputs": [],
   "source": [
    "def create_dataset(X, y, time_steps=1):\n",
    "    Xs, ys = [], []\n",
    "    for i in range(len(X) - time_steps):\n",
    "        v = X.iloc[i: (i+time_steps),0:8].to_numpy()\n",
    "        Xs.append(v)\n",
    "        ys.append(y.iloc[i+time_steps])\n",
    "    return np.array(Xs), np.array(ys)"
   ]
  },
  {
   "cell_type": "code",
   "execution_count": 8,
   "metadata": {},
   "outputs": [],
   "source": [
    "TIME_STEPS = 20\n",
    "\n",
    "X_train,Y_train = create_dataset(train, train.label, time_steps=TIME_STEPS)\n",
    "X_test,Y_test = create_dataset(test, test.label, time_steps=TIME_STEPS)"
   ]
  },
  {
   "cell_type": "code",
   "execution_count": 9,
   "metadata": {},
   "outputs": [],
   "source": [
    "#deoeting label\n",
    "# X_train.drop('label', axis=1, inplace=True)\n",
    "# X_test.drop('label', axis=1, inplace=True)\n"
   ]
  },
  {
   "cell_type": "code",
   "execution_count": 10,
   "metadata": {},
   "outputs": [
    {
     "data": {
      "text/plain": [
       "array([[[ 2.        , 58.        , 45.        , ..., -0.5       ,\n",
       "          3.        , -0.83541017],\n",
       "        [ 0.        , 58.        , 46.        , ..., -0.5       ,\n",
       "          3.        , -1.81944538],\n",
       "        [16.        ,  4.        , 46.        , ..., -0.5       ,\n",
       "          3.        , -0.83541017],\n",
       "        ...,\n",
       "        [ 1.        ,  8.        , 16.        , ...,  0.        ,\n",
       "          3.        , -0.14567146],\n",
       "        [ 1.        ,  8.        , 46.        , ...,  0.        ,\n",
       "          3.        , -0.14567146],\n",
       "        [ 1.        ,  9.        , 16.        , ...,  0.        ,\n",
       "          3.        , -0.14661738]],\n",
       "\n",
       "       [[ 0.        , 58.        , 46.        , ..., -0.5       ,\n",
       "          3.        , -1.81944538],\n",
       "        [16.        ,  4.        , 46.        , ..., -0.5       ,\n",
       "          3.        , -0.83541017],\n",
       "        [14.        , 43.        ,  5.        , ..., -0.5       ,\n",
       "          3.        , -0.83541017],\n",
       "        ...,\n",
       "        [ 1.        ,  8.        , 46.        , ...,  0.        ,\n",
       "          3.        , -0.14567146],\n",
       "        [ 1.        ,  9.        , 16.        , ...,  0.        ,\n",
       "          3.        , -0.14661738],\n",
       "        [ 1.        ,  9.        , 46.        , ...,  0.5       ,\n",
       "          3.        , -1.82748569]],\n",
       "\n",
       "       [[16.        ,  4.        , 46.        , ..., -0.5       ,\n",
       "          3.        , -0.83541017],\n",
       "        [14.        , 43.        ,  5.        , ..., -0.5       ,\n",
       "          3.        , -0.83541017],\n",
       "        [16.        ,  6.        ,  6.        , ..., -0.5       ,\n",
       "          3.        , -0.83541017],\n",
       "        ...,\n",
       "        [ 1.        ,  9.        , 16.        , ...,  0.        ,\n",
       "          3.        , -0.14661738],\n",
       "        [ 1.        ,  9.        , 46.        , ...,  0.5       ,\n",
       "          3.        , -1.82748569],\n",
       "        [ 1.        , 10.        , 46.        , ...,  0.5       ,\n",
       "          3.        , -0.14377962]],\n",
       "\n",
       "       ...,\n",
       "\n",
       "       [[ 4.        , 47.        , 20.        , ..., -0.5       ,\n",
       "          3.        , -0.16553575],\n",
       "        [ 4.        , 48.        , 28.        , ..., -0.5       ,\n",
       "          3.        , -1.82985049],\n",
       "        [ 4.        , 48.        , 48.        , ..., -0.5       ,\n",
       "          3.        , -1.82985049],\n",
       "        ...,\n",
       "        [ 5.        ,  3.        , 17.        , ...,  0.        ,\n",
       "          3.        , -0.17404901],\n",
       "        [ 5.        ,  4.        , 56.        , ...,  0.        ,\n",
       "          3.        , -0.17404901],\n",
       "        [ 5.        ,  6.        , 23.        , ...,  0.        ,\n",
       "          3.        , -0.17121126]],\n",
       "\n",
       "       [[ 4.        , 48.        , 28.        , ..., -0.5       ,\n",
       "          3.        , -1.82985049],\n",
       "        [ 4.        , 48.        , 48.        , ..., -0.5       ,\n",
       "          3.        , -1.82985049],\n",
       "        [ 4.        , 49.        , 49.        , ..., -0.5       ,\n",
       "          3.        , -1.82985049],\n",
       "        ...,\n",
       "        [ 5.        ,  4.        , 56.        , ...,  0.        ,\n",
       "          3.        , -0.17404901],\n",
       "        [ 5.        ,  6.        , 23.        , ...,  0.        ,\n",
       "          3.        , -0.17121126],\n",
       "        [ 5.        ,  7.        , 32.        , ...,  0.5       ,\n",
       "          3.        , -0.17026534]],\n",
       "\n",
       "       [[ 4.        , 48.        , 48.        , ..., -0.5       ,\n",
       "          3.        , -1.82985049],\n",
       "        [ 4.        , 49.        , 49.        , ..., -0.5       ,\n",
       "          3.        , -1.82985049],\n",
       "        [ 4.        , 50.        , 18.        , ..., -0.5       ,\n",
       "          3.        , -0.16931942],\n",
       "        ...,\n",
       "        [ 5.        ,  6.        , 23.        , ...,  0.        ,\n",
       "          3.        , -0.17121126],\n",
       "        [ 5.        ,  7.        , 32.        , ...,  0.5       ,\n",
       "          3.        , -0.17026534],\n",
       "        [ 5.        ,  7.        , 48.        , ...,  0.5       ,\n",
       "          3.        , -0.17026534]]])"
      ]
     },
     "execution_count": 10,
     "metadata": {},
     "output_type": "execute_result"
    }
   ],
   "source": [
    "X_train"
   ]
  },
  {
   "cell_type": "code",
   "execution_count": 11,
   "metadata": {},
   "outputs": [
    {
     "name": "stdout",
     "output_type": "stream",
     "text": [
      "<class 'numpy.ndarray'> <class 'numpy.ndarray'>\n"
     ]
    }
   ],
   "source": [
    "print(type(X_train), type(Y_train))"
   ]
  },
  {
   "cell_type": "markdown",
   "metadata": {},
   "source": [
    "# Training"
   ]
  },
  {
   "cell_type": "code",
   "execution_count": 12,
   "metadata": {},
   "outputs": [],
   "source": [
    "model = keras.Sequential()\n",
    "model.add(\n",
    "    keras.layers.Bidirectional(\n",
    "        keras.layers.LSTM(\n",
    "            units=128,\n",
    "            input_shape=(X_train.shape[1],X_train.shape[2])\n",
    "        )\n",
    "    ))\n",
    "model.add(keras.layers.Dense(units=128))\n",
    "model.add(keras.layers.Dense(units=128))\n",
    "# model.add(keras.layers.Dense(units=128))\n",
    "model.add(keras.layers.Dropout(rate=0.2))\n",
    "model.add(keras.layers.Dense(units=1))\n",
    "# model.add(tf.keras.layers.ThresholdedReLU(theta=1))"
   ]
  },
  {
   "cell_type": "markdown",
   "metadata": {},
   "source": [
    "# Compilation"
   ]
  },
  {
   "cell_type": "code",
   "execution_count": 13,
   "metadata": {},
   "outputs": [],
   "source": [
    "loss =\"mse\"\n",
    "optim = tf.keras.optimizers.Adam(\n",
    "    learning_rate=0.001)\n",
    "metrics=[\"accuracy\"]"
   ]
  },
  {
   "cell_type": "code",
   "execution_count": 14,
   "metadata": {},
   "outputs": [],
   "source": [
    "model.compile(loss=loss, optimizer=optim, metrics=metrics)"
   ]
  },
  {
   "cell_type": "code",
   "execution_count": null,
   "metadata": {},
   "outputs": [
    {
     "name": "stdout",
     "output_type": "stream",
     "text": [
      "Epoch 1/50\n",
      "1870/1870 [==============================] - 40s 19ms/step - loss: 0.1620 - accuracy: 0.8064 - val_loss: 0.0918 - val_accuracy: 0.9045\n",
      "Epoch 2/50\n",
      "1870/1870 [==============================] - 28s 15ms/step - loss: 0.0829 - accuracy: 0.9101 - val_loss: 0.0793 - val_accuracy: 0.8987\n",
      "Epoch 3/50\n",
      "1870/1870 [==============================] - 28s 15ms/step - loss: 0.0765 - accuracy: 0.9154 - val_loss: 0.0791 - val_accuracy: 0.8989\n",
      "Epoch 4/50\n",
      "1870/1870 [==============================] - 32s 17ms/step - loss: 0.0741 - accuracy: 0.9170 - val_loss: 0.0800 - val_accuracy: 0.8989\n",
      "Epoch 5/50\n",
      "1870/1870 [==============================] - 34s 18ms/step - loss: 0.0729 - accuracy: 0.9172 - val_loss: 0.0806 - val_accuracy: 0.8989\n",
      "Epoch 6/50\n",
      "1870/1870 [==============================] - 32s 17ms/step - loss: 0.0720 - accuracy: 0.9176 - val_loss: 0.0816 - val_accuracy: 0.8989\n",
      "Epoch 7/50\n",
      "1870/1870 [==============================] - 29s 15ms/step - loss: 0.0713 - accuracy: 0.9182 - val_loss: 0.0812 - val_accuracy: 0.8989\n",
      "Epoch 8/50\n",
      "1870/1870 [==============================] - 27s 14ms/step - loss: 0.0707 - accuracy: 0.9183 - val_loss: 0.0813 - val_accuracy: 0.8989\n",
      "Epoch 9/50\n",
      "1870/1870 [==============================] - 26s 14ms/step - loss: 0.0705 - accuracy: 0.9185 - val_loss: 0.0817 - val_accuracy: 0.8989\n",
      "Epoch 10/50\n",
      "1870/1870 [==============================] - 26s 14ms/step - loss: 0.0702 - accuracy: 0.9187 - val_loss: 0.0814 - val_accuracy: 0.8989\n",
      "Epoch 11/50\n",
      "1870/1870 [==============================] - 26s 14ms/step - loss: 0.0700 - accuracy: 0.9185 - val_loss: 0.0811 - val_accuracy: 0.8989\n",
      "Epoch 12/50\n",
      "1870/1870 [==============================] - 26s 14ms/step - loss: 0.0697 - accuracy: 0.9187 - val_loss: 0.0803 - val_accuracy: 0.8989\n",
      "Epoch 13/50\n",
      "1870/1870 [==============================] - 26s 14ms/step - loss: 0.0696 - accuracy: 0.9183 - val_loss: 0.0804 - val_accuracy: 0.8989\n",
      "Epoch 14/50\n",
      "1870/1870 [==============================] - 26s 14ms/step - loss: 0.0693 - accuracy: 0.9185 - val_loss: 0.0804 - val_accuracy: 0.8989\n",
      "Epoch 15/50\n",
      "1870/1870 [==============================] - 26s 14ms/step - loss: 0.0694 - accuracy: 0.9185 - val_loss: 0.0806 - val_accuracy: 0.8989\n",
      "Epoch 16/50\n",
      "1870/1870 [==============================] - 26s 14ms/step - loss: 0.0689 - accuracy: 0.9187 - val_loss: 0.0808 - val_accuracy: 0.8989\n",
      "Epoch 17/50\n",
      "1870/1870 [==============================] - 34s 18ms/step - loss: 0.0689 - accuracy: 0.9185 - val_loss: 0.0810 - val_accuracy: 0.8989\n",
      "Epoch 18/50\n",
      "1870/1870 [==============================] - 50s 27ms/step - loss: 0.0689 - accuracy: 0.9187 - val_loss: 0.0817 - val_accuracy: 0.8989\n",
      "Epoch 19/50\n",
      "1870/1870 [==============================] - 27s 15ms/step - loss: 0.0685 - accuracy: 0.9189 - val_loss: 0.0813 - val_accuracy: 0.8987\n",
      "Epoch 20/50\n",
      "1870/1870 [==============================] - 27s 15ms/step - loss: 0.0689 - accuracy: 0.9187 - val_loss: 0.0813 - val_accuracy: 0.8987\n",
      "Epoch 21/50\n",
      "1870/1870 [==============================] - 27s 14ms/step - loss: 0.0682 - accuracy: 0.9187 - val_loss: 0.0817 - val_accuracy: 0.8987\n",
      "Epoch 22/50\n",
      "1870/1870 [==============================] - 27s 14ms/step - loss: 0.0682 - accuracy: 0.9190 - val_loss: 0.0819 - val_accuracy: 0.8987\n",
      "Epoch 23/50\n",
      "1870/1870 [==============================] - 27s 14ms/step - loss: 0.0679 - accuracy: 0.9193 - val_loss: 0.0819 - val_accuracy: 0.8985\n",
      "Epoch 24/50\n",
      "1794/1870 [===========================>..] - ETA: 1s - loss: 0.0687 - accuracy: 0.9178"
     ]
    }
   ],
   "source": [
    "history = model.fit(\n",
    "    X_train, Y_train, \n",
    "    epochs=50, \n",
    "    batch_size= 20,\n",
    "    validation_split=0.1,\n",
    "    shuffle=False\n",
    ")"
   ]
  },
  {
   "cell_type": "code",
   "execution_count": null,
   "metadata": {},
   "outputs": [],
   "source": [
    "plt.plot(history.history['accuracy'], label='train')\n",
    "plt.plot(history.history['val_accuracy'], label='validation')\n",
    "plt.legend();"
   ]
  },
  {
   "cell_type": "code",
   "execution_count": null,
   "metadata": {},
   "outputs": [],
   "source": [
    "plt.plot(history.history['loss'], label='train')\n",
    "plt.plot(history.history['val_loss'], label='validation')\n",
    "plt.legend();"
   ]
  },
  {
   "cell_type": "code",
   "execution_count": null,
   "metadata": {},
   "outputs": [],
   "source": [
    "y_pred = model.predict(X_test)"
   ]
  },
  {
   "cell_type": "code",
   "execution_count": null,
   "metadata": {},
   "outputs": [],
   "source": [
    "plt.plot(Y_test, marker='.', label='true')\n",
    "plt.plot(y_pred,'r',marker='.', label='predicted')\n",
    "plt.legend();"
   ]
  },
  {
   "cell_type": "code",
   "execution_count": null,
   "metadata": {},
   "outputs": [],
   "source": [
    "y_pred"
   ]
  },
  {
   "cell_type": "code",
   "execution_count": null,
   "metadata": {},
   "outputs": [],
   "source": [
    "Y_test"
   ]
  },
  {
   "cell_type": "code",
   "execution_count": null,
   "metadata": {},
   "outputs": [],
   "source": [
    "# y_train_inv = lb_transformer.inverse_transform(Y_train.reshape(1,-1)) \n",
    "# y_test_inv = lb_transformer.inverse_transform(Y_test.reshape(1,-1))\n",
    "# y_pred_inv = lb_transformer.inverse_transform(y_pred)"
   ]
  },
  {
   "cell_type": "code",
   "execution_count": null,
   "metadata": {},
   "outputs": [],
   "source": []
  },
  {
   "cell_type": "code",
   "execution_count": null,
   "metadata": {},
   "outputs": [],
   "source": []
  }
 ],
 "metadata": {
  "kernelspec": {
   "display_name": "Python 3",
   "language": "python",
   "name": "python3"
  },
  "language_info": {
   "codemirror_mode": {
    "name": "ipython",
    "version": 3
   },
   "file_extension": ".py",
   "mimetype": "text/x-python",
   "name": "python",
   "nbconvert_exporter": "python",
   "pygments_lexer": "ipython3",
   "version": "3.8.5"
  }
 },
 "nbformat": 4,
 "nbformat_minor": 4
}
