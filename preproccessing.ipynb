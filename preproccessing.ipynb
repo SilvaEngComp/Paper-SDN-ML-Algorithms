{
 "cells": [
  {
   "cell_type": "code",
   "execution_count": 1,
   "metadata": {},
   "outputs": [],
   "source": [
    "import pandas as pd\n",
    "import numpy as np\n",
    "import math\n",
    "from datetime import datetime\n",
    "import csv\n",
    "import time\n",
    "\n"
   ]
  },
  {
   "cell_type": "markdown",
   "metadata": {},
   "source": [
    "# Loading original dataset"
   ]
  },
  {
   "cell_type": "code",
   "execution_count": 2,
   "metadata": {},
   "outputs": [
    {
     "name": "stderr",
     "output_type": "stream",
     "text": [
      "C:\\Users\\silva\\anaconda3\\lib\\site-packages\\IPython\\core\\interactiveshell.py:3146: DtypeWarning: Columns (7) have mixed types.Specify dtype option on import or set low_memory=False.\n",
      "  has_raised = await self.run_ast_nodes(code_ast.body, cell_name,\n"
     ]
    }
   ],
   "source": [
    "dataset = pd.read_csv('data4.csv', delimiter=\";\")\n",
    "\n"
   ]
  },
  {
   "cell_type": "markdown",
   "metadata": {},
   "source": [
    "# build timestamp"
   ]
  },
  {
   "cell_type": "code",
   "execution_count": 3,
   "metadata": {},
   "outputs": [],
   "source": [
    "dataset.date = dataset.date+ ' ' +dataset.time\n",
    "dataset.date= pd.to_datetime(dataset.date, infer_datetime_format=True)\n"
   ]
  },
  {
   "cell_type": "markdown",
   "metadata": {},
   "source": [
    "# drop unused columns"
   ]
  },
  {
   "cell_type": "code",
   "execution_count": 4,
   "metadata": {},
   "outputs": [],
   "source": [
    "dataset.drop('time', axis=1, inplace=True)\n"
   ]
  },
  {
   "cell_type": "markdown",
   "metadata": {},
   "source": [
    "# selecting sensor dataset "
   ]
  },
  {
   "cell_type": "code",
   "execution_count": 5,
   "metadata": {},
   "outputs": [
    {
     "data": {
      "text/html": [
       "<div>\n",
       "<style scoped>\n",
       "    .dataframe tbody tr th:only-of-type {\n",
       "        vertical-align: middle;\n",
       "    }\n",
       "\n",
       "    .dataframe tbody tr th {\n",
       "        vertical-align: top;\n",
       "    }\n",
       "\n",
       "    .dataframe thead th {\n",
       "        text-align: right;\n",
       "    }\n",
       "</style>\n",
       "<table border=\"1\" class=\"dataframe\">\n",
       "  <thead>\n",
       "    <tr style=\"text-align: right;\">\n",
       "      <th></th>\n",
       "      <th>date</th>\n",
       "      <th>epoch</th>\n",
       "      <th>moteid</th>\n",
       "      <th>temperature</th>\n",
       "      <th>humidity</th>\n",
       "      <th>light</th>\n",
       "      <th>voltage</th>\n",
       "      <th>Unnamed: 8</th>\n",
       "    </tr>\n",
       "  </thead>\n",
       "  <tbody>\n",
       "    <tr>\n",
       "      <th>0</th>\n",
       "      <td>2004-03-31 03:38:15.757551</td>\n",
       "      <td>2</td>\n",
       "      <td>1</td>\n",
       "      <td>122.153</td>\n",
       "      <td>-391.901</td>\n",
       "      <td>11.04</td>\n",
       "      <td>203.397</td>\n",
       "      <td>NaN</td>\n",
       "    </tr>\n",
       "    <tr>\n",
       "      <th>1</th>\n",
       "      <td>2004-02-28 00:59:16.027850</td>\n",
       "      <td>3</td>\n",
       "      <td>1</td>\n",
       "      <td>199.884</td>\n",
       "      <td>370.933</td>\n",
       "      <td>45.08</td>\n",
       "      <td>269.964</td>\n",
       "      <td>NaN</td>\n",
       "    </tr>\n",
       "    <tr>\n",
       "      <th>2</th>\n",
       "      <td>2004-02-28 01:03:16.333930</td>\n",
       "      <td>11</td>\n",
       "      <td>1</td>\n",
       "      <td>193.024</td>\n",
       "      <td>384.629</td>\n",
       "      <td>45.08</td>\n",
       "      <td>268.742</td>\n",
       "      <td>NaN</td>\n",
       "    </tr>\n",
       "    <tr>\n",
       "      <th>3</th>\n",
       "      <td>2004-02-28 01:06:16.013453</td>\n",
       "      <td>17</td>\n",
       "      <td>1</td>\n",
       "      <td>191.652</td>\n",
       "      <td>388.039</td>\n",
       "      <td>45.08</td>\n",
       "      <td>268.742</td>\n",
       "      <td>NaN</td>\n",
       "    </tr>\n",
       "    <tr>\n",
       "      <th>4</th>\n",
       "      <td>2004-02-28 01:06:46.778088</td>\n",
       "      <td>18</td>\n",
       "      <td>1</td>\n",
       "      <td>19.175</td>\n",
       "      <td>388.379</td>\n",
       "      <td>45.08</td>\n",
       "      <td>269.964</td>\n",
       "      <td>NaN</td>\n",
       "    </tr>\n",
       "    <tr>\n",
       "      <th>...</th>\n",
       "      <td>...</td>\n",
       "      <td>...</td>\n",
       "      <td>...</td>\n",
       "      <td>...</td>\n",
       "      <td>...</td>\n",
       "      <td>...</td>\n",
       "      <td>...</td>\n",
       "      <td>...</td>\n",
       "    </tr>\n",
       "    <tr>\n",
       "      <th>43042</th>\n",
       "      <td>2004-03-21 19:01:04.104563</td>\n",
       "      <td>65525</td>\n",
       "      <td>1</td>\n",
       "      <td>211.056</td>\n",
       "      <td>459.669</td>\n",
       "      <td>2.30</td>\n",
       "      <td>235.683</td>\n",
       "      <td>NaN</td>\n",
       "    </tr>\n",
       "    <tr>\n",
       "      <th>43043</th>\n",
       "      <td>2004-03-21 19:02:32.920740</td>\n",
       "      <td>65528</td>\n",
       "      <td>1</td>\n",
       "      <td>21.086</td>\n",
       "      <td>460.655</td>\n",
       "      <td>2.30</td>\n",
       "      <td>235.683</td>\n",
       "      <td>NaN</td>\n",
       "    </tr>\n",
       "    <tr>\n",
       "      <th>43044</th>\n",
       "      <td>2004-03-21 19:03:32.861656</td>\n",
       "      <td>65530</td>\n",
       "      <td>1</td>\n",
       "      <td>21.086</td>\n",
       "      <td>461.968</td>\n",
       "      <td>2.30</td>\n",
       "      <td>235.683</td>\n",
       "      <td>NaN</td>\n",
       "    </tr>\n",
       "    <tr>\n",
       "      <th>43045</th>\n",
       "      <td>2004-03-21 19:04:56.432522</td>\n",
       "      <td>65533</td>\n",
       "      <td>1</td>\n",
       "      <td>210.762</td>\n",
       "      <td>460.326</td>\n",
       "      <td>0.92</td>\n",
       "      <td>235.683</td>\n",
       "      <td>NaN</td>\n",
       "    </tr>\n",
       "    <tr>\n",
       "      <th>43046</th>\n",
       "      <td>2004-03-21 19:05:35.550141</td>\n",
       "      <td>65534</td>\n",
       "      <td>1</td>\n",
       "      <td>210.664</td>\n",
       "      <td>459.669</td>\n",
       "      <td>0.92</td>\n",
       "      <td>235.683</td>\n",
       "      <td>NaN</td>\n",
       "    </tr>\n",
       "  </tbody>\n",
       "</table>\n",
       "<p>43047 rows × 8 columns</p>\n",
       "</div>"
      ],
      "text/plain": [
       "                            date  epoch  moteid  temperature  humidity  light  \\\n",
       "0     2004-03-31 03:38:15.757551      2       1      122.153  -391.901  11.04   \n",
       "1     2004-02-28 00:59:16.027850      3       1      199.884   370.933  45.08   \n",
       "2     2004-02-28 01:03:16.333930     11       1      193.024   384.629  45.08   \n",
       "3     2004-02-28 01:06:16.013453     17       1      191.652   388.039  45.08   \n",
       "4     2004-02-28 01:06:46.778088     18       1       19.175   388.379  45.08   \n",
       "...                          ...    ...     ...          ...       ...    ...   \n",
       "43042 2004-03-21 19:01:04.104563  65525       1      211.056   459.669   2.30   \n",
       "43043 2004-03-21 19:02:32.920740  65528       1       21.086   460.655   2.30   \n",
       "43044 2004-03-21 19:03:32.861656  65530       1       21.086   461.968   2.30   \n",
       "43045 2004-03-21 19:04:56.432522  65533       1      210.762   460.326   0.92   \n",
       "43046 2004-03-21 19:05:35.550141  65534       1      210.664   459.669   0.92   \n",
       "\n",
       "       voltage  Unnamed: 8  \n",
       "0      203.397         NaN  \n",
       "1      269.964         NaN  \n",
       "2      268.742         NaN  \n",
       "3      268.742         NaN  \n",
       "4      269.964         NaN  \n",
       "...        ...         ...  \n",
       "43042  235.683         NaN  \n",
       "43043  235.683         NaN  \n",
       "43044  235.683         NaN  \n",
       "43045  235.683         NaN  \n",
       "43046  235.683         NaN  \n",
       "\n",
       "[43047 rows x 8 columns]"
      ]
     },
     "execution_count": 5,
     "metadata": {},
     "output_type": "execute_result"
    }
   ],
   "source": [
    "nset  = dataset[(dataset[\"moteid\"] ==1)]\n",
    "nset"
   ]
  },
  {
   "cell_type": "markdown",
   "metadata": {},
   "source": [
    "# build ML dataset part 1"
   ]
  },
  {
   "cell_type": "code",
   "execution_count": 6,
   "metadata": {},
   "outputs": [],
   "source": [
    "MyLIst = []\n",
    "\n",
    "for i in np.arange((nset.shape[0]-1)):\n",
    "        dalay = (nset.iloc[i+1, 0] - nset.iloc[i, 0]).total_seconds()\n",
    "        delta_temperature = abs(nset.iloc[i+1, 3] - nset.iloc[i, 3])\n",
    "        sensor_id = nset.iloc[i,2]\n",
    "        hour = nset.iloc[i, 0].hour\n",
    "        minute = nset.iloc[i, 0].minute\n",
    "        second = nset.iloc[i, 0].second\n",
    "        day = nset.iloc[i, 0].day\n",
    "        month = nset.iloc[i, 0].month\n",
    "        label = 0\n",
    "        if(delta_temperature>=3):\n",
    "            label=1\n",
    "        MyLIst.append([nset.iloc[i, 0], hour,minute,second,day,month, dalay, sensor_id, nset.iloc[i, 3], label])\n",
    "    \n"
   ]
  },
  {
   "cell_type": "code",
   "execution_count": 7,
   "metadata": {},
   "outputs": [],
   "source": [
    "cols = ['date', 'hour','minut','second','day','month', 'delay', 'sensor_id', 'temperature','label']\n",
    "df_ML = pd.DataFrame(MyLIst, columns = cols)\n"
   ]
  },
  {
   "cell_type": "markdown",
   "metadata": {},
   "source": [
    "# updating label and dalay to concept drift"
   ]
  },
  {
   "cell_type": "code",
   "execution_count": 8,
   "metadata": {},
   "outputs": [],
   "source": [
    "def create_window(X, time_steps=50):\n",
    "    Xs = []\n",
    "    for i in range(len(X) - time_steps):\n",
    "        v = X.iloc[i: (i+time_steps), 8].to_numpy()\n",
    "        Xs.append(v)\n",
    "    return np.array(Xs)"
   ]
  },
  {
   "cell_type": "code",
   "execution_count": 9,
   "metadata": {},
   "outputs": [
    {
     "data": {
      "text/plain": [
       "184.22567283834934"
      ]
     },
     "execution_count": 9,
     "metadata": {},
     "output_type": "execute_result"
    }
   ],
   "source": [
    "df_ML.iloc[:,8].mean()"
   ]
  },
  {
   "cell_type": "code",
   "execution_count": 18,
   "metadata": {},
   "outputs": [
    {
     "data": {
      "text/plain": [
       "array([[122.153, 199.884, 193.024, ..., 189.006, 189.104, 189.006],\n",
       "       [199.884, 193.024, 191.652, ..., 189.104, 189.006, 188.908],\n",
       "       [193.024, 191.652,  19.175, ..., 189.006, 188.908, 189.006],\n",
       "       ...,\n",
       "       [217.426,  21.723,  21.723, ..., 211.448,  21.135, 211.056],\n",
       "       [ 21.723,  21.723, 216.838, ...,  21.135, 211.056,  21.086],\n",
       "       [ 21.723, 216.838, 216.838, ..., 211.056,  21.086,  21.086]])"
      ]
     },
     "execution_count": 18,
     "metadata": {},
     "output_type": "execute_result"
    }
   ],
   "source": [
    "WINDOW = 50\n",
    "data_stream = create_window(df_ML, time_steps=WINDOW)\n",
    "data_stream"
   ]
  },
  {
   "cell_type": "code",
   "execution_count": 19,
   "metadata": {},
   "outputs": [
    {
     "name": "stdout",
     "output_type": "stream",
     "text": [
      "[122.153 199.884 193.024 191.652  19.175 191.456 191.652 191.652 191.456\n",
      " 191.456 191.456 191.358 191.162 191.162 191.064 191.064 190.966 190.966\n",
      " 190.868 190.672 190.672 190.672 190.868 190.182 190.182 190.084 190.084\n",
      " 190.084 189.986 190.084 189.888 189.692  18.979  18.979 189.692 189.888\n",
      "  18.979 189.888 189.692 189.594 189.594 189.692 189.398  18.93  189.202\n",
      " 189.104 189.006 189.006 189.104 189.006]\n"
     ]
    },
    {
     "ename": "ValueError",
     "evalue": "The truth value of an array with more than one element is ambiguous. Use a.any() or a.all()",
     "output_type": "error",
     "traceback": [
      "\u001b[1;31m---------------------------------------------------------------------------\u001b[0m",
      "\u001b[1;31mValueError\u001b[0m                                Traceback (most recent call last)",
      "\u001b[1;32m<ipython-input-19-565155aaae96>\u001b[0m in \u001b[0;36m<module>\u001b[1;34m\u001b[0m\n\u001b[0;32m      9\u001b[0m \u001b[1;32mfor\u001b[0m \u001b[0mi\u001b[0m \u001b[1;32min\u001b[0m \u001b[0mnp\u001b[0m\u001b[1;33m.\u001b[0m\u001b[0marange\u001b[0m\u001b[1;33m(\u001b[0m\u001b[0mdata_stream\u001b[0m\u001b[1;33m.\u001b[0m\u001b[0mshape\u001b[0m\u001b[1;33m[\u001b[0m\u001b[1;36m0\u001b[0m\u001b[1;33m]\u001b[0m\u001b[1;33m)\u001b[0m\u001b[1;33m:\u001b[0m\u001b[1;33m\u001b[0m\u001b[1;33m\u001b[0m\u001b[0m\n\u001b[0;32m     10\u001b[0m     \u001b[0mprint\u001b[0m\u001b[1;33m(\u001b[0m\u001b[0mdata_stream\u001b[0m\u001b[1;33m[\u001b[0m\u001b[0mi\u001b[0m\u001b[1;33m]\u001b[0m\u001b[1;33m)\u001b[0m\u001b[1;33m\u001b[0m\u001b[1;33m\u001b[0m\u001b[0m\n\u001b[1;32m---> 11\u001b[1;33m     \u001b[0mph\u001b[0m\u001b[1;33m.\u001b[0m\u001b[0madd_element\u001b[0m\u001b[1;33m(\u001b[0m\u001b[0mdata_stream\u001b[0m\u001b[1;33m[\u001b[0m\u001b[0mi\u001b[0m\u001b[1;33m]\u001b[0m\u001b[1;33m)\u001b[0m\u001b[1;33m\u001b[0m\u001b[1;33m\u001b[0m\u001b[0m\n\u001b[0m\u001b[0;32m     12\u001b[0m     \u001b[1;32mif\u001b[0m \u001b[0mph\u001b[0m\u001b[1;33m.\u001b[0m\u001b[0mdetected_change\u001b[0m\u001b[1;33m(\u001b[0m\u001b[1;33m)\u001b[0m\u001b[1;33m:\u001b[0m\u001b[1;33m\u001b[0m\u001b[1;33m\u001b[0m\u001b[0m\n\u001b[0;32m     13\u001b[0m         \u001b[0mCHANGE\u001b[0m \u001b[1;33m=\u001b[0m \u001b[1;36m1\u001b[0m\u001b[1;33m\u001b[0m\u001b[1;33m\u001b[0m\u001b[0m\n",
      "\u001b[1;32m~\\anaconda3\\lib\\site-packages\\skmultiflow\\drift_detection\\page_hinkley.py\u001b[0m in \u001b[0;36madd_element\u001b[1;34m(self, x)\u001b[0m\n\u001b[0;32m     91\u001b[0m \u001b[1;33m\u001b[0m\u001b[0m\n\u001b[0;32m     92\u001b[0m         \u001b[0mself\u001b[0m\u001b[1;33m.\u001b[0m\u001b[0mx_mean\u001b[0m \u001b[1;33m=\u001b[0m \u001b[0mself\u001b[0m\u001b[1;33m.\u001b[0m\u001b[0mx_mean\u001b[0m \u001b[1;33m+\u001b[0m \u001b[1;33m(\u001b[0m\u001b[0mx\u001b[0m \u001b[1;33m-\u001b[0m \u001b[0mself\u001b[0m\u001b[1;33m.\u001b[0m\u001b[0mx_mean\u001b[0m\u001b[1;33m)\u001b[0m \u001b[1;33m/\u001b[0m \u001b[0mfloat\u001b[0m\u001b[1;33m(\u001b[0m\u001b[0mself\u001b[0m\u001b[1;33m.\u001b[0m\u001b[0msample_count\u001b[0m\u001b[1;33m)\u001b[0m\u001b[1;33m\u001b[0m\u001b[1;33m\u001b[0m\u001b[0m\n\u001b[1;32m---> 93\u001b[1;33m         \u001b[0mself\u001b[0m\u001b[1;33m.\u001b[0m\u001b[0msum\u001b[0m \u001b[1;33m=\u001b[0m \u001b[0mmax\u001b[0m\u001b[1;33m(\u001b[0m\u001b[1;36m0.\u001b[0m\u001b[1;33m,\u001b[0m \u001b[0mself\u001b[0m\u001b[1;33m.\u001b[0m\u001b[0malpha\u001b[0m \u001b[1;33m*\u001b[0m \u001b[0mself\u001b[0m\u001b[1;33m.\u001b[0m\u001b[0msum\u001b[0m \u001b[1;33m+\u001b[0m \u001b[1;33m(\u001b[0m\u001b[0mx\u001b[0m \u001b[1;33m-\u001b[0m \u001b[0mself\u001b[0m\u001b[1;33m.\u001b[0m\u001b[0mx_mean\u001b[0m \u001b[1;33m-\u001b[0m \u001b[0mself\u001b[0m\u001b[1;33m.\u001b[0m\u001b[0mdelta\u001b[0m\u001b[1;33m)\u001b[0m\u001b[1;33m)\u001b[0m\u001b[1;33m\u001b[0m\u001b[1;33m\u001b[0m\u001b[0m\n\u001b[0m\u001b[0;32m     94\u001b[0m \u001b[1;33m\u001b[0m\u001b[0m\n\u001b[0;32m     95\u001b[0m         \u001b[0mself\u001b[0m\u001b[1;33m.\u001b[0m\u001b[0msample_count\u001b[0m \u001b[1;33m+=\u001b[0m \u001b[1;36m1\u001b[0m\u001b[1;33m\u001b[0m\u001b[1;33m\u001b[0m\u001b[0m\n",
      "\u001b[1;31mValueError\u001b[0m: The truth value of an array with more than one element is ambiguous. Use a.any() or a.all()"
     ]
    }
   ],
   "source": [
    "# Imports\n",
    "import numpy as np\n",
    "from skmultiflow.drift_detection import PageHinkley\n",
    "ph = PageHinkley()\n",
    "\n",
    "# Adding stream elements to the PageHinkley drift detector and verifying if drift occurred\n",
    "CHANGE = 0\n",
    "DELAY= 0 \n",
    "for i in np.arange(data_stream.shape[0]):  \n",
    "    print(data_stream[i])\n",
    "    ph.add_element(data_stream[i])\n",
    "    if ph.detected_change():\n",
    "        CHANGE = 1\n",
    "        print('Change has been detected in data: ' + str(data_stream[i]) + 'delay'+str(DELAY) +' - of index: '+str(i) )\n",
    "    init = i*WINDOW    \n",
    "    df_ML.iloc[init: (init+WINDOW), 9] = CHANGE\n",
    "    df_ML.iloc[init: (init+WINDOW), 6] =  dalay\n",
    "    DELAY +=200\n",
    "    if(CHANGE):\n",
    "        CHANGE = 0\n",
    "    DELAY= 0 \n",
    "        \n",
    "    "
   ]
  },
  {
   "cell_type": "code",
   "execution_count": 11,
   "metadata": {},
   "outputs": [
    {
     "data": {
      "text/plain": [
       "array([122.153, 199.884, 193.024, 191.652,  19.175, 191.456, 191.652,\n",
       "       191.652, 191.456, 191.456, 191.456, 191.358, 191.162, 191.162,\n",
       "       191.064, 191.064, 190.966, 190.966, 190.868, 190.672, 190.672,\n",
       "       190.672, 190.868, 190.182, 190.182, 190.084, 190.084, 190.084,\n",
       "       189.986, 190.084, 189.888, 189.692,  18.979,  18.979, 189.692,\n",
       "       189.888,  18.979, 189.888, 189.692, 189.594, 189.594, 189.692,\n",
       "       189.398,  18.93 , 189.202, 189.104, 189.006, 189.006, 189.104,\n",
       "       189.006])"
      ]
     },
     "execution_count": 11,
     "metadata": {},
     "output_type": "execute_result"
    }
   ],
   "source": [
    "data_stream[0]"
   ]
  },
  {
   "cell_type": "code",
   "execution_count": null,
   "metadata": {},
   "outputs": [],
   "source": [
    "df_ML"
   ]
  },
  {
   "cell_type": "code",
   "execution_count": null,
   "metadata": {},
   "outputs": [],
   "source": [
    "f = open('sdn_ml.csv','w')\n",
    "try:\n",
    "    writer = csv.writer(f)\n",
    "    writer.writerow(df_ML.columns)\n",
    "    for i in np.arange(int(df_ML.shape[0])):\n",
    "        writer.writerow(df_ML.iloc[i,])\n",
    "finally:\n",
    "    f.close()"
   ]
  },
  {
   "cell_type": "code",
   "execution_count": null,
   "metadata": {},
   "outputs": [],
   "source": []
  },
  {
   "cell_type": "code",
   "execution_count": null,
   "metadata": {},
   "outputs": [],
   "source": []
  },
  {
   "cell_type": "code",
   "execution_count": null,
   "metadata": {},
   "outputs": [],
   "source": [
    "# MyLIst = []\n",
    "# for i in np.arange((nset.shape[0]-1)):\n",
    "#     if(nset.iloc[i+1, 2] == nset.iloc[i, 2]):\n",
    "#         dalay = (nset.iloc[i+1, 0] - nset.iloc[i, 0]).total_seconds()\n",
    "#         temperature = nset.iloc[i+1, 3] - nset.iloc[i, 3]\n",
    "#         label = 0\n",
    "#         if(temperature>=3):\n",
    "#             label=1\n",
    "#         MyLIst.append([time.mktime(nset.iloc[i, 0].timetuple()), nset.iloc[i, 0], dalay, nset.iloc[i,2], nset.iloc[i, 3], label])\n",
    "    \n"
   ]
  },
  {
   "cell_type": "code",
   "execution_count": null,
   "metadata": {},
   "outputs": [],
   "source": []
  },
  {
   "cell_type": "code",
   "execution_count": null,
   "metadata": {},
   "outputs": [],
   "source": []
  }
 ],
 "metadata": {
  "kernelspec": {
   "display_name": "Python 3",
   "language": "python",
   "name": "python3"
  },
  "language_info": {
   "codemirror_mode": {
    "name": "ipython",
    "version": 3
   },
   "file_extension": ".py",
   "mimetype": "text/x-python",
   "name": "python",
   "nbconvert_exporter": "python",
   "pygments_lexer": "ipython3",
   "version": "3.8.5"
  }
 },
 "nbformat": 4,
 "nbformat_minor": 4
}
