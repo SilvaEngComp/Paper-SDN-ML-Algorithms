{
 "cells": [
  {
   "cell_type": "code",
   "execution_count": 1,
   "metadata": {},
   "outputs": [],
   "source": [
    "import matplotlib.pyplot as plt\n",
    "import seaborn as sns\n",
    "\n",
    "import pandas as pd\n",
    "import numpy as np\n"
   ]
  },
  {
   "cell_type": "markdown",
   "metadata": {},
   "source": [
    "# Loading data"
   ]
  },
  {
   "cell_type": "code",
   "execution_count": 2,
   "metadata": {},
   "outputs": [],
   "source": [
    "df = pd.read_csv('sdn_ml.csv')"
   ]
  },
  {
   "cell_type": "code",
   "execution_count": 3,
   "metadata": {},
   "outputs": [],
   "source": [
    "df.index = df['timestamp']\n",
    "df.drop('timestamp', axis=1, inplace=True)"
   ]
  },
  {
   "cell_type": "code",
   "execution_count": 4,
   "metadata": {},
   "outputs": [
    {
     "data": {
      "text/html": [
       "<div>\n",
       "<style scoped>\n",
       "    .dataframe tbody tr th:only-of-type {\n",
       "        vertical-align: middle;\n",
       "    }\n",
       "\n",
       "    .dataframe tbody tr th {\n",
       "        vertical-align: top;\n",
       "    }\n",
       "\n",
       "    .dataframe thead th {\n",
       "        text-align: right;\n",
       "    }\n",
       "</style>\n",
       "<table border=\"1\" class=\"dataframe\">\n",
       "  <thead>\n",
       "    <tr style=\"text-align: right;\">\n",
       "      <th></th>\n",
       "      <th>hour</th>\n",
       "      <th>minut</th>\n",
       "      <th>second</th>\n",
       "      <th>day</th>\n",
       "      <th>month</th>\n",
       "      <th>delay</th>\n",
       "      <th>sensor_id</th>\n",
       "      <th>temperature</th>\n",
       "      <th>label</th>\n",
       "    </tr>\n",
       "    <tr>\n",
       "      <th>timestamp</th>\n",
       "      <th></th>\n",
       "      <th></th>\n",
       "      <th></th>\n",
       "      <th></th>\n",
       "      <th></th>\n",
       "      <th></th>\n",
       "      <th></th>\n",
       "      <th></th>\n",
       "      <th></th>\n",
       "    </tr>\n",
       "  </thead>\n",
       "  <tbody>\n",
       "    <tr>\n",
       "      <th>2004-03-31 02:58:45</th>\n",
       "      <td>2</td>\n",
       "      <td>58</td>\n",
       "      <td>45</td>\n",
       "      <td>31</td>\n",
       "      <td>3</td>\n",
       "      <td>0.0</td>\n",
       "      <td>3</td>\n",
       "      <td>122.153</td>\n",
       "      <td>0</td>\n",
       "    </tr>\n",
       "    <tr>\n",
       "      <th>2004-02-28 00:58:46</th>\n",
       "      <td>0</td>\n",
       "      <td>58</td>\n",
       "      <td>46</td>\n",
       "      <td>28</td>\n",
       "      <td>2</td>\n",
       "      <td>0.0</td>\n",
       "      <td>3</td>\n",
       "      <td>20.204</td>\n",
       "      <td>0</td>\n",
       "    </tr>\n",
       "    <tr>\n",
       "      <th>2004-03-30 16:04:46</th>\n",
       "      <td>16</td>\n",
       "      <td>4</td>\n",
       "      <td>46</td>\n",
       "      <td>30</td>\n",
       "      <td>3</td>\n",
       "      <td>0.0</td>\n",
       "      <td>3</td>\n",
       "      <td>122.153</td>\n",
       "      <td>0</td>\n",
       "    </tr>\n",
       "    <tr>\n",
       "      <th>2004-03-30 14:43:05</th>\n",
       "      <td>14</td>\n",
       "      <td>43</td>\n",
       "      <td>5</td>\n",
       "      <td>30</td>\n",
       "      <td>3</td>\n",
       "      <td>0.0</td>\n",
       "      <td>3</td>\n",
       "      <td>122.153</td>\n",
       "      <td>0</td>\n",
       "    </tr>\n",
       "    <tr>\n",
       "      <th>2004-03-30 16:06:06</th>\n",
       "      <td>16</td>\n",
       "      <td>6</td>\n",
       "      <td>6</td>\n",
       "      <td>30</td>\n",
       "      <td>3</td>\n",
       "      <td>0.0</td>\n",
       "      <td>3</td>\n",
       "      <td>122.153</td>\n",
       "      <td>0</td>\n",
       "    </tr>\n",
       "    <tr>\n",
       "      <th>...</th>\n",
       "      <td>...</td>\n",
       "      <td>...</td>\n",
       "      <td>...</td>\n",
       "      <td>...</td>\n",
       "      <td>...</td>\n",
       "      <td>...</td>\n",
       "      <td>...</td>\n",
       "      <td>...</td>\n",
       "      <td>...</td>\n",
       "    </tr>\n",
       "    <tr>\n",
       "      <th>2004-03-21 19:02:56</th>\n",
       "      <td>19</td>\n",
       "      <td>2</td>\n",
       "      <td>56</td>\n",
       "      <td>21</td>\n",
       "      <td>3</td>\n",
       "      <td>200000.0</td>\n",
       "      <td>3</td>\n",
       "      <td>212.134</td>\n",
       "      <td>0</td>\n",
       "    </tr>\n",
       "    <tr>\n",
       "      <th>2004-03-21 19:03:27</th>\n",
       "      <td>19</td>\n",
       "      <td>3</td>\n",
       "      <td>27</td>\n",
       "      <td>21</td>\n",
       "      <td>3</td>\n",
       "      <td>200000.0</td>\n",
       "      <td>3</td>\n",
       "      <td>211.938</td>\n",
       "      <td>0</td>\n",
       "    </tr>\n",
       "    <tr>\n",
       "      <th>2004-03-21 19:04:05</th>\n",
       "      <td>19</td>\n",
       "      <td>4</td>\n",
       "      <td>5</td>\n",
       "      <td>21</td>\n",
       "      <td>3</td>\n",
       "      <td>400000.0</td>\n",
       "      <td>3</td>\n",
       "      <td>21.184</td>\n",
       "      <td>1</td>\n",
       "    </tr>\n",
       "    <tr>\n",
       "      <th>2004-03-21 19:04:39</th>\n",
       "      <td>19</td>\n",
       "      <td>4</td>\n",
       "      <td>39</td>\n",
       "      <td>21</td>\n",
       "      <td>3</td>\n",
       "      <td>400000.0</td>\n",
       "      <td>3</td>\n",
       "      <td>211.938</td>\n",
       "      <td>1</td>\n",
       "    </tr>\n",
       "    <tr>\n",
       "      <th>2004-03-21 19:05:14</th>\n",
       "      <td>19</td>\n",
       "      <td>5</td>\n",
       "      <td>14</td>\n",
       "      <td>21</td>\n",
       "      <td>3</td>\n",
       "      <td>400000.0</td>\n",
       "      <td>3</td>\n",
       "      <td>21.184</td>\n",
       "      <td>1</td>\n",
       "    </tr>\n",
       "  </tbody>\n",
       "</table>\n",
       "<p>46193 rows × 9 columns</p>\n",
       "</div>"
      ],
      "text/plain": [
       "                     hour  minut  second  day  month     delay  sensor_id  \\\n",
       "timestamp                                                                   \n",
       "2004-03-31 02:58:45     2     58      45   31      3       0.0          3   \n",
       "2004-02-28 00:58:46     0     58      46   28      2       0.0          3   \n",
       "2004-03-30 16:04:46    16      4      46   30      3       0.0          3   \n",
       "2004-03-30 14:43:05    14     43       5   30      3       0.0          3   \n",
       "2004-03-30 16:06:06    16      6       6   30      3       0.0          3   \n",
       "...                   ...    ...     ...  ...    ...       ...        ...   \n",
       "2004-03-21 19:02:56    19      2      56   21      3  200000.0          3   \n",
       "2004-03-21 19:03:27    19      3      27   21      3  200000.0          3   \n",
       "2004-03-21 19:04:05    19      4       5   21      3  400000.0          3   \n",
       "2004-03-21 19:04:39    19      4      39   21      3  400000.0          3   \n",
       "2004-03-21 19:05:14    19      5      14   21      3  400000.0          3   \n",
       "\n",
       "                     temperature  label  \n",
       "timestamp                                \n",
       "2004-03-31 02:58:45      122.153      0  \n",
       "2004-02-28 00:58:46       20.204      0  \n",
       "2004-03-30 16:04:46      122.153      0  \n",
       "2004-03-30 14:43:05      122.153      0  \n",
       "2004-03-30 16:06:06      122.153      0  \n",
       "...                          ...    ...  \n",
       "2004-03-21 19:02:56      212.134      0  \n",
       "2004-03-21 19:03:27      211.938      0  \n",
       "2004-03-21 19:04:05       21.184      1  \n",
       "2004-03-21 19:04:39      211.938      1  \n",
       "2004-03-21 19:05:14       21.184      1  \n",
       "\n",
       "[46193 rows x 9 columns]"
      ]
     },
     "execution_count": 4,
     "metadata": {},
     "output_type": "execute_result"
    }
   ],
   "source": [
    "df"
   ]
  },
  {
   "cell_type": "markdown",
   "metadata": {},
   "source": [
    "# general graphic\n"
   ]
  },
  {
   "cell_type": "code",
   "execution_count": 5,
   "metadata": {},
   "outputs": [
    {
     "data": {
      "image/png": "[encoded data removed]",
      "text/plain": [
       "<Figure size 432x288 with 1 Axes>"
      ]
     },
     "metadata": {
      "needs_background": "light"
     },
     "output_type": "display_data"
    }
   ],
   "source": [
    " ax = sns.boxplot(data=df, orient=\"h\", palette=\"Set2\")"
   ]
  },
  {
   "cell_type": "markdown",
   "metadata": {},
   "source": [
    "# Normalized Graphic "
   ]
  },
  {
   "cell_type": "code",
   "execution_count": 6,
   "metadata": {},
   "outputs": [],
   "source": [
    "from sklearn.preprocessing import StandardScaler"
   ]
  },
  {
   "cell_type": "code",
   "execution_count": 7,
   "metadata": {},
   "outputs": [
    {
     "data": {
      "image/png": "[encoded data removed]",
      "text/plain": [
       "<Figure size 432x288 with 1 Axes>"
      ]
     },
     "metadata": {
      "needs_background": "light"
     },
     "output_type": "display_data"
    }
   ],
   "source": [
    "scaler = StandardScaler().fit(df)\n",
    "norm_subset = pd.DataFrame(scaler.transform(df), columns = df.columns)\n",
    "ax = sns.boxplot(data=norm_subset, orient=\"h\", palette=\"Set2\")"
   ]
  },
  {
   "cell_type": "code",
   "execution_count": 8,
   "metadata": {},
   "outputs": [
    {
     "data": {
      "image/png": "[encoded data removed]",
      "text/plain": [
       "<Figure size 432x288 with 1 Axes>"
      ]
     },
     "metadata": {
      "needs_background": "light"
     },
     "output_type": "display_data"
    }
   ],
   "source": [
    "ax = sns.boxplot(data=df['temperature'], orient=\"h\", palette=\"Set2\")"
   ]
  },
  {
   "cell_type": "code",
   "execution_count": 9,
   "metadata": {},
   "outputs": [
    {
     "data": {
      "text/plain": [
       "Text(0.5, 1.0, 'Attribute: delay')"
      ]
     },
     "execution_count": 9,
     "metadata": {},
     "output_type": "execute_result"
    },
    {
     "data": {
      "image/png": "[encoded data removed]",
      "text/plain": [
       "<Figure size 432x288 with 1 Axes>"
      ]
     },
     "metadata": {
      "needs_background": "light"
     },
     "output_type": "display_data"
    }
   ],
   "source": [
    "df[\"delay\"].plot.hist(grid=True, bins=10, rwidth=0.9,\n",
    "                   color='#607c8e')\n",
    "plt.title(\"Attribute: delay\")"
   ]
  },
  {
   "cell_type": "code",
   "execution_count": 10,
   "metadata": {},
   "outputs": [
    {
     "data": {
      "text/plain": [
       "Text(0.5, 1.0, 'Attribute: delay')"
      ]
     },
     "execution_count": 10,
     "metadata": {},
     "output_type": "execute_result"
    },
    {
     "data": {
      "image/png": "[encoded data removed]",
      "text/plain": [
       "<Figure size 432x288 with 1 Axes>"
      ]
     },
     "metadata": {
      "needs_background": "light"
     },
     "output_type": "display_data"
    }
   ],
   "source": [
    "df[\"delay\"].plot.hist(grid=True, bins=10, rwidth=0.9,\n",
    "                   color='#607c8e')\n",
    "plt.title(\"Attribute: delay\")"
   ]
  },
  {
   "cell_type": "code",
   "execution_count": 11,
   "metadata": {},
   "outputs": [
    {
     "data": {
      "text/html": [
       "<div>\n",
       "<style scoped>\n",
       "    .dataframe tbody tr th:only-of-type {\n",
       "        vertical-align: middle;\n",
       "    }\n",
       "\n",
       "    .dataframe tbody tr th {\n",
       "        vertical-align: top;\n",
       "    }\n",
       "\n",
       "    .dataframe thead th {\n",
       "        text-align: right;\n",
       "    }\n",
       "</style>\n",
       "<table border=\"1\" class=\"dataframe\">\n",
       "  <thead>\n",
       "    <tr style=\"text-align: right;\">\n",
       "      <th></th>\n",
       "      <th>hour</th>\n",
       "      <th>minut</th>\n",
       "      <th>second</th>\n",
       "      <th>day</th>\n",
       "      <th>month</th>\n",
       "      <th>delay</th>\n",
       "      <th>sensor_id</th>\n",
       "      <th>temperature</th>\n",
       "      <th>label</th>\n",
       "    </tr>\n",
       "  </thead>\n",
       "  <tbody>\n",
       "    <tr>\n",
       "      <th>hour</th>\n",
       "      <td>1.000000</td>\n",
       "      <td>0.003224</td>\n",
       "      <td>0.007482</td>\n",
       "      <td>-0.003334</td>\n",
       "      <td>-0.022434</td>\n",
       "      <td>-0.037421</td>\n",
       "      <td>NaN</td>\n",
       "      <td>0.065098</td>\n",
       "      <td>0.022100</td>\n",
       "    </tr>\n",
       "    <tr>\n",
       "      <th>minut</th>\n",
       "      <td>0.003224</td>\n",
       "      <td>1.000000</td>\n",
       "      <td>0.000199</td>\n",
       "      <td>-0.000385</td>\n",
       "      <td>-0.001290</td>\n",
       "      <td>-0.008051</td>\n",
       "      <td>NaN</td>\n",
       "      <td>-0.005513</td>\n",
       "      <td>-0.004423</td>\n",
       "    </tr>\n",
       "    <tr>\n",
       "      <th>second</th>\n",
       "      <td>0.007482</td>\n",
       "      <td>0.000199</td>\n",
       "      <td>1.000000</td>\n",
       "      <td>0.100583</td>\n",
       "      <td>-0.104834</td>\n",
       "      <td>-0.025039</td>\n",
       "      <td>NaN</td>\n",
       "      <td>-0.019348</td>\n",
       "      <td>0.003761</td>\n",
       "    </tr>\n",
       "    <tr>\n",
       "      <th>day</th>\n",
       "      <td>-0.003334</td>\n",
       "      <td>-0.000385</td>\n",
       "      <td>0.100583</td>\n",
       "      <td>1.000000</td>\n",
       "      <td>-0.447918</td>\n",
       "      <td>0.045779</td>\n",
       "      <td>NaN</td>\n",
       "      <td>-0.179392</td>\n",
       "      <td>-0.009663</td>\n",
       "    </tr>\n",
       "    <tr>\n",
       "      <th>month</th>\n",
       "      <td>-0.022434</td>\n",
       "      <td>-0.001290</td>\n",
       "      <td>-0.104834</td>\n",
       "      <td>-0.447918</td>\n",
       "      <td>1.000000</td>\n",
       "      <td>0.077549</td>\n",
       "      <td>NaN</td>\n",
       "      <td>0.037678</td>\n",
       "      <td>-0.022783</td>\n",
       "    </tr>\n",
       "    <tr>\n",
       "      <th>delay</th>\n",
       "      <td>-0.037421</td>\n",
       "      <td>-0.008051</td>\n",
       "      <td>-0.025039</td>\n",
       "      <td>0.045779</td>\n",
       "      <td>0.077549</td>\n",
       "      <td>1.000000</td>\n",
       "      <td>NaN</td>\n",
       "      <td>-0.010420</td>\n",
       "      <td>0.054601</td>\n",
       "    </tr>\n",
       "    <tr>\n",
       "      <th>sensor_id</th>\n",
       "      <td>NaN</td>\n",
       "      <td>NaN</td>\n",
       "      <td>NaN</td>\n",
       "      <td>NaN</td>\n",
       "      <td>NaN</td>\n",
       "      <td>NaN</td>\n",
       "      <td>NaN</td>\n",
       "      <td>NaN</td>\n",
       "      <td>NaN</td>\n",
       "    </tr>\n",
       "    <tr>\n",
       "      <th>temperature</th>\n",
       "      <td>0.065098</td>\n",
       "      <td>-0.005513</td>\n",
       "      <td>-0.019348</td>\n",
       "      <td>-0.179392</td>\n",
       "      <td>0.037678</td>\n",
       "      <td>-0.010420</td>\n",
       "      <td>NaN</td>\n",
       "      <td>1.000000</td>\n",
       "      <td>0.002185</td>\n",
       "    </tr>\n",
       "    <tr>\n",
       "      <th>label</th>\n",
       "      <td>0.022100</td>\n",
       "      <td>-0.004423</td>\n",
       "      <td>0.003761</td>\n",
       "      <td>-0.009663</td>\n",
       "      <td>-0.022783</td>\n",
       "      <td>0.054601</td>\n",
       "      <td>NaN</td>\n",
       "      <td>0.002185</td>\n",
       "      <td>1.000000</td>\n",
       "    </tr>\n",
       "  </tbody>\n",
       "</table>\n",
       "</div>"
      ],
      "text/plain": [
       "                 hour     minut    second       day     month     delay  \\\n",
       "hour         1.000000  0.003224  0.007482 -0.003334 -0.022434 -0.037421   \n",
       "minut        0.003224  1.000000  0.000199 -0.000385 -0.001290 -0.008051   \n",
       "second       0.007482  0.000199  1.000000  0.100583 -0.104834 -0.025039   \n",
       "day         -0.003334 -0.000385  0.100583  1.000000 -0.447918  0.045779   \n",
       "month       -0.022434 -0.001290 -0.104834 -0.447918  1.000000  0.077549   \n",
       "delay       -0.037421 -0.008051 -0.025039  0.045779  0.077549  1.000000   \n",
       "sensor_id         NaN       NaN       NaN       NaN       NaN       NaN   \n",
       "temperature  0.065098 -0.005513 -0.019348 -0.179392  0.037678 -0.010420   \n",
       "label        0.022100 -0.004423  0.003761 -0.009663 -0.022783  0.054601   \n",
       "\n",
       "             sensor_id  temperature     label  \n",
       "hour               NaN     0.065098  0.022100  \n",
       "minut              NaN    -0.005513 -0.004423  \n",
       "second             NaN    -0.019348  0.003761  \n",
       "day                NaN    -0.179392 -0.009663  \n",
       "month              NaN     0.037678 -0.022783  \n",
       "delay              NaN    -0.010420  0.054601  \n",
       "sensor_id          NaN          NaN       NaN  \n",
       "temperature        NaN     1.000000  0.002185  \n",
       "label              NaN     0.002185  1.000000  "
      ]
     },
     "execution_count": 11,
     "metadata": {},
     "output_type": "execute_result"
    }
   ],
   "source": [
    "df.corr()"
   ]
  },
  {
   "cell_type": "code",
   "execution_count": 12,
   "metadata": {},
   "outputs": [
    {
     "data": {
      "image/png": "[encoded data removed]",
      "text/plain": [
       "<Figure size 432x288 with 2 Axes>"
      ]
     },
     "metadata": {
      "needs_background": "light"
     },
     "output_type": "display_data"
    }
   ],
   "source": [
    "corr = df.corr()\n",
    "ax = sns.heatmap(\n",
    "    corr, \n",
    "    vmin=-1, vmax=1, center=0,\n",
    "    cmap=sns.diverging_palette(20, 220, n=200),\n",
    "    square=True\n",
    ")\n",
    "ax.set_xticklabels(\n",
    "    ax.get_xticklabels(),\n",
    "    rotation=45,\n",
    "    horizontalalignment='right'\n",
    ");"
   ]
  },
  {
   "cell_type": "code",
   "execution_count": 22,
   "metadata": {},
   "outputs": [
    {
     "data": {
      "image/png": "[encoded data removed]",
      "text/plain": [
       "<Figure size 432x288 with 1 Axes>"
      ]
     },
     "metadata": {
      "needs_background": "light"
     },
     "output_type": "display_data"
    }
   ],
   "source": [
    "plt.title(\"Line graph\")  \n",
    "plt.xlabel(\"X axis\")  \n",
    "plt.ylabel(\"Y axis\")  \n",
    "plt.plot(np.arange(len(df.label)), df.label, color =\"purple\")  \n",
    "plt.show()"
   ]
  },
  {
   "cell_type": "code",
   "execution_count": 13,
   "metadata": {},
   "outputs": [
    {
     "data": {
      "image/png": "[encoded data removed]",
      "text/plain": [
       "<Figure size 432x288 with 1 Axes>"
      ]
     },
     "metadata": {
      "needs_background": "light"
     },
     "output_type": "display_data"
    }
   ],
   "source": [
    "plt.title(\"Line graph\")  \n",
    "plt.xlabel(\"X axis\")  \n",
    "plt.ylabel(\"Y axis\")  \n",
    "plt.plot(np.arange(len(df.delay)), df.delay, color =\"red\")  \n",
    "plt.show()"
   ]
  },
  {
   "cell_type": "code",
   "execution_count": 14,
   "metadata": {},
   "outputs": [],
   "source": [
    "from sklearn.preprocessing import RobustScaler"
   ]
  },
  {
   "cell_type": "code",
   "execution_count": 15,
   "metadata": {},
   "outputs": [],
   "source": [
    "f_columns = ['delay','temperature']\n",
    "\n",
    "f_transformer = RobustScaler()\n",
    "lb_transformer = RobustScaler()\n",
    "\n",
    "f_transformer = f_transformer.fit(df[f_columns].to_numpy())\n",
    "df.loc[:,f_columns] = f_transformer.transform(df[f_columns].to_numpy())\n",
    "\n",
    "lb_transformer = lb_transformer.fit(df[['label']])\n",
    "df['label'] = lb_transformer.transform(df[['label']])"
   ]
  },
  {
   "cell_type": "code",
   "execution_count": 16,
   "metadata": {},
   "outputs": [
    {
     "data": {
      "image/png": "[encoded data removed]",
      "text/plain": [
       "<Figure size 432x288 with 1 Axes>"
      ]
     },
     "metadata": {
      "needs_background": "light"
     },
     "output_type": "display_data"
    }
   ],
   "source": [
    "plt.title(\"Line graph\")  \n",
    "plt.xlabel(\"X axis\")  \n",
    "plt.ylabel(\"Y axis\")  \n",
    "plt.plot(np.arange(len(df.delay.iloc[1000:3000])), df.delay.iloc[1000:3000], color =\"red\")  \n",
    "plt.plot(np.arange(len(df.label.iloc[1000:3000])), df.label.iloc[1000:3000], color =\"green\") \n",
    "plt.show()"
   ]
  },
  {
   "cell_type": "code",
   "execution_count": 17,
   "metadata": {},
   "outputs": [
    {
     "data": {
      "text/html": [
       "<div>\n",
       "<style scoped>\n",
       "    .dataframe tbody tr th:only-of-type {\n",
       "        vertical-align: middle;\n",
       "    }\n",
       "\n",
       "    .dataframe tbody tr th {\n",
       "        vertical-align: top;\n",
       "    }\n",
       "\n",
       "    .dataframe thead th {\n",
       "        text-align: right;\n",
       "    }\n",
       "</style>\n",
       "<table border=\"1\" class=\"dataframe\">\n",
       "  <thead>\n",
       "    <tr style=\"text-align: right;\">\n",
       "      <th></th>\n",
       "      <th>hour</th>\n",
       "      <th>minut</th>\n",
       "      <th>second</th>\n",
       "      <th>day</th>\n",
       "      <th>month</th>\n",
       "      <th>delay</th>\n",
       "      <th>sensor_id</th>\n",
       "      <th>temperature</th>\n",
       "      <th>label</th>\n",
       "    </tr>\n",
       "    <tr>\n",
       "      <th>timestamp</th>\n",
       "      <th></th>\n",
       "      <th></th>\n",
       "      <th></th>\n",
       "      <th></th>\n",
       "      <th></th>\n",
       "      <th></th>\n",
       "      <th></th>\n",
       "      <th></th>\n",
       "      <th></th>\n",
       "    </tr>\n",
       "  </thead>\n",
       "  <tbody>\n",
       "    <tr>\n",
       "      <th>2004-02-28 01:09:46</th>\n",
       "      <td>1</td>\n",
       "      <td>9</td>\n",
       "      <td>46</td>\n",
       "      <td>28</td>\n",
       "      <td>2</td>\n",
       "      <td>0.5</td>\n",
       "      <td>3</td>\n",
       "      <td>-1.824814</td>\n",
       "      <td>1.0</td>\n",
       "    </tr>\n",
       "    <tr>\n",
       "      <th>2004-02-28 01:10:46</th>\n",
       "      <td>1</td>\n",
       "      <td>10</td>\n",
       "      <td>46</td>\n",
       "      <td>28</td>\n",
       "      <td>2</td>\n",
       "      <td>0.5</td>\n",
       "      <td>3</td>\n",
       "      <td>-0.142699</td>\n",
       "      <td>1.0</td>\n",
       "    </tr>\n",
       "    <tr>\n",
       "      <th>2004-02-28 01:11:46</th>\n",
       "      <td>1</td>\n",
       "      <td>11</td>\n",
       "      <td>46</td>\n",
       "      <td>28</td>\n",
       "      <td>2</td>\n",
       "      <td>0.5</td>\n",
       "      <td>3</td>\n",
       "      <td>-0.146479</td>\n",
       "      <td>1.0</td>\n",
       "    </tr>\n",
       "    <tr>\n",
       "      <th>2004-02-28 01:12:16</th>\n",
       "      <td>1</td>\n",
       "      <td>12</td>\n",
       "      <td>16</td>\n",
       "      <td>28</td>\n",
       "      <td>2</td>\n",
       "      <td>0.5</td>\n",
       "      <td>3</td>\n",
       "      <td>-1.825286</td>\n",
       "      <td>1.0</td>\n",
       "    </tr>\n",
       "    <tr>\n",
       "      <th>2004-02-28 01:12:46</th>\n",
       "      <td>1</td>\n",
       "      <td>12</td>\n",
       "      <td>46</td>\n",
       "      <td>28</td>\n",
       "      <td>2</td>\n",
       "      <td>0.5</td>\n",
       "      <td>3</td>\n",
       "      <td>-1.825286</td>\n",
       "      <td>1.0</td>\n",
       "    </tr>\n",
       "    <tr>\n",
       "      <th>...</th>\n",
       "      <td>...</td>\n",
       "      <td>...</td>\n",
       "      <td>...</td>\n",
       "      <td>...</td>\n",
       "      <td>...</td>\n",
       "      <td>...</td>\n",
       "      <td>...</td>\n",
       "      <td>...</td>\n",
       "      <td>...</td>\n",
       "    </tr>\n",
       "    <tr>\n",
       "      <th>2004-03-21 18:44:59</th>\n",
       "      <td>18</td>\n",
       "      <td>44</td>\n",
       "      <td>59</td>\n",
       "      <td>21</td>\n",
       "      <td>3</td>\n",
       "      <td>0.5</td>\n",
       "      <td>3</td>\n",
       "      <td>0.042526</td>\n",
       "      <td>1.0</td>\n",
       "    </tr>\n",
       "    <tr>\n",
       "      <th>2004-03-21 18:45:25</th>\n",
       "      <td>18</td>\n",
       "      <td>45</td>\n",
       "      <td>25</td>\n",
       "      <td>21</td>\n",
       "      <td>3</td>\n",
       "      <td>0.5</td>\n",
       "      <td>3</td>\n",
       "      <td>0.042526</td>\n",
       "      <td>1.0</td>\n",
       "    </tr>\n",
       "    <tr>\n",
       "      <th>2004-03-21 19:04:05</th>\n",
       "      <td>19</td>\n",
       "      <td>4</td>\n",
       "      <td>5</td>\n",
       "      <td>21</td>\n",
       "      <td>3</td>\n",
       "      <td>0.5</td>\n",
       "      <td>3</td>\n",
       "      <td>-1.807331</td>\n",
       "      <td>1.0</td>\n",
       "    </tr>\n",
       "    <tr>\n",
       "      <th>2004-03-21 19:04:39</th>\n",
       "      <td>19</td>\n",
       "      <td>4</td>\n",
       "      <td>39</td>\n",
       "      <td>21</td>\n",
       "      <td>3</td>\n",
       "      <td>0.5</td>\n",
       "      <td>3</td>\n",
       "      <td>0.032131</td>\n",
       "      <td>1.0</td>\n",
       "    </tr>\n",
       "    <tr>\n",
       "      <th>2004-03-21 19:05:14</th>\n",
       "      <td>19</td>\n",
       "      <td>5</td>\n",
       "      <td>14</td>\n",
       "      <td>21</td>\n",
       "      <td>3</td>\n",
       "      <td>0.5</td>\n",
       "      <td>3</td>\n",
       "      <td>-1.807331</td>\n",
       "      <td>1.0</td>\n",
       "    </tr>\n",
       "  </tbody>\n",
       "</table>\n",
       "<p>12843 rows × 9 columns</p>\n",
       "</div>"
      ],
      "text/plain": [
       "                     hour  minut  second  day  month  delay  sensor_id  \\\n",
       "timestamp                                                                \n",
       "2004-02-28 01:09:46     1      9      46   28      2    0.5          3   \n",
       "2004-02-28 01:10:46     1     10      46   28      2    0.5          3   \n",
       "2004-02-28 01:11:46     1     11      46   28      2    0.5          3   \n",
       "2004-02-28 01:12:16     1     12      16   28      2    0.5          3   \n",
       "2004-02-28 01:12:46     1     12      46   28      2    0.5          3   \n",
       "...                   ...    ...     ...  ...    ...    ...        ...   \n",
       "2004-03-21 18:44:59    18     44      59   21      3    0.5          3   \n",
       "2004-03-21 18:45:25    18     45      25   21      3    0.5          3   \n",
       "2004-03-21 19:04:05    19      4       5   21      3    0.5          3   \n",
       "2004-03-21 19:04:39    19      4      39   21      3    0.5          3   \n",
       "2004-03-21 19:05:14    19      5      14   21      3    0.5          3   \n",
       "\n",
       "                     temperature  label  \n",
       "timestamp                                \n",
       "2004-02-28 01:09:46    -1.824814    1.0  \n",
       "2004-02-28 01:10:46    -0.142699    1.0  \n",
       "2004-02-28 01:11:46    -0.146479    1.0  \n",
       "2004-02-28 01:12:16    -1.825286    1.0  \n",
       "2004-02-28 01:12:46    -1.825286    1.0  \n",
       "...                          ...    ...  \n",
       "2004-03-21 18:44:59     0.042526    1.0  \n",
       "2004-03-21 18:45:25     0.042526    1.0  \n",
       "2004-03-21 19:04:05    -1.807331    1.0  \n",
       "2004-03-21 19:04:39     0.032131    1.0  \n",
       "2004-03-21 19:05:14    -1.807331    1.0  \n",
       "\n",
       "[12843 rows x 9 columns]"
      ]
     },
     "execution_count": 17,
     "metadata": {},
     "output_type": "execute_result"
    }
   ],
   "source": [
    "df[df.label==1]"
   ]
  },
  {
   "cell_type": "code",
   "execution_count": 18,
   "metadata": {},
   "outputs": [
    {
     "data": {
      "text/plain": [
       "timestamp\n",
       "2004-02-28 01:09:46        0\n",
       "2004-02-28 01:10:46     8555\n",
       "2004-02-28 01:11:46     8556\n",
       "2004-02-28 01:12:16     8557\n",
       "2004-02-28 01:12:46     8558\n",
       "                       ...  \n",
       "2004-03-21 18:44:59     4285\n",
       "2004-03-21 18:45:25     4286\n",
       "2004-03-21 19:04:05     4287\n",
       "2004-03-21 19:04:39     4277\n",
       "2004-03-21 19:05:14    12842\n",
       "Name: label, Length: 12843, dtype: int64"
      ]
     },
     "execution_count": 18,
     "metadata": {},
     "output_type": "execute_result"
    }
   ],
   "source": [
    "np.argsort(df[df.label==1].iloc[:,8])"
   ]
  },
  {
   "cell_type": "code",
   "execution_count": 19,
   "metadata": {},
   "outputs": [
    {
     "data": {
      "text/plain": [
       "1.0"
      ]
     },
     "execution_count": 19,
     "metadata": {},
     "output_type": "execute_result"
    }
   ],
   "source": [
    "df[df.label==1].iloc[0,8]"
   ]
  },
  {
   "cell_type": "code",
   "execution_count": null,
   "metadata": {},
   "outputs": [],
   "source": []
  }
 ],
 "metadata": {
  "kernelspec": {
   "display_name": "Python 3",
   "language": "python",
   "name": "python3"
  },
  "language_info": {
   "codemirror_mode": {
    "name": "ipython",
    "version": 3
   },
   "file_extension": ".py",
   "mimetype": "text/x-python",
   "name": "python",
   "nbconvert_exporter": "python",
   "pygments_lexer": "ipython3",
   "version": "3.8.5"
  }
 },
 "nbformat": 4,
 "nbformat_minor": 4
}
