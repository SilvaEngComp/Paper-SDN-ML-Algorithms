{
 "cells": [
  {
   "cell_type": "code",
   "execution_count": 1,
   "metadata": {},
   "outputs": [],
   "source": [
    "import os\n",
    "os.environ[\"TF_CPP_MIN_LOG_LEVEL\"] = \"2\""
   ]
  },
  {
   "cell_type": "code",
   "execution_count": 2,
   "metadata": {},
   "outputs": [],
   "source": [
    "import tensorflow as tf\n",
    "from tensorflow import keras\n",
    "from tensorflow.keras import layers\n",
    "import matplotlib.pyplot as plt\n",
    "import seaborn as sns\n",
    "import csv\n",
    "import datetime\n",
    "\n",
    "import pandas as pd\n",
    "import numpy as np\n",
    "from sklearn.model_selection import train_test_split\n",
    "from sklearn.metrics import mean_squared_error\n",
    "from sklearn.preprocessing import StandardScaler\n",
    "from threading import Timer\n",
    "from timeit import default_timer as timer\n",
    "from IPython.display import clear_output"
   ]
  },
  {
   "cell_type": "markdown",
   "metadata": {},
   "source": [
    "# checking GPU erros"
   ]
  },
  {
   "cell_type": "code",
   "execution_count": 3,
   "metadata": {},
   "outputs": [],
   "source": [
    "# physical_devices = tf.config.list_physical_devices(\"GPU\")\n",
    "# physical_devices\n",
    "# tf.config.experimental.set_memory_growth(physical_devices[0], True)"
   ]
  },
  {
   "cell_type": "code",
   "execution_count": 4,
   "metadata": {},
   "outputs": [],
   "source": [
    "def preprocessiing():\n",
    "   \n",
    "    prep_dataset1 = pd.read_csv('../datasets/dataset_test_02_07.csv', delimiter=\",\")\n",
    "    df = prep_dataset1.iloc[:,1:4]\n",
    "    WINDOW = 35\n",
    "\n",
    "    for i in np.arange(df.shape[0]):    \n",
    "        init = i*WINDOW\n",
    "        init2 = (i+1)*WINDOW\n",
    "        if(init2<df.shape[0]):\n",
    "            df.iloc[init:init+WINDOW,2] =  df.iloc[init2,2]\n",
    "    df2 = normalizing(df)\n",
    "    train_size = int(len(df2) * 0.8)\n",
    "    test_size = len(df2) - train_size\n",
    "    return df2.iloc[0:train_size], df2.iloc[train_size:len(df2)]"
   ]
  },
  {
   "cell_type": "code",
   "execution_count": 5,
   "metadata": {},
   "outputs": [],
   "source": [
    "def normalizing(dataset):\n",
    "    df_norm = pd.read_csv('../datasets/dataset_test_02_07.csv', delimiter=\",\")\n",
    "    df_norm = df_norm.iloc[:,1:4]\n",
    "    scaler = StandardScaler().fit(df_norm)\n",
    "\n",
    "    scaler = scaler.fit(df_norm[['delay']])\n",
    "\n",
    "    dataset['delay'] = scaler.transform(dataset[['delay']])\n",
    "    return dataset\n",
    "\n",
    "\n",
    "def unormalizing(Y_test,y_pred ):\n",
    "    df_norm = pd.read_csv('../datasets/dataset_test_02_07.csv', delimiter=\",\")\n",
    "    df_norm = df_norm.iloc[:,1:4]\n",
    "    scaler = StandardScaler().fit(df_norm)\n",
    "    scaler = scaler.fit(df_norm[['delay']])\n",
    "    y_test_inv = scaler.inverse_transform(Y_test.reshape(1,-1))\n",
    "    y_pred_inv = scaler.inverse_transform(y_pred)\n",
    "    \n",
    "    return y_test_inv, y_pred_inv\n"
   ]
  },
  {
   "cell_type": "code",
   "execution_count": 6,
   "metadata": {},
   "outputs": [],
   "source": [
    "def create_dataset(X, y, time_steps=1):\n",
    "    Xs, ys = [], []    \n",
    "    for i in range(len(X) - time_steps):\n",
    "        clear_output(wait=True)\n",
    "        print('modeling to keras ',round((i/(len(X) - time_steps))*100,2), ('%'), end='')\n",
    "        s = round(timer() - start)\n",
    "        if(s>60):\n",
    "            s /=60\n",
    "            print(' ', s, ' seconds')\n",
    "        v = X.iloc[i: (i+time_steps), 2:3].to_numpy()\n",
    "        Xs.append(v)\n",
    "        ys.append(y.iloc[i+time_steps])\n",
    "    return np.array(Xs), np.array(ys)"
   ]
  },
  {
   "cell_type": "code",
   "execution_count": 7,
   "metadata": {},
   "outputs": [],
   "source": [
    "def LSTMconf(X_train):\n",
    "    print('Init config LSTM')\n",
    "    model = keras.Sequential()\n",
    "    model.add(\n",
    "            keras.layers.LSTM(\n",
    "                units=512,\n",
    "                input_shape=(X_train.shape[1],X_train.shape[2]),\n",
    "                 kernel_initializer=\"glorot_uniform\",\n",
    "                unit_forget_bias=True,\n",
    "                recurrent_dropout=0.75,\n",
    "            )\n",
    "        )\n",
    "    \n",
    "    model.add(keras.layers.Dense(units=512, ))\n",
    "    model.add(keras.layers.Dropout(rate=0.75))\n",
    "    model.add(keras.layers.Dense(units=512, ))\n",
    "    model.add(keras.layers.Dense(units=512, ))\n",
    "    model.add(keras.layers.Dropout(rate=0.75))\n",
    "    model.add(keras.layers.Dense(units=512, ))\n",
    "    \n",
    "    model.add(keras.layers.Dense(units=1))\n",
    "    \n",
    "    loss =\"mse\"\n",
    "    optim = tf.keras.optimizers.Adam(\n",
    "    learning_rate=0.0001)\n",
    "    \n",
    "\n",
    "    model.compile(loss=loss, optimizer=optim, \n",
    "             )\n",
    "    \n",
    "    \n",
    "    return model\n",
    "    "
   ]
  },
  {
   "cell_type": "code",
   "execution_count": 8,
   "metadata": {},
   "outputs": [],
   "source": [
    "def LSTMfit(model,X_train,Y_train):\n",
    "    print('Init Train')\n",
    "    start = timer()\n",
    "    log_dir = \"logs/fit/\" + datetime.datetime.now().strftime(\"%Y%m%d-%H%M%S\")\n",
    "    tensorboard_callback = tf.keras.callbacks.TensorBoard(log_dir=log_dir, histogram_freq=1)\n",
    "    history = model.fit(\n",
    "        X_train, Y_train, \n",
    "        epochs=30, \n",
    "        batch_size= 128,\n",
    "        validation_split=0.1,\n",
    "        shuffle=False,\n",
    "        callbacks=[tensorboard_callback]\n",
    "    )\n",
    "    return history\n"
   ]
  },
  {
   "cell_type": "code",
   "execution_count": 9,
   "metadata": {},
   "outputs": [],
   "source": [
    "start = timer()\n",
    "train, test = preprocessiing()\n",
    "\n"
   ]
  },
  {
   "cell_type": "code",
   "execution_count": 10,
   "metadata": {},
   "outputs": [
    {
     "name": "stdout",
     "output_type": "stream",
     "text": [
      "modeling to keras  99.97 %Init config LSTM\n",
      "Init Train\n",
      "Epoch 1/30\n",
      "28/28 [==============================] - 7s 75ms/step - loss: 0.3708 - val_loss: 0.0577\n",
      "Epoch 2/30\n",
      "28/28 [==============================] - 1s 36ms/step - loss: 0.3772 - val_loss: 0.0912\n",
      "Epoch 3/30\n",
      "28/28 [==============================] - 1s 35ms/step - loss: 0.4136 - val_loss: 0.0395\n",
      "Epoch 4/30\n",
      "28/28 [==============================] - 1s 36ms/step - loss: 0.0241 - val_loss: 1.1923e-05\n",
      "Epoch 5/30\n",
      "28/28 [==============================] - 1s 38ms/step - loss: 0.0218 - val_loss: 1.8870e-04\n",
      "Epoch 6/30\n",
      "28/28 [==============================] - 1s 41ms/step - loss: 0.0215 - val_loss: 0.0032\n",
      "Epoch 7/30\n",
      "28/28 [==============================] - 1s 46ms/step - loss: 0.0231 - val_loss: 0.0019\n",
      "Epoch 8/30\n",
      "28/28 [==============================] - 1s 36ms/step - loss: 0.0263 - val_loss: 0.0084\n",
      "Epoch 9/30\n",
      "28/28 [==============================] - 1s 40ms/step - loss: 0.0299 - val_loss: 0.0049\n",
      "Epoch 10/30\n",
      "28/28 [==============================] - 1s 39ms/step - loss: 0.0315 - val_loss: 0.0138\n",
      "Epoch 11/30\n",
      "28/28 [==============================] - 1s 37ms/step - loss: 0.0366 - val_loss: 0.0086\n",
      "Epoch 12/30\n",
      "28/28 [==============================] - 1s 38ms/step - loss: 0.0372 - val_loss: 0.0178\n",
      "Epoch 13/30\n",
      "28/28 [==============================] - 1s 38ms/step - loss: 0.0348 - val_loss: 0.0095\n",
      "Epoch 14/30\n",
      "28/28 [==============================] - 1s 38ms/step - loss: 0.0316 - val_loss: 0.0181\n",
      "Epoch 15/30\n",
      "28/28 [==============================] - 1s 38ms/step - loss: 0.0333 - val_loss: 0.0106\n",
      "Epoch 16/30\n",
      "28/28 [==============================] - 1s 35ms/step - loss: 0.0322 - val_loss: 0.0184\n",
      "Epoch 17/30\n",
      "28/28 [==============================] - 1s 37ms/step - loss: 0.0276 - val_loss: 0.0091\n",
      "Epoch 18/30\n",
      "28/28 [==============================] - 1s 39ms/step - loss: 0.0245 - val_loss: 0.0131\n",
      "Epoch 19/30\n",
      "28/28 [==============================] - 1s 35ms/step - loss: 0.0209 - val_loss: 0.0041\n",
      "Epoch 20/30\n",
      "28/28 [==============================] - 1s 35ms/step - loss: 0.0162 - val_loss: 0.0045\n",
      "Epoch 21/30\n",
      "28/28 [==============================] - 1s 37ms/step - loss: 0.0138 - val_loss: 2.1097e-04\n",
      "Epoch 22/30\n",
      "28/28 [==============================] - 1s 38ms/step - loss: 0.0126 - val_loss: 6.3662e-04\n",
      "Epoch 23/30\n",
      "28/28 [==============================] - 1s 34ms/step - loss: 0.0127 - val_loss: 3.1892e-04\n",
      "Epoch 24/30\n",
      "28/28 [==============================] - 1s 34ms/step - loss: 0.0130 - val_loss: 1.2258e-05\n",
      "Epoch 25/30\n",
      "28/28 [==============================] - 1s 35ms/step - loss: 0.0121 - val_loss: 5.3264e-04\n",
      "Epoch 26/30\n",
      "28/28 [==============================] - 1s 36ms/step - loss: 0.0126 - val_loss: 1.7880e-04\n",
      "Epoch 27/30\n",
      "28/28 [==============================] - 1s 34ms/step - loss: 0.0125 - val_loss: 3.5716e-05\n",
      "Epoch 28/30\n",
      "28/28 [==============================] - 1s 35ms/step - loss: 0.0125 - val_loss: 5.4412e-04\n",
      "Epoch 29/30\n",
      "28/28 [==============================] - 1s 34ms/step - loss: 0.0121 - val_loss: 2.0394e-04\n",
      "Epoch 30/30\n",
      "28/28 [==============================] - 1s 34ms/step - loss: 0.0116 - val_loss: 2.8157e-04\n"
     ]
    }
   ],
   "source": [
    "\n",
    "X_train,Y_train = create_dataset(train, train.delay)\n",
    "model = LSTMconf(X_train)\n",
    "history = LSTMfit(model,X_train, Y_train)\n"
   ]
  },
  {
   "cell_type": "code",
   "execution_count": 11,
   "metadata": {},
   "outputs": [],
   "source": [
    "# Load the TensorBoard notebook extension\n",
    "# %load_ext tensorboard\n",
    "# %tensorboard --logdir logs/fit"
   ]
  },
  {
   "cell_type": "code",
   "execution_count": 12,
   "metadata": {},
   "outputs": [
    {
     "name": "stdout",
     "output_type": "stream",
     "text": [
      "Saving Model\n",
      "INFO:tensorflow:Assets written to: models/lstm_mininet\\assets\n"
     ]
    }
   ],
   "source": [
    "print('Saving Model')\n",
    "model.save('models/lstm_mininet')"
   ]
  },
  {
   "cell_type": "markdown",
   "metadata": {},
   "source": [
    "# loss training"
   ]
  },
  {
   "cell_type": "code",
   "execution_count": 13,
   "metadata": {},
   "outputs": [
    {
     "data": {
      "image/png": "[encoded data removed]",
      "text/plain": [
       "<Figure size 432x288 with 1 Axes>"
      ]
     },
     "metadata": {
      "needs_background": "light"
     },
     "output_type": "display_data"
    }
   ],
   "source": [
    "\n",
    "fig1 = plt.figure()\n",
    "ax1 = fig1.add_subplot(1,1,1)\n",
    "ax1.plot(history.history['loss'], label='train')\n",
    "ax1.plot(history.history['val_loss'], label='validation')\n",
    "ax1.legend();"
   ]
  },
  {
   "cell_type": "code",
   "execution_count": 14,
   "metadata": {},
   "outputs": [
    {
     "name": "stdout",
     "output_type": "stream",
     "text": [
      "modeling to keras  99.9 %"
     ]
    }
   ],
   "source": [
    "X_test,Y_test = create_dataset(test, test.delay)"
   ]
  },
  {
   "cell_type": "markdown",
   "metadata": {},
   "source": [
    "# predicting"
   ]
  },
  {
   "cell_type": "code",
   "execution_count": 15,
   "metadata": {},
   "outputs": [],
   "source": [
    "y_pred = model.predict(X_test)"
   ]
  },
  {
   "cell_type": "code",
   "execution_count": 16,
   "metadata": {},
   "outputs": [],
   "source": [
    "y_test_inv, y_pred_inv = unormalizing(Y_test, y_pred)"
   ]
  },
  {
   "cell_type": "markdown",
   "metadata": {},
   "source": [
    "# unormalizing"
   ]
  },
  {
   "cell_type": "code",
   "execution_count": 17,
   "metadata": {},
   "outputs": [
    {
     "data": {
      "image/png": "[encoded data removed]",
      "text/plain": [
       "<Figure size 432x288 with 1 Axes>"
      ]
     },
     "metadata": {
      "needs_background": "light"
     },
     "output_type": "display_data"
    }
   ],
   "source": [
    "fig2 = plt.figure()\n",
    "a2 = fig2.add_subplot(1,1,1)\n",
    "a2.plot(y_test_inv.flatten(), marker='.', label='true')\n",
    "a2.legend();"
   ]
  },
  {
   "cell_type": "code",
   "execution_count": 18,
   "metadata": {},
   "outputs": [
    {
     "data": {
      "image/png": "[encoded data removed]",
      "text/plain": [
       "<Figure size 432x288 with 1 Axes>"
      ]
     },
     "metadata": {
      "needs_background": "light"
     },
     "output_type": "display_data"
    }
   ],
   "source": [
    "fig3 = plt.figure()\n",
    "a3 = fig3.add_subplot(1,1,1)\n",
    "a3.plot(y_pred_inv.flatten(),'r',marker='.', label='predicted')\n",
    "a3.legend();"
   ]
  },
  {
   "cell_type": "code",
   "execution_count": 19,
   "metadata": {},
   "outputs": [
    {
     "data": {
      "image/png": "[encoded data removed]",
      "text/plain": [
       "<Figure size 432x288 with 1 Axes>"
      ]
     },
     "metadata": {
      "needs_background": "light"
     },
     "output_type": "display_data"
    }
   ],
   "source": [
    "fig4 = plt.figure()\n",
    "a4 = fig4.add_subplot(1,1,1)\n",
    "\n",
    "a4.plot(y_test_inv.flatten(), marker='.', label='true')\n",
    "a4.plot(y_pred_inv.flatten(),'r',marker='.', label='predicted')\n",
    "a4.legend();"
   ]
  },
  {
   "cell_type": "code",
   "execution_count": 20,
   "metadata": {},
   "outputs": [],
   "source": [
    "from sklearn.metrics import mean_squared_error\n",
    "from sklearn.metrics import median_absolute_error\n",
    "from sklearn.metrics import mean_absolute_error\n",
    "from sklearn.metrics import mean_squared_log_error\n",
    "from sklearn.metrics import explained_variance_score"
   ]
  },
  {
   "cell_type": "code",
   "execution_count": 21,
   "metadata": {},
   "outputs": [
    {
     "name": "stdout",
     "output_type": "stream",
     "text": [
      "42.29116559028603\n",
      "42.29116559028603\n",
      "42.29116559028603\n",
      "Explained Variance Score:  1.0\n"
     ]
    }
   ],
   "source": [
    "size = np.min([y_pred_inv.shape[0],y_test_inv.shape[0] ])\n",
    "rmse =  mean_squared_error(y_test_inv.flatten()[0:size], y_pred_inv.flatten()[0:size], squared=False)\n",
    "mae =  mean_absolute_error(y_test_inv.flatten()[0:size], y_pred_inv.flatten()[0:size])\n",
    "median_mae = median_absolute_error(y_test_inv.flatten()[0:size], y_pred_inv.flatten()[0:size])\n",
    "evs = explained_variance_score(y_test_inv.flatten()[0:size], y_pred_inv.flatten()[0:size])\n",
    "\n",
    "print(rmse)\n",
    "print(mae)\n",
    "print(median_mae)\n",
    "print('Explained Variance Score: ',evs)"
   ]
  },
  {
   "cell_type": "code",
   "execution_count": 22,
   "metadata": {},
   "outputs": [
    {
     "data": {
      "image/png": "[encoded data removed]",
      "text/plain": [
       "<Figure size 432x288 with 1 Axes>"
      ]
     },
     "metadata": {
      "needs_background": "light"
     },
     "output_type": "display_data"
    }
   ],
   "source": [
    "objects = ('rmse', 'mae', 'median-mae')\n",
    "y_pos = np.arange(3)\n",
    "performance = [rmse,mae,median_mae]\n",
    "\n",
    "plt.bar(y_pos, performance, align='center')\n",
    "plt.xticks(y_pos, objects)\n",
    "#plt.ylabel('Usage')\n",
    "plt.title('Métricas regressão')\n",
    "\n",
    "plt.show()"
   ]
  },
  {
   "cell_type": "code",
   "execution_count": null,
   "metadata": {},
   "outputs": [],
   "source": []
  },
  {
   "cell_type": "code",
   "execution_count": null,
   "metadata": {},
   "outputs": [],
   "source": []
  },
  {
   "cell_type": "code",
   "execution_count": null,
   "metadata": {},
   "outputs": [],
   "source": []
  },
  {
   "cell_type": "code",
   "execution_count": null,
   "metadata": {},
   "outputs": [],
   "source": []
  }
 ],
 "metadata": {
  "kernelspec": {
   "display_name": "Python 3",
   "language": "python",
   "name": "python3"
  },
  "language_info": {
   "codemirror_mode": {
    "name": "ipython",
    "version": 3
   },
   "file_extension": ".py",
   "mimetype": "text/x-python",
   "name": "python",
   "nbconvert_exporter": "python",
   "pygments_lexer": "ipython3",
   "version": "3.8.5"
  }
 },
 "nbformat": 4,
 "nbformat_minor": 4
}
