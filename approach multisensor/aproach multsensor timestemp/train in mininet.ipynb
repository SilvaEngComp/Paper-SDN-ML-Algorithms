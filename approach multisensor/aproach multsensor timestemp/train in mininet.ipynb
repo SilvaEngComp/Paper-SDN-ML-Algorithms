{
 "cells": [
  {
   "cell_type": "code",
   "execution_count": 1,
   "metadata": {},
   "outputs": [],
   "source": [
    "import os\n",
    "os.environ[\"TF_CPP_MIN_LOG_LEVEL\"] = \"2\""
   ]
  },
  {
   "cell_type": "code",
   "execution_count": 2,
   "metadata": {},
   "outputs": [],
   "source": [
    "import tensorflow as tf\n",
    "from tensorflow import keras\n",
    "from tensorflow.keras import layers\n",
    "import matplotlib.pyplot as plt\n",
    "import seaborn as sns\n",
    "import csv\n",
    "\n",
    "import pandas as pd\n",
    "import numpy as np\n",
    "from sklearn.model_selection import train_test_split\n",
    "from sklearn.metrics import mean_squared_error\n",
    "from sklearn.preprocessing import StandardScaler\n",
    "from threading import Timer"
   ]
  },
  {
   "cell_type": "code",
   "execution_count": 3,
   "metadata": {},
   "outputs": [],
   "source": [
    "prep_dataset = pd.read_csv('../datasets/com_concept_drift/sdn_train_unormalized.csv', delimiter=\",\")\n"
   ]
  },
  {
   "cell_type": "markdown",
   "metadata": {},
   "source": [
    "# Normalizing"
   ]
  },
  {
   "cell_type": "code",
   "execution_count": 4,
   "metadata": {},
   "outputs": [],
   "source": [
    "def normalizing(df):\n",
    "    f_columns = ['temperature','label']\n",
    "    scaler1 = StandardScaler().fit(df)\n",
    "    scaler2 = StandardScaler().fit(df)\n",
    "\n",
    "    scaler1= scaler1.fit(df[f_columns].to_numpy())\n",
    "    scaler2 = scaler2.fit(df[['delay']])\n",
    "\n",
    "    df.loc[:,f_columns] = scaler1.transform(df[f_columns].to_numpy())\n",
    "    df['delay'] = scaler2.transform(df[['delay']])\n",
    "    return df\n",
    "\n",
    "\n",
    "\n"
   ]
  },
  {
   "cell_type": "code",
   "execution_count": 10,
   "metadata": {},
   "outputs": [],
   "source": [
    "def saveFile(dataset, name='dataset'):\n",
    "    print('saving: ',name, '......')\n",
    "    f = open(name,'a')\n",
    "    try:\n",
    "        writer = csv.writer(f)\n",
    "        writer.writerow(dataset.columns)\n",
    "        for i in np.arange(int(dataset.shape[0])):\n",
    "            writer.writerow(dataset.iloc[i,])\n",
    "    finally:\n",
    "        f.close()\n",
    "        \n",
    "        \n",
    "def modeling3D(X, y):\n",
    "    Xs, ys = [], []\n",
    "    v = X.iloc[0:X.shape[0], 0:2].to_numpy()\n",
    "    Xs.append(v)\n",
    "    ys.append(y.iloc[0:X.shape[0]])\n",
    "    print(np.array(Xs), np.array(ys))\n",
    "        \n",
    "def checkFileExistance(filePath):\n",
    "    try:\n",
    "        with open(filePath, 'r') as f:\n",
    "            return True\n",
    "    except FileNotFoundError as e:\n",
    "        return False\n",
    "    except IOError as e:\n",
    "        return False\n",
    "    \n",
    "def getCurrencyDf():\n",
    "    if checkFileExistance('sdn_train_mininet_unormalized.csv'):\n",
    "        cdf = pd.read_csv('sdn_train_mininet_unormalized.csv', delimiter=\",\")\n",
    "    else:\n",
    "        cols = ['temperature','label' ,'delay' ]\n",
    "        cdf = pd.DataFrame( columns = cols)\n",
    "    return cdf\n",
    "def preprocessing(MyLIst):\n",
    "    currency_df = getCurrencyDf()\n",
    "    currency_df = pd.concat([currency_df, MyLIst], ignore_index=True)\n",
    "    saveFile(currency_df, 'sdn_train_mininet_unormalized.csv')\n",
    "    norm = normalizing(currency_df)\n",
    "    saveFile(norm, 'sdn_train_mininet_normalized.csv')\n",
    "    window_train = norm.iloc[norm.shape[0]-window:norm.shape[0],:]\n",
    "    modeling3D(window_train, window_train.delay)\n",
    "    "
   ]
  },
  {
   "cell_type": "code",
   "execution_count": 11,
   "metadata": {},
   "outputs": [
    {
     "name": "stderr",
     "output_type": "stream",
     "text": [
      "Exception in thread Thread-9:\n",
      "Traceback (most recent call last):\n",
      "  File \"C:\\Users\\silva\\anaconda3\\lib\\threading.py\", line 932, in _bootstrap_inner\n",
      "    self.run()\n",
      "  File \"C:\\Users\\silva\\anaconda3\\lib\\threading.py\", line 1254, in run\n",
      "    self.function(*self.args, **self.kwargs)\n",
      "  File \"<ipython-input-10-7a66f6043e8f>\", line 38, in preprocessing\n",
      "  File \"C:\\Users\\silva\\anaconda3\\lib\\site-packages\\pandas\\core\\reshape\\concat.py\", line 274, in concat\n",
      "    op = _Concatenator(\n",
      "  File \"C:\\Users\\silva\\anaconda3\\lib\\site-packages\\pandas\\core\\reshape\\concat.py\", line 359, in __init__\n",
      "    raise TypeError(msg)\n",
      "TypeError: cannot concatenate object of type '<class 'tuple'>'; only Series and DataFrame objs are valid\n"
     ]
    }
   ],
   "source": [
    "window = 20\n",
    "cont = 0;\n",
    "# while(cont<prep_dataset.shape[0]):\n",
    "# preprocessing(prep_dataset.iloc[cont:cont+window,2:5])\n",
    "r = Timer(1.0, preprocessing, (prep_dataset.iloc[cont:cont+window,2:5]))\n",
    "r.start()\n",
    "# print(X_train)\n",
    "    "
   ]
  },
  {
   "cell_type": "code",
   "execution_count": null,
   "metadata": {},
   "outputs": [],
   "source": [
    "X_test.shape"
   ]
  },
  {
   "cell_type": "code",
   "execution_count": null,
   "metadata": {},
   "outputs": [],
   "source": [
    "r = []\n",
    "r.append(X_test[0])\n",
    "r = np.array(r)\n",
    "r"
   ]
  },
  {
   "cell_type": "code",
   "execution_count": null,
   "metadata": {},
   "outputs": [],
   "source": [
    "y_pred = model.predict(r)\n",
    "y_pred"
   ]
  },
  {
   "cell_type": "code",
   "execution_count": null,
   "metadata": {},
   "outputs": [],
   "source": [
    "y_test_inv = scaler2.inverse_transform(Y_test.reshape(1,-1))\n",
    "y_pred_inv = scaler2.inverse_transform(y_pred)"
   ]
  },
  {
   "cell_type": "code",
   "execution_count": null,
   "metadata": {},
   "outputs": [],
   "source": [
    "\n",
    "# plt.plot(y_pred_inv.flatten(),'r',marker='.', label='predicted')\n",
    "plt.plot(y_test_inv.flatten(), marker='.', label='true')\n",
    "plt.legend();"
   ]
  },
  {
   "cell_type": "code",
   "execution_count": null,
   "metadata": {},
   "outputs": [],
   "source": [
    "plt.plot(y_pred_inv.flatten(),'r',marker='.', label='predicted')"
   ]
  },
  {
   "cell_type": "code",
   "execution_count": null,
   "metadata": {},
   "outputs": [],
   "source": [
    "plt.plot(y_test_inv.flatten(), marker='.', label='true')\n",
    "plt.plot(y_pred_inv.flatten(),'r',marker='.', label='predicted')\n",
    "\n",
    "plt.legend();"
   ]
  },
  {
   "cell_type": "code",
   "execution_count": null,
   "metadata": {},
   "outputs": [],
   "source": [
    "y_pred_inv[:,0]"
   ]
  },
  {
   "cell_type": "code",
   "execution_count": null,
   "metadata": {},
   "outputs": [],
   "source": [
    "y_test_inv[0]"
   ]
  },
  {
   "cell_type": "code",
   "execution_count": null,
   "metadata": {},
   "outputs": [],
   "source": [
    "mean_squared_error(y_test_inv[0], y_pred_inv[:,0])"
   ]
  },
  {
   "cell_type": "code",
   "execution_count": null,
   "metadata": {},
   "outputs": [],
   "source": []
  },
  {
   "cell_type": "code",
   "execution_count": null,
   "metadata": {},
   "outputs": [],
   "source": []
  },
  {
   "cell_type": "code",
   "execution_count": null,
   "metadata": {},
   "outputs": [],
   "source": [
    "import asyncio\n",
    "\n",
    "loop = asyncio.get_event_loop()\n",
    "\n",
    "def callback():\n",
    "    print(\"callback\")\n",
    "    loop.call_later(1, callback)\n",
    "\n",
    "loop.call_later(1, callback)\n",
    "\n",
    "async def main():\n",
    "    while True:\n",
    "        await asyncio.sleep(1)\n",
    "\n",
    "loop.run_until_complete(main())"
   ]
  },
  {
   "cell_type": "code",
   "execution_count": null,
   "metadata": {},
   "outputs": [],
   "source": []
  }
 ],
 "metadata": {
  "kernelspec": {
   "display_name": "Python 3",
   "language": "python",
   "name": "python3"
  },
  "language_info": {
   "codemirror_mode": {
    "name": "ipython",
    "version": 3
   },
   "file_extension": ".py",
   "mimetype": "text/x-python",
   "name": "python",
   "nbconvert_exporter": "python",
   "pygments_lexer": "ipython3",
   "version": "3.8.5"
  }
 },
 "nbformat": 4,
 "nbformat_minor": 4
}
