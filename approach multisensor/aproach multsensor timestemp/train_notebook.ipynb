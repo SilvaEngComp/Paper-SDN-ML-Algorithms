{
 "cells": [
  {
   "cell_type": "code",
   "execution_count": 1,
   "metadata": {},
   "outputs": [],
   "source": [
    "import os\n",
    "import tensorflow as tf\n",
    "from tensorflow import keras\n",
    "\n",
    "import pandas as pd\n",
    "import numpy as np\n",
    "import matplotlib.pyplot as plt\n",
    "from sklearn.preprocessing import StandardScaler\n",
    "from sklearn.metrics import mean_squared_error\n",
    "from timeit import default_timer as timer\n",
    "from IPython.display import clear_output"
   ]
  },
  {
   "cell_type": "code",
   "execution_count": 2,
   "metadata": {},
   "outputs": [],
   "source": [
    "\n",
    "os.environ[\"TF_CPP_MIN_LOG_LEVEL\"] = \"2\""
   ]
  },
  {
   "cell_type": "code",
   "execution_count": 3,
   "metadata": {},
   "outputs": [],
   "source": [
    "def create_dataset(X, y, time_steps=1):\n",
    "    Xs, ys = [], []    \n",
    "    for i in range(len(X) - time_steps):\n",
    "        clear_output(wait=True)\n",
    "        print('modeling to keras ',round((i/(len(X) - time_steps))*100,2), ('%'), end='')\n",
    "        print(' ', round(timer() - start), ' seconds')\n",
    "        v = X.iloc[i: (i+time_steps), 2:4].to_numpy()\n",
    "        Xs.append(v)\n",
    "        ys.append(y.iloc[i+time_steps])\n",
    "    return np.array(Xs), np.array(ys)"
   ]
  },
  {
   "cell_type": "code",
   "execution_count": 4,
   "metadata": {},
   "outputs": [
    {
     "name": "stdout",
     "output_type": "stream",
     "text": [
      "loading dataset...\n",
      "load duration:  0\n"
     ]
    }
   ],
   "source": [
    "start = timer()\n",
    "#carregando datasets\n",
    "print('loading dataset...')\n",
    "train = pd.read_csv('../datasets/com_concept_drift/sdn_train_unormalized.csv')\n",
    "test = pd.read_csv('../datasets/com_concept_drift/sdn_test_unormalized.csv')\n",
    "print('load duration: ', round(timer() - start))"
   ]
  },
  {
   "cell_type": "code",
   "execution_count": 5,
   "metadata": {},
   "outputs": [
    {
     "name": "stdout",
     "output_type": "stream",
     "text": [
      "modeling to keras  100.0 %  505  seconds\n",
      "2D to 3D duration:  506\n"
     ]
    }
   ],
   "source": [
    "start = timer()\n",
    "print('creating window')\n",
    "TIME_STEPS = 1\n",
    "X_train,Y_train = create_dataset(train, train.delay, time_steps=TIME_STEPS)\n",
    "X_test,Y_test = create_dataset(test, test.delay, time_steps=TIME_STEPS)\n",
    "\n",
    "print('2D to 3D duration: ', round(timer() - start))"
   ]
  },
  {
   "cell_type": "markdown",
   "metadata": {},
   "source": [
    "# setting LSTM"
   ]
  },
  {
   "cell_type": "code",
   "execution_count": 6,
   "metadata": {},
   "outputs": [
    {
     "name": "stdout",
     "output_type": "stream",
     "text": [
      "Init config LSTM\n"
     ]
    }
   ],
   "source": [
    "print('Init config LSTM')\n",
    "model = keras.Sequential()\n",
    "model.add(\n",
    "    keras.layers.Bidirectional(\n",
    "        keras.layers.LSTM(\n",
    "            units=40,\n",
    "            input_shape=(X_train.shape[1],X_train.shape[2])\n",
    "        )\n",
    "    ))\n",
    "model.add(keras.layers.Dense(units=40))\n",
    "model.add(keras.layers.Dense(units=40))\n",
    "model.add(keras.layers.Dense(units=40))\n",
    "model.add(keras.layers.Dense(units=40))\n",
    "model.add(keras.layers.Dropout(rate=0.2))\n",
    "model.add(keras.layers.Dense(units=1))"
   ]
  },
  {
   "cell_type": "markdown",
   "metadata": {},
   "source": [
    "# compiling"
   ]
  },
  {
   "cell_type": "code",
   "execution_count": 7,
   "metadata": {},
   "outputs": [],
   "source": [
    "loss =\"mse\"\n",
    "optim = tf.keras.optimizers.Adam(\n",
    "    learning_rate=0.0001)\n",
    "metrics=[\"accuracy\"]\n",
    "\n",
    "model.compile(loss=loss, optimizer=optim, \n",
    "             metrics=metrics\n",
    "             )"
   ]
  },
  {
   "cell_type": "markdown",
   "metadata": {},
   "source": [
    "# training "
   ]
  },
  {
   "cell_type": "code",
   "execution_count": null,
   "metadata": {},
   "outputs": [
    {
     "name": "stdout",
     "output_type": "stream",
     "text": [
      "Init Train\n",
      "Epoch 1/100\n",
      "3342/3342 [==============================] - 32s 6ms/step - loss: 1183180416.0000 - accuracy: 0.0875 - val_loss: 20.2873 - val_accuracy: 0.0000e+00\n",
      "Epoch 2/100\n",
      "3342/3342 [==============================] - 15s 4ms/step - loss: 1183180032.0000 - accuracy: 0.0000e+00 - val_loss: 28.3937 - val_accuracy: 0.0000e+00\n",
      "Epoch 3/100\n",
      "3342/3342 [==============================] - 16s 5ms/step - loss: 1183180672.0000 - accuracy: 0.0000e+00 - val_loss: 37.5257 - val_accuracy: 0.0000e+00\n",
      "Epoch 4/100\n",
      "3342/3342 [==============================] - 14s 4ms/step - loss: 1183180288.0000 - accuracy: 0.0000e+00 - val_loss: 51.4633 - val_accuracy: 0.0000e+00\n",
      "Epoch 5/100\n",
      "3342/3342 [==============================] - 17s 5ms/step - loss: 1183181312.0000 - accuracy: 0.0000e+00 - val_loss: 66.2321 - val_accuracy: 0.0000e+00\n",
      "Epoch 6/100\n",
      "3342/3342 [==============================] - 17s 5ms/step - loss: 1183181440.0000 - accuracy: 0.0000e+00 - val_loss: 83.3201 - val_accuracy: 0.0000e+00\n",
      "Epoch 7/100\n",
      "3342/3342 [==============================] - 16s 5ms/step - loss: 1183180672.0000 - accuracy: 0.0000e+00 - val_loss: 106.8685 - val_accuracy: 0.0000e+00\n",
      "Epoch 8/100\n",
      "3342/3342 [==============================] - 15s 5ms/step - loss: 1183181056.0000 - accuracy: 0.0000e+00 - val_loss: 138.1504 - val_accuracy: 0.0000e+00\n",
      "Epoch 9/100\n",
      "3342/3342 [==============================] - 14s 4ms/step - loss: 1183181440.0000 - accuracy: 0.0000e+00 - val_loss: 174.2744 - val_accuracy: 0.0000e+00\n",
      "Epoch 10/100\n",
      "3342/3342 [==============================] - 14s 4ms/step - loss: 1183181312.0000 - accuracy: 0.0000e+00 - val_loss: 219.4330 - val_accuracy: 0.0000e+00\n",
      "Epoch 11/100\n",
      "3342/3342 [==============================] - 15s 4ms/step - loss: 1183181952.0000 - accuracy: 0.0000e+00 - val_loss: 271.0244 - val_accuracy: 0.0000e+00\n",
      "Epoch 12/100\n",
      "3342/3342 [==============================] - 14s 4ms/step - loss: 1183181568.0000 - accuracy: 0.0000e+00 - val_loss: 337.5851 - val_accuracy: 0.0000e+00\n",
      "Epoch 13/100\n",
      "3342/3342 [==============================] - 15s 4ms/step - loss: 1183181184.0000 - accuracy: 0.0000e+00 - val_loss: 418.4243 - val_accuracy: 0.0000e+00\n",
      "Epoch 14/100\n",
      "3342/3342 [==============================] - 15s 5ms/step - loss: 1183182464.0000 - accuracy: 0.0000e+00 - val_loss: 501.9664 - val_accuracy: 0.0000e+00\n",
      "Epoch 15/100\n",
      "3342/3342 [==============================] - 17s 5ms/step - loss: 1183183616.0000 - accuracy: 0.0000e+00 - val_loss: 591.9017 - val_accuracy: 0.0000e+00\n",
      "Epoch 16/100\n",
      "3342/3342 [==============================] - 14s 4ms/step - loss: 1183182592.0000 - accuracy: 0.0000e+00 - val_loss: 705.9082 - val_accuracy: 0.0000e+00\n",
      "Epoch 17/100\n",
      "3342/3342 [==============================] - 13s 4ms/step - loss: 1183183744.0000 - accuracy: 0.0000e+00 - val_loss: 830.7159 - val_accuracy: 0.0000e+00\n",
      "Epoch 18/100\n",
      "3342/3342 [==============================] - 16s 5ms/step - loss: 1183182592.0000 - accuracy: 0.0000e+00 - val_loss: 973.8079 - val_accuracy: 0.0000e+00\n",
      "Epoch 19/100\n",
      "3342/3342 [==============================] - 15s 5ms/step - loss: 1183182848.0000 - accuracy: 0.0000e+00 - val_loss: 1146.7656 - val_accuracy: 0.0000e+00\n",
      "Epoch 20/100\n",
      "3342/3342 [==============================] - 13s 4ms/step - loss: 1183184512.0000 - accuracy: 0.0000e+00 - val_loss: 1316.9965 - val_accuracy: 0.0000e+00\n",
      "Epoch 21/100\n",
      "3342/3342 [==============================] - 15s 5ms/step - loss: 1183183616.0000 - accuracy: 0.0000e+00 - val_loss: 1524.0046 - val_accuracy: 0.0000e+00\n",
      "Epoch 22/100\n",
      "3342/3342 [==============================] - 15s 5ms/step - loss: 1183184000.0000 - accuracy: 0.0000e+00 - val_loss: 1750.2104 - val_accuracy: 0.0000e+00\n",
      "Epoch 23/100\n",
      "3342/3342 [==============================] - 14s 4ms/step - loss: 1183183616.0000 - accuracy: 0.0000e+00 - val_loss: 1995.5927 - val_accuracy: 0.0000e+00\n",
      "Epoch 24/100\n",
      "3342/3342 [==============================] - 14s 4ms/step - loss: 1183186560.0000 - accuracy: 0.0000e+00 - val_loss: 2220.5400 - val_accuracy: 0.0000e+00\n",
      "Epoch 25/100\n",
      "3342/3342 [==============================] - 13s 4ms/step - loss: 1183183488.0000 - accuracy: 0.0000e+00 - val_loss: 2514.1746 - val_accuracy: 0.0000e+00\n",
      "Epoch 26/100\n",
      "3342/3342 [==============================] - 15s 5ms/step - loss: 1183186944.0000 - accuracy: 0.0000e+00 - val_loss: 2801.3916 - val_accuracy: 0.0000e+00\n",
      "Epoch 27/100\n",
      "3342/3342 [==============================] - 15s 5ms/step - loss: 1183185408.0000 - accuracy: 0.0000e+00 - val_loss: 3132.8269 - val_accuracy: 0.0000e+00\n",
      "Epoch 28/100\n",
      "3342/3342 [==============================] - 14s 4ms/step - loss: 1183188864.0000 - accuracy: 0.0000e+00 - val_loss: 3380.2297 - val_accuracy: 0.0000e+00\n",
      "Epoch 29/100\n",
      "3342/3342 [==============================] - 14s 4ms/step - loss: 1183185920.0000 - accuracy: 0.0000e+00 - val_loss: 3695.9285 - val_accuracy: 0.0000e+00\n",
      "Epoch 30/100\n",
      "3342/3342 [==============================] - 14s 4ms/step - loss: 1183186560.0000 - accuracy: 0.0000e+00 - val_loss: 4048.8142 - val_accuracy: 0.0000e+00\n",
      "Epoch 31/100\n",
      "  43/3342 [..............................] - ETA: 12s - loss: 4134.2573 - accuracy: 0.0000e+00"
     ]
    }
   ],
   "source": [
    "print('Init Train')\n",
    "start = timer()\n",
    "history = model.fit(\n",
    "    X_train, Y_train, \n",
    "    epochs=100, \n",
    "    batch_size= 20,\n",
    "    validation_split=0.1,\n",
    "    shuffle=False,\n",
    "#     callbacks=[tensorboard_callback]\n",
    ")\n",
    "print('trraining duration: ',round(timer() - start))"
   ]
  },
  {
   "cell_type": "markdown",
   "metadata": {},
   "source": [
    "# saving model"
   ]
  },
  {
   "cell_type": "code",
   "execution_count": null,
   "metadata": {},
   "outputs": [],
   "source": [
    "print('Saving Model')\n",
    "model.save('models/lstm')"
   ]
  },
  {
   "cell_type": "markdown",
   "metadata": {},
   "source": [
    "# loss training"
   ]
  },
  {
   "cell_type": "code",
   "execution_count": null,
   "metadata": {},
   "outputs": [],
   "source": [
    "\n",
    "fig1 = plt.figure()\n",
    "ax1 = fig1.add_subplot(1,1,1)\n",
    "ax1.plot(history.history['loss'], label='train')\n",
    "ax1.plot(history.history['val_loss'], label='validation')\n",
    "ax1.legend();"
   ]
  },
  {
   "cell_type": "markdown",
   "metadata": {},
   "source": [
    "# predicting"
   ]
  },
  {
   "cell_type": "code",
   "execution_count": null,
   "metadata": {},
   "outputs": [],
   "source": [
    "y_pred = model.predict(X_test)"
   ]
  },
  {
   "cell_type": "markdown",
   "metadata": {},
   "source": [
    "# unormalizing "
   ]
  },
  {
   "cell_type": "code",
   "execution_count": null,
   "metadata": {},
   "outputs": [],
   "source": [
    "f_columns = ['temperature','label']\n",
    "scaler1 = StandardScaler().fit(train[f_columns])\n",
    "scaler2 = StandardScaler().fit(train[f_columns])\n",
    "\n",
    "scaler1= scaler1.fit(train[f_columns].to_numpy())\n",
    "scaler2 = scaler2.fit(train[['delay']])\n",
    "\n",
    "\n",
    "#normalizando test\n",
    "scaler3 = StandardScaler().fit(test[f_columns])\n",
    "scaler4 = StandardScaler().fit(test[f_columns])\n",
    "\n",
    "scaler3 = scaler3.fit(test[f_columns].to_numpy())\n",
    "scaler4 = scaler4.fit(test[['delay']])\n"
   ]
  },
  {
   "cell_type": "code",
   "execution_count": null,
   "metadata": {},
   "outputs": [],
   "source": [
    "y_test_inv = scaler2.inverse_transform(Y_test)\n",
    "y_pred_inv = scaler2.inverse_transform(y_pred)"
   ]
  },
  {
   "cell_type": "code",
   "execution_count": null,
   "metadata": {},
   "outputs": [],
   "source": [
    "fig2 = plt.figure()\n",
    "a2 = fig2.add_subplot(1,1,1)\n",
    "a2.plot(y_test_inv.flatten(), marker='.', label='true')\n",
    "a2.legend();"
   ]
  },
  {
   "cell_type": "code",
   "execution_count": null,
   "metadata": {},
   "outputs": [],
   "source": [
    "fig3 = plt.figure()\n",
    "a3 = fig3.add_subplot(1,1,1)\n",
    "a3.plot(y_pred_inv.flatten(),'r',marker='.', label='predicted')\n",
    "a3.legend();\n"
   ]
  },
  {
   "cell_type": "code",
   "execution_count": null,
   "metadata": {},
   "outputs": [],
   "source": [
    "fig4 = plt.figure()\n",
    "a4 = fig4.add_subplot(1,1,1)\n",
    "a4.plot(y_pred_inv.flatten(),'r',marker='.', label='predicted')\n",
    "a4.plot(y_test_inv.flatten(), marker='.', label='true')\n",
    "a4.legend();"
   ]
  },
  {
   "cell_type": "code",
   "execution_count": null,
   "metadata": {},
   "outputs": [],
   "source": [
    "from sklearn.metrics import mean_squared_error"
   ]
  },
  {
   "cell_type": "code",
   "execution_count": null,
   "metadata": {},
   "outputs": [],
   "source": [
    "mean_squared_error(y_test_inv[0], y_pred_inv[:,0])"
   ]
  },
  {
   "cell_type": "code",
   "execution_count": null,
   "metadata": {},
   "outputs": [],
   "source": []
  }
 ],
 "metadata": {
  "kernelspec": {
   "display_name": "Python 3",
   "language": "python",
   "name": "python3"
  },
  "language_info": {
   "codemirror_mode": {
    "name": "ipython",
    "version": 3
   },
   "file_extension": ".py",
   "mimetype": "text/x-python",
   "name": "python",
   "nbconvert_exporter": "python",
   "pygments_lexer": "ipython3",
   "version": "3.8.5"
  }
 },
 "nbformat": 4,
 "nbformat_minor": 4
}
