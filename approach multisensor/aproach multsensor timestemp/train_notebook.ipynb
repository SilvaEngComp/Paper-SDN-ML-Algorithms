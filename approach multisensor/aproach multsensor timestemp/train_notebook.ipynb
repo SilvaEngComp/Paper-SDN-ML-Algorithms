{
 "cells": [
  {
   "cell_type": "code",
   "execution_count": 1,
   "metadata": {},
   "outputs": [],
   "source": [
    "import os\n",
    "import tensorflow as tf\n",
    "from tensorflow import keras\n",
    "\n",
    "import pandas as pd\n",
    "import numpy as np\n",
    "import matplotlib.pyplot as plt\n",
    "from sklearn.preprocessing import StandardScaler\n",
    "from sklearn.metrics import mean_squared_error\n",
    "from timeit import default_timer as timer\n",
    "from IPython.display import clear_output"
   ]
  },
  {
   "cell_type": "code",
   "execution_count": 2,
   "metadata": {},
   "outputs": [],
   "source": [
    "\n",
    "os.environ[\"TF_CPP_MIN_LOG_LEVEL\"] = \"2\""
   ]
  },
  {
   "cell_type": "code",
   "execution_count": 3,
   "metadata": {},
   "outputs": [],
   "source": [
    "def create_dataset(X, y, time_steps=1):\n",
    "    Xs, ys = [], []    \n",
    "    for i in range(len(X) - time_steps):\n",
    "        clear_output(wait=True)\n",
    "        print('modeling to keras ',round((i/(len(X) - time_steps))*100,2), ('%'), end='')\n",
    "        s = round(timer() - start)\n",
    "        if(s>60):\n",
    "            s /=60\n",
    "            print(' ', s, ' seconds')\n",
    "        v = X.iloc[i: (i+time_steps), 2:4].to_numpy()\n",
    "        Xs.append(v)\n",
    "        ys.append(y.iloc[i+time_steps])\n",
    "    return np.array(Xs), np.array(ys)"
   ]
  },
  {
   "cell_type": "code",
   "execution_count": 4,
   "metadata": {},
   "outputs": [
    {
     "name": "stdout",
     "output_type": "stream",
     "text": [
      "loading dataset...\n"
     ]
    }
   ],
   "source": [
    "#carregando datasets\n",
    "print('loading dataset...')\n",
    "train = pd.read_csv('../datasets/com_concept_drift/sdn_train_unormalized.csv')\n",
    "test = pd.read_csv('../datasets/com_concept_drift/sdn_test_unormalized.csv')\n",
    "\n",
    "train = train[train.delay>=0]\n",
    "test = test[test.delay>=0]\n",
    "\n",
    "train = train[train.delay<=10000] \n",
    "test = test[test.delay<=10000] \n",
    "\n"
   ]
  },
  {
   "cell_type": "code",
   "execution_count": 5,
   "metadata": {},
   "outputs": [
    {
     "name": "stdout",
     "output_type": "stream",
     "text": [
      "modeling to keras  100.0 %  7.566666666666666  seconds\n",
      "2D to 3D duration:  454\n"
     ]
    }
   ],
   "source": [
    "start = timer()\n",
    "print('creating window')\n",
    "TIME_STEPS = 1\n",
    "X_train,Y_train = create_dataset(train, train.delay, time_steps=TIME_STEPS)\n",
    "X_test,Y_test = create_dataset(test, test.delay, time_steps=TIME_STEPS)\n",
    "\n",
    "print('2D to 3D duration: ', round(timer() - start))"
   ]
  },
  {
   "cell_type": "markdown",
   "metadata": {},
   "source": [
    "# setting LSTM"
   ]
  },
  {
   "cell_type": "code",
   "execution_count": 6,
   "metadata": {},
   "outputs": [
    {
     "name": "stdout",
     "output_type": "stream",
     "text": [
      "Init config LSTM\n"
     ]
    }
   ],
   "source": [
    "print('Init config LSTM')\n",
    "model = keras.Sequential()\n",
    "model.add(\n",
    "    keras.layers.Bidirectional(\n",
    "        keras.layers.LSTM(\n",
    "             activation=\"relu\",\n",
    "            units=40,\n",
    "            input_shape=(X_train.shape[1],X_train.shape[2]\n",
    "                        \n",
    "                        )\n",
    "        )\n",
    "    ))\n",
    "model.add(keras.layers.Dense(units=40, activation=\"relu\"))\n",
    "model.add(keras.layers.Dense(units=40, activation=\"relu\"))\n",
    "model.add(keras.layers.Dense(units=40, activation=\"relu\"))\n",
    "model.add(keras.layers.Dense(units=40, activation=\"relu\"))\n",
    "model.add(keras.layers.Dropout(rate=0.2))\n",
    "model.add(keras.layers.Dense(units=1))"
   ]
  },
  {
   "cell_type": "markdown",
   "metadata": {},
   "source": [
    "# compiling"
   ]
  },
  {
   "cell_type": "code",
   "execution_count": 7,
   "metadata": {},
   "outputs": [],
   "source": [
    "loss =\"mse\"\n",
    "optim = tf.keras.optimizers.Adam(\n",
    "    learning_rate=0.0001)\n",
    "metrics=[\"accuracy\"]\n",
    "\n",
    "model.compile(loss=loss, optimizer=optim, \n",
    "             metrics=metrics\n",
    "             )"
   ]
  },
  {
   "cell_type": "markdown",
   "metadata": {},
   "source": [
    "# training "
   ]
  },
  {
   "cell_type": "code",
   "execution_count": 8,
   "metadata": {},
   "outputs": [
    {
     "name": "stdout",
     "output_type": "stream",
     "text": [
      "Init Train\n",
      "Epoch 1/100\n",
      "4995/4995 [==============================] - 26s 4ms/step - loss: 14580.5859 - accuracy: 0.6374 - val_loss: 18913.1777 - val_accuracy: 0.0000e+00\n",
      "Epoch 2/100\n",
      "4995/4995 [==============================] - 17s 3ms/step - loss: 14446.4111 - accuracy: 0.2241 - val_loss: 19005.0879 - val_accuracy: 0.0000e+00\n",
      "Epoch 3/100\n",
      "4995/4995 [==============================] - 16s 3ms/step - loss: 14146.6279 - accuracy: 0.2245 - val_loss: 18833.5020 - val_accuracy: 0.0000e+00\n",
      "Epoch 4/100\n",
      "4995/4995 [==============================] - 18s 4ms/step - loss: 13078.6973 - accuracy: 0.3302 - val_loss: 17050.0820 - val_accuracy: 0.0000e+00\n",
      "Epoch 5/100\n",
      "4995/4995 [==============================] - 16s 3ms/step - loss: 6955.7529 - accuracy: 0.4381 - val_loss: 15327.6270 - val_accuracy: 0.0000e+00\n",
      "Epoch 6/100\n",
      "4995/4995 [==============================] - 13s 3ms/step - loss: 2431.8115 - accuracy: 0.5255 - val_loss: 9868.3564 - val_accuracy: 0.0000e+00\n",
      "Epoch 7/100\n",
      "4995/4995 [==============================] - 12s 2ms/step - loss: 1971.4117 - accuracy: 0.5120 - val_loss: 8130.7617 - val_accuracy: 0.0000e+00\n",
      "Epoch 8/100\n",
      "4995/4995 [==============================] - 15s 3ms/step - loss: 1985.6569 - accuracy: 0.5212 - val_loss: 2956.5759 - val_accuracy: 0.0000e+00\n",
      "Epoch 9/100\n",
      "4995/4995 [==============================] - 17s 3ms/step - loss: 1979.9797 - accuracy: 0.5048 - val_loss: 2042.4889 - val_accuracy: 0.0000e+00\n",
      "Epoch 10/100\n",
      "4995/4995 [==============================] - 16s 3ms/step - loss: 1929.5875 - accuracy: 0.5481 - val_loss: 1455.8926 - val_accuracy: 0.0000e+00\n",
      "Epoch 11/100\n",
      "4995/4995 [==============================] - 14s 3ms/step - loss: 2030.6699 - accuracy: 0.5083 - val_loss: 1325.4181 - val_accuracy: 0.0000e+00\n",
      "Epoch 12/100\n",
      "4995/4995 [==============================] - 13s 3ms/step - loss: 2054.3313 - accuracy: 0.5519 - val_loss: 1442.9272 - val_accuracy: 0.1725\n",
      "Epoch 13/100\n",
      "4995/4995 [==============================] - 17s 3ms/step - loss: 1980.9460 - accuracy: 0.5565 - val_loss: 1423.9791 - val_accuracy: 0.0569\n",
      "Epoch 14/100\n",
      "4995/4995 [==============================] - 14s 3ms/step - loss: 1995.6893 - accuracy: 0.5788 - val_loss: 1319.2732 - val_accuracy: 0.1045\n",
      "Epoch 15/100\n",
      "4995/4995 [==============================] - 14s 3ms/step - loss: 1925.7295 - accuracy: 0.5944 - val_loss: 1300.7289 - val_accuracy: 0.2820\n",
      "Epoch 16/100\n",
      "4995/4995 [==============================] - 15s 3ms/step - loss: 1986.5731 - accuracy: 0.5821 - val_loss: 1248.9797 - val_accuracy: 0.1575\n",
      "Epoch 17/100\n",
      "4995/4995 [==============================] - 14s 3ms/step - loss: 2145.6057 - accuracy: 0.5751 - val_loss: 1349.2059 - val_accuracy: 0.3015\n",
      "Epoch 18/100\n",
      "4995/4995 [==============================] - 12s 2ms/step - loss: 2056.2722 - accuracy: 0.6376 - val_loss: 1322.5360 - val_accuracy: 0.9061\n",
      "Epoch 19/100\n",
      "4995/4995 [==============================] - 13s 3ms/step - loss: 2000.4982 - accuracy: 0.6485 - val_loss: 1273.1837 - val_accuracy: 0.5596\n",
      "Epoch 20/100\n",
      "4995/4995 [==============================] - 13s 3ms/step - loss: 1967.5844 - accuracy: 0.6657 - val_loss: 1219.2617 - val_accuracy: 0.2691\n",
      "Epoch 21/100\n",
      "4995/4995 [==============================] - 12s 2ms/step - loss: 2131.7976 - accuracy: 0.6632 - val_loss: 1441.3052 - val_accuracy: 0.9450\n",
      "Epoch 22/100\n",
      "4995/4995 [==============================] - 14s 3ms/step - loss: 2065.6790 - accuracy: 0.6730 - val_loss: 1405.4761 - val_accuracy: 0.9384\n",
      "Epoch 23/100\n",
      "4995/4995 [==============================] - 17s 3ms/step - loss: 2074.7856 - accuracy: 0.6849 - val_loss: 1382.0410 - val_accuracy: 0.8061\n",
      "Epoch 24/100\n",
      "4995/4995 [==============================] - 18s 4ms/step - loss: 1984.8806 - accuracy: 0.6778 - val_loss: 1399.8829 - val_accuracy: 0.9349\n",
      "Epoch 25/100\n",
      "4995/4995 [==============================] - 14s 3ms/step - loss: 1959.9596 - accuracy: 0.7101 - val_loss: 1355.1887 - val_accuracy: 0.9908\n",
      "Epoch 26/100\n",
      "4995/4995 [==============================] - 16s 3ms/step - loss: 1932.1597 - accuracy: 0.6969 - val_loss: 1295.7922 - val_accuracy: 0.9908\n",
      "Epoch 27/100\n",
      "4995/4995 [==============================] - 14s 3ms/step - loss: 2064.9556 - accuracy: 0.7184 - val_loss: 1357.3400 - val_accuracy: 0.9908\n",
      "Epoch 28/100\n",
      "4995/4995 [==============================] - 14s 3ms/step - loss: 2048.3982 - accuracy: 0.7179 - val_loss: 1381.1761 - val_accuracy: 0.9908\n",
      "Epoch 29/100\n",
      "4995/4995 [==============================] - 13s 3ms/step - loss: 2032.9194 - accuracy: 0.8298 - val_loss: 1331.9290 - val_accuracy: 0.9178\n",
      "Epoch 30/100\n",
      "4995/4995 [==============================] - 13s 3ms/step - loss: 2026.9132 - accuracy: 0.7604 - val_loss: 1246.6949 - val_accuracy: 0.7365\n",
      "Epoch 31/100\n",
      "4995/4995 [==============================] - 15s 3ms/step - loss: 1991.9550 - accuracy: 0.6973 - val_loss: 1285.0240 - val_accuracy: 0.9908\n",
      "Epoch 32/100\n",
      "4995/4995 [==============================] - 18s 4ms/step - loss: 1968.4663 - accuracy: 0.6714 - val_loss: 1357.5985 - val_accuracy: 0.9908\n",
      "Epoch 33/100\n",
      "4995/4995 [==============================] - 15s 3ms/step - loss: 2043.9479 - accuracy: 0.6785 - val_loss: 1391.7311 - val_accuracy: 0.9908\n",
      "Epoch 34/100\n",
      "4995/4995 [==============================] - 14s 3ms/step - loss: 2041.1918 - accuracy: 0.6715 - val_loss: 1269.5626 - val_accuracy: 0.9908\n",
      "Epoch 35/100\n",
      "4995/4995 [==============================] - 14s 3ms/step - loss: 2028.2798 - accuracy: 0.7242 - val_loss: 1400.2032 - val_accuracy: 0.9908\n",
      "Epoch 36/100\n",
      "4995/4995 [==============================] - 13s 3ms/step - loss: 1990.3319 - accuracy: 0.7037 - val_loss: 1280.1123 - val_accuracy: 0.9908\n",
      "Epoch 37/100\n",
      "4995/4995 [==============================] - 13s 3ms/step - loss: 2054.3499 - accuracy: 0.6753 - val_loss: 1452.6898 - val_accuracy: 0.9908\n",
      "Epoch 38/100\n",
      "4995/4995 [==============================] - 13s 3ms/step - loss: 1991.6628 - accuracy: 0.6947 - val_loss: 1257.3973 - val_accuracy: 0.9908\n",
      "Epoch 39/100\n",
      "4995/4995 [==============================] - 13s 3ms/step - loss: 1950.1556 - accuracy: 0.7276 - val_loss: 1322.7706 - val_accuracy: 0.9908\n",
      "Epoch 40/100\n",
      "4995/4995 [==============================] - 14s 3ms/step - loss: 1958.8739 - accuracy: 0.7307 - val_loss: 1239.1802 - val_accuracy: 0.9908\n",
      "Epoch 41/100\n",
      "4995/4995 [==============================] - 12s 2ms/step - loss: 2088.5071 - accuracy: 0.7323 - val_loss: 1256.6643 - val_accuracy: 0.9908\n",
      "Epoch 42/100\n",
      "4995/4995 [==============================] - 17s 3ms/step - loss: 2103.0989 - accuracy: 0.7360 - val_loss: 1216.0325 - val_accuracy: 0.9908\n",
      "Epoch 43/100\n",
      "4995/4995 [==============================] - 17s 3ms/step - loss: 1989.4216 - accuracy: 0.7365 - val_loss: 1327.4888 - val_accuracy: 0.9908\n",
      "Epoch 44/100\n",
      "4995/4995 [==============================] - 14s 3ms/step - loss: 2015.3992 - accuracy: 0.7496 - val_loss: 1310.5671 - val_accuracy: 0.9908\n",
      "Epoch 45/100\n",
      "4995/4995 [==============================] - 16s 3ms/step - loss: 2116.0083 - accuracy: 0.7445 - val_loss: 1450.6732 - val_accuracy: 0.9908\n",
      "Epoch 46/100\n",
      "4995/4995 [==============================] - 19s 4ms/step - loss: 2093.5598 - accuracy: 0.7471 - val_loss: 1376.4363 - val_accuracy: 0.9908\n",
      "Epoch 47/100\n",
      "4995/4995 [==============================] - 16s 3ms/step - loss: 2081.5232 - accuracy: 0.8210 - val_loss: 1396.2333 - val_accuracy: 0.9908\n",
      "Epoch 48/100\n",
      "4995/4995 [==============================] - 14s 3ms/step - loss: 1999.3081 - accuracy: 0.7459 - val_loss: 1314.0707 - val_accuracy: 0.9908\n",
      "Epoch 49/100\n",
      "4995/4995 [==============================] - 14s 3ms/step - loss: 2027.2010 - accuracy: 0.7492 - val_loss: 1386.8698 - val_accuracy: 0.9908\n",
      "Epoch 50/100\n",
      "4995/4995 [==============================] - 14s 3ms/step - loss: 2028.2240 - accuracy: 0.7018 - val_loss: 1403.7335 - val_accuracy: 0.9908\n",
      "Epoch 51/100\n",
      "4995/4995 [==============================] - 13s 3ms/step - loss: 2052.3987 - accuracy: 0.7201 - val_loss: 1277.8367 - val_accuracy: 0.9908\n",
      "Epoch 52/100\n",
      "4995/4995 [==============================] - 13s 3ms/step - loss: 2070.3433 - accuracy: 0.7978 - val_loss: 1375.5448 - val_accuracy: 0.9908\n",
      "Epoch 53/100\n",
      "4995/4995 [==============================] - 17s 3ms/step - loss: 1972.2446 - accuracy: 0.7542 - val_loss: 1387.1323 - val_accuracy: 0.9908\n",
      "Epoch 54/100\n"
     ]
    },
    {
     "name": "stdout",
     "output_type": "stream",
     "text": [
      "4995/4995 [==============================] - 18s 4ms/step - loss: 2007.9158 - accuracy: 0.7617 - val_loss: 1283.6879 - val_accuracy: 0.9908\n",
      "Epoch 55/100\n",
      "4995/4995 [==============================] - 15s 3ms/step - loss: 2094.5762 - accuracy: 0.7486 - val_loss: 1336.2581 - val_accuracy: 0.9908\n",
      "Epoch 56/100\n",
      "4995/4995 [==============================] - 14s 3ms/step - loss: 2037.0944 - accuracy: 0.7728 - val_loss: 1326.1891 - val_accuracy: 0.9908\n",
      "Epoch 57/100\n",
      "4995/4995 [==============================] - 13s 3ms/step - loss: 2093.2341 - accuracy: 0.7504 - val_loss: 1275.1062 - val_accuracy: 0.9908\n",
      "Epoch 58/100\n",
      "4995/4995 [==============================] - 13s 3ms/step - loss: 1943.3400 - accuracy: 0.7628 - val_loss: 1303.8997 - val_accuracy: 0.9908\n",
      "Epoch 59/100\n",
      "4995/4995 [==============================] - 16s 3ms/step - loss: 1994.2983 - accuracy: 0.7452 - val_loss: 1386.6346 - val_accuracy: 0.9908\n",
      "Epoch 60/100\n",
      "4995/4995 [==============================] - 14s 3ms/step - loss: 2113.7686 - accuracy: 0.7479 - val_loss: 1238.8467 - val_accuracy: 0.9908\n",
      "Epoch 61/100\n",
      "4995/4995 [==============================] - 15s 3ms/step - loss: 2097.6223 - accuracy: 0.7640 - val_loss: 1300.5439 - val_accuracy: 0.9908\n",
      "Epoch 62/100\n",
      "4995/4995 [==============================] - 14s 3ms/step - loss: 2030.3933 - accuracy: 0.7504 - val_loss: 1278.3569 - val_accuracy: 0.9908\n",
      "Epoch 63/100\n",
      "4995/4995 [==============================] - 13s 3ms/step - loss: 2184.2539 - accuracy: 0.7511 - val_loss: 1340.7933 - val_accuracy: 0.9908\n",
      "Epoch 64/100\n",
      "4995/4995 [==============================] - 13s 3ms/step - loss: 2043.7306 - accuracy: 0.7509 - val_loss: 1354.9749 - val_accuracy: 0.9908\n",
      "Epoch 65/100\n",
      "4995/4995 [==============================] - 13s 3ms/step - loss: 2008.2017 - accuracy: 0.7721 - val_loss: 1349.9169 - val_accuracy: 0.9908\n",
      "Epoch 66/100\n",
      "4995/4995 [==============================] - 13s 3ms/step - loss: 2129.2129 - accuracy: 0.7557 - val_loss: 1299.1486 - val_accuracy: 0.9908\n",
      "Epoch 67/100\n",
      "4995/4995 [==============================] - 13s 3ms/step - loss: 2007.7626 - accuracy: 0.7533 - val_loss: 1412.8734 - val_accuracy: 0.9908\n",
      "Epoch 68/100\n",
      "4995/4995 [==============================] - 16s 3ms/step - loss: 2079.9438 - accuracy: 0.7517 - val_loss: 1401.7249 - val_accuracy: 0.9908\n",
      "Epoch 69/100\n",
      "4995/4995 [==============================] - 13s 3ms/step - loss: 2024.1802 - accuracy: 0.7688 - val_loss: 1303.3497 - val_accuracy: 0.9908\n",
      "Epoch 70/100\n",
      "4995/4995 [==============================] - 15s 3ms/step - loss: 2049.0466 - accuracy: 0.7669 - val_loss: 1372.2958 - val_accuracy: 0.9908\n",
      "Epoch 71/100\n",
      "4995/4995 [==============================] - 14s 3ms/step - loss: 1968.5315 - accuracy: 0.7681 - val_loss: 1311.1458 - val_accuracy: 0.9908\n",
      "Epoch 72/100\n",
      "4995/4995 [==============================] - 16s 3ms/step - loss: 2148.6047 - accuracy: 0.7961 - val_loss: 1334.2224 - val_accuracy: 0.9908\n",
      "Epoch 73/100\n",
      "4995/4995 [==============================] - 16s 3ms/step - loss: 2002.9939 - accuracy: 0.7893 - val_loss: 1280.3365 - val_accuracy: 0.9908\n",
      "Epoch 74/100\n",
      "4995/4995 [==============================] - 15s 3ms/step - loss: 2072.8630 - accuracy: 0.7687 - val_loss: 1153.1344 - val_accuracy: 0.9908\n",
      "Epoch 75/100\n",
      "4995/4995 [==============================] - 15s 3ms/step - loss: 2064.7336 - accuracy: 0.7493 - val_loss: 1263.1029 - val_accuracy: 0.9908\n",
      "Epoch 76/100\n",
      "4995/4995 [==============================] - 14s 3ms/step - loss: 2139.0559 - accuracy: 0.7604 - val_loss: 1326.4038 - val_accuracy: 0.9908\n",
      "Epoch 77/100\n",
      "4995/4995 [==============================] - 16s 3ms/step - loss: 2141.0742 - accuracy: 0.7595 - val_loss: 1246.8505 - val_accuracy: 0.9908\n",
      "Epoch 78/100\n",
      "4995/4995 [==============================] - 16s 3ms/step - loss: 2056.7292 - accuracy: 0.7449 - val_loss: 1203.5773 - val_accuracy: 0.9908\n",
      "Epoch 79/100\n",
      "4995/4995 [==============================] - 15s 3ms/step - loss: 2095.0288 - accuracy: 0.7487 - val_loss: 1378.5602 - val_accuracy: 0.9908\n",
      "Epoch 80/100\n",
      "4995/4995 [==============================] - 14s 3ms/step - loss: 2075.9966 - accuracy: 0.7226 - val_loss: 1356.5009 - val_accuracy: 0.9908\n",
      "Epoch 81/100\n",
      "4995/4995 [==============================] - 15s 3ms/step - loss: 2129.5552 - accuracy: 0.7742 - val_loss: 1362.1799 - val_accuracy: 0.9908\n",
      "Epoch 82/100\n",
      "4995/4995 [==============================] - 14s 3ms/step - loss: 2074.0649 - accuracy: 0.7862 - val_loss: 1322.7401 - val_accuracy: 0.9908\n",
      "Epoch 83/100\n",
      "4995/4995 [==============================] - 14s 3ms/step - loss: 2090.1077 - accuracy: 0.7687 - val_loss: 1315.8209 - val_accuracy: 0.9908\n",
      "Epoch 84/100\n",
      "4995/4995 [==============================] - 15s 3ms/step - loss: 2082.2820 - accuracy: 0.7800 - val_loss: 1233.5815 - val_accuracy: 0.9908\n",
      "Epoch 85/100\n",
      "4995/4995 [==============================] - 15s 3ms/step - loss: 2083.8301 - accuracy: 0.7777 - val_loss: 1311.6112 - val_accuracy: 0.9908\n",
      "Epoch 86/100\n",
      "4995/4995 [==============================] - 15s 3ms/step - loss: 2123.0911 - accuracy: 0.7415 - val_loss: 1310.2557 - val_accuracy: 0.9908\n",
      "Epoch 87/100\n",
      "4995/4995 [==============================] - 14s 3ms/step - loss: 2089.7703 - accuracy: 0.7788 - val_loss: 1452.0697 - val_accuracy: 0.9908\n",
      "Epoch 88/100\n",
      "4995/4995 [==============================] - 15s 3ms/step - loss: 2054.4807 - accuracy: 0.7630 - val_loss: 1383.5042 - val_accuracy: 0.9908\n",
      "Epoch 89/100\n",
      "4995/4995 [==============================] - 15s 3ms/step - loss: 2143.6965 - accuracy: 0.7577 - val_loss: 1222.7727 - val_accuracy: 0.9908\n",
      "Epoch 90/100\n",
      "4995/4995 [==============================] - 14s 3ms/step - loss: 2103.8601 - accuracy: 0.7534 - val_loss: 1292.0009 - val_accuracy: 0.9908\n",
      "Epoch 91/100\n",
      "4995/4995 [==============================] - 15s 3ms/step - loss: 2056.6992 - accuracy: 0.7476 - val_loss: 1256.3921 - val_accuracy: 0.9908\n",
      "Epoch 92/100\n",
      "4995/4995 [==============================] - 14s 3ms/step - loss: 2055.9443 - accuracy: 0.7748 - val_loss: 1303.2217 - val_accuracy: 0.9908\n",
      "Epoch 93/100\n",
      "4995/4995 [==============================] - 14s 3ms/step - loss: 2050.9180 - accuracy: 0.7864 - val_loss: 1346.8248 - val_accuracy: 0.9908\n",
      "Epoch 94/100\n",
      "4995/4995 [==============================] - 15s 3ms/step - loss: 2080.7615 - accuracy: 0.7545 - val_loss: 1323.2925 - val_accuracy: 0.9908\n",
      "Epoch 95/100\n",
      "4995/4995 [==============================] - 15s 3ms/step - loss: 2146.2600 - accuracy: 0.7404 - val_loss: 1255.0126 - val_accuracy: 0.9908\n",
      "Epoch 96/100\n",
      "4995/4995 [==============================] - 16s 3ms/step - loss: 2035.5925 - accuracy: 0.7426 - val_loss: 1275.4034 - val_accuracy: 0.9908\n",
      "Epoch 97/100\n",
      "4995/4995 [==============================] - 13s 3ms/step - loss: 2096.7534 - accuracy: 0.7833 - val_loss: 1336.0498 - val_accuracy: 0.9908\n",
      "Epoch 98/100\n",
      "4995/4995 [==============================] - 13s 3ms/step - loss: 2093.2710 - accuracy: 0.7222 - val_loss: 1376.9525 - val_accuracy: 0.9908\n",
      "Epoch 99/100\n",
      "4995/4995 [==============================] - 14s 3ms/step - loss: 2129.0212 - accuracy: 0.7869 - val_loss: 1352.8898 - val_accuracy: 0.9908\n",
      "Epoch 100/100\n",
      "4995/4995 [==============================] - 14s 3ms/step - loss: 2101.0859 - accuracy: 0.7398 - val_loss: 1311.3374 - val_accuracy: 0.9908\n",
      "trraining duration:  1470\n"
     ]
    }
   ],
   "source": [
    "print('Init Train')\n",
    "start = timer()\n",
    "history = model.fit(\n",
    "    X_train, Y_train, \n",
    "    epochs=100, \n",
    "    batch_size= 10,\n",
    "    validation_split=0.1,\n",
    "    shuffle=False,\n",
    "#     callbacks=[tensorboard_callback]\n",
    ")\n",
    "print('trraining duration: ',round(timer() - start))"
   ]
  },
  {
   "cell_type": "markdown",
   "metadata": {},
   "source": [
    "# saving model"
   ]
  },
  {
   "cell_type": "code",
   "execution_count": 9,
   "metadata": {},
   "outputs": [
    {
     "name": "stdout",
     "output_type": "stream",
     "text": [
      "Saving Model\n",
      "INFO:tensorflow:Assets written to: models/lstm\\assets\n"
     ]
    }
   ],
   "source": [
    "print('Saving Model')\n",
    "model.save('models/lstm')"
   ]
  },
  {
   "cell_type": "markdown",
   "metadata": {},
   "source": [
    "# loss training"
   ]
  },
  {
   "cell_type": "code",
   "execution_count": 10,
   "metadata": {},
   "outputs": [
    {
     "data": {
      "image/png": "[encoded data removed]",
      "text/plain": [
       "<Figure size 432x288 with 1 Axes>"
      ]
     },
     "metadata": {
      "needs_background": "light"
     },
     "output_type": "display_data"
    }
   ],
   "source": [
    "\n",
    "fig1 = plt.figure()\n",
    "ax1 = fig1.add_subplot(1,1,1)\n",
    "ax1.plot(history.history['loss'], label='train')\n",
    "ax1.plot(history.history['val_loss'], label='validation')\n",
    "ax1.legend();"
   ]
  },
  {
   "cell_type": "markdown",
   "metadata": {},
   "source": [
    "# accuracy"
   ]
  },
  {
   "cell_type": "code",
   "execution_count": 11,
   "metadata": {},
   "outputs": [
    {
     "data": {
      "image/png": "[encoded data removed]",
      "text/plain": [
       "<Figure size 432x288 with 1 Axes>"
      ]
     },
     "metadata": {
      "needs_background": "light"
     },
     "output_type": "display_data"
    }
   ],
   "source": [
    "\n",
    "fig1 = plt.figure()\n",
    "ax1 = fig1.add_subplot(1,1,1)\n",
    "ax1.plot(history.history['accuracy'], label='train')\n",
    "ax1.plot(history.history['val_accuracy'], label='validation')\n",
    "ax1.legend();"
   ]
  },
  {
   "cell_type": "markdown",
   "metadata": {},
   "source": [
    "# predicting"
   ]
  },
  {
   "cell_type": "code",
   "execution_count": 12,
   "metadata": {},
   "outputs": [],
   "source": [
    "y_pred = model.predict(X_test)"
   ]
  },
  {
   "cell_type": "markdown",
   "metadata": {},
   "source": [
    "# unormalizing "
   ]
  },
  {
   "cell_type": "code",
   "execution_count": 13,
   "metadata": {},
   "outputs": [],
   "source": [
    "f_columns = ['temperature','label']\n",
    "scaler1 = StandardScaler().fit(train[f_columns])\n",
    "scaler2 = StandardScaler().fit(train[f_columns])\n",
    "\n",
    "scaler1= scaler1.fit(train[f_columns].to_numpy())\n",
    "scaler2 = scaler2.fit(train[['delay']])\n",
    "\n",
    "\n",
    "#normalizando test\n",
    "scaler3 = StandardScaler().fit(test[f_columns])\n",
    "scaler4 = StandardScaler().fit(test[f_columns])\n",
    "\n",
    "scaler3 = scaler3.fit(test[f_columns].to_numpy())\n",
    "scaler4 = scaler4.fit(test[['delay']])\n"
   ]
  },
  {
   "cell_type": "code",
   "execution_count": 14,
   "metadata": {},
   "outputs": [],
   "source": [
    "y_test_inv = scaler4.inverse_transform(Y_test.reshape(1,-1))\n",
    "y_pred_inv = scaler4.inverse_transform(y_pred)"
   ]
  },
  {
   "cell_type": "code",
   "execution_count": 15,
   "metadata": {},
   "outputs": [
    {
     "ename": "ValueError",
     "evalue": "Image size of 394x1108477 pixels is too large. It must be less than 2^16 in each direction.",
     "output_type": "error",
     "traceback": [
      "\u001b[1;31m---------------------------------------------------------------------------\u001b[0m",
      "\u001b[1;31mValueError\u001b[0m                                Traceback (most recent call last)",
      "\u001b[1;32m~\\anaconda3\\lib\\site-packages\\IPython\\core\\formatters.py\u001b[0m in \u001b[0;36m__call__\u001b[1;34m(self, obj)\u001b[0m\n\u001b[0;32m    339\u001b[0m                 \u001b[1;32mpass\u001b[0m\u001b[1;33m\u001b[0m\u001b[1;33m\u001b[0m\u001b[0m\n\u001b[0;32m    340\u001b[0m             \u001b[1;32melse\u001b[0m\u001b[1;33m:\u001b[0m\u001b[1;33m\u001b[0m\u001b[1;33m\u001b[0m\u001b[0m\n\u001b[1;32m--> 341\u001b[1;33m                 \u001b[1;32mreturn\u001b[0m \u001b[0mprinter\u001b[0m\u001b[1;33m(\u001b[0m\u001b[0mobj\u001b[0m\u001b[1;33m)\u001b[0m\u001b[1;33m\u001b[0m\u001b[1;33m\u001b[0m\u001b[0m\n\u001b[0m\u001b[0;32m    342\u001b[0m             \u001b[1;31m# Finally look for special method names\u001b[0m\u001b[1;33m\u001b[0m\u001b[1;33m\u001b[0m\u001b[1;33m\u001b[0m\u001b[0m\n\u001b[0;32m    343\u001b[0m             \u001b[0mmethod\u001b[0m \u001b[1;33m=\u001b[0m \u001b[0mget_real_method\u001b[0m\u001b[1;33m(\u001b[0m\u001b[0mobj\u001b[0m\u001b[1;33m,\u001b[0m \u001b[0mself\u001b[0m\u001b[1;33m.\u001b[0m\u001b[0mprint_method\u001b[0m\u001b[1;33m)\u001b[0m\u001b[1;33m\u001b[0m\u001b[1;33m\u001b[0m\u001b[0m\n",
      "\u001b[1;32m~\\anaconda3\\lib\\site-packages\\IPython\\core\\pylabtools.py\u001b[0m in \u001b[0;36m<lambda>\u001b[1;34m(fig)\u001b[0m\n\u001b[0;32m    246\u001b[0m \u001b[1;33m\u001b[0m\u001b[0m\n\u001b[0;32m    247\u001b[0m     \u001b[1;32mif\u001b[0m \u001b[1;34m'png'\u001b[0m \u001b[1;32min\u001b[0m \u001b[0mformats\u001b[0m\u001b[1;33m:\u001b[0m\u001b[1;33m\u001b[0m\u001b[1;33m\u001b[0m\u001b[0m\n\u001b[1;32m--> 248\u001b[1;33m         \u001b[0mpng_formatter\u001b[0m\u001b[1;33m.\u001b[0m\u001b[0mfor_type\u001b[0m\u001b[1;33m(\u001b[0m\u001b[0mFigure\u001b[0m\u001b[1;33m,\u001b[0m \u001b[1;32mlambda\u001b[0m \u001b[0mfig\u001b[0m\u001b[1;33m:\u001b[0m \u001b[0mprint_figure\u001b[0m\u001b[1;33m(\u001b[0m\u001b[0mfig\u001b[0m\u001b[1;33m,\u001b[0m \u001b[1;34m'png'\u001b[0m\u001b[1;33m,\u001b[0m \u001b[1;33m**\u001b[0m\u001b[0mkwargs\u001b[0m\u001b[1;33m)\u001b[0m\u001b[1;33m)\u001b[0m\u001b[1;33m\u001b[0m\u001b[1;33m\u001b[0m\u001b[0m\n\u001b[0m\u001b[0;32m    249\u001b[0m     \u001b[1;32mif\u001b[0m \u001b[1;34m'retina'\u001b[0m \u001b[1;32min\u001b[0m \u001b[0mformats\u001b[0m \u001b[1;32mor\u001b[0m \u001b[1;34m'png2x'\u001b[0m \u001b[1;32min\u001b[0m \u001b[0mformats\u001b[0m\u001b[1;33m:\u001b[0m\u001b[1;33m\u001b[0m\u001b[1;33m\u001b[0m\u001b[0m\n\u001b[0;32m    250\u001b[0m         \u001b[0mpng_formatter\u001b[0m\u001b[1;33m.\u001b[0m\u001b[0mfor_type\u001b[0m\u001b[1;33m(\u001b[0m\u001b[0mFigure\u001b[0m\u001b[1;33m,\u001b[0m \u001b[1;32mlambda\u001b[0m \u001b[0mfig\u001b[0m\u001b[1;33m:\u001b[0m \u001b[0mretina_figure\u001b[0m\u001b[1;33m(\u001b[0m\u001b[0mfig\u001b[0m\u001b[1;33m,\u001b[0m \u001b[1;33m**\u001b[0m\u001b[0mkwargs\u001b[0m\u001b[1;33m)\u001b[0m\u001b[1;33m)\u001b[0m\u001b[1;33m\u001b[0m\u001b[1;33m\u001b[0m\u001b[0m\n",
      "\u001b[1;32m~\\anaconda3\\lib\\site-packages\\IPython\\core\\pylabtools.py\u001b[0m in \u001b[0;36mprint_figure\u001b[1;34m(fig, fmt, bbox_inches, **kwargs)\u001b[0m\n\u001b[0;32m    130\u001b[0m         \u001b[0mFigureCanvasBase\u001b[0m\u001b[1;33m(\u001b[0m\u001b[0mfig\u001b[0m\u001b[1;33m)\u001b[0m\u001b[1;33m\u001b[0m\u001b[1;33m\u001b[0m\u001b[0m\n\u001b[0;32m    131\u001b[0m \u001b[1;33m\u001b[0m\u001b[0m\n\u001b[1;32m--> 132\u001b[1;33m     \u001b[0mfig\u001b[0m\u001b[1;33m.\u001b[0m\u001b[0mcanvas\u001b[0m\u001b[1;33m.\u001b[0m\u001b[0mprint_figure\u001b[0m\u001b[1;33m(\u001b[0m\u001b[0mbytes_io\u001b[0m\u001b[1;33m,\u001b[0m \u001b[1;33m**\u001b[0m\u001b[0mkw\u001b[0m\u001b[1;33m)\u001b[0m\u001b[1;33m\u001b[0m\u001b[1;33m\u001b[0m\u001b[0m\n\u001b[0m\u001b[0;32m    133\u001b[0m     \u001b[0mdata\u001b[0m \u001b[1;33m=\u001b[0m \u001b[0mbytes_io\u001b[0m\u001b[1;33m.\u001b[0m\u001b[0mgetvalue\u001b[0m\u001b[1;33m(\u001b[0m\u001b[1;33m)\u001b[0m\u001b[1;33m\u001b[0m\u001b[1;33m\u001b[0m\u001b[0m\n\u001b[0;32m    134\u001b[0m     \u001b[1;32mif\u001b[0m \u001b[0mfmt\u001b[0m \u001b[1;33m==\u001b[0m \u001b[1;34m'svg'\u001b[0m\u001b[1;33m:\u001b[0m\u001b[1;33m\u001b[0m\u001b[1;33m\u001b[0m\u001b[0m\n",
      "\u001b[1;32m~\\anaconda3\\lib\\site-packages\\matplotlib\\backend_bases.py\u001b[0m in \u001b[0;36mprint_figure\u001b[1;34m(self, filename, dpi, facecolor, edgecolor, orientation, format, bbox_inches, pad_inches, bbox_extra_artists, backend, **kwargs)\u001b[0m\n\u001b[0;32m   2208\u001b[0m \u001b[1;33m\u001b[0m\u001b[0m\n\u001b[0;32m   2209\u001b[0m             \u001b[1;32mtry\u001b[0m\u001b[1;33m:\u001b[0m\u001b[1;33m\u001b[0m\u001b[1;33m\u001b[0m\u001b[0m\n\u001b[1;32m-> 2210\u001b[1;33m                 result = print_method(\n\u001b[0m\u001b[0;32m   2211\u001b[0m                     \u001b[0mfilename\u001b[0m\u001b[1;33m,\u001b[0m\u001b[1;33m\u001b[0m\u001b[1;33m\u001b[0m\u001b[0m\n\u001b[0;32m   2212\u001b[0m                     \u001b[0mdpi\u001b[0m\u001b[1;33m=\u001b[0m\u001b[0mdpi\u001b[0m\u001b[1;33m,\u001b[0m\u001b[1;33m\u001b[0m\u001b[1;33m\u001b[0m\u001b[0m\n",
      "\u001b[1;32m~\\anaconda3\\lib\\site-packages\\matplotlib\\backend_bases.py\u001b[0m in \u001b[0;36mwrapper\u001b[1;34m(*args, **kwargs)\u001b[0m\n\u001b[0;32m   1637\u001b[0m             \u001b[0mkwargs\u001b[0m\u001b[1;33m.\u001b[0m\u001b[0mpop\u001b[0m\u001b[1;33m(\u001b[0m\u001b[0marg\u001b[0m\u001b[1;33m)\u001b[0m\u001b[1;33m\u001b[0m\u001b[1;33m\u001b[0m\u001b[0m\n\u001b[0;32m   1638\u001b[0m \u001b[1;33m\u001b[0m\u001b[0m\n\u001b[1;32m-> 1639\u001b[1;33m         \u001b[1;32mreturn\u001b[0m \u001b[0mfunc\u001b[0m\u001b[1;33m(\u001b[0m\u001b[1;33m*\u001b[0m\u001b[0margs\u001b[0m\u001b[1;33m,\u001b[0m \u001b[1;33m**\u001b[0m\u001b[0mkwargs\u001b[0m\u001b[1;33m)\u001b[0m\u001b[1;33m\u001b[0m\u001b[1;33m\u001b[0m\u001b[0m\n\u001b[0m\u001b[0;32m   1640\u001b[0m \u001b[1;33m\u001b[0m\u001b[0m\n\u001b[0;32m   1641\u001b[0m     \u001b[1;32mreturn\u001b[0m \u001b[0mwrapper\u001b[0m\u001b[1;33m\u001b[0m\u001b[1;33m\u001b[0m\u001b[0m\n",
      "\u001b[1;32m~\\anaconda3\\lib\\site-packages\\matplotlib\\backends\\backend_agg.py\u001b[0m in \u001b[0;36mprint_png\u001b[1;34m(self, filename_or_obj, metadata, pil_kwargs, *args)\u001b[0m\n\u001b[0;32m    507\u001b[0m             \u001b[1;33m*\u001b[0m\u001b[0mmetadata\u001b[0m\u001b[1;33m*\u001b[0m\u001b[1;33m,\u001b[0m \u001b[0mincluding\u001b[0m \u001b[0mthe\u001b[0m \u001b[0mdefault\u001b[0m \u001b[1;34m'Software'\u001b[0m \u001b[0mkey\u001b[0m\u001b[1;33m.\u001b[0m\u001b[1;33m\u001b[0m\u001b[1;33m\u001b[0m\u001b[0m\n\u001b[0;32m    508\u001b[0m         \"\"\"\n\u001b[1;32m--> 509\u001b[1;33m         \u001b[0mFigureCanvasAgg\u001b[0m\u001b[1;33m.\u001b[0m\u001b[0mdraw\u001b[0m\u001b[1;33m(\u001b[0m\u001b[0mself\u001b[0m\u001b[1;33m)\u001b[0m\u001b[1;33m\u001b[0m\u001b[1;33m\u001b[0m\u001b[0m\n\u001b[0m\u001b[0;32m    510\u001b[0m         mpl.image.imsave(\n\u001b[0;32m    511\u001b[0m             \u001b[0mfilename_or_obj\u001b[0m\u001b[1;33m,\u001b[0m \u001b[0mself\u001b[0m\u001b[1;33m.\u001b[0m\u001b[0mbuffer_rgba\u001b[0m\u001b[1;33m(\u001b[0m\u001b[1;33m)\u001b[0m\u001b[1;33m,\u001b[0m \u001b[0mformat\u001b[0m\u001b[1;33m=\u001b[0m\u001b[1;34m\"png\"\u001b[0m\u001b[1;33m,\u001b[0m \u001b[0morigin\u001b[0m\u001b[1;33m=\u001b[0m\u001b[1;34m\"upper\"\u001b[0m\u001b[1;33m,\u001b[0m\u001b[1;33m\u001b[0m\u001b[1;33m\u001b[0m\u001b[0m\n",
      "\u001b[1;32m~\\anaconda3\\lib\\site-packages\\matplotlib\\backends\\backend_agg.py\u001b[0m in \u001b[0;36mdraw\u001b[1;34m(self)\u001b[0m\n\u001b[0;32m    400\u001b[0m     \u001b[1;32mdef\u001b[0m \u001b[0mdraw\u001b[0m\u001b[1;33m(\u001b[0m\u001b[0mself\u001b[0m\u001b[1;33m)\u001b[0m\u001b[1;33m:\u001b[0m\u001b[1;33m\u001b[0m\u001b[1;33m\u001b[0m\u001b[0m\n\u001b[0;32m    401\u001b[0m         \u001b[1;31m# docstring inherited\u001b[0m\u001b[1;33m\u001b[0m\u001b[1;33m\u001b[0m\u001b[1;33m\u001b[0m\u001b[0m\n\u001b[1;32m--> 402\u001b[1;33m         \u001b[0mself\u001b[0m\u001b[1;33m.\u001b[0m\u001b[0mrenderer\u001b[0m \u001b[1;33m=\u001b[0m \u001b[0mself\u001b[0m\u001b[1;33m.\u001b[0m\u001b[0mget_renderer\u001b[0m\u001b[1;33m(\u001b[0m\u001b[0mcleared\u001b[0m\u001b[1;33m=\u001b[0m\u001b[1;32mTrue\u001b[0m\u001b[1;33m)\u001b[0m\u001b[1;33m\u001b[0m\u001b[1;33m\u001b[0m\u001b[0m\n\u001b[0m\u001b[0;32m    403\u001b[0m         \u001b[1;31m# Acquire a lock on the shared font cache.\u001b[0m\u001b[1;33m\u001b[0m\u001b[1;33m\u001b[0m\u001b[1;33m\u001b[0m\u001b[0m\n\u001b[0;32m    404\u001b[0m         \u001b[1;32mwith\u001b[0m \u001b[0mRendererAgg\u001b[0m\u001b[1;33m.\u001b[0m\u001b[0mlock\u001b[0m\u001b[1;33m,\u001b[0m\u001b[0;31m \u001b[0m\u001b[0;31m\\\u001b[0m\u001b[1;33m\u001b[0m\u001b[1;33m\u001b[0m\u001b[0m\n",
      "\u001b[1;32m~\\anaconda3\\lib\\site-packages\\matplotlib\\backends\\backend_agg.py\u001b[0m in \u001b[0;36mget_renderer\u001b[1;34m(self, cleared)\u001b[0m\n\u001b[0;32m    416\u001b[0m                           and getattr(self, \"_lastKey\", None) == key)\n\u001b[0;32m    417\u001b[0m         \u001b[1;32mif\u001b[0m \u001b[1;32mnot\u001b[0m \u001b[0mreuse_renderer\u001b[0m\u001b[1;33m:\u001b[0m\u001b[1;33m\u001b[0m\u001b[1;33m\u001b[0m\u001b[0m\n\u001b[1;32m--> 418\u001b[1;33m             \u001b[0mself\u001b[0m\u001b[1;33m.\u001b[0m\u001b[0mrenderer\u001b[0m \u001b[1;33m=\u001b[0m \u001b[0mRendererAgg\u001b[0m\u001b[1;33m(\u001b[0m\u001b[0mw\u001b[0m\u001b[1;33m,\u001b[0m \u001b[0mh\u001b[0m\u001b[1;33m,\u001b[0m \u001b[0mself\u001b[0m\u001b[1;33m.\u001b[0m\u001b[0mfigure\u001b[0m\u001b[1;33m.\u001b[0m\u001b[0mdpi\u001b[0m\u001b[1;33m)\u001b[0m\u001b[1;33m\u001b[0m\u001b[1;33m\u001b[0m\u001b[0m\n\u001b[0m\u001b[0;32m    419\u001b[0m             \u001b[0mself\u001b[0m\u001b[1;33m.\u001b[0m\u001b[0m_lastKey\u001b[0m \u001b[1;33m=\u001b[0m \u001b[0mkey\u001b[0m\u001b[1;33m\u001b[0m\u001b[1;33m\u001b[0m\u001b[0m\n\u001b[0;32m    420\u001b[0m         \u001b[1;32melif\u001b[0m \u001b[0mcleared\u001b[0m\u001b[1;33m:\u001b[0m\u001b[1;33m\u001b[0m\u001b[1;33m\u001b[0m\u001b[0m\n",
      "\u001b[1;32m~\\anaconda3\\lib\\site-packages\\matplotlib\\backends\\backend_agg.py\u001b[0m in \u001b[0;36m__init__\u001b[1;34m(self, width, height, dpi)\u001b[0m\n\u001b[0;32m     94\u001b[0m         \u001b[0mself\u001b[0m\u001b[1;33m.\u001b[0m\u001b[0mwidth\u001b[0m \u001b[1;33m=\u001b[0m \u001b[0mwidth\u001b[0m\u001b[1;33m\u001b[0m\u001b[1;33m\u001b[0m\u001b[0m\n\u001b[0;32m     95\u001b[0m         \u001b[0mself\u001b[0m\u001b[1;33m.\u001b[0m\u001b[0mheight\u001b[0m \u001b[1;33m=\u001b[0m \u001b[0mheight\u001b[0m\u001b[1;33m\u001b[0m\u001b[1;33m\u001b[0m\u001b[0m\n\u001b[1;32m---> 96\u001b[1;33m         \u001b[0mself\u001b[0m\u001b[1;33m.\u001b[0m\u001b[0m_renderer\u001b[0m \u001b[1;33m=\u001b[0m \u001b[0m_RendererAgg\u001b[0m\u001b[1;33m(\u001b[0m\u001b[0mint\u001b[0m\u001b[1;33m(\u001b[0m\u001b[0mwidth\u001b[0m\u001b[1;33m)\u001b[0m\u001b[1;33m,\u001b[0m \u001b[0mint\u001b[0m\u001b[1;33m(\u001b[0m\u001b[0mheight\u001b[0m\u001b[1;33m)\u001b[0m\u001b[1;33m,\u001b[0m \u001b[0mdpi\u001b[0m\u001b[1;33m)\u001b[0m\u001b[1;33m\u001b[0m\u001b[1;33m\u001b[0m\u001b[0m\n\u001b[0m\u001b[0;32m     97\u001b[0m         \u001b[0mself\u001b[0m\u001b[1;33m.\u001b[0m\u001b[0m_filter_renderers\u001b[0m \u001b[1;33m=\u001b[0m \u001b[1;33m[\u001b[0m\u001b[1;33m]\u001b[0m\u001b[1;33m\u001b[0m\u001b[1;33m\u001b[0m\u001b[0m\n\u001b[0;32m     98\u001b[0m \u001b[1;33m\u001b[0m\u001b[0m\n",
      "\u001b[1;31mValueError\u001b[0m: Image size of 394x1108477 pixels is too large. It must be less than 2^16 in each direction."
     ]
    },
    {
     "data": {
      "text/plain": [
       "<Figure size 432x288 with 1 Axes>"
      ]
     },
     "metadata": {
      "needs_background": "light"
     },
     "output_type": "display_data"
    }
   ],
   "source": [
    "fig2 = plt.figure()\n",
    "a2 = fig2.add_subplot(1,1,1)\n",
    "a2.plot(y_test_inv, marker='.', label='true')\n",
    "a2.legend();"
   ]
  },
  {
   "cell_type": "code",
   "execution_count": 16,
   "metadata": {},
   "outputs": [
    {
     "data": {
      "image/png": "[encoded data removed]",
      "text/plain": [
       "<Figure size 432x288 with 1 Axes>"
      ]
     },
     "metadata": {
      "needs_background": "light"
     },
     "output_type": "display_data"
    }
   ],
   "source": [
    "fig3 = plt.figure()\n",
    "a3 = fig3.add_subplot(1,1,1)\n",
    "a3.plot(y_pred_inv.flatten(),'r',marker='.', label='predicted')\n",
    "a3.legend();\n"
   ]
  },
  {
   "cell_type": "code",
   "execution_count": 17,
   "metadata": {
    "scrolled": true
   },
   "outputs": [
    {
     "data": {
      "image/png": "[encoded data removed]",
      "text/plain": [
       "<Figure size 432x288 with 1 Axes>"
      ]
     },
     "metadata": {
      "needs_background": "light"
     },
     "output_type": "display_data"
    }
   ],
   "source": [
    "fig4 = plt.figure()\n",
    "a4 = fig4.add_subplot(1,1,1)\n",
    "a4.plot(y_pred_inv.flatten(),'r',marker='.', label='predicted')\n",
    "a4.plot(y_test_inv.flatten(), marker='.', label='true')\n",
    "a4.legend();"
   ]
  },
  {
   "cell_type": "code",
   "execution_count": 18,
   "metadata": {},
   "outputs": [
    {
     "data": {
      "text/plain": [
       "(73897, 1)"
      ]
     },
     "execution_count": 18,
     "metadata": {},
     "output_type": "execute_result"
    }
   ],
   "source": [
    "y_pred_inv.shape"
   ]
  },
  {
   "cell_type": "code",
   "execution_count": 19,
   "metadata": {},
   "outputs": [
    {
     "name": "stdout",
     "output_type": "stream",
     "text": [
      "progress  100.0 %\n"
     ]
    }
   ],
   "source": [
    "l1 = []\n",
    "l2 = []\n",
    "for i in np.arange(y_pred_inv.shape[0]):\n",
    "    clear_output(wait=True)\n",
    "    print('progress ',round((i/y_pred_inv.shape[0])*100,2), ('%'))\n",
    "    if(y_pred_inv[i,0]<=350000):\n",
    "        l1.append(y_pred_inv[i,0])\n",
    "    if(y_test_inv[0,i]<=350000):\n",
    "        l2.append(y_test_inv[0,i])\n",
    "\n",
    "y_pred_inv2 = np.array(l1)\n",
    "y_test_inv2 = np.array(l2)"
   ]
  },
  {
   "cell_type": "code",
   "execution_count": 20,
   "metadata": {
    "scrolled": true
   },
   "outputs": [
    {
     "data": {
      "image/png": "[encoded data removed]",
      "text/plain": [
       "<Figure size 432x288 with 1 Axes>"
      ]
     },
     "metadata": {
      "needs_background": "light"
     },
     "output_type": "display_data"
    }
   ],
   "source": [
    "\n",
    "\n",
    "\n",
    "plt.plot(y_pred_inv2.flatten(),'r',marker='.', label='predicted')\n",
    "plt.plot(y_test_inv2.flatten(), marker='.', label='true')\n",
    "plt.legend();"
   ]
  },
  {
   "cell_type": "code",
   "execution_count": 21,
   "metadata": {},
   "outputs": [
    {
     "data": {
      "text/plain": [
       "array([52.59361 , 52.670933, 52.82498 , ..., 48.09758 , 48.068893,\n",
       "       48.09758 ], dtype=float32)"
      ]
     },
     "execution_count": 21,
     "metadata": {},
     "output_type": "execute_result"
    }
   ],
   "source": [
    "y_pred_inv2"
   ]
  },
  {
   "cell_type": "code",
   "execution_count": 22,
   "metadata": {},
   "outputs": [],
   "source": [
    "from sklearn.metrics import mean_squared_error\n",
    "from sklearn.metrics import median_absolute_error\n",
    "from sklearn.metrics import mean_absolute_error\n",
    "from sklearn.metrics import mean_squared_log_error\n"
   ]
  },
  {
   "cell_type": "code",
   "execution_count": 23,
   "metadata": {},
   "outputs": [
    {
     "name": "stdout",
     "output_type": "stream",
     "text": [
      "15130.880225353534\n",
      "1770.0267547094882\n",
      "31.412939573154418\n"
     ]
    }
   ],
   "source": [
    "rmse =  mean_squared_error(y_test_inv2, y_pred_inv2[0:73797], squared=False)\n",
    "mae =  mean_absolute_error(y_test_inv2, y_pred_inv2[0:73797])\n",
    "median_mae = median_absolute_error(y_test_inv2, y_pred_inv2[0:73797])\n",
    "msle = mean_squared_log_error(y_test_inv2, y_pred_inv2[0:73797])\n",
    "\n",
    "print(rmse)\n",
    "print(mae)\n",
    "print(median_mae)\n"
   ]
  },
  {
   "cell_type": "code",
   "execution_count": 24,
   "metadata": {},
   "outputs": [
    {
     "data": {
      "image/png": "[encoded data removed]",
      "text/plain": [
       "<Figure size 432x288 with 1 Axes>"
      ]
     },
     "metadata": {
      "needs_background": "light"
     },
     "output_type": "display_data"
    }
   ],
   "source": [
    "objects = ('rmse', 'mae', 'median-mae')\n",
    "y_pos = np.arange(3)\n",
    "performance = [rmse,mae,median_mae]\n",
    "\n",
    "plt.bar(y_pos, performance, align='center')\n",
    "plt.xticks(y_pos, objects)\n",
    "#plt.ylabel('Usage')\n",
    "plt.title('Métricas regressão')\n",
    "\n",
    "plt.show()"
   ]
  },
  {
   "cell_type": "code",
   "execution_count": 25,
   "metadata": {},
   "outputs": [
    {
     "ename": "ValueError",
     "evalue": "The number of FixedLocator locations (2), usually from a call to set_ticks, does not match the number of ticklabels (4).",
     "output_type": "error",
     "traceback": [
      "\u001b[1;31m---------------------------------------------------------------------------\u001b[0m",
      "\u001b[1;31mValueError\u001b[0m                                Traceback (most recent call last)",
      "\u001b[1;32m<ipython-input-25-8a787a9e338e>\u001b[0m in \u001b[0;36m<module>\u001b[1;34m\u001b[0m\n\u001b[0;32m      4\u001b[0m \u001b[1;33m\u001b[0m\u001b[0m\n\u001b[0;32m      5\u001b[0m \u001b[0mplt\u001b[0m\u001b[1;33m.\u001b[0m\u001b[0mbar\u001b[0m\u001b[1;33m(\u001b[0m\u001b[0my_pos\u001b[0m\u001b[1;33m,\u001b[0m \u001b[0mperformance\u001b[0m\u001b[1;33m,\u001b[0m \u001b[0malign\u001b[0m\u001b[1;33m=\u001b[0m\u001b[1;34m'center'\u001b[0m\u001b[1;33m,\u001b[0m \u001b[0malpha\u001b[0m\u001b[1;33m=\u001b[0m\u001b[1;36m0.5\u001b[0m\u001b[1;33m)\u001b[0m\u001b[1;33m\u001b[0m\u001b[1;33m\u001b[0m\u001b[0m\n\u001b[1;32m----> 6\u001b[1;33m \u001b[0mplt\u001b[0m\u001b[1;33m.\u001b[0m\u001b[0mxticks\u001b[0m\u001b[1;33m(\u001b[0m\u001b[0my_pos\u001b[0m\u001b[1;33m,\u001b[0m \u001b[0mobjects\u001b[0m\u001b[1;33m)\u001b[0m\u001b[1;33m\u001b[0m\u001b[1;33m\u001b[0m\u001b[0m\n\u001b[0m\u001b[0;32m      7\u001b[0m \u001b[1;31m#plt.ylabel('Usage')\u001b[0m\u001b[1;33m\u001b[0m\u001b[1;33m\u001b[0m\u001b[1;33m\u001b[0m\u001b[0m\n\u001b[0;32m      8\u001b[0m \u001b[0mplt\u001b[0m\u001b[1;33m.\u001b[0m\u001b[0mtitle\u001b[0m\u001b[1;33m(\u001b[0m\u001b[1;34m'Métricas regressão'\u001b[0m\u001b[1;33m)\u001b[0m\u001b[1;33m\u001b[0m\u001b[1;33m\u001b[0m\u001b[0m\n",
      "\u001b[1;32m~\\anaconda3\\lib\\site-packages\\matplotlib\\pyplot.py\u001b[0m in \u001b[0;36mxticks\u001b[1;34m(ticks, labels, **kwargs)\u001b[0m\n\u001b[0;32m   1657\u001b[0m         \u001b[0mlabels\u001b[0m \u001b[1;33m=\u001b[0m \u001b[0max\u001b[0m\u001b[1;33m.\u001b[0m\u001b[0mget_xticklabels\u001b[0m\u001b[1;33m(\u001b[0m\u001b[1;33m)\u001b[0m\u001b[1;33m\u001b[0m\u001b[1;33m\u001b[0m\u001b[0m\n\u001b[0;32m   1658\u001b[0m     \u001b[1;32melse\u001b[0m\u001b[1;33m:\u001b[0m\u001b[1;33m\u001b[0m\u001b[1;33m\u001b[0m\u001b[0m\n\u001b[1;32m-> 1659\u001b[1;33m         \u001b[0mlabels\u001b[0m \u001b[1;33m=\u001b[0m \u001b[0max\u001b[0m\u001b[1;33m.\u001b[0m\u001b[0mset_xticklabels\u001b[0m\u001b[1;33m(\u001b[0m\u001b[0mlabels\u001b[0m\u001b[1;33m,\u001b[0m \u001b[1;33m**\u001b[0m\u001b[0mkwargs\u001b[0m\u001b[1;33m)\u001b[0m\u001b[1;33m\u001b[0m\u001b[1;33m\u001b[0m\u001b[0m\n\u001b[0m\u001b[0;32m   1660\u001b[0m     \u001b[1;32mfor\u001b[0m \u001b[0ml\u001b[0m \u001b[1;32min\u001b[0m \u001b[0mlabels\u001b[0m\u001b[1;33m:\u001b[0m\u001b[1;33m\u001b[0m\u001b[1;33m\u001b[0m\u001b[0m\n\u001b[0;32m   1661\u001b[0m         \u001b[0ml\u001b[0m\u001b[1;33m.\u001b[0m\u001b[0mupdate\u001b[0m\u001b[1;33m(\u001b[0m\u001b[0mkwargs\u001b[0m\u001b[1;33m)\u001b[0m\u001b[1;33m\u001b[0m\u001b[1;33m\u001b[0m\u001b[0m\n",
      "\u001b[1;32m~\\anaconda3\\lib\\site-packages\\matplotlib\\axes\\_base.py\u001b[0m in \u001b[0;36mwrapper\u001b[1;34m(self, *args, **kwargs)\u001b[0m\n\u001b[0;32m     61\u001b[0m \u001b[1;33m\u001b[0m\u001b[0m\n\u001b[0;32m     62\u001b[0m         \u001b[1;32mdef\u001b[0m \u001b[0mwrapper\u001b[0m\u001b[1;33m(\u001b[0m\u001b[0mself\u001b[0m\u001b[1;33m,\u001b[0m \u001b[1;33m*\u001b[0m\u001b[0margs\u001b[0m\u001b[1;33m,\u001b[0m \u001b[1;33m**\u001b[0m\u001b[0mkwargs\u001b[0m\u001b[1;33m)\u001b[0m\u001b[1;33m:\u001b[0m\u001b[1;33m\u001b[0m\u001b[1;33m\u001b[0m\u001b[0m\n\u001b[1;32m---> 63\u001b[1;33m             \u001b[1;32mreturn\u001b[0m \u001b[0mget_method\u001b[0m\u001b[1;33m(\u001b[0m\u001b[0mself\u001b[0m\u001b[1;33m)\u001b[0m\u001b[1;33m(\u001b[0m\u001b[1;33m*\u001b[0m\u001b[0margs\u001b[0m\u001b[1;33m,\u001b[0m \u001b[1;33m**\u001b[0m\u001b[0mkwargs\u001b[0m\u001b[1;33m)\u001b[0m\u001b[1;33m\u001b[0m\u001b[1;33m\u001b[0m\u001b[0m\n\u001b[0m\u001b[0;32m     64\u001b[0m \u001b[1;33m\u001b[0m\u001b[0m\n\u001b[0;32m     65\u001b[0m         \u001b[0mwrapper\u001b[0m\u001b[1;33m.\u001b[0m\u001b[0m__module__\u001b[0m \u001b[1;33m=\u001b[0m \u001b[0mowner\u001b[0m\u001b[1;33m.\u001b[0m\u001b[0m__module__\u001b[0m\u001b[1;33m\u001b[0m\u001b[1;33m\u001b[0m\u001b[0m\n",
      "\u001b[1;32m~\\anaconda3\\lib\\site-packages\\matplotlib\\cbook\\deprecation.py\u001b[0m in \u001b[0;36mwrapper\u001b[1;34m(*args, **kwargs)\u001b[0m\n\u001b[0;32m    449\u001b[0m                 \u001b[1;34m\"parameter will become keyword-only %(removal)s.\"\u001b[0m\u001b[1;33m,\u001b[0m\u001b[1;33m\u001b[0m\u001b[1;33m\u001b[0m\u001b[0m\n\u001b[0;32m    450\u001b[0m                 name=name, obj_type=f\"parameter of {func.__name__}()\")\n\u001b[1;32m--> 451\u001b[1;33m         \u001b[1;32mreturn\u001b[0m \u001b[0mfunc\u001b[0m\u001b[1;33m(\u001b[0m\u001b[1;33m*\u001b[0m\u001b[0margs\u001b[0m\u001b[1;33m,\u001b[0m \u001b[1;33m**\u001b[0m\u001b[0mkwargs\u001b[0m\u001b[1;33m)\u001b[0m\u001b[1;33m\u001b[0m\u001b[1;33m\u001b[0m\u001b[0m\n\u001b[0m\u001b[0;32m    452\u001b[0m \u001b[1;33m\u001b[0m\u001b[0m\n\u001b[0;32m    453\u001b[0m     \u001b[1;32mreturn\u001b[0m \u001b[0mwrapper\u001b[0m\u001b[1;33m\u001b[0m\u001b[1;33m\u001b[0m\u001b[0m\n",
      "\u001b[1;32m~\\anaconda3\\lib\\site-packages\\matplotlib\\axis.py\u001b[0m in \u001b[0;36m_set_ticklabels\u001b[1;34m(self, labels, fontdict, minor, **kwargs)\u001b[0m\n\u001b[0;32m   1791\u001b[0m         \u001b[1;32mif\u001b[0m \u001b[0mfontdict\u001b[0m \u001b[1;32mis\u001b[0m \u001b[1;32mnot\u001b[0m \u001b[1;32mNone\u001b[0m\u001b[1;33m:\u001b[0m\u001b[1;33m\u001b[0m\u001b[1;33m\u001b[0m\u001b[0m\n\u001b[0;32m   1792\u001b[0m             \u001b[0mkwargs\u001b[0m\u001b[1;33m.\u001b[0m\u001b[0mupdate\u001b[0m\u001b[1;33m(\u001b[0m\u001b[0mfontdict\u001b[0m\u001b[1;33m)\u001b[0m\u001b[1;33m\u001b[0m\u001b[1;33m\u001b[0m\u001b[0m\n\u001b[1;32m-> 1793\u001b[1;33m         \u001b[1;32mreturn\u001b[0m \u001b[0mself\u001b[0m\u001b[1;33m.\u001b[0m\u001b[0mset_ticklabels\u001b[0m\u001b[1;33m(\u001b[0m\u001b[0mlabels\u001b[0m\u001b[1;33m,\u001b[0m \u001b[0mminor\u001b[0m\u001b[1;33m=\u001b[0m\u001b[0mminor\u001b[0m\u001b[1;33m,\u001b[0m \u001b[1;33m**\u001b[0m\u001b[0mkwargs\u001b[0m\u001b[1;33m)\u001b[0m\u001b[1;33m\u001b[0m\u001b[1;33m\u001b[0m\u001b[0m\n\u001b[0m\u001b[0;32m   1794\u001b[0m \u001b[1;33m\u001b[0m\u001b[0m\n\u001b[0;32m   1795\u001b[0m     \u001b[1;33m@\u001b[0m\u001b[0mcbook\u001b[0m\u001b[1;33m.\u001b[0m\u001b[0m_make_keyword_only\u001b[0m\u001b[1;33m(\u001b[0m\u001b[1;34m\"3.2\"\u001b[0m\u001b[1;33m,\u001b[0m \u001b[1;34m\"minor\"\u001b[0m\u001b[1;33m)\u001b[0m\u001b[1;33m\u001b[0m\u001b[1;33m\u001b[0m\u001b[0m\n",
      "\u001b[1;32m~\\anaconda3\\lib\\site-packages\\matplotlib\\axis.py\u001b[0m in \u001b[0;36mset_ticklabels\u001b[1;34m(self, ticklabels, minor, **kwargs)\u001b[0m\n\u001b[0;32m   1712\u001b[0m             \u001b[1;31m# remove all tick labels, so only error for > 0 ticklabels\u001b[0m\u001b[1;33m\u001b[0m\u001b[1;33m\u001b[0m\u001b[1;33m\u001b[0m\u001b[0m\n\u001b[0;32m   1713\u001b[0m             \u001b[1;32mif\u001b[0m \u001b[0mlen\u001b[0m\u001b[1;33m(\u001b[0m\u001b[0mlocator\u001b[0m\u001b[1;33m.\u001b[0m\u001b[0mlocs\u001b[0m\u001b[1;33m)\u001b[0m \u001b[1;33m!=\u001b[0m \u001b[0mlen\u001b[0m\u001b[1;33m(\u001b[0m\u001b[0mticklabels\u001b[0m\u001b[1;33m)\u001b[0m \u001b[1;32mand\u001b[0m \u001b[0mlen\u001b[0m\u001b[1;33m(\u001b[0m\u001b[0mticklabels\u001b[0m\u001b[1;33m)\u001b[0m \u001b[1;33m!=\u001b[0m \u001b[1;36m0\u001b[0m\u001b[1;33m:\u001b[0m\u001b[1;33m\u001b[0m\u001b[1;33m\u001b[0m\u001b[0m\n\u001b[1;32m-> 1714\u001b[1;33m                 raise ValueError(\n\u001b[0m\u001b[0;32m   1715\u001b[0m                     \u001b[1;34m\"The number of FixedLocator locations\"\u001b[0m\u001b[1;33m\u001b[0m\u001b[1;33m\u001b[0m\u001b[0m\n\u001b[0;32m   1716\u001b[0m                     \u001b[1;34mf\" ({len(locator.locs)}), usually from a call to\"\u001b[0m\u001b[1;33m\u001b[0m\u001b[1;33m\u001b[0m\u001b[0m\n",
      "\u001b[1;31mValueError\u001b[0m: The number of FixedLocator locations (2), usually from a call to set_ticks, does not match the number of ticklabels (4)."
     ]
    },
    {
     "data": {
      "image/png": "[encoded data removed]",
      "text/plain": [
       "<Figure size 432x288 with 1 Axes>"
      ]
     },
     "metadata": {
      "needs_background": "light"
     },
     "output_type": "display_data"
    }
   ],
   "source": [
    "objects = ('msle')\n",
    "y_pos = np.arange(2)\n",
    "performance = [msle]\n",
    "\n",
    "plt.bar(y_pos, performance, align='center', alpha=0.5)\n",
    "plt.xticks(y_pos, objects)\n",
    "#plt.ylabel('Usage')\n",
    "plt.title('Métricas regressão')\n",
    "\n",
    "plt.show()"
   ]
  },
  {
   "cell_type": "code",
   "execution_count": null,
   "metadata": {},
   "outputs": [],
   "source": [
    "from sklearn.metrics import explained_variance_score"
   ]
  },
  {
   "cell_type": "code",
   "execution_count": null,
   "metadata": {},
   "outputs": [],
   "source": [
    "explained_variance_score(y_test_inv2[0:size], y_pred_inv2[0:size])"
   ]
  }
 ],
 "metadata": {
  "kernelspec": {
   "display_name": "Python 3",
   "language": "python",
   "name": "python3"
  },
  "language_info": {
   "codemirror_mode": {
    "name": "ipython",
    "version": 3
   },
   "file_extension": ".py",
   "mimetype": "text/x-python",
   "name": "python",
   "nbconvert_exporter": "python",
   "pygments_lexer": "ipython3",
   "version": "3.8.5"
  }
 },
 "nbformat": 4,
 "nbformat_minor": 4
}
