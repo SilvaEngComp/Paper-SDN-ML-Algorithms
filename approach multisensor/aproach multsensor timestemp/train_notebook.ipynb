{
 "cells": [
  {
   "cell_type": "code",
   "execution_count": 1,
   "metadata": {},
   "outputs": [],
   "source": [
    "import os\n",
    "import tensorflow as tf\n",
    "from tensorflow import keras\n",
    "\n",
    "import pandas as pd\n",
    "import numpy as np\n",
    "import matplotlib.pyplot as plt\n",
    "from sklearn.preprocessing import StandardScaler\n",
    "from sklearn.metrics import mean_squared_error\n",
    "from timeit import default_timer as timer\n",
    "from IPython.display import clear_output"
   ]
  },
  {
   "cell_type": "code",
   "execution_count": 2,
   "metadata": {},
   "outputs": [],
   "source": [
    "\n",
    "os.environ[\"TF_CPP_MIN_LOG_LEVEL\"] = \"2\""
   ]
  },
  {
   "cell_type": "code",
   "execution_count": 3,
   "metadata": {},
   "outputs": [],
   "source": [
    "def create_dataset(X, y, time_steps=1):\n",
    "    Xs, ys = [], []    \n",
    "    for i in range(len(X) - time_steps):\n",
    "        clear_output(wait=True)\n",
    "        print('modeling to keras ',round((i/(len(X) - time_steps))*100,2), ('%'), end='')\n",
    "        print(' ', round(timer() - start), ' seconds')\n",
    "        v = X.iloc[i: (i+time_steps), 2:4].to_numpy()\n",
    "        Xs.append(v)\n",
    "        ys.append(y.iloc[i+time_steps])\n",
    "    return np.array(Xs), np.array(ys)"
   ]
  },
  {
   "cell_type": "code",
   "execution_count": 4,
   "metadata": {},
   "outputs": [
    {
     "name": "stdout",
     "output_type": "stream",
     "text": [
      "loading dataset...\n",
      "load duration:  0\n"
     ]
    }
   ],
   "source": [
    "start = timer()\n",
    "#carregando datasets\n",
    "print('loading dataset...')\n",
    "train = pd.read_csv('../datasets/com_concept_drift/sdn_train_unormalized.csv')\n",
    "test = pd.read_csv('../datasets/com_concept_drift/sdn_test_unormalized.csv')\n",
    "\n",
    "train = train[train.delay>=0]\n",
    "test = test[test.delay>=0]\n",
    "print('load duration: ', round(timer() - start))"
   ]
  },
  {
   "cell_type": "code",
   "execution_count": 5,
   "metadata": {},
   "outputs": [
    {
     "name": "stdout",
     "output_type": "stream",
     "text": [
      "modeling to keras  99.4 %  638  seconds\n"
     ]
    }
   ],
   "source": [
    "start = timer()\n",
    "print('creating window')\n",
    "TIME_STEPS = 1\n",
    "X_train,Y_train = create_dataset(train, train.delay, time_steps=TIME_STEPS)\n",
    "X_test,Y_test = create_dataset(test, test.delay, time_steps=TIME_STEPS)\n",
    "\n",
    "print('2D to 3D duration: ', round(timer() - start))"
   ]
  },
  {
   "cell_type": "markdown",
   "metadata": {},
   "source": [
    "# setting LSTM"
   ]
  },
  {
   "cell_type": "code",
   "execution_count": 6,
   "metadata": {},
   "outputs": [],
   "source": [
    "print('Init config LSTM')\n",
    "model = keras.Sequential()\n",
    "model.add(\n",
    "    keras.layers.Bidirectional(\n",
    "        keras.layers.LSTM(\n",
    "            units=40,\n",
    "            input_shape=(X_train.shape[1],X_train.shape[2])\n",
    "        )\n",
    "    ))\n",
    "model.add(keras.layers.Dense(units=40))\n",
    "model.add(keras.layers.Dense(units=40))\n",
    "model.add(keras.layers.Dense(units=40))\n",
    "model.add(keras.layers.Dense(units=40))\n",
    "model.add(keras.layers.Dropout(rate=0.2))\n",
    "model.add(keras.layers.Dense(units=1))"
   ]
  },
  {
   "cell_type": "markdown",
   "metadata": {},
   "source": [
    "# compiling"
   ]
  },
  {
   "cell_type": "code",
   "execution_count": 7,
   "metadata": {},
   "outputs": [],
   "source": [
    "loss =\"mse\"\n",
    "optim = tf.keras.optimizers.Adam(\n",
    "    learning_rate=0.0001)\n",
    "metrics=[\"accuracy\"]\n",
    "\n",
    "model.compile(loss=loss, optimizer=optim, \n",
    "             metrics=metrics\n",
    "             )"
   ]
  },
  {
   "cell_type": "markdown",
   "metadata": {},
   "source": [
    "# training "
   ]
  },
  {
   "cell_type": "code",
   "execution_count": null,
   "metadata": {},
   "outputs": [
    {
     "name": "stdout",
     "output_type": "stream",
     "text": [
      "Init Train\n",
      "Epoch 1/100\n",
      "4997/4997 [==============================] - 26s 5ms/step - loss: 2189.8638 - accuracy: 0.8077 - val_loss: 1.0486 - val_accuracy: 0.2574\n",
      "Epoch 2/100\n",
      "4997/4997 [==============================] - 24s 5ms/step - loss: 2440.0676 - accuracy: 0.8009 - val_loss: 2.0054 - val_accuracy: 1.0000\n",
      "Epoch 3/100\n",
      "4997/4997 [==============================] - 25s 5ms/step - loss: 2246.2544 - accuracy: 0.7909 - val_loss: 3.5046 - val_accuracy: 1.0000\n",
      "Epoch 4/100\n",
      "4997/4997 [==============================] - 25s 5ms/step - loss: 2435.2690 - accuracy: 0.7810 - val_loss: 6.7944 - val_accuracy: 1.0000\n",
      "Epoch 5/100\n",
      "4997/4997 [==============================] - 24s 5ms/step - loss: 2314.9031 - accuracy: 0.7722 - val_loss: 9.2037 - val_accuracy: 1.0000\n",
      "Epoch 6/100\n",
      "4997/4997 [==============================] - 24s 5ms/step - loss: 2399.1304 - accuracy: 0.7573 - val_loss: 14.5477 - val_accuracy: 1.0000\n",
      "Epoch 7/100\n",
      "4997/4997 [==============================] - 24s 5ms/step - loss: 2447.3350 - accuracy: 0.7426 - val_loss: 19.7430 - val_accuracy: 1.0000\n",
      "Epoch 8/100\n",
      "4997/4997 [==============================] - 23s 5ms/step - loss: 2348.2310 - accuracy: 0.7326 - val_loss: 24.6269 - val_accuracy: 1.0000\n",
      "Epoch 9/100\n",
      "4997/4997 [==============================] - 24s 5ms/step - loss: 2313.5417 - accuracy: 0.7185 - val_loss: 33.3344 - val_accuracy: 1.0000\n",
      "Epoch 10/100\n",
      "4997/4997 [==============================] - 24s 5ms/step - loss: 2394.8972 - accuracy: 0.7065 - val_loss: 39.4346 - val_accuracy: 1.0000\n",
      "Epoch 11/100\n",
      "4997/4997 [==============================] - 24s 5ms/step - loss: 2393.8213 - accuracy: 0.6995 - val_loss: 46.7860 - val_accuracy: 1.0000\n",
      "Epoch 12/100\n",
      "4997/4997 [==============================] - 24s 5ms/step - loss: 2301.2341 - accuracy: 0.6891 - val_loss: 54.1264 - val_accuracy: 1.0000\n",
      "Epoch 13/100\n",
      "4997/4997 [==============================] - 24s 5ms/step - loss: 2290.7886 - accuracy: 0.6786 - val_loss: 64.3198 - val_accuracy: 1.0000\n",
      "Epoch 14/100\n",
      "4997/4997 [==============================] - 23s 5ms/step - loss: 2326.9695 - accuracy: 0.6708 - val_loss: 66.7848 - val_accuracy: 1.0000\n",
      "Epoch 15/100\n",
      "4997/4997 [==============================] - 25s 5ms/step - loss: 2383.6196 - accuracy: 0.6624 - val_loss: 73.5146 - val_accuracy: 1.0000\n",
      "Epoch 16/100\n",
      "4997/4997 [==============================] - 25s 5ms/step - loss: 2339.7319 - accuracy: 0.6560 - val_loss: 79.2545 - val_accuracy: 1.0000\n",
      "Epoch 17/100\n",
      "4997/4997 [==============================] - 24s 5ms/step - loss: 2355.6792 - accuracy: 0.6567 - val_loss: 86.2629 - val_accuracy: 1.0000\n",
      "Epoch 18/100\n",
      "4997/4997 [==============================] - 24s 5ms/step - loss: 2322.3462 - accuracy: 0.6538 - val_loss: 92.4494 - val_accuracy: 1.0000\n",
      "Epoch 19/100\n",
      "4997/4997 [==============================] - 24s 5ms/step - loss: 2349.2063 - accuracy: 0.6463 - val_loss: 94.6995 - val_accuracy: 1.0000\n",
      "Epoch 20/100\n",
      "4997/4997 [==============================] - 25s 5ms/step - loss: 2346.1575 - accuracy: 0.6433 - val_loss: 96.3126 - val_accuracy: 1.0000\n",
      "Epoch 21/100\n",
      "3276/4997 [==================>...........] - ETA: 7s - loss: 3560.7983 - accuracy: 0.6244"
     ]
    }
   ],
   "source": [
    "print('Init Train')\n",
    "start = timer()\n",
    "history = model.fit(\n",
    "    X_train, Y_train, \n",
    "    epochs=100, \n",
    "    batch_size= 10,\n",
    "    validation_split=0.1,\n",
    "    shuffle=False,\n",
    "#     callbacks=[tensorboard_callback]\n",
    ")\n",
    "print('trraining duration: ',round(timer() - start))"
   ]
  },
  {
   "cell_type": "markdown",
   "metadata": {},
   "source": [
    "# saving model"
   ]
  },
  {
   "cell_type": "code",
   "execution_count": null,
   "metadata": {},
   "outputs": [],
   "source": [
    "print('Saving Model')\n",
    "model.save('models/lstm')"
   ]
  },
  {
   "cell_type": "markdown",
   "metadata": {},
   "source": [
    "# loss training"
   ]
  },
  {
   "cell_type": "code",
   "execution_count": null,
   "metadata": {},
   "outputs": [],
   "source": [
    "\n",
    "fig1 = plt.figure()\n",
    "ax1 = fig1.add_subplot(1,1,1)\n",
    "ax1.plot(history.history['loss'], label='train')\n",
    "ax1.plot(history.history['val_loss'], label='validation')\n",
    "ax1.legend();"
   ]
  },
  {
   "cell_type": "markdown",
   "metadata": {},
   "source": [
    "# predicting"
   ]
  },
  {
   "cell_type": "code",
   "execution_count": null,
   "metadata": {},
   "outputs": [],
   "source": [
    "y_pred = model.predict(X_test)"
   ]
  },
  {
   "cell_type": "markdown",
   "metadata": {},
   "source": [
    "# unormalizing "
   ]
  },
  {
   "cell_type": "code",
   "execution_count": null,
   "metadata": {},
   "outputs": [],
   "source": [
    "f_columns = ['temperature','label']\n",
    "scaler1 = StandardScaler().fit(train[f_columns])\n",
    "scaler2 = StandardScaler().fit(train[f_columns])\n",
    "\n",
    "scaler1= scaler1.fit(train[f_columns].to_numpy())\n",
    "scaler2 = scaler2.fit(train[['delay']])\n",
    "\n",
    "\n",
    "#normalizando test\n",
    "scaler3 = StandardScaler().fit(test[f_columns])\n",
    "scaler4 = StandardScaler().fit(test[f_columns])\n",
    "\n",
    "scaler3 = scaler3.fit(test[f_columns].to_numpy())\n",
    "scaler4 = scaler4.fit(test[['delay']])\n"
   ]
  },
  {
   "cell_type": "code",
   "execution_count": null,
   "metadata": {},
   "outputs": [],
   "source": [
    "y_test_inv = scaler4.inverse_transform(Y_test.reshape(1,-1))\n",
    "y_pred_inv = scaler4.inverse_transform(y_pred)"
   ]
  },
  {
   "cell_type": "code",
   "execution_count": null,
   "metadata": {},
   "outputs": [],
   "source": [
    "fig2 = plt.figure()\n",
    "a2 = fig2.add_subplot(1,1,1)\n",
    "a2.plot(y_test_inv.flatten(), marker='.', label='true')\n",
    "a2.legend();"
   ]
  },
  {
   "cell_type": "code",
   "execution_count": null,
   "metadata": {},
   "outputs": [],
   "source": [
    "fig3 = plt.figure()\n",
    "a3 = fig3.add_subplot(1,1,1)\n",
    "a3.plot(y_pred_inv.flatten(),'r',marker='.', label='predicted')\n",
    "a3.legend();\n"
   ]
  },
  {
   "cell_type": "code",
   "execution_count": null,
   "metadata": {},
   "outputs": [],
   "source": [
    "fig4 = plt.figure()\n",
    "a4 = fig4.add_subplot(1,1,1)\n",
    "a4.plot(y_pred_inv.flatten(),'r',marker='.', label='predicted')\n",
    "a4.plot(y_test_inv.flatten(), marker='.', label='true')\n",
    "a4.legend();"
   ]
  },
  {
   "cell_type": "code",
   "execution_count": null,
   "metadata": {},
   "outputs": [],
   "source": [
    "from sklearn.metrics import mean_squared_error"
   ]
  },
  {
   "cell_type": "code",
   "execution_count": null,
   "metadata": {},
   "outputs": [],
   "source": [
    "mean_squared_error(y_test_inv[0], y_pred_inv[:,0])"
   ]
  },
  {
   "cell_type": "code",
   "execution_count": null,
   "metadata": {},
   "outputs": [],
   "source": []
  },
  {
   "cell_type": "code",
   "execution_count": null,
   "metadata": {},
   "outputs": [],
   "source": []
  }
 ],
 "metadata": {
  "kernelspec": {
   "display_name": "Python 3",
   "language": "python",
   "name": "python3"
  },
  "language_info": {
   "codemirror_mode": {
    "name": "ipython",
    "version": 3
   },
   "file_extension": ".py",
   "mimetype": "text/x-python",
   "name": "python",
   "nbconvert_exporter": "python",
   "pygments_lexer": "ipython3",
   "version": "3.8.5"
  }
 },
 "nbformat": 4,
 "nbformat_minor": 4
}
