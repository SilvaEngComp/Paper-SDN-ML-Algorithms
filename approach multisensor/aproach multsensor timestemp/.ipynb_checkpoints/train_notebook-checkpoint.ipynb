{
 "cells": [
  {
   "cell_type": "code",
   "execution_count": 1,
   "metadata": {},
   "outputs": [],
   "source": [
    "import os\n",
    "import tensorflow as tf\n",
    "from tensorflow import keras\n",
    "\n",
    "import pandas as pd\n",
    "import numpy as np\n",
    "import matplotlib.pyplot as plt\n",
    "from sklearn.preprocessing import StandardScaler\n",
    "from sklearn.metrics import mean_squared_error\n",
    "from timeit import default_timer as timer\n",
    "from IPython.display import clear_output"
   ]
  },
  {
   "cell_type": "code",
   "execution_count": 2,
   "metadata": {},
   "outputs": [],
   "source": [
    "\n",
    "os.environ[\"TF_CPP_MIN_LOG_LEVEL\"] = \"2\""
   ]
  },
  {
   "cell_type": "code",
   "execution_count": 3,
   "metadata": {},
   "outputs": [],
   "source": [
    "def create_dataset(X, y, time_steps=1):\n",
    "    Xs, ys = [], []    \n",
    "    for i in range(len(X) - time_steps):\n",
    "        clear_output(wait=True)\n",
    "        print('modeling to keras ',round((i/(len(X) - time_steps))*100,2), ('%'), end='')\n",
    "        print(' ', round(timer() - start), ' seconds')\n",
    "        v = X.iloc[i: (i+time_steps), 2:4].to_numpy()\n",
    "        Xs.append(v)\n",
    "        ys.append(y.iloc[i+time_steps])\n",
    "    return np.array(Xs), np.array(ys)"
   ]
  },
  {
   "cell_type": "code",
   "execution_count": 4,
   "metadata": {},
   "outputs": [
    {
     "name": "stdout",
     "output_type": "stream",
     "text": [
      "loading dataset...\n",
      "load duration:  0\n"
     ]
    }
   ],
   "source": [
    "start = timer()\n",
    "#carregando datasets\n",
    "print('loading dataset...')\n",
    "train = pd.read_csv('../datasets/com_concept_drift/sdn_train_unormalized.csv')\n",
    "test = pd.read_csv('../datasets/com_concept_drift/sdn_test_unormalized.csv')\n",
    "\n",
    "train = train[train.delay>=0]\n",
    "test = test[test.delay>=0]\n",
    "print('load duration: ', round(timer() - start))"
   ]
  },
  {
   "cell_type": "code",
   "execution_count": 5,
   "metadata": {},
   "outputs": [
    {
     "name": "stdout",
     "output_type": "stream",
     "text": [
      "modeling to keras  99.4 %  638  seconds\n"
     ]
    }
   ],
   "source": [
    "start = timer()\n",
    "print('creating window')\n",
    "TIME_STEPS = 1\n",
    "X_train,Y_train = create_dataset(train, train.delay, time_steps=TIME_STEPS)\n",
    "X_test,Y_test = create_dataset(test, test.delay, time_steps=TIME_STEPS)\n",
    "\n",
    "print('2D to 3D duration: ', round(timer() - start))"
   ]
  },
  {
   "cell_type": "markdown",
   "metadata": {},
   "source": [
    "# setting LSTM"
   ]
  },
  {
   "cell_type": "code",
   "execution_count": 6,
   "metadata": {},
   "outputs": [],
   "source": [
    "print('Init config LSTM')\n",
    "model = keras.Sequential()\n",
    "model.add(\n",
    "    keras.layers.Bidirectional(\n",
    "        keras.layers.LSTM(\n",
    "            units=40,\n",
    "            input_shape=(X_train.shape[1],X_train.shape[2])\n",
    "        )\n",
    "    ))\n",
    "model.add(keras.layers.Dense(units=40))\n",
    "model.add(keras.layers.Dense(units=40))\n",
    "model.add(keras.layers.Dense(units=40))\n",
    "model.add(keras.layers.Dense(units=40))\n",
    "model.add(keras.layers.Dropout(rate=0.2))\n",
    "model.add(keras.layers.Dense(units=1))"
   ]
  },
  {
   "cell_type": "markdown",
   "metadata": {},
   "source": [
    "# compiling"
   ]
  },
  {
   "cell_type": "code",
   "execution_count": 7,
   "metadata": {},
   "outputs": [],
   "source": [
    "loss =\"mse\"\n",
    "optim = tf.keras.optimizers.Adam(\n",
    "    learning_rate=0.0001)\n",
    "metrics=[\"accuracy\"]\n",
    "\n",
    "model.compile(loss=loss, optimizer=optim, \n",
    "             metrics=metrics\n",
    "             )"
   ]
  },
  {
   "cell_type": "markdown",
   "metadata": {},
   "source": [
    "# training "
   ]
  },
  {
   "cell_type": "code",
   "execution_count": 8,
   "metadata": {},
   "outputs": [
    {
     "name": "stdout",
     "output_type": "stream",
     "text": [
      "2499/2499 [==============================] - 27s 6ms/step - loss: 11443.3984 - accuracy: 0.2595 - val_loss: 11.7785 - val_accuracy: 0.0000e+00\n",
      "Epoch 2/100\n",
      "2499/2499 [==============================] - 11s 4ms/step - loss: 11421.0693 - accuracy: 0.0264 - val_loss: 9.2700 - val_accuracy: 0.0000e+00\n",
      "Epoch 3/100\n",
      "2499/2499 [==============================] - 12s 5ms/step - loss: 11393.8418 - accuracy: 0.0225 - val_loss: 2.7789 - val_accuracy: 0.0000e+00\n",
      "Epoch 4/100\n",
      "2499/2499 [==============================] - 11s 4ms/step - loss: 11354.4941 - accuracy: 0.1237 - val_loss: 0.5506 - val_accuracy: 0.0522\n",
      "Epoch 5/100\n",
      "2499/2499 [==============================] - 11s 4ms/step - loss: 11284.0293 - accuracy: 0.2812 - val_loss: 0.0368 - val_accuracy: 1.0000\n",
      "Epoch 6/100\n",
      "2499/2499 [==============================] - 11s 4ms/step - loss: 11149.2822 - accuracy: 0.4431 - val_loss: 0.0140 - val_accuracy: 1.0000\n",
      "Epoch 7/100\n",
      "2499/2499 [==============================] - 11s 4ms/step - loss: 10846.0684 - accuracy: 0.5794 - val_loss: 0.0162 - val_accuracy: 1.0000\n",
      "Epoch 8/100\n",
      "2499/2499 [==============================] - 11s 5ms/step - loss: 10001.6211 - accuracy: 0.5827 - val_loss: 0.7210 - val_accuracy: 1.0000\n",
      "Epoch 9/100\n",
      "2499/2499 [==============================] - 11s 4ms/step - loss: 7685.5557 - accuracy: 0.5129 - val_loss: 2.9938 - val_accuracy: 1.0000\n",
      "Epoch 10/100\n",
      "2499/2499 [==============================] - 12s 5ms/step - loss: 4211.1421 - accuracy: 0.6008 - val_loss: 3.5460 - val_accuracy: 1.0000\n",
      "Epoch 11/100\n",
      "2499/2499 [==============================] - 13s 5ms/step - loss: 2489.5349 - accuracy: 0.6795 - val_loss: 3.9002 - val_accuracy: 1.0000\n",
      "Epoch 12/100\n",
      "2499/2499 [==============================] - 13s 5ms/step - loss: 2488.8367 - accuracy: 0.6947 - val_loss: 1.8701 - val_accuracy: 1.0000\n",
      "Epoch 13/100\n",
      "2499/2499 [==============================] - 14s 5ms/step - loss: 2542.6750 - accuracy: 0.7034 - val_loss: 1.4574 - val_accuracy: 1.0000\n",
      "Epoch 14/100\n",
      "2499/2499 [==============================] - 13s 5ms/step - loss: 2419.1487 - accuracy: 0.7113 - val_loss: 0.9927 - val_accuracy: 1.0000\n",
      "Epoch 15/100\n",
      "2499/2499 [==============================] - 13s 5ms/step - loss: 2506.3606 - accuracy: 0.7115 - val_loss: 1.3617 - val_accuracy: 1.0000\n",
      "Epoch 16/100\n",
      "2499/2499 [==============================] - 12s 5ms/step - loss: 2500.1323 - accuracy: 0.7126 - val_loss: 0.9919 - val_accuracy: 1.0000\n",
      "Epoch 17/100\n",
      "2499/2499 [==============================] - 11s 5ms/step - loss: 2487.9380 - accuracy: 0.7182 - val_loss: 0.7814 - val_accuracy: 1.0000\n",
      "Epoch 18/100\n",
      "2499/2499 [==============================] - 11s 5ms/step - loss: 2324.9734 - accuracy: 0.7221 - val_loss: 0.7477 - val_accuracy: 0.6216\n",
      "Epoch 19/100\n",
      "2499/2499 [==============================] - 11s 4ms/step - loss: 2431.7056 - accuracy: 0.7208 - val_loss: 0.6761 - val_accuracy: 0.6670\n",
      "Epoch 20/100\n",
      "2499/2499 [==============================] - 11s 5ms/step - loss: 2478.3669 - accuracy: 0.7187 - val_loss: 0.7769 - val_accuracy: 1.0000\n",
      "Epoch 21/100\n",
      "2499/2499 [==============================] - 11s 4ms/step - loss: 2460.6277 - accuracy: 0.7269 - val_loss: 0.6416 - val_accuracy: 0.5164\n",
      "Epoch 22/100\n",
      "2499/2499 [==============================] - 11s 4ms/step - loss: 2383.9980 - accuracy: 0.7286 - val_loss: 0.6455 - val_accuracy: 0.4370\n",
      "Epoch 23/100\n",
      "2499/2499 [==============================] - 11s 5ms/step - loss: 2497.6536 - accuracy: 0.7264 - val_loss: 0.6970 - val_accuracy: 0.6709\n",
      "Epoch 24/100\n",
      "2499/2499 [==============================] - 11s 5ms/step - loss: 2522.3120 - accuracy: 0.7277 - val_loss: 0.7288 - val_accuracy: 1.0000\n",
      "Epoch 25/100\n",
      "2499/2499 [==============================] - 11s 5ms/step - loss: 2455.3079 - accuracy: 0.7247 - val_loss: 0.9005 - val_accuracy: 1.0000\n",
      "Epoch 26/100\n",
      "2499/2499 [==============================] - 12s 5ms/step - loss: 2407.2461 - accuracy: 0.7318 - val_loss: 0.7369 - val_accuracy: 0.6079\n",
      "Epoch 27/100\n",
      "2499/2499 [==============================] - 12s 5ms/step - loss: 2466.5579 - accuracy: 0.7287 - val_loss: 0.8503 - val_accuracy: 1.0000\n",
      "Epoch 28/100\n",
      "2499/2499 [==============================] - 11s 5ms/step - loss: 2578.4053 - accuracy: 0.7248 - val_loss: 0.9957 - val_accuracy: 1.0000\n",
      "Epoch 29/100\n",
      "2499/2499 [==============================] - 11s 5ms/step - loss: 2417.1667 - accuracy: 0.7308 - val_loss: 0.8252 - val_accuracy: 1.0000\n",
      "Epoch 30/100\n",
      "2499/2499 [==============================] - 12s 5ms/step - loss: 2472.4888 - accuracy: 0.7342 - val_loss: 0.7470 - val_accuracy: 1.0000\n",
      "Epoch 31/100\n",
      "2499/2499 [==============================] - 11s 5ms/step - loss: 2461.6882 - accuracy: 0.7305 - val_loss: 0.7668 - val_accuracy: 1.0000\n",
      "Epoch 32/100\n",
      "2499/2499 [==============================] - 11s 5ms/step - loss: 2374.9163 - accuracy: 0.7367 - val_loss: 0.7563 - val_accuracy: 1.0000\n",
      "Epoch 33/100\n",
      "2499/2499 [==============================] - 12s 5ms/step - loss: 2446.0149 - accuracy: 0.7331 - val_loss: 0.7952 - val_accuracy: 1.0000\n",
      "Epoch 34/100\n",
      "2499/2499 [==============================] - 12s 5ms/step - loss: 2516.6836 - accuracy: 0.7354 - val_loss: 0.8527 - val_accuracy: 1.0000\n",
      "Epoch 35/100\n",
      "2499/2499 [==============================] - 11s 4ms/step - loss: 2500.7144 - accuracy: 0.7399 - val_loss: 0.7580 - val_accuracy: 1.0000\n",
      "Epoch 36/100\n",
      "2499/2499 [==============================] - 12s 5ms/step - loss: 2405.1589 - accuracy: 0.7361 - val_loss: 0.8291 - val_accuracy: 1.0000\n",
      "Epoch 37/100\n",
      "2499/2499 [==============================] - 12s 5ms/step - loss: 2508.5105 - accuracy: 0.7383 - val_loss: 0.7740 - val_accuracy: 1.0000\n",
      "Epoch 38/100\n",
      "2499/2499 [==============================] - 11s 4ms/step - loss: 2403.3765 - accuracy: 0.7380 - val_loss: 0.7145 - val_accuracy: 0.6034\n",
      "Epoch 39/100\n",
      "2499/2499 [==============================] - 12s 5ms/step - loss: 2438.2859 - accuracy: 0.7410 - val_loss: 0.8773 - val_accuracy: 1.0000\n",
      "Epoch 40/100\n",
      "2499/2499 [==============================] - 11s 5ms/step - loss: 2379.5208 - accuracy: 0.7347 - val_loss: 0.9976 - val_accuracy: 1.0000\n",
      "Epoch 41/100\n",
      "2499/2499 [==============================] - 13s 5ms/step - loss: 2438.7114 - accuracy: 0.7350 - val_loss: 0.9581 - val_accuracy: 1.0000\n",
      "Epoch 42/100\n",
      "2499/2499 [==============================] - 13s 5ms/step - loss: 2537.8662 - accuracy: 0.7347 - val_loss: 1.0635 - val_accuracy: 1.0000\n",
      "Epoch 43/100\n",
      "2499/2499 [==============================] - 13s 5ms/step - loss: 2524.2720 - accuracy: 0.7411 - val_loss: 0.9124 - val_accuracy: 1.0000\n",
      "Epoch 44/100\n",
      "2499/2499 [==============================] - 13s 5ms/step - loss: 2402.7700 - accuracy: 0.7439 - val_loss: 0.7883 - val_accuracy: 1.0000\n",
      "Epoch 45/100\n",
      "2499/2499 [==============================] - 13s 5ms/step - loss: 2357.5032 - accuracy: 0.7426 - val_loss: 0.7847 - val_accuracy: 1.0000\n",
      "Epoch 46/100\n",
      "2499/2499 [==============================] - 13s 5ms/step - loss: 2476.8904 - accuracy: 0.7488 - val_loss: 0.6630 - val_accuracy: 0.4885\n",
      "Epoch 47/100\n",
      "2499/2499 [==============================] - 12s 5ms/step - loss: 2393.6140 - accuracy: 0.7505 - val_loss: 0.6890 - val_accuracy: 0.3440\n",
      "Epoch 48/100\n",
      "2499/2499 [==============================] - 12s 5ms/step - loss: 2486.9534 - accuracy: 0.7518 - val_loss: 0.6344 - val_accuracy: 0.3921\n",
      "Epoch 49/100\n",
      "2499/2499 [==============================] - 12s 5ms/step - loss: 2384.6790 - accuracy: 0.7472 - val_loss: 0.6780 - val_accuracy: 0.5490\n",
      "Epoch 50/100\n",
      "2499/2499 [==============================] - 12s 5ms/step - loss: 2433.1963 - accuracy: 0.7515 - val_loss: 0.7173 - val_accuracy: 0.4616\n",
      "Epoch 51/100\n",
      "2499/2499 [==============================] - 12s 5ms/step - loss: 2367.8787 - accuracy: 0.7509 - val_loss: 0.6813 - val_accuracy: 0.4858\n",
      "Epoch 52/100\n",
      "2499/2499 [==============================] - 12s 5ms/step - loss: 2371.1228 - accuracy: 0.7495 - val_loss: 0.6929 - val_accuracy: 0.4189\n",
      "Epoch 53/100\n",
      "2499/2499 [==============================] - 12s 5ms/step - loss: 2451.7112 - accuracy: 0.7539 - val_loss: 0.6289 - val_accuracy: 0.4362\n",
      "Epoch 54/100\n",
      "2499/2499 [==============================] - 12s 5ms/step - loss: 2468.6768 - accuracy: 0.7515 - val_loss: 0.6693 - val_accuracy: 0.4724\n",
      "Epoch 55/100\n"
     ]
    },
    {
     "name": "stdout",
     "output_type": "stream",
     "text": [
      "2499/2499 [==============================] - 12s 5ms/step - loss: 2444.1565 - accuracy: 0.7528 - val_loss: 0.6871 - val_accuracy: 0.5155\n",
      "Epoch 56/100\n",
      "2499/2499 [==============================] - 12s 5ms/step - loss: 2443.4634 - accuracy: 0.7490 - val_loss: 0.6906 - val_accuracy: 0.5636\n",
      "Epoch 57/100\n",
      "2499/2499 [==============================] - 12s 5ms/step - loss: 2405.3772 - accuracy: 0.7528 - val_loss: 0.7018 - val_accuracy: 0.3721\n",
      "Epoch 58/100\n",
      "2499/2499 [==============================] - 12s 5ms/step - loss: 2401.7058 - accuracy: 0.7497 - val_loss: 0.7536 - val_accuracy: 0.5908\n",
      "Epoch 59/100\n",
      "2499/2499 [==============================] - 12s 5ms/step - loss: 2395.4353 - accuracy: 0.7475 - val_loss: 0.8777 - val_accuracy: 1.0000\n",
      "Epoch 60/100\n",
      "2499/2499 [==============================] - 12s 5ms/step - loss: 2480.3257 - accuracy: 0.7482 - val_loss: 0.8660 - val_accuracy: 1.0000\n",
      "Epoch 61/100\n",
      "2499/2499 [==============================] - 12s 5ms/step - loss: 2438.5574 - accuracy: 0.7478 - val_loss: 0.8049 - val_accuracy: 0.6378\n",
      "Epoch 62/100\n",
      "2499/2499 [==============================] - 12s 5ms/step - loss: 2442.5229 - accuracy: 0.7519 - val_loss: 0.7523 - val_accuracy: 0.5040\n",
      "Epoch 63/100\n",
      "2499/2499 [==============================] - 12s 5ms/step - loss: 2486.5281 - accuracy: 0.7530 - val_loss: 0.6982 - val_accuracy: 0.4303\n",
      "Epoch 64/100\n",
      "2499/2499 [==============================] - 12s 5ms/step - loss: 2389.6804 - accuracy: 0.7549 - val_loss: 0.6887 - val_accuracy: 0.3979\n",
      "Epoch 65/100\n",
      "2499/2499 [==============================] - 12s 5ms/step - loss: 2387.7290 - accuracy: 0.7545 - val_loss: 0.7294 - val_accuracy: 0.4294\n",
      "Epoch 66/100\n",
      "2499/2499 [==============================] - 12s 5ms/step - loss: 2477.0242 - accuracy: 0.7520 - val_loss: 0.7397 - val_accuracy: 0.3321\n",
      "Epoch 67/100\n",
      "2499/2499 [==============================] - 12s 5ms/step - loss: 2467.3909 - accuracy: 0.7536 - val_loss: 0.7272 - val_accuracy: 0.4813\n",
      "Epoch 68/100\n",
      "2499/2499 [==============================] - 12s 5ms/step - loss: 2425.9556 - accuracy: 0.7514 - val_loss: 0.7698 - val_accuracy: 0.4955\n",
      "Epoch 69/100\n",
      "2499/2499 [==============================] - 12s 5ms/step - loss: 2383.6689 - accuracy: 0.7504 - val_loss: 0.7426 - val_accuracy: 0.4485\n",
      "Epoch 70/100\n",
      "2499/2499 [==============================] - 13s 5ms/step - loss: 2450.0061 - accuracy: 0.7486 - val_loss: 0.7448 - val_accuracy: 0.4031\n",
      "Epoch 71/100\n",
      "2499/2499 [==============================] - 13s 5ms/step - loss: 2429.4541 - accuracy: 0.7540 - val_loss: 0.7575 - val_accuracy: 0.3365\n",
      "Epoch 72/100\n",
      "2499/2499 [==============================] - 12s 5ms/step - loss: 2499.2393 - accuracy: 0.7512 - val_loss: 0.7745 - val_accuracy: 0.3781\n",
      "Epoch 73/100\n",
      "2499/2499 [==============================] - 12s 5ms/step - loss: 2432.9546 - accuracy: 0.7539 - val_loss: 0.7386 - val_accuracy: 0.3889\n",
      "Epoch 74/100\n",
      "2499/2499 [==============================] - 12s 5ms/step - loss: 2452.2703 - accuracy: 0.7562 - val_loss: 0.7728 - val_accuracy: 0.2831\n",
      "Epoch 75/100\n",
      "2499/2499 [==============================] - 12s 5ms/step - loss: 2388.0464 - accuracy: 0.7514 - val_loss: 0.7635 - val_accuracy: 0.3271\n",
      "Epoch 76/100\n",
      "2499/2499 [==============================] - 12s 5ms/step - loss: 2399.0178 - accuracy: 0.7556 - val_loss: 0.8268 - val_accuracy: 0.2424\n",
      "Epoch 77/100\n",
      "2499/2499 [==============================] - 12s 5ms/step - loss: 2509.9885 - accuracy: 0.7565 - val_loss: 0.7870 - val_accuracy: 0.2523\n",
      "Epoch 78/100\n",
      "2499/2499 [==============================] - 12s 5ms/step - loss: 2391.1677 - accuracy: 0.7591 - val_loss: 0.7788 - val_accuracy: 0.2565\n",
      "Epoch 79/100\n",
      "2499/2499 [==============================] - 12s 5ms/step - loss: 2396.4045 - accuracy: 0.7575 - val_loss: 0.7481 - val_accuracy: 0.3374\n",
      "Epoch 80/100\n",
      "2499/2499 [==============================] - 12s 5ms/step - loss: 2412.0464 - accuracy: 0.7562 - val_loss: 0.7630 - val_accuracy: 0.3413\n",
      "Epoch 81/100\n",
      "2499/2499 [==============================] - 12s 5ms/step - loss: 2443.7949 - accuracy: 0.7545 - val_loss: 0.7711 - val_accuracy: 0.3709\n",
      "Epoch 82/100\n",
      "2499/2499 [==============================] - 12s 5ms/step - loss: 2510.6931 - accuracy: 0.7507 - val_loss: 0.7808 - val_accuracy: 0.4420\n",
      "Epoch 83/100\n",
      "2499/2499 [==============================] - 15s 6ms/step - loss: 2370.5320 - accuracy: 0.7561 - val_loss: 0.7831 - val_accuracy: 0.3658\n",
      "Epoch 84/100\n",
      "2499/2499 [==============================] - 12s 5ms/step - loss: 2351.2402 - accuracy: 0.7572 - val_loss: 0.7712 - val_accuracy: 0.3240\n",
      "Epoch 85/100\n",
      "2499/2499 [==============================] - 12s 5ms/step - loss: 2341.1919 - accuracy: 0.7543 - val_loss: 0.7687 - val_accuracy: 0.3617\n",
      "Epoch 86/100\n",
      "2499/2499 [==============================] - 12s 5ms/step - loss: 2464.1169 - accuracy: 0.7538 - val_loss: 0.7863 - val_accuracy: 0.3685\n",
      "Epoch 87/100\n",
      "2499/2499 [==============================] - 12s 5ms/step - loss: 2435.4045 - accuracy: 0.7557 - val_loss: 0.7683 - val_accuracy: 0.3413\n",
      "Epoch 88/100\n",
      "2499/2499 [==============================] - 12s 5ms/step - loss: 2410.9431 - accuracy: 0.7588 - val_loss: 0.7884 - val_accuracy: 0.3411\n",
      "Epoch 89/100\n",
      "2499/2499 [==============================] - 12s 5ms/step - loss: 2391.0054 - accuracy: 0.7581 - val_loss: 0.7884 - val_accuracy: 0.3210\n",
      "Epoch 90/100\n",
      "2499/2499 [==============================] - 14s 5ms/step - loss: 2410.1406 - accuracy: 0.7573 - val_loss: 0.7909 - val_accuracy: 0.3354\n",
      "Epoch 91/100\n",
      "2499/2499 [==============================] - 14s 5ms/step - loss: 2429.1279 - accuracy: 0.7570 - val_loss: 0.7957 - val_accuracy: 0.3089\n",
      "Epoch 92/100\n",
      "2499/2499 [==============================] - 13s 5ms/step - loss: 2409.6648 - accuracy: 0.7573 - val_loss: 0.7928 - val_accuracy: 0.2907\n",
      "Epoch 93/100\n",
      "2499/2499 [==============================] - 13s 5ms/step - loss: 2352.4541 - accuracy: 0.7560 - val_loss: 0.8060 - val_accuracy: 0.2559\n",
      "Epoch 94/100\n",
      "2499/2499 [==============================] - 13s 5ms/step - loss: 2321.2097 - accuracy: 0.7591 - val_loss: 0.8084 - val_accuracy: 0.2844\n",
      "Epoch 95/100\n",
      "2499/2499 [==============================] - 13s 5ms/step - loss: 2444.7754 - accuracy: 0.7571 - val_loss: 0.7926 - val_accuracy: 0.2911\n",
      "Epoch 96/100\n",
      "2499/2499 [==============================] - 13s 5ms/step - loss: 2381.2722 - accuracy: 0.7562 - val_loss: 0.8244 - val_accuracy: 0.2509\n",
      "Epoch 97/100\n",
      "2499/2499 [==============================] - 12s 5ms/step - loss: 2411.7078 - accuracy: 0.7602 - val_loss: 0.8123 - val_accuracy: 0.2709\n",
      "Epoch 98/100\n",
      "2499/2499 [==============================] - 13s 5ms/step - loss: 2372.1118 - accuracy: 0.7588 - val_loss: 0.8394 - val_accuracy: 0.2455\n",
      "Epoch 99/100\n",
      "2499/2499 [==============================] - 12s 5ms/step - loss: 2395.4048 - accuracy: 0.7570 - val_loss: 0.8036 - val_accuracy: 0.2972\n",
      "Epoch 100/100\n",
      "2499/2499 [==============================] - 12s 5ms/step - loss: 2431.0295 - accuracy: 0.7564 - val_loss: 0.7848 - val_accuracy: 0.3293\n",
      "trraining duration:  1227\n"
     ]
    }
   ],
   "source": [
    "print('Init Train')\n",
    "start = timer()\n",
    "history = model.fit(\n",
    "    X_train, Y_train, \n",
    "    epochs=100, \n",
    "    batch_size= 10,\n",
    "    validation_split=0.1,\n",
    "    shuffle=False,\n",
    "#     callbacks=[tensorboard_callback]\n",
    ")\n",
    "print('trraining duration: ',round(timer() - start))"
   ]
  },
  {
   "cell_type": "markdown",
   "metadata": {},
   "source": [
    "# saving model"
   ]
  },
  {
   "cell_type": "code",
   "execution_count": 9,
   "metadata": {},
   "outputs": [
    {
     "name": "stdout",
     "output_type": "stream",
     "text": [
      "Saving Model\n"
     ]
    },
    {
     "name": "stderr",
     "output_type": "stream",
     "text": [
      "WARNING:absl:Found untraced functions such as lstm_cell_1_layer_call_fn, lstm_cell_1_layer_call_and_return_conditional_losses, lstm_cell_2_layer_call_fn, lstm_cell_2_layer_call_and_return_conditional_losses, lstm_cell_1_layer_call_fn while saving (showing 5 of 10). These functions will not be directly callable after loading.\n"
     ]
    },
    {
     "name": "stdout",
     "output_type": "stream",
     "text": [
      "INFO:tensorflow:Assets written to: models/lstm\\assets\n"
     ]
    },
    {
     "name": "stderr",
     "output_type": "stream",
     "text": [
      "INFO:tensorflow:Assets written to: models/lstm\\assets\n"
     ]
    }
   ],
   "source": [
    "print('Saving Model')\n",
    "model.save('models/lstm')"
   ]
  },
  {
   "cell_type": "markdown",
   "metadata": {},
   "source": [
    "# loss training"
   ]
  },
  {
   "cell_type": "code",
   "execution_count": 10,
   "metadata": {},
   "outputs": [
    {
     "data": {
      "image/png": "[encoded data removed]",
      "text/plain": [
       "<Figure size 432x288 with 1 Axes>"
      ]
     },
     "metadata": {
      "needs_background": "light"
     },
     "output_type": "display_data"
    }
   ],
   "source": [
    "\n",
    "fig1 = plt.figure()\n",
    "ax1 = fig1.add_subplot(1,1,1)\n",
    "ax1.plot(history.history['loss'], label='train')\n",
    "ax1.plot(history.history['val_loss'], label='validation')\n",
    "ax1.legend();"
   ]
  },
  {
   "cell_type": "markdown",
   "metadata": {},
   "source": [
    "# predicting"
   ]
  },
  {
   "cell_type": "code",
   "execution_count": 11,
   "metadata": {},
   "outputs": [],
   "source": [
    "y_pred = model.predict(X_test)"
   ]
  },
  {
   "cell_type": "markdown",
   "metadata": {},
   "source": [
    "# unormalizing "
   ]
  },
  {
   "cell_type": "code",
   "execution_count": 12,
   "metadata": {},
   "outputs": [],
   "source": [
    "f_columns = ['temperature','label']\n",
    "scaler1 = StandardScaler().fit(train[f_columns])\n",
    "scaler2 = StandardScaler().fit(train[f_columns])\n",
    "\n",
    "scaler1= scaler1.fit(train[f_columns].to_numpy())\n",
    "scaler2 = scaler2.fit(train[['delay']])\n",
    "\n",
    "\n",
    "#normalizando test\n",
    "scaler3 = StandardScaler().fit(test[f_columns])\n",
    "scaler4 = StandardScaler().fit(test[f_columns])\n",
    "\n",
    "scaler3 = scaler3.fit(test[f_columns].to_numpy())\n",
    "scaler4 = scaler4.fit(test[['delay']])\n"
   ]
  },
  {
   "cell_type": "code",
   "execution_count": 19,
   "metadata": {},
   "outputs": [],
   "source": [
    "y_test_inv = scaler4.inverse_transform(Y_test.reshape(1,-1))\n",
    "y_pred_inv = scaler4.inverse_transform(y_pred)"
   ]
  },
  {
   "cell_type": "code",
   "execution_count": 20,
   "metadata": {},
   "outputs": [
    {
     "data": {
      "image/png": "[encoded data removed]",
      "text/plain": [
       "<Figure size 432x288 with 1 Axes>"
      ]
     },
     "metadata": {
      "needs_background": "light"
     },
     "output_type": "display_data"
    }
   ],
   "source": [
    "fig2 = plt.figure()\n",
    "a2 = fig2.add_subplot(1,1,1)\n",
    "a2.plot(y_test_inv.flatten(), marker='.', label='true')\n",
    "a2.legend();"
   ]
  },
  {
   "cell_type": "code",
   "execution_count": 21,
   "metadata": {},
   "outputs": [
    {
     "data": {
      "image/png": "[encoded data removed]",
      "text/plain": [
       "<Figure size 432x288 with 1 Axes>"
      ]
     },
     "metadata": {
      "needs_background": "light"
     },
     "output_type": "display_data"
    }
   ],
   "source": [
    "fig3 = plt.figure()\n",
    "a3 = fig3.add_subplot(1,1,1)\n",
    "a3.plot(y_pred_inv.flatten(),'r',marker='.', label='predicted')\n",
    "a3.legend();\n"
   ]
  },
  {
   "cell_type": "code",
   "execution_count": 22,
   "metadata": {},
   "outputs": [
    {
     "data": {
      "image/png": "[encoded data removed]",
      "text/plain": [
       "<Figure size 432x288 with 1 Axes>"
      ]
     },
     "metadata": {
      "needs_background": "light"
     },
     "output_type": "display_data"
    }
   ],
   "source": [
    "fig4 = plt.figure()\n",
    "a4 = fig4.add_subplot(1,1,1)\n",
    "a4.plot(y_pred_inv.flatten(),'r',marker='.', label='predicted')\n",
    "a4.plot(y_test_inv.flatten(), marker='.', label='true')\n",
    "a4.legend();"
   ]
  },
  {
   "cell_type": "code",
   "execution_count": 23,
   "metadata": {},
   "outputs": [],
   "source": [
    "from sklearn.metrics import mean_squared_error"
   ]
  },
  {
   "cell_type": "code",
   "execution_count": 24,
   "metadata": {},
   "outputs": [
    {
     "data": {
      "text/plain": [
       "5486714309439.64"
      ]
     },
     "execution_count": 24,
     "metadata": {},
     "output_type": "execute_result"
    }
   ],
   "source": [
    "mean_squared_error(y_test_inv[0], y_pred_inv[:,0])"
   ]
  },
  {
   "cell_type": "code",
   "execution_count": null,
   "metadata": {},
   "outputs": [],
   "source": []
  },
  {
   "cell_type": "code",
   "execution_count": null,
   "metadata": {},
   "outputs": [],
   "source": []
  }
 ],
 "metadata": {
  "kernelspec": {
   "display_name": "Python 3",
   "language": "python",
   "name": "python3"
  },
  "language_info": {
   "codemirror_mode": {
    "name": "ipython",
    "version": 3
   },
   "file_extension": ".py",
   "mimetype": "text/x-python",
   "name": "python",
   "nbconvert_exporter": "python",
   "pygments_lexer": "ipython3",
   "version": "3.8.5"
  }
 },
 "nbformat": 4,
 "nbformat_minor": 4
}
