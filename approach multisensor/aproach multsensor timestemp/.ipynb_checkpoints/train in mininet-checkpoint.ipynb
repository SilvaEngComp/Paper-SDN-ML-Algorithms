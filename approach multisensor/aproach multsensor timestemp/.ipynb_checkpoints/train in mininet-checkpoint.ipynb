{
 "cells": [
  {
   "cell_type": "code",
   "execution_count": 1,
   "metadata": {},
   "outputs": [],
   "source": [
    "import os\n",
    "os.environ[\"TF_CPP_MIN_LOG_LEVEL\"] = \"2\""
   ]
  },
  {
   "cell_type": "code",
   "execution_count": 2,
   "metadata": {},
   "outputs": [],
   "source": [
    "import tensorflow as tf\n",
    "from tensorflow import keras\n",
    "from tensorflow.keras import layers\n",
    "import matplotlib.pyplot as plt\n",
    "import seaborn as sns\n",
    "\n",
    "import pandas as pd\n",
    "import numpy as np\n",
    "from sklearn.model_selection import train_test_split\n",
    "from sklearn.metrics import mean_squared_error\n",
    "from sklearn.preprocessing import StandardScaler\n",
    "from threading import Timer"
   ]
  },
  {
   "cell_type": "code",
   "execution_count": 6,
   "metadata": {},
   "outputs": [],
   "source": [
    "prep_dataset = pd.read_csv('../datasets/com_concept_drift/sdn_train_unormalized.csv', delimiter=\",\")\n"
   ]
  },
  {
   "cell_type": "markdown",
   "metadata": {},
   "source": [
    "# Normalizing"
   ]
  },
  {
   "cell_type": "code",
   "execution_count": null,
   "metadata": {},
   "outputs": [],
   "source": [
    "\n"
   ]
  },
  {
   "cell_type": "code",
   "execution_count": null,
   "metadata": {},
   "outputs": [],
   "source": [
    "def normalizing(df):\n",
    "    f_columns = ['temperature','label']\n",
    "    scaler1 = StandardScaler().fit(df[f_columns])\n",
    "    scaler2 = StandardScaler().fit(df.delay)\n",
    "\n",
    "    scaler1= scaler1.fit(df[f_columns].to_numpy())\n",
    "    scaler2 = scaler2.fit(df[['delay']])\n",
    "\n",
    "    df.loc[:,f_columns] = scaler1.transform(df[f_columns].to_numpy())\n",
    "    df['delay'] = scaler2.transform(df[['delay']])\n",
    "    return df\n",
    "\n",
    "\n",
    "\n"
   ]
  },
  {
   "cell_type": "code",
   "execution_count": null,
   "metadata": {},
   "outputs": [],
   "source": [
    "def saveFile(dataset, name='dataset'):\n",
    "    print('saving: ',name, '......')\n",
    "    f = open(name,'w')\n",
    "    try:\n",
    "        writer = csv.writer(f)\n",
    "        writer.writerow(dataset.columns)\n",
    "        for i in np.arange(int(dataset.shape[0])):\n",
    "            writer.writerow(dataset.iloc[i,])\n",
    "    finally:\n",
    "        f.close()\n",
    "        \n",
    "        \n",
    "def modeling3D(X, y):\n",
    "    Xs, ys = [], []\n",
    "    v = X.iloc[0:X.shape[0], 0:2].to_numpy()\n",
    "    Xs.append(v)\n",
    "    ys.append(y.iloc[0:X.shape[0]])\n",
    "    return np.array(Xs), np.array(ys)\n",
    "        \n",
    "def getCurrencyDf(cols):\n",
    "    cdf = pd.read_csv('sdn_train_mininet_unormalized.csv', delimiter=\",\")\n",
    "    if cdf is None:\n",
    "        cdf = pd.DataFrame([], columns = cols)\n",
    "    return cdf\n",
    "def preprocessing(MyLIst):\n",
    "    cols = ['timestamp', 'seconds', 'temperature','label' ,'delay' ]\n",
    "    currency_df = getCurrencyDf(cols)\n",
    "    \n",
    "    for i in MyLIst:\n",
    "        new_row = pd.DataFrame(MyLIst, columns = cols)\n",
    "        currency_df.append(new_row)\n",
    "    saveFile(currency_df, 'sdn_train_mininet_unormalized.csv')\n",
    "    norm = normalizing(currency_df)\n",
    "    saveFile(norm, 'sdn_train_mininet_normalized.csv')\n",
    "    window_train = norm[norm.shape[0]-WINDOW:norm.shape[0],:]\n",
    "    return modeling3D(window_train, window_train.delay)\n",
    "    "
   ]
  },
  {
   "cell_type": "code",
   "execution_count": null,
   "metadata": {},
   "outputs": [],
   "source": [
    "window = 20\n",
    "cont = 20;\n",
    "while(cont<prep_dataset.shape[0]):\n",
    "    X_test,Y_test = Timer(1.0, preprocessing, (prep_dataset.iloc[cont:prep_dataset.shape[0]-1,:]))\n",
    "    print(X_test)\n",
    "    "
   ]
  },
  {
   "cell_type": "code",
   "execution_count": null,
   "metadata": {},
   "outputs": [],
   "source": [
    "X_test.shape"
   ]
  },
  {
   "cell_type": "code",
   "execution_count": null,
   "metadata": {},
   "outputs": [],
   "source": [
    "r = []\n",
    "r.append(X_test[0])\n",
    "r = np.array(r)\n",
    "r"
   ]
  },
  {
   "cell_type": "code",
   "execution_count": null,
   "metadata": {},
   "outputs": [],
   "source": [
    "y_pred = model.predict(r)\n",
    "y_pred"
   ]
  },
  {
   "cell_type": "code",
   "execution_count": null,
   "metadata": {},
   "outputs": [],
   "source": [
    "y_test_inv = scaler2.inverse_transform(Y_test.reshape(1,-1))\n",
    "y_pred_inv = scaler2.inverse_transform(y_pred)"
   ]
  },
  {
   "cell_type": "code",
   "execution_count": null,
   "metadata": {},
   "outputs": [],
   "source": [
    "\n",
    "# plt.plot(y_pred_inv.flatten(),'r',marker='.', label='predicted')\n",
    "plt.plot(y_test_inv.flatten(), marker='.', label='true')\n",
    "plt.legend();"
   ]
  },
  {
   "cell_type": "code",
   "execution_count": null,
   "metadata": {},
   "outputs": [],
   "source": [
    "plt.plot(y_pred_inv.flatten(),'r',marker='.', label='predicted')"
   ]
  },
  {
   "cell_type": "code",
   "execution_count": null,
   "metadata": {},
   "outputs": [],
   "source": [
    "plt.plot(y_test_inv.flatten(), marker='.', label='true')\n",
    "plt.plot(y_pred_inv.flatten(),'r',marker='.', label='predicted')\n",
    "\n",
    "plt.legend();"
   ]
  },
  {
   "cell_type": "code",
   "execution_count": null,
   "metadata": {},
   "outputs": [],
   "source": [
    "y_pred_inv[:,0]"
   ]
  },
  {
   "cell_type": "code",
   "execution_count": null,
   "metadata": {},
   "outputs": [],
   "source": [
    "y_test_inv[0]"
   ]
  },
  {
   "cell_type": "code",
   "execution_count": null,
   "metadata": {},
   "outputs": [],
   "source": [
    "mean_squared_error(y_test_inv[0], y_pred_inv[:,0])"
   ]
  },
  {
   "cell_type": "code",
   "execution_count": null,
   "metadata": {},
   "outputs": [],
   "source": []
  },
  {
   "cell_type": "code",
   "execution_count": null,
   "metadata": {},
   "outputs": [],
   "source": []
  },
  {
   "cell_type": "code",
   "execution_count": null,
   "metadata": {},
   "outputs": [],
   "source": []
  }
 ],
 "metadata": {
  "kernelspec": {
   "display_name": "Python 3",
   "language": "python",
   "name": "python3"
  },
  "language_info": {
   "codemirror_mode": {
    "name": "ipython",
    "version": 3
   },
   "file_extension": ".py",
   "mimetype": "text/x-python",
   "name": "python",
   "nbconvert_exporter": "python",
   "pygments_lexer": "ipython3",
   "version": "3.8.5"
  }
 },
 "nbformat": 4,
 "nbformat_minor": 4
}
