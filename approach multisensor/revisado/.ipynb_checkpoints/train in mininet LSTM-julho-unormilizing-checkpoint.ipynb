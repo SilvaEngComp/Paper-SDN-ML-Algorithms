{
 "cells": [
  {
   "cell_type": "code",
   "execution_count": 1,
   "metadata": {},
   "outputs": [],
   "source": [
    "import os\n",
    "os.environ[\"TF_CPP_MIN_LOG_LEVEL\"] = \"2\""
   ]
  },
  {
   "cell_type": "code",
   "execution_count": 2,
   "metadata": {},
   "outputs": [],
   "source": [
    "import tensorflow as tf\n",
    "from tensorflow import keras\n",
    "from tensorflow.keras import layers\n",
    "import matplotlib.pyplot as plt\n",
    "import seaborn as sns\n",
    "import csv\n",
    "import datetime\n",
    "\n",
    "import pandas as pd\n",
    "import numpy as np\n",
    "from sklearn.model_selection import train_test_split\n",
    "from sklearn.metrics import mean_squared_error\n",
    "from sklearn.preprocessing import StandardScaler\n",
    "from threading import Timer\n",
    "from timeit import default_timer as timer\n",
    "from IPython.display import clear_output"
   ]
  },
  {
   "cell_type": "markdown",
   "metadata": {},
   "source": [
    "# checking GPU erros"
   ]
  },
  {
   "cell_type": "code",
   "execution_count": 3,
   "metadata": {},
   "outputs": [],
   "source": [
    "# physical_devices = tf.config.list_physical_devices(\"GPU\")\n",
    "# physical_devices\n",
    "# tf.config.experimental.set_memory_growth(physical_devices[0], True)"
   ]
  },
  {
   "cell_type": "code",
   "execution_count": 4,
   "metadata": {},
   "outputs": [],
   "source": [
    "def preprocessiing():\n",
    "   \n",
    "    prep_dataset1 = pd.read_csv('../datasets/dataset_test_02_07.csv', delimiter=\",\")\n",
    "    df = prep_dataset1.iloc[:,1:4]\n",
    "    WINDOW = 35\n",
    "\n",
    "    for i in np.arange(df.shape[0]):    \n",
    "        init = i*WINDOW\n",
    "        init2 = (i+1)*WINDOW\n",
    "        if(init2<df.shape[0]):\n",
    "            df.iloc[init:init+WINDOW,2] =  df.iloc[init2,2]\n",
    "    df2 = normalizing(df)\n",
    "    train_size = int(len(df2) * 0.8)\n",
    "    test_size = len(df2) - train_size\n",
    "    return df2.iloc[0:train_size], df2.iloc[train_size:len(df2)]"
   ]
  },
  {
   "cell_type": "code",
   "execution_count": 5,
   "metadata": {},
   "outputs": [],
   "source": [
    "def normalizing(dataset):\n",
    "    df_norm = pd.read_csv('../datasets/dataset_test_02_07.csv', delimiter=\",\")\n",
    "    df_norm = df_norm.iloc[:,1:4]\n",
    "    scaler = StandardScaler().fit(df_norm)\n",
    "\n",
    "    scaler = scaler.fit(df_norm[['delay']])\n",
    "\n",
    "    dataset['delay'] = scaler.transform(dataset[['delay']])\n",
    "    return dataset\n",
    "\n",
    "\n",
    "def unormalizing(Y_test,y_pred ):\n",
    "    df_norm = pd.read_csv('../datasets/dataset_test_02_07.csv', delimiter=\",\")\n",
    "    df_norm = df_norm.iloc[:,1:4]\n",
    "    scaler = StandardScaler().fit(df_norm)\n",
    "    scaler = scaler.fit(df_norm[['delay']])\n",
    "    y_test_inv = scaler.inverse_transform(Y_test.reshape(1,-1))\n",
    "    y_pred_inv = scaler.inverse_transform(y_pred)\n",
    "    \n",
    "    return y_test_inv, y_pred_inv\n"
   ]
  },
  {
   "cell_type": "code",
   "execution_count": 6,
   "metadata": {},
   "outputs": [],
   "source": [
    "def create_dataset(X, y, time_steps=1):\n",
    "    Xs, ys = [], []    \n",
    "    for i in range(len(X) - time_steps):\n",
    "        clear_output(wait=True)\n",
    "        print('modeling to keras ',round((i/(len(X) - time_steps))*100,2), ('%'), end='')\n",
    "        s = round(timer() - start)\n",
    "        if(s>60):\n",
    "            s /=60\n",
    "            print(' ', s, ' seconds')\n",
    "        v = X.iloc[i: (i+time_steps), 2:3].to_numpy()\n",
    "        Xs.append(v)\n",
    "        ys.append(y.iloc[i+time_steps])\n",
    "    return np.array(Xs), np.array(ys)"
   ]
  },
  {
   "cell_type": "code",
   "execution_count": 23,
   "metadata": {},
   "outputs": [],
   "source": [
    "def LSTMconf(X_train):\n",
    "    print('Init config LSTM')\n",
    "    model = keras.Sequential()\n",
    "    model.add(\n",
    "            keras.layers.LSTM(\n",
    "                units=512,\n",
    "                input_shape=(X_train.shape[1],X_train.shape[2]),\n",
    "                recurrent_activation=\"relu\",\n",
    "            )\n",
    "        )\n",
    "    \n",
    "    model.add(keras.layers.Dense(units=256, activation=\"relu\"))\n",
    "    model.add(keras.layers.Dropout(rate=0.75))\n",
    "    model.add(keras.layers.Dense(units=128, activation=\"relu\"))\n",
    "    \n",
    "    model.add(keras.layers.Dense(units=1))\n",
    "    \n",
    "    loss =\"mse\"\n",
    "    optim = tf.keras.optimizers.Adam(\n",
    "    learning_rate=0.0001)\n",
    "    \n",
    "\n",
    "    model.compile(loss=loss, optimizer=optim, \n",
    "#              metrics=metrics\n",
    "             )\n",
    "    \n",
    "    \n",
    "    return model\n",
    "    "
   ]
  },
  {
   "cell_type": "code",
   "execution_count": 24,
   "metadata": {},
   "outputs": [],
   "source": [
    "def LSTMfit(model,X_train,Y_train):\n",
    "    print('Init Train')\n",
    "    start = timer()\n",
    "    log_dir = \"logs/fit/\" + datetime.datetime.now().strftime(\"%Y%m%d-%H%M%S\")\n",
    "    tensorboard_callback = tf.keras.callbacks.TensorBoard(log_dir=log_dir, histogram_freq=1)\n",
    "    history = model.fit(\n",
    "        X_train, Y_train, \n",
    "        epochs=12, \n",
    "        batch_size= 128,\n",
    "        validation_split=0.1,\n",
    "        shuffle=False,\n",
    "        callbacks=[tensorboard_callback]\n",
    "    )\n",
    "    return history\n"
   ]
  },
  {
   "cell_type": "code",
   "execution_count": 25,
   "metadata": {},
   "outputs": [],
   "source": [
    "start = timer()\n",
    "train, test = preprocessiing()\n",
    "\n"
   ]
  },
  {
   "cell_type": "code",
   "execution_count": 26,
   "metadata": {},
   "outputs": [
    {
     "name": "stdout",
     "output_type": "stream",
     "text": [
      "modeling to keras  99.97 %Init config LSTM\n",
      "Init Train\n",
      "Epoch 1/12\n",
      "28/28 [==============================] - 7s 158ms/step - loss: 1.1425 - val_loss: 0.7320\n",
      "Epoch 2/12\n",
      "28/28 [==============================] - 1s 21ms/step - loss: 1.1349 - val_loss: 0.7410\n",
      "Epoch 3/12\n",
      "28/28 [==============================] - 1s 21ms/step - loss: 1.1300 - val_loss: 0.7558\n",
      "Epoch 4/12\n",
      "28/28 [==============================] - 1s 21ms/step - loss: 1.1225 - val_loss: 0.7728\n",
      "Epoch 5/12\n",
      "28/28 [==============================] - 1s 22ms/step - loss: 1.1127 - val_loss: 0.7923\n",
      "Epoch 6/12\n",
      "28/28 [==============================] - 1s 22ms/step - loss: 1.1002 - val_loss: 0.8123\n",
      "Epoch 7/12\n",
      "28/28 [==============================] - 1s 22ms/step - loss: 1.0825 - val_loss: 0.8312\n",
      "Epoch 8/12\n",
      "28/28 [==============================] - 1s 21ms/step - loss: 1.0563 - val_loss: 0.8501\n",
      "Epoch 9/12\n",
      "28/28 [==============================] - 1s 21ms/step - loss: 1.0147 - val_loss: 0.8668\n",
      "Epoch 10/12\n",
      "28/28 [==============================] - 1s 21ms/step - loss: 0.9493 - val_loss: 0.8797\n",
      "Epoch 11/12\n",
      "28/28 [==============================] - 1s 21ms/step - loss: 0.8500 - val_loss: 0.8828\n",
      "Epoch 12/12\n",
      "28/28 [==============================] - 1s 21ms/step - loss: 0.7155 - val_loss: 0.8669\n"
     ]
    }
   ],
   "source": [
    "\n",
    "X_train,Y_train = create_dataset(train, train.delay)\n",
    "model = LSTMconf(X_train)\n",
    "history = LSTMfit(model,X_train, Y_train)\n"
   ]
  },
  {
   "cell_type": "code",
   "execution_count": 27,
   "metadata": {},
   "outputs": [
    {
     "name": "stdout",
     "output_type": "stream",
     "text": [
      "The tensorboard extension is already loaded. To reload it, use:\n",
      "  %reload_ext tensorboard\n"
     ]
    },
    {
     "data": {
      "text/plain": [
       "Reusing TensorBoard on port 6006 (pid 13336), started 3:07:11 ago. (Use '!kill 13336' to kill it.)"
      ]
     },
     "metadata": {},
     "output_type": "display_data"
    },
    {
     "data": {
      "text/html": [
       "\n",
       "      <iframe id=\"tensorboard-frame-faf8445a760295c8\" width=\"100%\" height=\"800\" frameborder=\"0\">\n",
       "      </iframe>\n",
       "      <script>\n",
       "        (function() {\n",
       "          const frame = document.getElementById(\"tensorboard-frame-faf8445a760295c8\");\n",
       "          const url = new URL(\"/\", window.location);\n",
       "          const port = 6006;\n",
       "          if (port) {\n",
       "            url.port = port;\n",
       "          }\n",
       "          frame.src = url;\n",
       "        })();\n",
       "      </script>\n",
       "    "
      ],
      "text/plain": [
       "<IPython.core.display.HTML object>"
      ]
     },
     "metadata": {},
     "output_type": "display_data"
    }
   ],
   "source": [
    "# Load the TensorBoard notebook extension\n",
    "%load_ext tensorboard\n",
    "%tensorboard --logdir logs/fit"
   ]
  },
  {
   "cell_type": "code",
   "execution_count": 28,
   "metadata": {},
   "outputs": [
    {
     "name": "stdout",
     "output_type": "stream",
     "text": [
      "Saving Model\n",
      "INFO:tensorflow:Assets written to: models/lstm_mininet\\assets\n"
     ]
    },
    {
     "name": "stderr",
     "output_type": "stream",
     "text": [
      "INFO:tensorflow:Assets written to: models/lstm_mininet\\assets\n"
     ]
    }
   ],
   "source": [
    "print('Saving Model')\n",
    "model.save('models/lstm_mininet')"
   ]
  },
  {
   "cell_type": "markdown",
   "metadata": {},
   "source": [
    "# loss training"
   ]
  },
  {
   "cell_type": "code",
   "execution_count": 29,
   "metadata": {},
   "outputs": [
    {
     "data": {
      "image/png": "[encoded data removed]",
      "text/plain": [
       "<Figure size 432x288 with 1 Axes>"
      ]
     },
     "metadata": {
      "needs_background": "light"
     },
     "output_type": "display_data"
    }
   ],
   "source": [
    "\n",
    "fig1 = plt.figure()\n",
    "ax1 = fig1.add_subplot(1,1,1)\n",
    "ax1.plot(history.history['loss'], label='train')\n",
    "ax1.plot(history.history['val_loss'], label='validation')\n",
    "ax1.legend();"
   ]
  },
  {
   "cell_type": "code",
   "execution_count": 30,
   "metadata": {},
   "outputs": [
    {
     "name": "stdout",
     "output_type": "stream",
     "text": [
      "modeling to keras  99.9 %"
     ]
    }
   ],
   "source": [
    "X_test,Y_test = create_dataset(test, test.delay)"
   ]
  },
  {
   "cell_type": "markdown",
   "metadata": {},
   "source": [
    "# predicting"
   ]
  },
  {
   "cell_type": "code",
   "execution_count": 31,
   "metadata": {},
   "outputs": [],
   "source": [
    "y_pred = model.predict(X_test)"
   ]
  },
  {
   "cell_type": "code",
   "execution_count": 32,
   "metadata": {},
   "outputs": [],
   "source": [
    "y_test_inv, y_pred_inv = unormalizing(Y_test, y_pred)"
   ]
  },
  {
   "cell_type": "markdown",
   "metadata": {},
   "source": [
    "# unormalizing"
   ]
  },
  {
   "cell_type": "code",
   "execution_count": 33,
   "metadata": {},
   "outputs": [
    {
     "data": {
      "image/png": "[encoded data removed]",
      "text/plain": [
       "<Figure size 432x288 with 1 Axes>"
      ]
     },
     "metadata": {
      "needs_background": "light"
     },
     "output_type": "display_data"
    }
   ],
   "source": [
    "fig2 = plt.figure()\n",
    "a2 = fig2.add_subplot(1,1,1)\n",
    "a2.plot(y_test_inv.flatten(), marker='.', label='true')\n",
    "a2.legend();"
   ]
  },
  {
   "cell_type": "code",
   "execution_count": 34,
   "metadata": {},
   "outputs": [
    {
     "data": {
      "image/png": "[encoded data removed]",
      "text/plain": [
       "<Figure size 432x288 with 1 Axes>"
      ]
     },
     "metadata": {
      "needs_background": "light"
     },
     "output_type": "display_data"
    }
   ],
   "source": [
    "fig3 = plt.figure()\n",
    "a3 = fig3.add_subplot(1,1,1)\n",
    "a3.plot(y_pred_inv.flatten(),'r',marker='.', label='predicted')\n",
    "a3.legend();"
   ]
  },
  {
   "cell_type": "code",
   "execution_count": 35,
   "metadata": {},
   "outputs": [
    {
     "data": {
      "image/png": "[encoded data removed]",
      "text/plain": [
       "<Figure size 432x288 with 1 Axes>"
      ]
     },
     "metadata": {
      "needs_background": "light"
     },
     "output_type": "display_data"
    }
   ],
   "source": [
    "fig4 = plt.figure()\n",
    "a4 = fig4.add_subplot(1,1,1)\n",
    "\n",
    "a4.plot(y_test_inv.flatten(), marker='.', label='true')\n",
    "a4.plot(y_pred_inv.flatten(),'r',marker='.', label='predicted')\n",
    "a4.legend();"
   ]
  },
  {
   "cell_type": "code",
   "execution_count": 36,
   "metadata": {},
   "outputs": [],
   "source": [
    "from sklearn.metrics import mean_squared_error\n",
    "from sklearn.metrics import median_absolute_error\n",
    "from sklearn.metrics import mean_absolute_error\n",
    "from sklearn.metrics import mean_squared_log_error\n",
    "from sklearn.metrics import explained_variance_score"
   ]
  },
  {
   "cell_type": "code",
   "execution_count": 37,
   "metadata": {},
   "outputs": [
    {
     "name": "stdout",
     "output_type": "stream",
     "text": [
      "0.859388889459285\n",
      "0.857906193509705\n",
      "0.8464549778325784\n",
      "Explained Variance Score:  0.021937698181709098\n"
     ]
    }
   ],
   "source": [
    "size = np.min([y_pred.shape[0],Y_test.shape[0] ])\n",
    "rmse =  mean_squared_error(Y_test[0:size], y_pred[0:size], squared=False)\n",
    "mae =  mean_absolute_error(Y_test[0:size], y_pred[0:size])\n",
    "median_mae = median_absolute_error(Y_test[0:size], y_pred[0:size])\n",
    "evs = explained_variance_score(Y_test[0:size], y_pred[0:size])\n",
    "\n",
    "print(rmse)\n",
    "print(mae)\n",
    "print(median_mae)\n",
    "print('Explained Variance Score: ',evs)"
   ]
  },
  {
   "cell_type": "code",
   "execution_count": 38,
   "metadata": {},
   "outputs": [
    {
     "data": {
      "image/png": "[encoded data removed]",
      "text/plain": [
       "<Figure size 432x288 with 1 Axes>"
      ]
     },
     "metadata": {
      "needs_background": "light"
     },
     "output_type": "display_data"
    }
   ],
   "source": [
    "objects = ('rmse', 'mae', 'median-mae')\n",
    "y_pos = np.arange(3)\n",
    "performance = [rmse,mae,median_mae]\n",
    "\n",
    "plt.bar(y_pos, performance, align='center')\n",
    "plt.xticks(y_pos, objects)\n",
    "#plt.ylabel('Usage')\n",
    "plt.title('Métricas regressão')\n",
    "\n",
    "plt.show()"
   ]
  },
  {
   "cell_type": "code",
   "execution_count": null,
   "metadata": {},
   "outputs": [],
   "source": []
  },
  {
   "cell_type": "code",
   "execution_count": null,
   "metadata": {},
   "outputs": [],
   "source": []
  },
  {
   "cell_type": "code",
   "execution_count": null,
   "metadata": {},
   "outputs": [],
   "source": []
  },
  {
   "cell_type": "code",
   "execution_count": null,
   "metadata": {},
   "outputs": [],
   "source": []
  },
  {
   "cell_type": "code",
   "execution_count": null,
   "metadata": {},
   "outputs": [],
   "source": []
  }
 ],
 "metadata": {
  "kernelspec": {
   "display_name": "Python 3",
   "language": "python",
   "name": "python3"
  },
  "language_info": {
   "codemirror_mode": {
    "name": "ipython",
    "version": 3
   },
   "file_extension": ".py",
   "mimetype": "text/x-python",
   "name": "python",
   "nbconvert_exporter": "python",
   "pygments_lexer": "ipython3",
   "version": "3.8.5"
  }
 },
 "nbformat": 4,
 "nbformat_minor": 4
}
