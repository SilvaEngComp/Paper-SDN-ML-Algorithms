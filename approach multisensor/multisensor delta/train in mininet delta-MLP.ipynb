{
 "cells": [
  {
   "cell_type": "code",
   "execution_count": 1,
   "metadata": {},
   "outputs": [],
   "source": [
    "import os\n",
    "os.environ[\"TF_CPP_MIN_LOG_LEVEL\"] = \"2\""
   ]
  },
  {
   "cell_type": "code",
   "execution_count": 2,
   "metadata": {},
   "outputs": [],
   "source": [
    "import tensorflow as tf\n",
    "from tensorflow import keras\n",
    "from tensorflow.keras import layers\n",
    "import matplotlib.pyplot as plt\n",
    "import seaborn as sns\n",
    "import csv\n",
    "\n",
    "import pandas as pd\n",
    "import numpy as np\n",
    "from sklearn.model_selection import train_test_split\n",
    "from sklearn.metrics import mean_squared_error\n",
    "from sklearn.preprocessing import StandardScaler\n",
    "from threading import Timer\n",
    "from timeit import default_timer as timer\n",
    "from IPython.display import clear_output"
   ]
  },
  {
   "cell_type": "code",
   "execution_count": 3,
   "metadata": {},
   "outputs": [],
   "source": [
    "start = timer()\n",
    "prep_dataset1 = pd.read_csv('datasets/com_concept_drift/sdn_train_unormalized1.csv', delimiter=\",\")\n",
    "prep_dataset2 = pd.read_csv('datasets/com_concept_drift/sdn_train_unormalized2.csv', delimiter=\",\")\n",
    "prep_dataset3 = pd.read_csv('datasets/com_concept_drift/sdn_train_unormalized3.csv', delimiter=\",\")\n",
    "prep_test = pd.read_csv('datasets/com_concept_drift/sdn_test_unormalized.csv', delimiter=\",\")\n",
    "\n",
    "prep_dataset1 = prep_dataset1[prep_dataset1.delay>0]\n",
    "prep_dataset2 = prep_dataset2[prep_dataset2.delay>0]\n",
    "prep_dataset3 = prep_dataset3[prep_dataset3.delay>0]\n",
    "prep_test = prep_test[prep_test.delay>0]\n"
   ]
  },
  {
   "cell_type": "markdown",
   "metadata": {},
   "source": [
    "# Normalizing"
   ]
  },
  {
   "cell_type": "code",
   "execution_count": 4,
   "metadata": {},
   "outputs": [],
   "source": [
    "def normalizing(df):\n",
    "    f_columns = ['temperature','label']\n",
    "    scaler1 = StandardScaler().fit(df)\n",
    "    scaler2 = StandardScaler().fit(df)\n",
    "\n",
    "    scaler1= scaler1.fit(df[f_columns].to_numpy())\n",
    "    scaler2 = scaler2.fit(df[['delay']])\n",
    "\n",
    "    df.loc[:,f_columns] = scaler1.transform(df[f_columns].to_numpy())\n",
    "    df['delay'] = scaler2.transform(df[['delay']])\n",
    "    return df\n",
    "\n",
    "\n",
    "def unormalizing(df,Y_test,y_pred ):\n",
    "    scaler = StandardScaler().fit(df)\n",
    "    scaler = scaler.fit(df[['delay']])\n",
    "    y_test_inv = scaler.inverse_transform(Y_test.reshape(1,-1))\n",
    "    y_pred_inv = scaler.inverse_transform(y_pred)\n",
    "    \n",
    "    return y_test_inv, y_pred_inv\n"
   ]
  },
  {
   "cell_type": "code",
   "execution_count": 5,
   "metadata": {},
   "outputs": [],
   "source": [
    "def saveFile(dataset, name='dataset'):\n",
    "    print('saving: ',name, '......')\n",
    "    f = open(name,'w')\n",
    "    try:\n",
    "        writer = csv.writer(f)\n",
    "        writer.writerow(dataset.columns)\n",
    "        for i in np.arange(int(dataset.shape[0])):\n",
    "            writer.writerow(dataset.iloc[i,])\n",
    "    finally:\n",
    "        f.close()\n",
    "        \n",
    "\n",
    "def preprocessing(dataset, order): \n",
    "    window = 20\n",
    "    cont = 0;\n",
    "    cols = ['timestamp','temperature','label' ,'delay' ]\n",
    "    newSet = []\n",
    "    while(cont<dataset.shape[0]):\n",
    "        MyLIst = dataset.iloc[cont:cont+window,:]\n",
    "        cont+=20\n",
    "        deltaT = np.max(MyLIst.temperature) - np.min(MyLIst.temperature)\n",
    "        deltaTime = np.max(MyLIst.seconds) - np.min(MyLIst.seconds)\n",
    "        meanDelay = np.mean(MyLIst.delay)\n",
    "        label=MyLIst.iloc[0,3]   \n",
    "        newSet.append([deltaTime,deltaT,label,meanDelay])\n",
    "    delta_df = pd.DataFrame(np.array(newSet), columns = cols)\n",
    "    saveFile(delta_df, 'datasets/delta/sdn_train_mininet_unormalized_'+order+'.csv')\n",
    "    norm = normalizing(delta_df)\n",
    "    saveFile(norm, 'datasets/delta/sdn_train_mininet_normalized_'+order+'.csv')\n",
    "\n",
    "    return norm\n",
    "    "
   ]
  },
  {
   "cell_type": "code",
   "execution_count": 6,
   "metadata": {},
   "outputs": [],
   "source": [
    "def create_dataset(X, y, time_steps=1):\n",
    "    Xs, ys = [], []    \n",
    "    for i in range(len(X) - time_steps):\n",
    "        clear_output(wait=True)\n",
    "        print('modeling to keras ',round((i/(len(X) - time_steps))*100,2), ('%'), end='')\n",
    "        s = round(timer() - start)\n",
    "        if(s>60):\n",
    "            s /=60\n",
    "            print(' ', s, ' seconds')\n",
    "        v = X.iloc[i: (i+time_steps), 1:3].to_numpy()\n",
    "        Xs.append(v)\n",
    "        ys.append(y.iloc[i+time_steps])\n",
    "    return np.array(Xs), np.array(ys)"
   ]
  },
  {
   "cell_type": "code",
   "execution_count": 7,
   "metadata": {},
   "outputs": [
    {
     "name": "stdout",
     "output_type": "stream",
     "text": [
      "saving:  datasets/delta/sdn_train_mininet_unormalized_1.csv ......\n",
      "saving:  datasets/delta/sdn_train_mininet_normalized_1.csv ......\n",
      "saving:  datasets/delta/sdn_train_mininet_unormalized_2.csv ......\n",
      "saving:  datasets/delta/sdn_train_mininet_normalized_2.csv ......\n",
      "saving:  datasets/delta/sdn_train_mininet_unormalized_3.csv ......\n",
      "saving:  datasets/delta/sdn_train_mininet_normalized_3.csv ......\n",
      "saving:  datasets/delta/sdn_train_mininet_unormalized_test.csv ......\n",
      "saving:  datasets/delta/sdn_train_mininet_normalized_test.csv ......\n"
     ]
    },
    {
     "data": {
      "text/html": [
       "<div>\n",
       "<style scoped>\n",
       "    .dataframe tbody tr th:only-of-type {\n",
       "        vertical-align: middle;\n",
       "    }\n",
       "\n",
       "    .dataframe tbody tr th {\n",
       "        vertical-align: top;\n",
       "    }\n",
       "\n",
       "    .dataframe thead th {\n",
       "        text-align: right;\n",
       "    }\n",
       "</style>\n",
       "<table border=\"1\" class=\"dataframe\">\n",
       "  <thead>\n",
       "    <tr style=\"text-align: right;\">\n",
       "      <th></th>\n",
       "      <th>timestamp</th>\n",
       "      <th>temperature</th>\n",
       "      <th>label</th>\n",
       "      <th>delay</th>\n",
       "    </tr>\n",
       "  </thead>\n",
       "  <tbody>\n",
       "    <tr>\n",
       "      <th>0</th>\n",
       "      <td>3030.0</td>\n",
       "      <td>2.855213</td>\n",
       "      <td>-0.191966</td>\n",
       "      <td>-0.023848</td>\n",
       "    </tr>\n",
       "    <tr>\n",
       "      <th>1</th>\n",
       "      <td>1740.0</td>\n",
       "      <td>-0.192323</td>\n",
       "      <td>-0.191966</td>\n",
       "      <td>-0.023848</td>\n",
       "    </tr>\n",
       "    <tr>\n",
       "      <th>2</th>\n",
       "      <td>1320.0</td>\n",
       "      <td>-0.275437</td>\n",
       "      <td>-0.191966</td>\n",
       "      <td>0.140706</td>\n",
       "    </tr>\n",
       "    <tr>\n",
       "      <th>3</th>\n",
       "      <td>1590.0</td>\n",
       "      <td>-0.303142</td>\n",
       "      <td>-0.191966</td>\n",
       "      <td>0.305260</td>\n",
       "    </tr>\n",
       "    <tr>\n",
       "      <th>4</th>\n",
       "      <td>1500.0</td>\n",
       "      <td>-0.303142</td>\n",
       "      <td>-0.191966</td>\n",
       "      <td>0.305260</td>\n",
       "    </tr>\n",
       "    <tr>\n",
       "      <th>...</th>\n",
       "      <td>...</td>\n",
       "      <td>...</td>\n",
       "      <td>...</td>\n",
       "      <td>...</td>\n",
       "    </tr>\n",
       "    <tr>\n",
       "      <th>1233</th>\n",
       "      <td>2583.0</td>\n",
       "      <td>0.250955</td>\n",
       "      <td>-0.191966</td>\n",
       "      <td>-0.106125</td>\n",
       "    </tr>\n",
       "    <tr>\n",
       "      <th>1234</th>\n",
       "      <td>3007.0</td>\n",
       "      <td>0.306365</td>\n",
       "      <td>-0.191966</td>\n",
       "      <td>-0.106125</td>\n",
       "    </tr>\n",
       "    <tr>\n",
       "      <th>1235</th>\n",
       "      <td>2910.0</td>\n",
       "      <td>0.638823</td>\n",
       "      <td>-0.191966</td>\n",
       "      <td>-0.050360</td>\n",
       "    </tr>\n",
       "    <tr>\n",
       "      <th>1236</th>\n",
       "      <td>2909.0</td>\n",
       "      <td>0.888167</td>\n",
       "      <td>-0.191966</td>\n",
       "      <td>-0.050360</td>\n",
       "    </tr>\n",
       "    <tr>\n",
       "      <th>1237</th>\n",
       "      <td>1859.0</td>\n",
       "      <td>-0.026094</td>\n",
       "      <td>-0.191966</td>\n",
       "      <td>-0.062029</td>\n",
       "    </tr>\n",
       "  </tbody>\n",
       "</table>\n",
       "<p>1238 rows × 4 columns</p>\n",
       "</div>"
      ],
      "text/plain": [
       "      timestamp  temperature     label     delay\n",
       "0        3030.0     2.855213 -0.191966 -0.023848\n",
       "1        1740.0    -0.192323 -0.191966 -0.023848\n",
       "2        1320.0    -0.275437 -0.191966  0.140706\n",
       "3        1590.0    -0.303142 -0.191966  0.305260\n",
       "4        1500.0    -0.303142 -0.191966  0.305260\n",
       "...         ...          ...       ...       ...\n",
       "1233     2583.0     0.250955 -0.191966 -0.106125\n",
       "1234     3007.0     0.306365 -0.191966 -0.106125\n",
       "1235     2910.0     0.638823 -0.191966 -0.050360\n",
       "1236     2909.0     0.888167 -0.191966 -0.050360\n",
       "1237     1859.0    -0.026094 -0.191966 -0.062029\n",
       "\n",
       "[1238 rows x 4 columns]"
      ]
     },
     "execution_count": 7,
     "metadata": {},
     "output_type": "execute_result"
    }
   ],
   "source": [
    "preprocessing(prep_dataset1, '1')\n",
    "preprocessing(prep_dataset2, '2')\n",
    "preprocessing(prep_dataset3, '3')\n",
    "preprocessing(prep_test, 'test')"
   ]
  },
  {
   "cell_type": "code",
   "execution_count": 8,
   "metadata": {},
   "outputs": [],
   "source": [
    "def LSTMconf(X_train):\n",
    "    print('Init config MPL')\n",
    "    #configurando rede para treinamento\n",
    "    model = keras.Sequential()\n",
    "    model.add(tf.keras.layers.Dense(activation=\"relu\", input_dim=2, units=10, kernel_initializer='uniform'))\n",
    "    model.add(tf.keras.layers.Dense(activation=\"relu\", units=128, kernel_initializer='uniform'))\n",
    "    model.add(tf.keras.layers.Dense(activation=\"relu\", units=128, kernel_initializer='uniform'))\n",
    "    model.add(tf.keras.layers.Dense(activation=\"relu\", units=128, kernel_initializer='uniform'))\n",
    "    model.add(keras.layers.Dropout(rate=0.2))\n",
    "    model.add(keras.layers.Dense(units=1))\n",
    "    \n",
    "    loss =\"mse\"\n",
    "    optim = tf.keras.optimizers.Adam(\n",
    "    learning_rate=0.0001)\n",
    "    metrics=[\"accuracy\"]\n",
    "\n",
    "    model.compile(loss=loss, optimizer=optim, \n",
    "#              metrics=metrics\n",
    "             )\n",
    "    return model\n",
    "    "
   ]
  },
  {
   "cell_type": "code",
   "execution_count": 81,
   "metadata": {},
   "outputs": [],
   "source": [
    "def LSTMfit(model,X_train,Y_train):\n",
    "    print('Init Train')\n",
    "    start = timer()\n",
    "    history = model.fit(\n",
    "        X_train, Y_train, \n",
    "        epochs=100, \n",
    "        batch_size= 32,\n",
    "        validation_split=0.25,\n",
    "        shuffle=False,\n",
    "    #     callbacks=[tensorboard_callback]\n",
    "    )\n",
    "    return history\n"
   ]
  },
  {
   "cell_type": "code",
   "execution_count": 82,
   "metadata": {},
   "outputs": [
    {
     "name": "stdout",
     "output_type": "stream",
     "text": [
      "modeling to keras  99.93 %  34.11666666666667  seconds\n",
      "Init Train\n",
      "Epoch 1/100\n",
      "26/36 [====================>.........] - ETA: 0s - loss: 0.4843WARNING:tensorflow:Model was constructed with shape (None, 2) for input KerasTensor(type_spec=TensorSpec(shape=(None, 2), dtype=tf.float32, name='dense_20_input'), name='dense_20_input', description=\"created by layer 'dense_20_input'\"), but it was called on an input with incompatible shape (32, 1, 2).\n",
      "36/36 [==============================] - 0s 8ms/step - loss: 0.5347 - val_loss: 2.4544\n",
      "Epoch 2/100\n",
      "36/36 [==============================] - 0s 3ms/step - loss: 0.5318 - val_loss: 2.4582\n",
      "Epoch 3/100\n",
      "36/36 [==============================] - 0s 3ms/step - loss: 0.5220 - val_loss: 2.4595\n",
      "Epoch 4/100\n",
      "36/36 [==============================] - 0s 3ms/step - loss: 0.5237 - val_loss: 2.4614\n",
      "Epoch 5/100\n",
      "36/36 [==============================] - 0s 2ms/step - loss: 0.5193 - val_loss: 2.4626\n",
      "Epoch 6/100\n",
      "36/36 [==============================] - 0s 3ms/step - loss: 0.5218 - val_loss: 2.4632\n",
      "Epoch 7/100\n",
      "36/36 [==============================] - 0s 3ms/step - loss: 0.5203 - val_loss: 2.4649\n",
      "Epoch 8/100\n",
      "36/36 [==============================] - 0s 2ms/step - loss: 0.5233 - val_loss: 2.4657\n",
      "Epoch 9/100\n",
      "36/36 [==============================] - 0s 3ms/step - loss: 0.5163 - val_loss: 2.4664\n",
      "Epoch 10/100\n",
      "36/36 [==============================] - 0s 3ms/step - loss: 0.5182 - val_loss: 2.4663\n",
      "Epoch 11/100\n",
      "36/36 [==============================] - 0s 2ms/step - loss: 0.5225 - val_loss: 2.4667\n",
      "Epoch 12/100\n",
      "36/36 [==============================] - 0s 2ms/step - loss: 0.5211 - val_loss: 2.4677\n",
      "Epoch 13/100\n",
      "36/36 [==============================] - 0s 2ms/step - loss: 0.5186 - val_loss: 2.4674\n",
      "Epoch 14/100\n",
      "36/36 [==============================] - 0s 2ms/step - loss: 0.5201 - val_loss: 2.4671\n",
      "Epoch 15/100\n",
      "36/36 [==============================] - 0s 2ms/step - loss: 0.5218 - val_loss: 2.4671\n",
      "Epoch 16/100\n",
      "36/36 [==============================] - 0s 2ms/step - loss: 0.5194 - val_loss: 2.4680\n",
      "Epoch 17/100\n",
      "36/36 [==============================] - 0s 2ms/step - loss: 0.5180 - val_loss: 2.4682\n",
      "Epoch 18/100\n",
      "36/36 [==============================] - 0s 2ms/step - loss: 0.5187 - val_loss: 2.4692\n",
      "Epoch 19/100\n",
      "36/36 [==============================] - 0s 2ms/step - loss: 0.5187 - val_loss: 2.4697\n",
      "Epoch 20/100\n",
      "36/36 [==============================] - 0s 2ms/step - loss: 0.5140 - val_loss: 2.4691\n",
      "Epoch 21/100\n",
      "36/36 [==============================] - 0s 2ms/step - loss: 0.5161 - val_loss: 2.4692\n",
      "Epoch 22/100\n",
      "36/36 [==============================] - 0s 2ms/step - loss: 0.5176 - val_loss: 2.4691\n",
      "Epoch 23/100\n",
      "36/36 [==============================] - 0s 2ms/step - loss: 0.5143 - val_loss: 2.4694\n",
      "Epoch 24/100\n",
      "36/36 [==============================] - 0s 2ms/step - loss: 0.5152 - val_loss: 2.4691\n",
      "Epoch 25/100\n",
      "36/36 [==============================] - 0s 2ms/step - loss: 0.5189 - val_loss: 2.4690\n",
      "Epoch 26/100\n",
      "36/36 [==============================] - 0s 2ms/step - loss: 0.5175 - val_loss: 2.4682\n",
      "Epoch 27/100\n",
      "36/36 [==============================] - 0s 2ms/step - loss: 0.5219 - val_loss: 2.4685\n",
      "Epoch 28/100\n",
      "36/36 [==============================] - 0s 2ms/step - loss: 0.5158 - val_loss: 2.4684\n",
      "Epoch 29/100\n",
      "36/36 [==============================] - 0s 2ms/step - loss: 0.5179 - val_loss: 2.4689\n",
      "Epoch 30/100\n",
      "36/36 [==============================] - 0s 2ms/step - loss: 0.5166 - val_loss: 2.4691\n",
      "Epoch 31/100\n",
      "36/36 [==============================] - 0s 2ms/step - loss: 0.5133 - val_loss: 2.4692\n",
      "Epoch 32/100\n",
      "36/36 [==============================] - 0s 2ms/step - loss: 0.5149 - val_loss: 2.4694\n",
      "Epoch 33/100\n",
      "36/36 [==============================] - 0s 2ms/step - loss: 0.5149 - val_loss: 2.4696\n",
      "Epoch 34/100\n",
      "36/36 [==============================] - 0s 2ms/step - loss: 0.5146 - val_loss: 2.4697\n",
      "Epoch 35/100\n",
      "36/36 [==============================] - 0s 2ms/step - loss: 0.5165 - val_loss: 2.4699\n",
      "Epoch 36/100\n",
      "36/36 [==============================] - 0s 2ms/step - loss: 0.5167 - val_loss: 2.4695\n",
      "Epoch 37/100\n",
      "36/36 [==============================] - 0s 2ms/step - loss: 0.5130 - val_loss: 2.4696\n",
      "Epoch 38/100\n",
      "36/36 [==============================] - 0s 2ms/step - loss: 0.5142 - val_loss: 2.4698\n",
      "Epoch 39/100\n",
      "36/36 [==============================] - 0s 2ms/step - loss: 0.5135 - val_loss: 2.4700\n",
      "Epoch 40/100\n",
      "36/36 [==============================] - 0s 2ms/step - loss: 0.5132 - val_loss: 2.4702\n",
      "Epoch 41/100\n",
      "36/36 [==============================] - 0s 2ms/step - loss: 0.5166 - val_loss: 2.4702\n",
      "Epoch 42/100\n",
      "36/36 [==============================] - 0s 2ms/step - loss: 0.5163 - val_loss: 2.4700\n",
      "Epoch 43/100\n",
      "36/36 [==============================] - 0s 2ms/step - loss: 0.5153 - val_loss: 2.4702\n",
      "Epoch 44/100\n",
      "36/36 [==============================] - 0s 2ms/step - loss: 0.5142 - val_loss: 2.4699\n",
      "Epoch 45/100\n",
      "36/36 [==============================] - 0s 2ms/step - loss: 0.5124 - val_loss: 2.4699\n",
      "Epoch 46/100\n",
      "36/36 [==============================] - 0s 2ms/step - loss: 0.5126 - val_loss: 2.4702\n",
      "Epoch 47/100\n",
      "36/36 [==============================] - 0s 2ms/step - loss: 0.5173 - val_loss: 2.4701\n",
      "Epoch 48/100\n",
      "36/36 [==============================] - 0s 2ms/step - loss: 0.5148 - val_loss: 2.4700\n",
      "Epoch 49/100\n",
      "36/36 [==============================] - 0s 2ms/step - loss: 0.5168 - val_loss: 2.4697\n",
      "Epoch 50/100\n",
      "36/36 [==============================] - 0s 2ms/step - loss: 0.5150 - val_loss: 2.4695\n",
      "Epoch 51/100\n",
      "36/36 [==============================] - ETA: 0s - loss: 0.321 - 0s 2ms/step - loss: 0.5138 - val_loss: 2.4694\n",
      "Epoch 52/100\n",
      "36/36 [==============================] - 0s 2ms/step - loss: 0.5156 - val_loss: 2.4694\n",
      "Epoch 53/100\n",
      "36/36 [==============================] - 0s 2ms/step - loss: 0.5149 - val_loss: 2.4694\n",
      "Epoch 54/100\n",
      "36/36 [==============================] - 0s 2ms/step - loss: 0.5169 - val_loss: 2.4690\n",
      "Epoch 55/100\n",
      "36/36 [==============================] - 0s 2ms/step - loss: 0.5112 - val_loss: 2.4690\n",
      "Epoch 56/100\n",
      "36/36 [==============================] - 0s 2ms/step - loss: 0.5163 - val_loss: 2.4691\n",
      "Epoch 57/100\n",
      "36/36 [==============================] - 0s 2ms/step - loss: 0.5133 - val_loss: 2.4690\n",
      "Epoch 58/100\n",
      "36/36 [==============================] - 0s 2ms/step - loss: 0.5162 - val_loss: 2.4686\n",
      "Epoch 59/100\n",
      "36/36 [==============================] - 0s 2ms/step - loss: 0.5147 - val_loss: 2.4686\n",
      "Epoch 60/100\n",
      "36/36 [==============================] - 0s 2ms/step - loss: 0.5141 - val_loss: 2.4686\n",
      "Epoch 61/100\n",
      "36/36 [==============================] - 0s 2ms/step - loss: 0.5170 - val_loss: 2.4685\n",
      "Epoch 62/100\n",
      "36/36 [==============================] - 0s 2ms/step - loss: 0.5130 - val_loss: 2.4681\n",
      "Epoch 63/100\n",
      "36/36 [==============================] - 0s 2ms/step - loss: 0.5146 - val_loss: 2.4676\n",
      "Epoch 64/100\n",
      "36/36 [==============================] - 0s 2ms/step - loss: 0.5130 - val_loss: 2.4677\n",
      "Epoch 65/100\n",
      "36/36 [==============================] - 0s 2ms/step - loss: 0.5161 - val_loss: 2.4677\n",
      "Epoch 66/100\n",
      "36/36 [==============================] - 0s 2ms/step - loss: 0.5131 - val_loss: 2.4676\n",
      "Epoch 67/100\n",
      "36/36 [==============================] - 0s 2ms/step - loss: 0.5141 - val_loss: 2.4676\n",
      "Epoch 68/100\n",
      "36/36 [==============================] - 0s 2ms/step - loss: 0.5112 - val_loss: 2.4685\n",
      "Epoch 69/100\n",
      "36/36 [==============================] - 0s 2ms/step - loss: 0.5145 - val_loss: 2.4685\n",
      "Epoch 70/100\n",
      "36/36 [==============================] - 0s 2ms/step - loss: 0.5107 - val_loss: 2.4687\n",
      "Epoch 71/100\n",
      "36/36 [==============================] - 0s 2ms/step - loss: 0.5125 - val_loss: 2.4691\n",
      "Epoch 72/100\n",
      "36/36 [==============================] - 0s 2ms/step - loss: 0.5135 - val_loss: 2.4689\n",
      "Epoch 73/100\n",
      "36/36 [==============================] - 0s 2ms/step - loss: 0.5133 - val_loss: 2.4689\n",
      "Epoch 74/100\n",
      "36/36 [==============================] - 0s 2ms/step - loss: 0.5141 - val_loss: 2.4691\n",
      "Epoch 75/100\n",
      "36/36 [==============================] - 0s 2ms/step - loss: 0.5157 - val_loss: 2.4685\n",
      "Epoch 76/100\n",
      "36/36 [==============================] - 0s 2ms/step - loss: 0.5101 - val_loss: 2.4689\n",
      "Epoch 77/100\n",
      "36/36 [==============================] - 0s 2ms/step - loss: 0.5142 - val_loss: 2.4685\n",
      "Epoch 78/100\n"
     ]
    },
    {
     "name": "stdout",
     "output_type": "stream",
     "text": [
      "36/36 [==============================] - 0s 2ms/step - loss: 0.5126 - val_loss: 2.4683\n",
      "Epoch 79/100\n",
      "36/36 [==============================] - 0s 2ms/step - loss: 0.5132 - val_loss: 2.4684\n",
      "Epoch 80/100\n",
      "36/36 [==============================] - 0s 2ms/step - loss: 0.5122 - val_loss: 2.4686\n",
      "Epoch 81/100\n",
      "36/36 [==============================] - 0s 2ms/step - loss: 0.5162 - val_loss: 2.4682\n",
      "Epoch 82/100\n",
      "36/36 [==============================] - 0s 2ms/step - loss: 0.5133 - val_loss: 2.4679\n",
      "Epoch 83/100\n",
      "36/36 [==============================] - 0s 2ms/step - loss: 0.5128 - val_loss: 2.4680\n",
      "Epoch 84/100\n",
      "36/36 [==============================] - 0s 2ms/step - loss: 0.5140 - val_loss: 2.4679\n",
      "Epoch 85/100\n",
      "36/36 [==============================] - 0s 2ms/step - loss: 0.5170 - val_loss: 2.4676\n",
      "Epoch 86/100\n",
      "36/36 [==============================] - 0s 2ms/step - loss: 0.5176 - val_loss: 2.4677\n",
      "Epoch 87/100\n",
      "36/36 [==============================] - 0s 2ms/step - loss: 0.5137 - val_loss: 2.4673\n",
      "Epoch 88/100\n",
      "36/36 [==============================] - ETA: 0s - loss: 0.314 - 0s 2ms/step - loss: 0.5130 - val_loss: 2.4678\n",
      "Epoch 89/100\n",
      "36/36 [==============================] - 0s 2ms/step - loss: 0.5102 - val_loss: 2.4686\n",
      "Epoch 90/100\n",
      "36/36 [==============================] - 0s 2ms/step - loss: 0.5119 - val_loss: 2.4687\n",
      "Epoch 91/100\n",
      "36/36 [==============================] - 0s 2ms/step - loss: 0.5125 - val_loss: 2.4682\n",
      "Epoch 92/100\n",
      "36/36 [==============================] - 0s 2ms/step - loss: 0.5127 - val_loss: 2.4678\n",
      "Epoch 93/100\n",
      "36/36 [==============================] - 0s 2ms/step - loss: 0.5141 - val_loss: 2.4677\n",
      "Epoch 94/100\n",
      "36/36 [==============================] - 0s 2ms/step - loss: 0.5135 - val_loss: 2.4673\n",
      "Epoch 95/100\n",
      "36/36 [==============================] - 0s 2ms/step - loss: 0.5152 - val_loss: 2.4670\n",
      "Epoch 96/100\n",
      "36/36 [==============================] - 0s 2ms/step - loss: 0.5126 - val_loss: 2.4672\n",
      "Epoch 97/100\n",
      "36/36 [==============================] - 0s 2ms/step - loss: 0.5119 - val_loss: 2.4674\n",
      "Epoch 98/100\n",
      "36/36 [==============================] - 0s 2ms/step - loss: 0.5114 - val_loss: 2.4678\n",
      "Epoch 99/100\n",
      "36/36 [==============================] - 0s 2ms/step - loss: 0.5133 - val_loss: 2.4678\n",
      "Epoch 100/100\n",
      "36/36 [==============================] - 0s 2ms/step - loss: 0.5125 - val_loss: 2.4676\n"
     ]
    }
   ],
   "source": [
    "model = None\n",
    "for i in range(1,4):\n",
    "    train = pd.read_csv('datasets/delta/sdn_train_mininet_normalized_'+str(i)+'.csv', delimiter=\",\")     \n",
    "    X_train,Y_train = create_dataset(train, train.delay)\n",
    "    if(model is None):\n",
    "        model = LSTMconf(X_train)\n",
    "    history = LSTMfit(model,X_train, Y_train)\n",
    "\n",
    "# r = Timer(1.0, preprocessing, (prep_dataset.iloc[cont:cont+window,:]))\n",
    "# r.start()\n",
    "# print(X_train)\n",
    "    "
   ]
  },
  {
   "cell_type": "code",
   "execution_count": 83,
   "metadata": {},
   "outputs": [
    {
     "name": "stdout",
     "output_type": "stream",
     "text": [
      "Saving Model\n",
      "INFO:tensorflow:Assets written to: models/lstm\\assets\n"
     ]
    }
   ],
   "source": [
    "print('Saving Model')\n",
    "model.save('models/lstm')"
   ]
  },
  {
   "cell_type": "markdown",
   "metadata": {},
   "source": [
    "# loss training"
   ]
  },
  {
   "cell_type": "code",
   "execution_count": 84,
   "metadata": {},
   "outputs": [
    {
     "data": {
      "image/png": "[encoded data removed]",
      "text/plain": [
       "<Figure size 432x288 with 1 Axes>"
      ]
     },
     "metadata": {
      "needs_background": "light"
     },
     "output_type": "display_data"
    }
   ],
   "source": [
    "\n",
    "fig1 = plt.figure()\n",
    "ax1 = fig1.add_subplot(1,1,1)\n",
    "ax1.plot(history.history['loss'], label='train')\n",
    "ax1.plot(history.history['val_loss'], label='validation')\n",
    "ax1.legend();"
   ]
  },
  {
   "cell_type": "code",
   "execution_count": 85,
   "metadata": {},
   "outputs": [
    {
     "name": "stdout",
     "output_type": "stream",
     "text": [
      "modeling to keras  99.92 %  34.31666666666667  seconds\n"
     ]
    }
   ],
   "source": [
    "test = pd.read_csv('datasets/delta/sdn_train_mininet_normalized_test.csv', delimiter=\",\")     \n",
    "X_test,Y_test = create_dataset(test, test.delay)"
   ]
  },
  {
   "cell_type": "markdown",
   "metadata": {},
   "source": [
    "# predicting"
   ]
  },
  {
   "cell_type": "code",
   "execution_count": 86,
   "metadata": {},
   "outputs": [
    {
     "name": "stdout",
     "output_type": "stream",
     "text": [
      "WARNING:tensorflow:Model was constructed with shape (None, 2) for input KerasTensor(type_spec=TensorSpec(shape=(None, 2), dtype=tf.float32, name='dense_20_input'), name='dense_20_input', description=\"created by layer 'dense_20_input'\"), but it was called on an input with incompatible shape (None, 1, 2).\n"
     ]
    }
   ],
   "source": [
    "y_pred = model.predict(X_test)"
   ]
  },
  {
   "cell_type": "markdown",
   "metadata": {},
   "source": [
    "# unormalizing"
   ]
  },
  {
   "cell_type": "code",
   "execution_count": 87,
   "metadata": {},
   "outputs": [],
   "source": [
    "y_test_inv, y_pred_inv = unormalizing(test, Y_test, y_pred)"
   ]
  },
  {
   "cell_type": "code",
   "execution_count": 88,
   "metadata": {},
   "outputs": [
    {
     "data": {
      "image/png": "[encoded data removed]",
      "text/plain": [
       "<Figure size 432x288 with 1 Axes>"
      ]
     },
     "metadata": {
      "needs_background": "light"
     },
     "output_type": "display_data"
    }
   ],
   "source": [
    "fig2 = plt.figure()\n",
    "a2 = fig2.add_subplot(1,1,1)\n",
    "a2.plot(y_test_inv.flatten(), marker='.', label='true')\n",
    "a2.legend();"
   ]
  },
  {
   "cell_type": "code",
   "execution_count": 89,
   "metadata": {},
   "outputs": [
    {
     "data": {
      "image/png": "[encoded data removed]",
      "text/plain": [
       "<Figure size 432x288 with 1 Axes>"
      ]
     },
     "metadata": {
      "needs_background": "light"
     },
     "output_type": "display_data"
    }
   ],
   "source": [
    "fig3 = plt.figure()\n",
    "a3 = fig3.add_subplot(1,1,1)\n",
    "a3.plot(y_pred_inv.flatten(),'r',marker='.', label='predicted')\n",
    "a3.legend();"
   ]
  },
  {
   "cell_type": "code",
   "execution_count": 90,
   "metadata": {},
   "outputs": [
    {
     "data": {
      "image/png": "[encoded data removed]",
      "text/plain": [
       "<Figure size 432x288 with 1 Axes>"
      ]
     },
     "metadata": {
      "needs_background": "light"
     },
     "output_type": "display_data"
    }
   ],
   "source": [
    "fig4 = plt.figure()\n",
    "a4 = fig4.add_subplot(1,1,1)\n",
    "\n",
    "a4.plot(y_test_inv.flatten(), marker='.', label='true')\n",
    "a4.plot(y_pred_inv.flatten(),'r',marker='.', label='predicted')\n",
    "a4.legend();"
   ]
  },
  {
   "cell_type": "code",
   "execution_count": 91,
   "metadata": {},
   "outputs": [
    {
     "name": "stdout",
     "output_type": "stream",
     "text": [
      "progress  99.92 %\n"
     ]
    }
   ],
   "source": [
    "l1 = []\n",
    "l2 = []\n",
    "for i in np.arange(y_pred_inv.shape[0]):\n",
    "    clear_output(wait=True)\n",
    "    print('progress ',round((i/y_pred_inv.shape[0])*100,2), ('%'))\n",
    "    if(y_pred_inv[i,0]<=10):\n",
    "        l1.append(y_pred_inv[i,0])\n",
    "    if(y_test_inv[0,i]<=10):\n",
    "        l2.append(y_test_inv[0,i])\n",
    "\n",
    "y_pred_inv2 = np.array(l1)\n",
    "y_test_inv2 = np.array(l2)"
   ]
  },
  {
   "cell_type": "code",
   "execution_count": 92,
   "metadata": {},
   "outputs": [
    {
     "data": {
      "image/png": "[encoded data removed]",
      "text/plain": [
       "<Figure size 432x288 with 1 Axes>"
      ]
     },
     "metadata": {
      "needs_background": "light"
     },
     "output_type": "display_data"
    }
   ],
   "source": [
    "plt.plot(y_pred_inv2.flatten(),'r',marker='.', label='predicted')\n",
    "plt.plot(y_test_inv2.flatten(), marker='.', label='true')\n",
    "plt.legend();"
   ]
  },
  {
   "cell_type": "code",
   "execution_count": 93,
   "metadata": {},
   "outputs": [],
   "source": [
    "from sklearn.metrics import mean_squared_error\n",
    "from sklearn.metrics import median_absolute_error\n",
    "from sklearn.metrics import mean_absolute_error\n",
    "from sklearn.metrics import mean_squared_log_error"
   ]
  },
  {
   "cell_type": "code",
   "execution_count": 94,
   "metadata": {},
   "outputs": [
    {
     "name": "stdout",
     "output_type": "stream",
     "text": [
      "0.2930702920658616\n",
      "0.10777592896885567\n",
      "0.067766348546621\n"
     ]
    }
   ],
   "source": [
    "size = np.min([y_pred_inv2.shape[0],y_test_inv2.shape[0] ])\n",
    "rmse =  mean_squared_error(y_test_inv2[0:size], y_pred_inv2[0:size], squared=False)\n",
    "mae =  mean_absolute_error(y_test_inv2[0:size], y_pred_inv2[0:size])\n",
    "median_mae = median_absolute_error(y_test_inv2[0:size], y_pred_inv2[0:size])\n",
    "\n",
    "\n",
    "print(rmse)\n",
    "print(mae)\n",
    "print(median_mae)"
   ]
  },
  {
   "cell_type": "code",
   "execution_count": 95,
   "metadata": {},
   "outputs": [
    {
     "data": {
      "image/png": "[encoded data removed]",
      "text/plain": [
       "<Figure size 432x288 with 1 Axes>"
      ]
     },
     "metadata": {
      "needs_background": "light"
     },
     "output_type": "display_data"
    }
   ],
   "source": [
    "objects = ('rmse', 'mae', 'median-mae')\n",
    "y_pos = np.arange(3)\n",
    "performance = [rmse,mae,median_mae]\n",
    "\n",
    "plt.bar(y_pos, performance, align='center')\n",
    "plt.xticks(y_pos, objects)\n",
    "#plt.ylabel('Usage')\n",
    "plt.title('Métricas regressão')\n",
    "\n",
    "plt.show()"
   ]
  },
  {
   "cell_type": "code",
   "execution_count": 96,
   "metadata": {},
   "outputs": [],
   "source": [
    "\n",
    "from sklearn.metrics import explained_variance_score"
   ]
  },
  {
   "cell_type": "code",
   "execution_count": 97,
   "metadata": {},
   "outputs": [
    {
     "data": {
      "text/plain": [
       "-5.37743410171059"
      ]
     },
     "execution_count": 97,
     "metadata": {},
     "output_type": "execute_result"
    }
   ],
   "source": [
    "explained_variance_score(y_test_inv2[0:size], y_pred_inv2[0:size])"
   ]
  },
  {
   "cell_type": "code",
   "execution_count": null,
   "metadata": {},
   "outputs": [],
   "source": []
  },
  {
   "cell_type": "code",
   "execution_count": null,
   "metadata": {},
   "outputs": [],
   "source": []
  }
 ],
 "metadata": {
  "kernelspec": {
   "display_name": "Python 3",
   "language": "python",
   "name": "python3"
  },
  "language_info": {
   "codemirror_mode": {
    "name": "ipython",
    "version": 3
   },
   "file_extension": ".py",
   "mimetype": "text/x-python",
   "name": "python",
   "nbconvert_exporter": "python",
   "pygments_lexer": "ipython3",
   "version": "3.8.5"
  }
 },
 "nbformat": 4,
 "nbformat_minor": 4
}
