{
 "cells": [
  {
   "cell_type": "code",
   "execution_count": 1,
   "metadata": {},
   "outputs": [],
   "source": [
    "import os\n",
    "os.environ[\"TF_CPP_MIN_LOG_LEVEL\"] = \"2\""
   ]
  },
  {
   "cell_type": "code",
   "execution_count": 2,
   "metadata": {},
   "outputs": [],
   "source": [
    "import tensorflow as tf\n",
    "from tensorflow import keras\n",
    "from tensorflow.keras import layers\n",
    "import matplotlib.pyplot as plt\n",
    "import seaborn as sns\n",
    "import csv\n",
    "\n",
    "import pandas as pd\n",
    "import numpy as np\n",
    "from sklearn.model_selection import train_test_split\n",
    "from sklearn.metrics import mean_squared_error\n",
    "from sklearn.preprocessing import StandardScaler\n",
    "from threading import Timer\n",
    "from timeit import default_timer as timer\n",
    "from IPython.display import clear_output"
   ]
  },
  {
   "cell_type": "code",
   "execution_count": 3,
   "metadata": {},
   "outputs": [],
   "source": [
    "start = timer()\n",
    "prep_dataset1 = pd.read_csv('datasets/com_concept_drift/sdn_train_unormalized1.csv', delimiter=\",\")\n",
    "\n"
   ]
  },
  {
   "cell_type": "markdown",
   "metadata": {},
   "source": [
    "# Normalizing"
   ]
  },
  {
   "cell_type": "code",
   "execution_count": 4,
   "metadata": {},
   "outputs": [],
   "source": [
    "def normalizing(df):\n",
    "    f_columns = ['temperature','label']\n",
    "    scaler1 = StandardScaler().fit(df)\n",
    "    scaler2 = StandardScaler().fit(df)\n",
    "\n",
    "    scaler1= scaler1.fit(df[f_columns].to_numpy())\n",
    "    scaler2 = scaler2.fit(df[['delay']])\n",
    "\n",
    "    df.loc[:,f_columns] = scaler1.transform(df[f_columns].to_numpy())\n",
    "    df['delay'] = scaler2.transform(df[['delay']])\n",
    "    return df\n",
    "\n",
    "\n",
    "def unormalizing(df,Y_test,y_pred ):\n",
    "    scaler = StandardScaler().fit(df)\n",
    "    scaler = scaler.fit(df[['delay']])\n",
    "    y_test_inv = scaler.inverse_transform(Y_test.reshape(1,-1))\n",
    "    y_pred_inv = scaler.inverse_transform(y_pred)\n",
    "    \n",
    "    return y_test_inv, y_pred_inv\n"
   ]
  },
  {
   "cell_type": "code",
   "execution_count": 5,
   "metadata": {},
   "outputs": [],
   "source": [
    "def saveFile(dataset, name='dataset'):\n",
    "    print('saving: ',name, '......')\n",
    "    f = open(name,'w')\n",
    "    try:\n",
    "        writer = csv.writer(f)\n",
    "        writer.writerow(dataset.columns)\n",
    "        for i in np.arange(int(dataset.shape[0])):\n",
    "            writer.writerow(dataset.iloc[i,])\n",
    "    finally:\n",
    "        f.close()\n",
    "        \n",
    "\n",
    "def preprocessing(dataset, order): \n",
    "    window = 20\n",
    "    cont = 0;\n",
    "    cols = ['timestamp','temperature','label' ,'delay' ]\n",
    "    newSet = []\n",
    "    while(cont<dataset.shape[0]):\n",
    "        MyLIst = dataset.iloc[cont:cont+window,:]\n",
    "        cont+=20\n",
    "        deltaT = np.max(MyLIst.temperature) - np.min(MyLIst.temperature)\n",
    "        deltaTime = np.max(MyLIst.seconds) - np.min(MyLIst.seconds)\n",
    "        meanDelay = np.mean(MyLIst.delay)\n",
    "        label=MyLIst.iloc[0,3]   \n",
    "        newSet.append([deltaTime,deltaT,label,meanDelay])\n",
    "    delta_df = pd.DataFrame(np.array(newSet), columns = cols)\n",
    "    saveFile(delta_df, 'datasets/delta/sdn_train_mininet_unormalized_'+order+'.csv')\n",
    "    norm = normalizing(delta_df)\n",
    "    saveFile(norm, 'datasets/delta/sdn_train_mininet_normalized_'+order+'.csv')\n",
    "\n",
    "    return norm\n",
    "    "
   ]
  },
  {
   "cell_type": "code",
   "execution_count": 6,
   "metadata": {},
   "outputs": [],
   "source": [
    "def create_dataset(X, y, time_steps=1):\n",
    "    Xs, ys = [], []    \n",
    "    for i in range(len(X) - time_steps):\n",
    "        clear_output(wait=True)\n",
    "        print('modeling to keras ',round((i/(len(X) - time_steps))*100,2), ('%'), end='')\n",
    "        s = round(timer() - start)\n",
    "        if(s>60):\n",
    "            s /=60\n",
    "            print(' ', s, ' seconds')\n",
    "        v = X.iloc[i: (i+time_steps), 0:3].to_numpy()\n",
    "        Xs.append(v)\n",
    "        ys.append(y.iloc[i+time_steps])\n",
    "    return np.array(Xs), np.array(ys)"
   ]
  },
  {
   "cell_type": "code",
   "execution_count": 7,
   "metadata": {},
   "outputs": [
    {
     "name": "stdout",
     "output_type": "stream",
     "text": [
      "saving:  datasets/delta/sdn_train_mininet_unormalized_1.csv ......\n",
      "saving:  datasets/delta/sdn_train_mininet_normalized_1.csv ......\n",
      "saving:  datasets/delta/sdn_train_mininet_unormalized_2.csv ......\n",
      "saving:  datasets/delta/sdn_train_mininet_normalized_2.csv ......\n",
      "saving:  datasets/delta/sdn_train_mininet_unormalized_3.csv ......\n",
      "saving:  datasets/delta/sdn_train_mininet_normalized_3.csv ......\n",
      "saving:  datasets/delta/sdn_train_mininet_unormalized_test.csv ......\n",
      "saving:  datasets/delta/sdn_train_mininet_normalized_test.csv ......\n"
     ]
    },
    {
     "data": {
      "text/html": [
       "<div>\n",
       "<style scoped>\n",
       "    .dataframe tbody tr th:only-of-type {\n",
       "        vertical-align: middle;\n",
       "    }\n",
       "\n",
       "    .dataframe tbody tr th {\n",
       "        vertical-align: top;\n",
       "    }\n",
       "\n",
       "    .dataframe thead th {\n",
       "        text-align: right;\n",
       "    }\n",
       "</style>\n",
       "<table border=\"1\" class=\"dataframe\">\n",
       "  <thead>\n",
       "    <tr style=\"text-align: right;\">\n",
       "      <th></th>\n",
       "      <th>timestamp</th>\n",
       "      <th>temperature</th>\n",
       "      <th>label</th>\n",
       "      <th>delay</th>\n",
       "    </tr>\n",
       "  </thead>\n",
       "  <tbody>\n",
       "    <tr>\n",
       "      <th>0</th>\n",
       "      <td>3030.0</td>\n",
       "      <td>2.855213</td>\n",
       "      <td>-0.098934</td>\n",
       "      <td>-0.046209</td>\n",
       "    </tr>\n",
       "    <tr>\n",
       "      <th>1</th>\n",
       "      <td>1740.0</td>\n",
       "      <td>-0.192323</td>\n",
       "      <td>-0.098934</td>\n",
       "      <td>-0.046209</td>\n",
       "    </tr>\n",
       "    <tr>\n",
       "      <th>2</th>\n",
       "      <td>1320.0</td>\n",
       "      <td>-0.275437</td>\n",
       "      <td>-0.098934</td>\n",
       "      <td>-0.046209</td>\n",
       "    </tr>\n",
       "    <tr>\n",
       "      <th>3</th>\n",
       "      <td>1590.0</td>\n",
       "      <td>-0.303142</td>\n",
       "      <td>-0.098934</td>\n",
       "      <td>-0.046209</td>\n",
       "    </tr>\n",
       "    <tr>\n",
       "      <th>4</th>\n",
       "      <td>1500.0</td>\n",
       "      <td>-0.303142</td>\n",
       "      <td>-0.098934</td>\n",
       "      <td>-0.046209</td>\n",
       "    </tr>\n",
       "    <tr>\n",
       "      <th>...</th>\n",
       "      <td>...</td>\n",
       "      <td>...</td>\n",
       "      <td>...</td>\n",
       "      <td>...</td>\n",
       "    </tr>\n",
       "    <tr>\n",
       "      <th>1233</th>\n",
       "      <td>2583.0</td>\n",
       "      <td>0.250955</td>\n",
       "      <td>-0.098934</td>\n",
       "      <td>-0.046209</td>\n",
       "    </tr>\n",
       "    <tr>\n",
       "      <th>1234</th>\n",
       "      <td>3007.0</td>\n",
       "      <td>0.306365</td>\n",
       "      <td>-0.098934</td>\n",
       "      <td>-0.046209</td>\n",
       "    </tr>\n",
       "    <tr>\n",
       "      <th>1235</th>\n",
       "      <td>2910.0</td>\n",
       "      <td>0.638823</td>\n",
       "      <td>-0.098934</td>\n",
       "      <td>-0.046209</td>\n",
       "    </tr>\n",
       "    <tr>\n",
       "      <th>1236</th>\n",
       "      <td>2909.0</td>\n",
       "      <td>0.888167</td>\n",
       "      <td>-0.098934</td>\n",
       "      <td>-0.046209</td>\n",
       "    </tr>\n",
       "    <tr>\n",
       "      <th>1237</th>\n",
       "      <td>1859.0</td>\n",
       "      <td>-0.026094</td>\n",
       "      <td>-0.098934</td>\n",
       "      <td>-0.046209</td>\n",
       "    </tr>\n",
       "  </tbody>\n",
       "</table>\n",
       "<p>1238 rows × 4 columns</p>\n",
       "</div>"
      ],
      "text/plain": [
       "      timestamp  temperature     label     delay\n",
       "0        3030.0     2.855213 -0.098934 -0.046209\n",
       "1        1740.0    -0.192323 -0.098934 -0.046209\n",
       "2        1320.0    -0.275437 -0.098934 -0.046209\n",
       "3        1590.0    -0.303142 -0.098934 -0.046209\n",
       "4        1500.0    -0.303142 -0.098934 -0.046209\n",
       "...         ...          ...       ...       ...\n",
       "1233     2583.0     0.250955 -0.098934 -0.046209\n",
       "1234     3007.0     0.306365 -0.098934 -0.046209\n",
       "1235     2910.0     0.638823 -0.098934 -0.046209\n",
       "1236     2909.0     0.888167 -0.098934 -0.046209\n",
       "1237     1859.0    -0.026094 -0.098934 -0.046209\n",
       "\n",
       "[1238 rows x 4 columns]"
      ]
     },
     "execution_count": 7,
     "metadata": {},
     "output_type": "execute_result"
    }
   ],
   "source": [
    "preprocessing(prep_dataset1, '1')\n",
    "preprocessing(prep_dataset2, '2')\n",
    "preprocessing(prep_dataset3, '3')\n",
    "preprocessing(prep_test, 'test')"
   ]
  },
  {
   "cell_type": "code",
   "execution_count": 11,
   "metadata": {},
   "outputs": [],
   "source": [
    "def LSTMconf(X_train):\n",
    "    print('Init config MPL')\n",
    "    #configurando rede para treinamento\n",
    "    model = keras.Sequential()\n",
    "    model.add(tf.keras.layers.Dense(activation=\"relu\", input_dim=3, units=10, kernel_initializer='uniform'))\n",
    "    model.add(tf.keras.layers.Dense(activation=\"relu\", units=128, kernel_initializer='uniform'))\n",
    "    model.add(tf.keras.layers.Dense(activation=\"relu\", units=128, kernel_initializer='uniform'))\n",
    "    model.add(tf.keras.layers.Dense(activation=\"relu\", units=128, kernel_initializer='uniform'))\n",
    "    model.add(keras.layers.Dropout(rate=0.2))\n",
    "    model.add(keras.layers.Dense(units=1))\n",
    "    \n",
    "    loss =\"mse\"\n",
    "    optim = tf.keras.optimizers.Adam(\n",
    "    learning_rate=0.0001)\n",
    "    metrics=[\"accuracy\"]\n",
    "\n",
    "    model.compile(loss=loss, optimizer=optim, \n",
    "             metrics=metrics\n",
    "             )\n",
    "    return model\n",
    "    "
   ]
  },
  {
   "cell_type": "code",
   "execution_count": 29,
   "metadata": {},
   "outputs": [],
   "source": [
    "def LSTMfit(model,X_train,Y_train):\n",
    "    print('Init Train')\n",
    "    start = timer()\n",
    "    history = model.fit(\n",
    "        X_train, Y_train, \n",
    "        epochs=100, \n",
    "        batch_size= 64,\n",
    "        validation_split=0.25,\n",
    "        shuffle=False,\n",
    "    #     callbacks=[tensorboard_callback]\n",
    "    )\n",
    "    return history\n"
   ]
  },
  {
   "cell_type": "code",
   "execution_count": 30,
   "metadata": {},
   "outputs": [
    {
     "name": "stdout",
     "output_type": "stream",
     "text": [
      "modeling to keras  99.94 %  7.816666666666666  seconds\n",
      "Init Train\n",
      "Epoch 1/100\n",
      "19/19 [==============================] - 0s 10ms/step - loss: 1.3345 - accuracy: 0.0000e+00 - val_loss: 4.1794e-04 - val_accuracy: 0.0000e+00\n",
      "Epoch 2/100\n",
      "19/19 [==============================] - 0s 5ms/step - loss: 1.3375 - accuracy: 0.0000e+00 - val_loss: 4.1929e-04 - val_accuracy: 0.0000e+00\n",
      "Epoch 3/100\n",
      "19/19 [==============================] - 0s 6ms/step - loss: 1.3353 - accuracy: 0.0000e+00 - val_loss: 4.2042e-04 - val_accuracy: 0.0000e+00\n",
      "Epoch 4/100\n",
      "19/19 [==============================] - 0s 5ms/step - loss: 1.3357 - accuracy: 0.0000e+00 - val_loss: 4.2077e-04 - val_accuracy: 0.0000e+00\n",
      "Epoch 5/100\n",
      "19/19 [==============================] - 0s 5ms/step - loss: 1.3361 - accuracy: 0.0000e+00 - val_loss: 4.2081e-04 - val_accuracy: 0.0000e+00\n",
      "Epoch 6/100\n",
      "19/19 [==============================] - 0s 5ms/step - loss: 1.3350 - accuracy: 0.0000e+00 - val_loss: 4.2105e-04 - val_accuracy: 0.0000e+00\n",
      "Epoch 7/100\n",
      "19/19 [==============================] - 0s 5ms/step - loss: 1.3377 - accuracy: 0.0000e+00 - val_loss: 4.2061e-04 - val_accuracy: 0.0000e+00\n",
      "Epoch 8/100\n",
      "19/19 [==============================] - 0s 5ms/step - loss: 1.3353 - accuracy: 0.0000e+00 - val_loss: 4.2046e-04 - val_accuracy: 0.0000e+00\n",
      "Epoch 9/100\n",
      "19/19 [==============================] - 0s 5ms/step - loss: 1.3345 - accuracy: 0.0000e+00 - val_loss: 4.2069e-04 - val_accuracy: 0.0000e+00\n",
      "Epoch 10/100\n",
      "19/19 [==============================] - 0s 6ms/step - loss: 1.3354 - accuracy: 0.0000e+00 - val_loss: 4.2233e-04 - val_accuracy: 0.0000e+00\n",
      "Epoch 11/100\n",
      "19/19 [==============================] - 0s 6ms/step - loss: 1.3347 - accuracy: 0.0000e+00 - val_loss: 4.2267e-04 - val_accuracy: 0.0000e+00\n",
      "Epoch 12/100\n",
      "19/19 [==============================] - 0s 6ms/step - loss: 1.3362 - accuracy: 0.0000e+00 - val_loss: 4.2236e-04 - val_accuracy: 0.0000e+00\n",
      "Epoch 13/100\n",
      "19/19 [==============================] - 0s 6ms/step - loss: 1.3350 - accuracy: 0.0000e+00 - val_loss: 4.2225e-04 - val_accuracy: 0.0000e+00\n",
      "Epoch 14/100\n",
      "19/19 [==============================] - 0s 7ms/step - loss: 1.3369 - accuracy: 0.0000e+00 - val_loss: 4.2232e-04 - val_accuracy: 0.0000e+00\n",
      "Epoch 15/100\n",
      "19/19 [==============================] - 0s 7ms/step - loss: 1.3353 - accuracy: 0.0000e+00 - val_loss: 4.2292e-04 - val_accuracy: 0.0000e+00\n",
      "Epoch 16/100\n",
      "19/19 [==============================] - 0s 8ms/step - loss: 1.3361 - accuracy: 0.0000e+00 - val_loss: 4.2399e-04 - val_accuracy: 0.0000e+00\n",
      "Epoch 17/100\n",
      "19/19 [==============================] - 0s 7ms/step - loss: 1.3346 - accuracy: 0.0000e+00 - val_loss: 4.2515e-04 - val_accuracy: 0.0000e+00\n",
      "Epoch 18/100\n",
      "19/19 [==============================] - 0s 5ms/step - loss: 1.3350 - accuracy: 0.0000e+00 - val_loss: 4.2560e-04 - val_accuracy: 0.0000e+00\n",
      "Epoch 19/100\n",
      "19/19 [==============================] - 0s 6ms/step - loss: 1.3358 - accuracy: 0.0000e+00 - val_loss: 4.2559e-04 - val_accuracy: 0.0000e+00\n",
      "Epoch 20/100\n",
      "19/19 [==============================] - 0s 5ms/step - loss: 1.3357 - accuracy: 0.0000e+00 - val_loss: 4.2605e-04 - val_accuracy: 0.0000e+00\n",
      "Epoch 21/100\n",
      "19/19 [==============================] - 0s 4ms/step - loss: 1.3351 - accuracy: 0.0000e+00 - val_loss: 4.2701e-04 - val_accuracy: 0.0000e+00\n",
      "Epoch 22/100\n",
      "19/19 [==============================] - 0s 4ms/step - loss: 1.3355 - accuracy: 0.0000e+00 - val_loss: 4.2821e-04 - val_accuracy: 0.0000e+00\n",
      "Epoch 23/100\n",
      "19/19 [==============================] - 0s 4ms/step - loss: 1.3362 - accuracy: 0.0000e+00 - val_loss: 4.2858e-04 - val_accuracy: 0.0000e+00\n",
      "Epoch 24/100\n",
      "19/19 [==============================] - 0s 4ms/step - loss: 1.3347 - accuracy: 0.0000e+00 - val_loss: 4.2995e-04 - val_accuracy: 0.0000e+00\n",
      "Epoch 25/100\n",
      "19/19 [==============================] - 0s 4ms/step - loss: 1.3355 - accuracy: 0.0000e+00 - val_loss: 4.3190e-04 - val_accuracy: 0.0000e+00\n",
      "Epoch 26/100\n",
      "19/19 [==============================] - 0s 4ms/step - loss: 1.3351 - accuracy: 0.0000e+00 - val_loss: 4.3320e-04 - val_accuracy: 0.0000e+00\n",
      "Epoch 27/100\n",
      "19/19 [==============================] - 0s 5ms/step - loss: 1.3368 - accuracy: 0.0000e+00 - val_loss: 4.3340e-04 - val_accuracy: 0.0000e+00\n",
      "Epoch 28/100\n",
      "19/19 [==============================] - 0s 5ms/step - loss: 1.3362 - accuracy: 0.0000e+00 - val_loss: 4.3379e-04 - val_accuracy: 0.0000e+00\n",
      "Epoch 29/100\n",
      "19/19 [==============================] - 0s 4ms/step - loss: 1.3352 - accuracy: 0.0000e+00 - val_loss: 4.3515e-04 - val_accuracy: 0.0000e+00\n",
      "Epoch 30/100\n",
      "19/19 [==============================] - 0s 4ms/step - loss: 1.3388 - accuracy: 0.0000e+00 - val_loss: 4.3715e-04 - val_accuracy: 0.0000e+00\n",
      "Epoch 31/100\n",
      "19/19 [==============================] - 0s 4ms/step - loss: 1.3389 - accuracy: 0.0000e+00 - val_loss: 4.3808e-04 - val_accuracy: 0.0000e+00\n",
      "Epoch 32/100\n",
      "19/19 [==============================] - 0s 4ms/step - loss: 1.3345 - accuracy: 0.0000e+00 - val_loss: 4.3893e-04 - val_accuracy: 0.0000e+00\n",
      "Epoch 33/100\n",
      "19/19 [==============================] - 0s 5ms/step - loss: 1.3369 - accuracy: 0.0000e+00 - val_loss: 4.4119e-04 - val_accuracy: 0.0000e+00\n",
      "Epoch 34/100\n",
      "19/19 [==============================] - 0s 4ms/step - loss: 1.3370 - accuracy: 0.0000e+00 - val_loss: 4.4012e-04 - val_accuracy: 0.0000e+00\n",
      "Epoch 35/100\n",
      "19/19 [==============================] - 0s 5ms/step - loss: 1.3352 - accuracy: 0.0000e+00 - val_loss: 4.4114e-04 - val_accuracy: 0.0000e+00\n",
      "Epoch 36/100\n",
      "19/19 [==============================] - 0s 5ms/step - loss: 1.3368 - accuracy: 0.0000e+00 - val_loss: 4.4063e-04 - val_accuracy: 0.0000e+00\n",
      "Epoch 37/100\n",
      "19/19 [==============================] - 0s 5ms/step - loss: 1.3356 - accuracy: 0.0000e+00 - val_loss: 4.4279e-04 - val_accuracy: 0.0000e+00\n",
      "Epoch 38/100\n",
      "19/19 [==============================] - 0s 5ms/step - loss: 1.3346 - accuracy: 0.0000e+00 - val_loss: 4.4399e-04 - val_accuracy: 0.0000e+00\n",
      "Epoch 39/100\n",
      "19/19 [==============================] - 0s 4ms/step - loss: 1.3365 - accuracy: 0.0000e+00 - val_loss: 4.4430e-04 - val_accuracy: 0.0000e+00\n",
      "Epoch 40/100\n",
      "19/19 [==============================] - 0s 5ms/step - loss: 1.3371 - accuracy: 0.0000e+00 - val_loss: 4.4560e-04 - val_accuracy: 0.0000e+00\n",
      "Epoch 41/100\n",
      "19/19 [==============================] - 0s 5ms/step - loss: 1.3355 - accuracy: 0.0000e+00 - val_loss: 4.4597e-04 - val_accuracy: 0.0000e+00\n",
      "Epoch 42/100\n",
      "19/19 [==============================] - 0s 4ms/step - loss: 1.3364 - accuracy: 0.0000e+00 - val_loss: 4.4605e-04 - val_accuracy: 0.0000e+00\n",
      "Epoch 43/100\n",
      "19/19 [==============================] - 0s 5ms/step - loss: 1.3390 - accuracy: 0.0000e+00 - val_loss: 4.4848e-04 - val_accuracy: 0.0000e+00\n",
      "Epoch 44/100\n",
      "19/19 [==============================] - 0s 5ms/step - loss: 1.3345 - accuracy: 0.0000e+00 - val_loss: 4.5015e-04 - val_accuracy: 0.0000e+00\n",
      "Epoch 45/100\n",
      "19/19 [==============================] - 0s 5ms/step - loss: 1.3389 - accuracy: 0.0000e+00 - val_loss: 4.4957e-04 - val_accuracy: 0.0000e+00\n",
      "Epoch 46/100\n",
      "19/19 [==============================] - 0s 5ms/step - loss: 1.3408 - accuracy: 0.0000e+00 - val_loss: 4.5026e-04 - val_accuracy: 0.0000e+00\n",
      "Epoch 47/100\n",
      "19/19 [==============================] - 0s 4ms/step - loss: 1.3354 - accuracy: 0.0000e+00 - val_loss: 4.5082e-04 - val_accuracy: 0.0000e+00\n",
      "Epoch 48/100\n",
      "19/19 [==============================] - 0s 4ms/step - loss: 1.3356 - accuracy: 0.0000e+00 - val_loss: 4.5238e-04 - val_accuracy: 0.0000e+00\n",
      "Epoch 49/100\n",
      "19/19 [==============================] - 0s 4ms/step - loss: 1.3360 - accuracy: 0.0000e+00 - val_loss: 4.5433e-04 - val_accuracy: 0.0000e+00\n",
      "Epoch 50/100\n",
      "19/19 [==============================] - 0s 4ms/step - loss: 1.3347 - accuracy: 0.0000e+00 - val_loss: 4.5515e-04 - val_accuracy: 0.0000e+00\n",
      "Epoch 51/100\n",
      "19/19 [==============================] - 0s 5ms/step - loss: 1.3359 - accuracy: 0.0000e+00 - val_loss: 4.5707e-04 - val_accuracy: 0.0000e+00\n",
      "Epoch 52/100\n",
      "19/19 [==============================] - 0s 4ms/step - loss: 1.3395 - accuracy: 0.0000e+00 - val_loss: 4.5757e-04 - val_accuracy: 0.0000e+00\n",
      "Epoch 53/100\n",
      "19/19 [==============================] - 0s 4ms/step - loss: 1.3346 - accuracy: 0.0000e+00 - val_loss: 4.5906e-04 - val_accuracy: 0.0000e+00\n"
     ]
    },
    {
     "name": "stdout",
     "output_type": "stream",
     "text": [
      "Epoch 54/100\n",
      "19/19 [==============================] - 0s 5ms/step - loss: 1.3367 - accuracy: 0.0000e+00 - val_loss: 4.5993e-04 - val_accuracy: 0.0000e+00\n",
      "Epoch 55/100\n",
      "19/19 [==============================] - 0s 4ms/step - loss: 1.3346 - accuracy: 0.0000e+00 - val_loss: 4.6031e-04 - val_accuracy: 0.0000e+00\n",
      "Epoch 56/100\n",
      "19/19 [==============================] - 0s 4ms/step - loss: 1.3359 - accuracy: 0.0000e+00 - val_loss: 4.6002e-04 - val_accuracy: 0.0000e+00\n",
      "Epoch 57/100\n",
      "19/19 [==============================] - 0s 4ms/step - loss: 1.3362 - accuracy: 0.0000e+00 - val_loss: 4.6016e-04 - val_accuracy: 0.0000e+00\n",
      "Epoch 58/100\n",
      "19/19 [==============================] - 0s 4ms/step - loss: 1.3357 - accuracy: 0.0000e+00 - val_loss: 4.6044e-04 - val_accuracy: 0.0000e+00\n",
      "Epoch 59/100\n",
      "19/19 [==============================] - 0s 4ms/step - loss: 1.3385 - accuracy: 0.0000e+00 - val_loss: 4.6203e-04 - val_accuracy: 0.0000e+00\n",
      "Epoch 60/100\n",
      "19/19 [==============================] - 0s 4ms/step - loss: 1.3350 - accuracy: 0.0000e+00 - val_loss: 4.6361e-04 - val_accuracy: 0.0000e+00\n",
      "Epoch 61/100\n",
      "19/19 [==============================] - 0s 5ms/step - loss: 1.3354 - accuracy: 0.0000e+00 - val_loss: 4.6493e-04 - val_accuracy: 0.0000e+00\n",
      "Epoch 62/100\n",
      "19/19 [==============================] - 0s 4ms/step - loss: 1.3371 - accuracy: 0.0000e+00 - val_loss: 4.6591e-04 - val_accuracy: 0.0000e+00\n",
      "Epoch 63/100\n",
      "19/19 [==============================] - 0s 5ms/step - loss: 1.3351 - accuracy: 0.0000e+00 - val_loss: 4.6711e-04 - val_accuracy: 0.0000e+00\n",
      "Epoch 64/100\n",
      "19/19 [==============================] - 0s 5ms/step - loss: 1.3358 - accuracy: 0.0000e+00 - val_loss: 4.6833e-04 - val_accuracy: 0.0000e+00\n",
      "Epoch 65/100\n",
      "19/19 [==============================] - 0s 6ms/step - loss: 1.3348 - accuracy: 0.0000e+00 - val_loss: 4.6984e-04 - val_accuracy: 0.0000e+00\n",
      "Epoch 66/100\n",
      "19/19 [==============================] - 0s 5ms/step - loss: 1.3351 - accuracy: 0.0000e+00 - val_loss: 4.7179e-04 - val_accuracy: 0.0000e+00\n",
      "Epoch 67/100\n",
      "19/19 [==============================] - 0s 6ms/step - loss: 1.3390 - accuracy: 0.0000e+00 - val_loss: 4.7547e-04 - val_accuracy: 0.0000e+00\n",
      "Epoch 68/100\n",
      "19/19 [==============================] - 0s 5ms/step - loss: 1.3352 - accuracy: 0.0000e+00 - val_loss: 4.7854e-04 - val_accuracy: 0.0000e+00\n",
      "Epoch 69/100\n",
      "19/19 [==============================] - 0s 5ms/step - loss: 1.3362 - accuracy: 0.0000e+00 - val_loss: 4.8049e-04 - val_accuracy: 0.0000e+00\n",
      "Epoch 70/100\n",
      "19/19 [==============================] - 0s 5ms/step - loss: 1.3351 - accuracy: 0.0000e+00 - val_loss: 4.8234e-04 - val_accuracy: 0.0000e+00\n",
      "Epoch 71/100\n",
      "19/19 [==============================] - 0s 4ms/step - loss: 1.3366 - accuracy: 0.0000e+00 - val_loss: 4.8501e-04 - val_accuracy: 0.0000e+00\n",
      "Epoch 72/100\n",
      "19/19 [==============================] - 0s 4ms/step - loss: 1.3346 - accuracy: 0.0000e+00 - val_loss: 4.8735e-04 - val_accuracy: 0.0000e+00\n",
      "Epoch 73/100\n",
      "19/19 [==============================] - 0s 4ms/step - loss: 1.3396 - accuracy: 0.0000e+00 - val_loss: 4.8825e-04 - val_accuracy: 0.0000e+00\n",
      "Epoch 74/100\n",
      "19/19 [==============================] - 0s 5ms/step - loss: 1.3360 - accuracy: 0.0000e+00 - val_loss: 4.8815e-04 - val_accuracy: 0.0000e+00\n",
      "Epoch 75/100\n",
      "19/19 [==============================] - 0s 4ms/step - loss: 1.3354 - accuracy: 0.0000e+00 - val_loss: 4.8948e-04 - val_accuracy: 0.0000e+00\n",
      "Epoch 76/100\n",
      "19/19 [==============================] - 0s 4ms/step - loss: 1.3347 - accuracy: 0.0000e+00 - val_loss: 4.9152e-04 - val_accuracy: 0.0000e+00\n",
      "Epoch 77/100\n",
      "19/19 [==============================] - 0s 4ms/step - loss: 1.3387 - accuracy: 0.0000e+00 - val_loss: 4.9097e-04 - val_accuracy: 0.0000e+00\n",
      "Epoch 78/100\n",
      "19/19 [==============================] - 0s 4ms/step - loss: 1.3354 - accuracy: 0.0000e+00 - val_loss: 4.9291e-04 - val_accuracy: 0.0000e+00\n",
      "Epoch 79/100\n",
      "19/19 [==============================] - 0s 4ms/step - loss: 1.3360 - accuracy: 0.0000e+00 - val_loss: 4.9403e-04 - val_accuracy: 0.0000e+00\n",
      "Epoch 80/100\n",
      "19/19 [==============================] - 0s 5ms/step - loss: 1.3369 - accuracy: 0.0000e+00 - val_loss: 4.9660e-04 - val_accuracy: 0.0000e+00\n",
      "Epoch 81/100\n",
      "19/19 [==============================] - 0s 4ms/step - loss: 1.3358 - accuracy: 0.0000e+00 - val_loss: 4.9753e-04 - val_accuracy: 0.0000e+00\n",
      "Epoch 82/100\n",
      "19/19 [==============================] - 0s 4ms/step - loss: 1.3346 - accuracy: 0.0000e+00 - val_loss: 4.9841e-04 - val_accuracy: 0.0000e+00\n",
      "Epoch 83/100\n",
      "19/19 [==============================] - 0s 4ms/step - loss: 1.3362 - accuracy: 0.0000e+00 - val_loss: 4.9896e-04 - val_accuracy: 0.0000e+00\n",
      "Epoch 84/100\n",
      "19/19 [==============================] - 0s 4ms/step - loss: 1.3364 - accuracy: 0.0000e+00 - val_loss: 4.9730e-04 - val_accuracy: 0.0000e+00\n",
      "Epoch 85/100\n",
      "19/19 [==============================] - 0s 4ms/step - loss: 1.3381 - accuracy: 0.0000e+00 - val_loss: 4.9737e-04 - val_accuracy: 0.0000e+00\n",
      "Epoch 86/100\n",
      "19/19 [==============================] - 0s 5ms/step - loss: 1.3363 - accuracy: 0.0000e+00 - val_loss: 4.9598e-04 - val_accuracy: 0.0000e+00\n",
      "Epoch 87/100\n",
      "19/19 [==============================] - 0s 4ms/step - loss: 1.3344 - accuracy: 0.0000e+00 - val_loss: 4.8159e-04 - val_accuracy: 0.0000e+00\n",
      "Epoch 88/100\n",
      "19/19 [==============================] - 0s 4ms/step - loss: 1.3353 - accuracy: 0.0000e+00 - val_loss: 4.9733e-04 - val_accuracy: 0.0000e+00\n",
      "Epoch 89/100\n",
      "19/19 [==============================] - 0s 4ms/step - loss: 1.3347 - accuracy: 0.0000e+00 - val_loss: 5.0252e-04 - val_accuracy: 0.0000e+00\n",
      "Epoch 90/100\n",
      "19/19 [==============================] - 0s 4ms/step - loss: 1.3348 - accuracy: 0.0000e+00 - val_loss: 5.0546e-04 - val_accuracy: 0.0000e+00\n",
      "Epoch 91/100\n",
      "19/19 [==============================] - 0s 4ms/step - loss: 1.3349 - accuracy: 0.0000e+00 - val_loss: 5.0820e-04 - val_accuracy: 0.0000e+00\n",
      "Epoch 92/100\n",
      "19/19 [==============================] - 0s 5ms/step - loss: 1.3352 - accuracy: 0.0000e+00 - val_loss: 5.0892e-04 - val_accuracy: 0.0000e+00\n",
      "Epoch 93/100\n",
      "19/19 [==============================] - 0s 5ms/step - loss: 1.3390 - accuracy: 0.0000e+00 - val_loss: 5.0686e-04 - val_accuracy: 0.0000e+00\n",
      "Epoch 94/100\n",
      "19/19 [==============================] - 0s 5ms/step - loss: 1.3350 - accuracy: 0.0000e+00 - val_loss: 5.0852e-04 - val_accuracy: 0.0000e+00\n",
      "Epoch 95/100\n",
      "19/19 [==============================] - 0s 5ms/step - loss: 1.3345 - accuracy: 0.0000e+00 - val_loss: 5.1086e-04 - val_accuracy: 0.0000e+00\n",
      "Epoch 96/100\n",
      "19/19 [==============================] - 0s 5ms/step - loss: 1.3359 - accuracy: 0.0000e+00 - val_loss: 5.1337e-04 - val_accuracy: 0.0000e+00\n",
      "Epoch 97/100\n",
      "19/19 [==============================] - 0s 5ms/step - loss: 1.3365 - accuracy: 0.0000e+00 - val_loss: 5.1749e-04 - val_accuracy: 0.0000e+00\n",
      "Epoch 98/100\n",
      "19/19 [==============================] - 0s 4ms/step - loss: 1.3366 - accuracy: 0.0000e+00 - val_loss: 5.2042e-04 - val_accuracy: 0.0000e+00\n",
      "Epoch 99/100\n",
      "19/19 [==============================] - 0s 4ms/step - loss: 1.3368 - accuracy: 0.0000e+00 - val_loss: 5.1915e-04 - val_accuracy: 0.0000e+00\n",
      "Epoch 100/100\n",
      "19/19 [==============================] - 0s 4ms/step - loss: 1.3350 - accuracy: 0.0000e+00 - val_loss: 5.2095e-04 - val_accuracy: 0.0000e+00\n"
     ]
    }
   ],
   "source": [
    "model = None\n",
    "for i in range(1,4):\n",
    "    train = pd.read_csv('datasets/delta/sdn_train_mininet_normalized_'+str(i)+'.csv', delimiter=\",\")     \n",
    "    X_train,Y_train = create_dataset(train, train.delay)\n",
    "    if(model is None):\n",
    "        model = LSTMconf(X_train)\n",
    "    history = LSTMfit(model,X_train, Y_train)\n",
    "\n",
    "# r = Timer(1.0, preprocessing, (prep_dataset.iloc[cont:cont+window,:]))\n",
    "# r.start()\n",
    "# print(X_train)\n",
    "    "
   ]
  },
  {
   "cell_type": "code",
   "execution_count": 31,
   "metadata": {},
   "outputs": [
    {
     "name": "stdout",
     "output_type": "stream",
     "text": [
      "Saving Model\n",
      "INFO:tensorflow:Assets written to: models/lstm\\assets\n"
     ]
    }
   ],
   "source": [
    "print('Saving Model')\n",
    "model.save('models/lstm')"
   ]
  },
  {
   "cell_type": "markdown",
   "metadata": {},
   "source": [
    "# loss training"
   ]
  },
  {
   "cell_type": "code",
   "execution_count": 32,
   "metadata": {},
   "outputs": [
    {
     "data": {
      "image/png": "[encoded data removed]",
      "text/plain": [
       "<Figure size 432x288 with 1 Axes>"
      ]
     },
     "metadata": {
      "needs_background": "light"
     },
     "output_type": "display_data"
    }
   ],
   "source": [
    "\n",
    "fig1 = plt.figure()\n",
    "ax1 = fig1.add_subplot(1,1,1)\n",
    "ax1.plot(history.history['loss'], label='train')\n",
    "ax1.plot(history.history['val_loss'], label='validation')\n",
    "ax1.legend();"
   ]
  },
  {
   "cell_type": "code",
   "execution_count": 33,
   "metadata": {},
   "outputs": [
    {
     "name": "stdout",
     "output_type": "stream",
     "text": [
      "modeling to keras  99.92 %  8.1  seconds\n"
     ]
    }
   ],
   "source": [
    "test = pd.read_csv('datasets/delta/sdn_train_mininet_normalized_test.csv', delimiter=\",\")     \n",
    "X_test,Y_test = create_dataset(test, test.delay)"
   ]
  },
  {
   "cell_type": "markdown",
   "metadata": {},
   "source": [
    "# predicting"
   ]
  },
  {
   "cell_type": "code",
   "execution_count": 34,
   "metadata": {},
   "outputs": [
    {
     "name": "stdout",
     "output_type": "stream",
     "text": [
      "WARNING:tensorflow:Model was constructed with shape (None, 3) for input KerasTensor(type_spec=TensorSpec(shape=(None, 3), dtype=tf.float32, name='dense_10_input'), name='dense_10_input', description=\"created by layer 'dense_10_input'\"), but it was called on an input with incompatible shape (None, 1, 3).\n"
     ]
    }
   ],
   "source": [
    "y_pred = model.predict(X_test)"
   ]
  },
  {
   "cell_type": "markdown",
   "metadata": {},
   "source": [
    "# unormalizing"
   ]
  },
  {
   "cell_type": "code",
   "execution_count": 35,
   "metadata": {},
   "outputs": [],
   "source": [
    "y_test_inv, y_pred_inv = unormalizing(test, Y_test, y_pred)"
   ]
  },
  {
   "cell_type": "code",
   "execution_count": 36,
   "metadata": {},
   "outputs": [
    {
     "data": {
      "image/png": "[encoded data removed]",
      "text/plain": [
       "<Figure size 432x288 with 1 Axes>"
      ]
     },
     "metadata": {
      "needs_background": "light"
     },
     "output_type": "display_data"
    }
   ],
   "source": [
    "fig2 = plt.figure()\n",
    "a2 = fig2.add_subplot(1,1,1)\n",
    "a2.plot(y_test_inv.flatten(), marker='.', label='true')\n",
    "a2.legend();"
   ]
  },
  {
   "cell_type": "code",
   "execution_count": 37,
   "metadata": {},
   "outputs": [
    {
     "data": {
      "image/png": "[encoded data removed]",
      "text/plain": [
       "<Figure size 432x288 with 1 Axes>"
      ]
     },
     "metadata": {
      "needs_background": "light"
     },
     "output_type": "display_data"
    }
   ],
   "source": [
    "fig3 = plt.figure()\n",
    "a3 = fig3.add_subplot(1,1,1)\n",
    "a3.plot(y_pred_inv.flatten(),'r',marker='.', label='predicted')\n",
    "a3.legend();"
   ]
  },
  {
   "cell_type": "code",
   "execution_count": 38,
   "metadata": {},
   "outputs": [
    {
     "data": {
      "image/png": "[encoded data removed]",
      "text/plain": [
       "<Figure size 432x288 with 1 Axes>"
      ]
     },
     "metadata": {
      "needs_background": "light"
     },
     "output_type": "display_data"
    }
   ],
   "source": [
    "fig4 = plt.figure()\n",
    "a4 = fig4.add_subplot(1,1,1)\n",
    "\n",
    "a4.plot(y_test_inv.flatten(), marker='.', label='true')\n",
    "a4.plot(y_pred_inv.flatten(),'r',marker='.', label='predicted')\n",
    "a4.legend();"
   ]
  },
  {
   "cell_type": "code",
   "execution_count": 39,
   "metadata": {},
   "outputs": [
    {
     "name": "stdout",
     "output_type": "stream",
     "text": [
      "progress  99.92 %\n"
     ]
    }
   ],
   "source": [
    "l1 = []\n",
    "l2 = []\n",
    "for i in np.arange(y_pred_inv.shape[0]):\n",
    "    clear_output(wait=True)\n",
    "    print('progress ',round((i/y_pred_inv.shape[0])*100,2), ('%'))\n",
    "    if(y_pred_inv[i,0]<=10):\n",
    "        l1.append(y_pred_inv[i,0])\n",
    "    if(y_test_inv[0,i]<=10):\n",
    "        l2.append(y_test_inv[0,i])\n",
    "\n",
    "y_pred_inv2 = np.array(l1)\n",
    "y_test_inv2 = np.array(l2)"
   ]
  },
  {
   "cell_type": "code",
   "execution_count": 40,
   "metadata": {},
   "outputs": [
    {
     "data": {
      "image/png": "[encoded data removed]",
      "text/plain": [
       "<Figure size 432x288 with 1 Axes>"
      ]
     },
     "metadata": {
      "needs_background": "light"
     },
     "output_type": "display_data"
    }
   ],
   "source": [
    "plt.plot(y_pred_inv2.flatten(),'r',marker='.', label='predicted')\n",
    "plt.plot(y_test_inv2.flatten(), marker='.', label='true')\n",
    "plt.legend();"
   ]
  },
  {
   "cell_type": "code",
   "execution_count": 41,
   "metadata": {},
   "outputs": [],
   "source": [
    "from sklearn.metrics import mean_squared_error\n",
    "from sklearn.metrics import median_absolute_error\n",
    "from sklearn.metrics import mean_absolute_error\n",
    "from sklearn.metrics import mean_squared_log_error"
   ]
  },
  {
   "cell_type": "code",
   "execution_count": 42,
   "metadata": {},
   "outputs": [
    {
     "name": "stdout",
     "output_type": "stream",
     "text": [
      "0.2065690870604554\n",
      "0.06596003378599731\n",
      "0.04831866192650587\n"
     ]
    }
   ],
   "source": [
    "rmse =  mean_squared_error(y_test_inv2, y_pred_inv2[0:1236], squared=False)\n",
    "mae =  mean_absolute_error(y_test_inv2, y_pred_inv2[0:1236])\n",
    "median_mae = median_absolute_error(y_test_inv2, y_pred_inv2[0:1236])\n",
    "\n",
    "\n",
    "print(rmse)\n",
    "print(mae)\n",
    "print(median_mae)"
   ]
  },
  {
   "cell_type": "code",
   "execution_count": 43,
   "metadata": {},
   "outputs": [
    {
     "data": {
      "image/png": "[encoded data removed]",
      "text/plain": [
       "<Figure size 432x288 with 1 Axes>"
      ]
     },
     "metadata": {
      "needs_background": "light"
     },
     "output_type": "display_data"
    }
   ],
   "source": [
    "objects = ('rmse', 'mae', 'median-mae')\n",
    "y_pos = np.arange(3)\n",
    "performance = [rmse,mae,median_mae]\n",
    "\n",
    "plt.bar(y_pos, performance, align='center')\n",
    "plt.xticks(y_pos, objects)\n",
    "#plt.ylabel('Usage')\n",
    "plt.title('Métricas regressão')\n",
    "\n",
    "plt.show()"
   ]
  },
  {
   "cell_type": "code",
   "execution_count": null,
   "metadata": {},
   "outputs": [],
   "source": [
    "\n"
   ]
  },
  {
   "cell_type": "code",
   "execution_count": null,
   "metadata": {},
   "outputs": [],
   "source": []
  },
  {
   "cell_type": "code",
   "execution_count": null,
   "metadata": {},
   "outputs": [],
   "source": []
  }
 ],
 "metadata": {
  "kernelspec": {
   "display_name": "Python 3",
   "language": "python",
   "name": "python3"
  },
  "language_info": {
   "codemirror_mode": {
    "name": "ipython",
    "version": 3
   },
   "file_extension": ".py",
   "mimetype": "text/x-python",
   "name": "python",
   "nbconvert_exporter": "python",
   "pygments_lexer": "ipython3",
   "version": "3.8.5"
  }
 },
 "nbformat": 4,
 "nbformat_minor": 4
}
