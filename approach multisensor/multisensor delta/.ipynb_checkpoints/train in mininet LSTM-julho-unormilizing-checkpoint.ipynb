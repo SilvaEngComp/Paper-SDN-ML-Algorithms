{
 "cells": [
  {
   "cell_type": "code",
   "execution_count": 1,
   "metadata": {},
   "outputs": [],
   "source": [
    "import os\n",
    "os.environ[\"TF_CPP_MIN_LOG_LEVEL\"] = \"2\""
   ]
  },
  {
   "cell_type": "code",
   "execution_count": 2,
   "metadata": {},
   "outputs": [],
   "source": [
    "import tensorflow as tf\n",
    "from tensorflow import keras\n",
    "from tensorflow.keras import layers\n",
    "import matplotlib.pyplot as plt\n",
    "import seaborn as sns\n",
    "import csv\n",
    "\n",
    "import pandas as pd\n",
    "import numpy as np\n",
    "from sklearn.model_selection import train_test_split\n",
    "from sklearn.metrics import mean_squared_error\n",
    "from sklearn.preprocessing import StandardScaler\n",
    "from threading import Timer\n",
    "from timeit import default_timer as timer\n",
    "from IPython.display import clear_output"
   ]
  },
  {
   "cell_type": "code",
   "execution_count": 23,
   "metadata": {},
   "outputs": [],
   "source": [
    "start = timer()\n",
    "prep_dataset1 = pd.read_csv('../datasets/dataset_test_02_07.csv', delimiter=\",\")\n",
    "\n",
    "df = prep_dataset1.iloc[:,1:4]\n"
   ]
  },
  {
   "cell_type": "code",
   "execution_count": 28,
   "metadata": {},
   "outputs": [],
   "source": [
    "WINDOW = 35\n",
    "cols = ['temperature','label' ,'delay' ]\n",
    "df2 = pd.DataFrame([], columns = cols)  \n",
    "for i in np.arange(df.shape[0]):    \n",
    "    init = i*WINDOW\n",
    "    init2 = (i+1)*WINDOW\n",
    "    if(init2<df.shape[0]):\n",
    "        if(i==0):\n",
    "             df2 = pd.DataFrame(df.iloc[init2:init2+WINDOW,:].to_numpy(), columns = cols) \n",
    "        else:\n",
    "            m = pd.DataFrame(df.iloc[init2:init2+WINDOW,:].to_numpy(), columns = cols)      \n",
    "            df2.append(m,  ignore_index=True)\n",
    "        df2\n",
    "\n"
   ]
  },
  {
   "cell_type": "code",
   "execution_count": 29,
   "metadata": {},
   "outputs": [
    {
     "data": {
      "text/html": [
       "<div>\n",
       "<style scoped>\n",
       "    .dataframe tbody tr th:only-of-type {\n",
       "        vertical-align: middle;\n",
       "    }\n",
       "\n",
       "    .dataframe tbody tr th {\n",
       "        vertical-align: top;\n",
       "    }\n",
       "\n",
       "    .dataframe thead th {\n",
       "        text-align: right;\n",
       "    }\n",
       "</style>\n",
       "<table border=\"1\" class=\"dataframe\">\n",
       "  <thead>\n",
       "    <tr style=\"text-align: right;\">\n",
       "      <th></th>\n",
       "      <th>temperature</th>\n",
       "      <th>label</th>\n",
       "      <th>delay</th>\n",
       "    </tr>\n",
       "  </thead>\n",
       "  <tbody>\n",
       "  </tbody>\n",
       "</table>\n",
       "</div>"
      ],
      "text/plain": [
       "Empty DataFrame\n",
       "Columns: [temperature, label, delay]\n",
       "Index: []"
      ]
     },
     "execution_count": 29,
     "metadata": {},
     "output_type": "execute_result"
    }
   ],
   "source": [
    "\n",
    "df2"
   ]
  },
  {
   "cell_type": "code",
   "execution_count": 7,
   "metadata": {},
   "outputs": [],
   "source": [
    "train_size = int(len(df) * 0.8)\n",
    "test_size = len(df) - train_size\n",
    "train, test = df.iloc[0:train_size], df.iloc[train_size:len(df)]"
   ]
  },
  {
   "cell_type": "code",
   "execution_count": null,
   "metadata": {},
   "outputs": [],
   "source": [
    "test"
   ]
  },
  {
   "cell_type": "code",
   "execution_count": null,
   "metadata": {},
   "outputs": [],
   "source": [
    "def create_dataset(X, y, time_steps=1):\n",
    "    Xs, ys = [], []    \n",
    "    for i in range(len(X) - time_steps):\n",
    "        clear_output(wait=True)\n",
    "        print('modeling to keras ',round((i/(len(X) - time_steps))*100,2), ('%'), end='')\n",
    "        s = round(timer() - start)\n",
    "        if(s>60):\n",
    "            s /=60\n",
    "            print(' ', s, ' seconds')\n",
    "        v = X.iloc[i: (i+time_steps), :].to_numpy()\n",
    "        Xs.append(v)\n",
    "        ys.append(y.iloc[i+time_steps])\n",
    "    return np.array(Xs), np.array(ys)"
   ]
  },
  {
   "cell_type": "code",
   "execution_count": null,
   "metadata": {},
   "outputs": [],
   "source": [
    "def LSTMconf(X_train):\n",
    "    print('Init config LSTM')\n",
    "    model = keras.Sequential()\n",
    "    model.add(\n",
    "        keras.layers.Bidirectional(\n",
    "            keras.layers.LSTM(\n",
    "                 activation=\"relu\",\n",
    "                units=512,\n",
    "                input_shape=(X_train.shape[1],X_train.shape[2])\n",
    "            )\n",
    "        ))\n",
    "    model.add(keras.layers.Dense(units=512, activation=\"relu\"))\n",
    "    model.add(keras.layers.Dense(units=512, activation=\"relu\"))\n",
    "    model.add(keras.layers.Dense(units=512, activation=\"relu\"))\n",
    "    model.add(keras.layers.Dense(units=512, activation=\"relu\"))\n",
    "    model.add(keras.layers.Dropout(rate=0.2))\n",
    "    model.add(keras.layers.Dense(units=1))\n",
    "    \n",
    "    loss =\"mse\"\n",
    "    optim = tf.keras.optimizers.Adam(\n",
    "    learning_rate=0.0001)\n",
    "    metrics=[\"accuracy\"]\n",
    "\n",
    "    model.compile(loss=loss, optimizer=optim, \n",
    "#              metrics=metrics\n",
    "             )\n",
    "    return model\n",
    "    "
   ]
  },
  {
   "cell_type": "code",
   "execution_count": null,
   "metadata": {},
   "outputs": [],
   "source": [
    "def LSTMfit(model,X_train,Y_train):\n",
    "    print('Init Train')\n",
    "    start = timer()\n",
    "    history = model.fit(\n",
    "        X_train, Y_train, \n",
    "        epochs=256, \n",
    "        batch_size= 128,\n",
    "        validation_split=0.1,\n",
    "        shuffle=False,\n",
    "    #     callbacks=[tensorboard_callback]\n",
    "    )\n",
    "    return history\n"
   ]
  },
  {
   "cell_type": "code",
   "execution_count": null,
   "metadata": {},
   "outputs": [],
   "source": [
    "\n",
    "X_train,Y_train = create_dataset(train, train.delay)\n",
    "model = LSTMconf(X_train)\n",
    "history = LSTMfit(model,X_train, Y_train)\n"
   ]
  },
  {
   "cell_type": "code",
   "execution_count": null,
   "metadata": {},
   "outputs": [],
   "source": [
    "print('Saving Model')\n",
    "model.save('models/lstm_mininet')"
   ]
  },
  {
   "cell_type": "markdown",
   "metadata": {},
   "source": [
    "# loss training"
   ]
  },
  {
   "cell_type": "code",
   "execution_count": null,
   "metadata": {},
   "outputs": [],
   "source": [
    "\n",
    "fig1 = plt.figure()\n",
    "ax1 = fig1.add_subplot(1,1,1)\n",
    "ax1.plot(history.history['loss'], label='train')\n",
    "ax1.plot(history.history['val_loss'], label='validation')\n",
    "ax1.legend();"
   ]
  },
  {
   "cell_type": "code",
   "execution_count": null,
   "metadata": {},
   "outputs": [],
   "source": [
    "X_test,Y_test = create_dataset(test, test.delay)"
   ]
  },
  {
   "cell_type": "code",
   "execution_count": null,
   "metadata": {},
   "outputs": [],
   "source": [
    "Y_test"
   ]
  },
  {
   "cell_type": "markdown",
   "metadata": {},
   "source": [
    "# predicting"
   ]
  },
  {
   "cell_type": "code",
   "execution_count": null,
   "metadata": {},
   "outputs": [],
   "source": [
    "y_pred = model.predict(X_test)"
   ]
  },
  {
   "cell_type": "markdown",
   "metadata": {},
   "source": [
    "# unormalizing"
   ]
  },
  {
   "cell_type": "code",
   "execution_count": null,
   "metadata": {},
   "outputs": [],
   "source": [
    "y_pred"
   ]
  },
  {
   "cell_type": "code",
   "execution_count": null,
   "metadata": {},
   "outputs": [],
   "source": [
    "fig2 = plt.figure()\n",
    "a2 = fig2.add_subplot(1,1,1)\n",
    "a2.plot(Y_test, marker='.', label='true')\n",
    "a2.legend();"
   ]
  },
  {
   "cell_type": "code",
   "execution_count": null,
   "metadata": {},
   "outputs": [],
   "source": [
    "fig3 = plt.figure()\n",
    "a3 = fig3.add_subplot(1,1,1)\n",
    "a3.plot(y_pred,'r',marker='.', label='predicted')\n",
    "a3.legend();"
   ]
  },
  {
   "cell_type": "code",
   "execution_count": null,
   "metadata": {},
   "outputs": [],
   "source": [
    "fig4 = plt.figure()\n",
    "a4 = fig4.add_subplot(1,1,1)\n",
    "\n",
    "a4.plot(Y_test, marker='.', label='true')\n",
    "a4.plot(y_pred,'r',marker='.', label='predicted')\n",
    "a4.legend();"
   ]
  },
  {
   "cell_type": "code",
   "execution_count": null,
   "metadata": {},
   "outputs": [],
   "source": [
    "from sklearn.metrics import mean_squared_error\n",
    "from sklearn.metrics import median_absolute_error\n",
    "from sklearn.metrics import mean_absolute_error\n",
    "from sklearn.metrics import mean_squared_log_error\n",
    "from sklearn.metrics import explained_variance_score"
   ]
  },
  {
   "cell_type": "code",
   "execution_count": null,
   "metadata": {},
   "outputs": [],
   "source": [
    "size = np.min([y_pred.shape[0],Y_test.shape[0] ])\n",
    "rmse =  mean_squared_error(Y_test[0:size], y_pred[0:size], squared=False)\n",
    "mae =  mean_absolute_error(Y_test[0:size], y_pred[0:size])\n",
    "median_mae = median_absolute_error(Y_test[0:size], y_pred[0:size])\n",
    "evs = explained_variance_score(Y_test[0:size], y_pred[0:size])\n",
    "\n",
    "print(rmse)\n",
    "print(mae)\n",
    "print(median_mae)\n",
    "print('Explained Variance Score: ',evs)"
   ]
  },
  {
   "cell_type": "code",
   "execution_count": null,
   "metadata": {},
   "outputs": [],
   "source": [
    "objects = ('rmse', 'mae', 'median-mae')\n",
    "y_pos = np.arange(3)\n",
    "performance = [rmse,mae,median_mae]\n",
    "\n",
    "plt.bar(y_pos, performance, align='center')\n",
    "plt.xticks(y_pos, objects)\n",
    "#plt.ylabel('Usage')\n",
    "plt.title('Métricas regressão')\n",
    "\n",
    "plt.show()"
   ]
  },
  {
   "cell_type": "code",
   "execution_count": null,
   "metadata": {},
   "outputs": [],
   "source": [
    "Y_test[0:size]"
   ]
  },
  {
   "cell_type": "code",
   "execution_count": null,
   "metadata": {},
   "outputs": [],
   "source": []
  },
  {
   "cell_type": "code",
   "execution_count": null,
   "metadata": {},
   "outputs": [],
   "source": []
  },
  {
   "cell_type": "code",
   "execution_count": null,
   "metadata": {},
   "outputs": [],
   "source": []
  }
 ],
 "metadata": {
  "kernelspec": {
   "display_name": "Python 3",
   "language": "python",
   "name": "python3"
  },
  "language_info": {
   "codemirror_mode": {
    "name": "ipython",
    "version": 3
   },
   "file_extension": ".py",
   "mimetype": "text/x-python",
   "name": "python",
   "nbconvert_exporter": "python",
   "pygments_lexer": "ipython3",
   "version": "3.8.5"
  }
 },
 "nbformat": 4,
 "nbformat_minor": 4
}
