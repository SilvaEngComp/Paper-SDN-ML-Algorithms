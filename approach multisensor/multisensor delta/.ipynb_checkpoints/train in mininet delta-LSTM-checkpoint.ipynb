{
 "cells": [
  {
   "cell_type": "code",
   "execution_count": 1,
   "metadata": {},
   "outputs": [],
   "source": [
    "import os\n",
    "os.environ[\"TF_CPP_MIN_LOG_LEVEL\"] = \"2\""
   ]
  },
  {
   "cell_type": "code",
   "execution_count": 2,
   "metadata": {},
   "outputs": [],
   "source": [
    "import tensorflow as tf\n",
    "from tensorflow import keras\n",
    "from tensorflow.keras import layers\n",
    "import matplotlib.pyplot as plt\n",
    "import seaborn as sns\n",
    "import csv\n",
    "\n",
    "import pandas as pd\n",
    "import numpy as np\n",
    "from sklearn.model_selection import train_test_split\n",
    "from sklearn.metrics import mean_squared_error\n",
    "from sklearn.preprocessing import StandardScaler\n",
    "from threading import Timer\n",
    "from timeit import default_timer as timer\n",
    "from IPython.display import clear_output"
   ]
  },
  {
   "cell_type": "code",
   "execution_count": 3,
   "metadata": {},
   "outputs": [],
   "source": [
    "start = timer()\n",
    "prep_dataset1 = pd.read_csv('datasets/com_concept_drift/sdn_train_unormalized1.csv', delimiter=\",\")\n",
    "prep_dataset2 = pd.read_csv('datasets/com_concept_drift/sdn_train_unormalized2.csv', delimiter=\",\")\n",
    "prep_dataset3 = pd.read_csv('datasets/com_concept_drift/sdn_train_unormalized3.csv', delimiter=\",\")\n",
    "prep_test = pd.read_csv('datasets/com_concept_drift/sdn_test_unormalized.csv', delimiter=\",\")\n"
   ]
  },
  {
   "cell_type": "markdown",
   "metadata": {},
   "source": [
    "# Normalizing"
   ]
  },
  {
   "cell_type": "code",
   "execution_count": 4,
   "metadata": {},
   "outputs": [],
   "source": [
    "def normalizing(df):\n",
    "    f_columns = ['timestamp','temperature']\n",
    "    scaler1 = StandardScaler().fit(df)\n",
    "    scaler2 = StandardScaler().fit(df)\n",
    "\n",
    "    scaler1= scaler1.fit(df[f_columns].to_numpy())\n",
    "    scaler2 = scaler2.fit(df[['delay']])\n",
    "\n",
    "    df.loc[:,f_columns] = scaler1.transform(df[f_columns].to_numpy())\n",
    "    df['delay'] = scaler2.transform(df[['delay']])\n",
    "    return df\n",
    "\n",
    "\n",
    "def unormalizing(df,Y_test,y_pred ):\n",
    "    scaler = StandardScaler().fit(df)\n",
    "    scaler = scaler.fit(df[['delay']])\n",
    "    y_test_inv = scaler.inverse_transform(Y_test.reshape(1,-1))\n",
    "    y_pred_inv = scaler.inverse_transform(y_pred)\n",
    "    \n",
    "    return y_test_inv, y_pred_inv\n"
   ]
  },
  {
   "cell_type": "code",
   "execution_count": 5,
   "metadata": {},
   "outputs": [],
   "source": [
    "def saveFile(dataset, name='dataset'):\n",
    "    print('saving: ',name, '......')\n",
    "    f = open(name,'w')\n",
    "    try:\n",
    "        writer = csv.writer(f)\n",
    "        writer.writerow(dataset.columns)\n",
    "        for i in np.arange(int(dataset.shape[0])):\n",
    "            writer.writerow(dataset.iloc[i,])\n",
    "    finally:\n",
    "        f.close()\n",
    "        \n",
    "\n",
    "def preprocessing(dataset, order): \n",
    "    window = 20\n",
    "    cont = 0;\n",
    "    cols = ['timestamp','temperature','label' ,'delay' ]\n",
    "    newSet = []\n",
    "    while(cont<dataset.shape[0]):\n",
    "        MyLIst = dataset.iloc[cont:cont+window,:]\n",
    "        cont+=20\n",
    "        deltaT = np.max(MyLIst.temperature) - np.min(MyLIst.temperature)\n",
    "        deltaTime = np.max(MyLIst.seconds) - np.min(MyLIst.seconds)\n",
    "        meanDelay = np.mean(MyLIst.delay)\n",
    "        label=MyLIst.iloc[0,3]   \n",
    "        newSet.append([deltaTime,deltaT,label,meanDelay])\n",
    "    delta_df = pd.DataFrame(np.array(newSet), columns = cols)\n",
    "    saveFile(delta_df, 'datasets/delta/sdn_train_mininet_unormalized_'+order+'.csv')\n",
    "    norm = normalizing(delta_df)\n",
    "    saveFile(norm, 'datasets/delta/sdn_train_mininet_normalized_'+order+'.csv')\n",
    "\n",
    "    return norm\n",
    "    "
   ]
  },
  {
   "cell_type": "code",
   "execution_count": 6,
   "metadata": {},
   "outputs": [],
   "source": [
    "def create_dataset(X, y, time_steps=1):\n",
    "    Xs, ys = [], []    \n",
    "    for i in range(len(X) - time_steps):\n",
    "        clear_output(wait=True)\n",
    "        print('modeling to keras ',round((i/(len(X) - time_steps))*100,2), ('%'), end='')\n",
    "        s = round(timer() - start)\n",
    "        if(s>60):\n",
    "            s /=60\n",
    "            print(' ', s, ' seconds')\n",
    "        v = X.iloc[i: (i+time_steps), 1:3].to_numpy()\n",
    "        Xs.append(v)\n",
    "        ys.append(y.iloc[i+time_steps])\n",
    "    return np.array(Xs), np.array(ys)"
   ]
  },
  {
   "cell_type": "code",
   "execution_count": 7,
   "metadata": {},
   "outputs": [
    {
     "name": "stdout",
     "output_type": "stream",
     "text": [
      "saving:  datasets/delta/sdn_train_mininet_unormalized_1.csv ......\n",
      "saving:  datasets/delta/sdn_train_mininet_normalized_1.csv ......\n",
      "saving:  datasets/delta/sdn_train_mininet_unormalized_2.csv ......\n",
      "saving:  datasets/delta/sdn_train_mininet_normalized_2.csv ......\n",
      "saving:  datasets/delta/sdn_train_mininet_unormalized_3.csv ......\n",
      "saving:  datasets/delta/sdn_train_mininet_normalized_3.csv ......\n",
      "saving:  datasets/delta/sdn_train_mininet_unormalized_test.csv ......\n",
      "saving:  datasets/delta/sdn_train_mininet_normalized_test.csv ......\n"
     ]
    },
    {
     "data": {
      "text/html": [
       "<div>\n",
       "<style scoped>\n",
       "    .dataframe tbody tr th:only-of-type {\n",
       "        vertical-align: middle;\n",
       "    }\n",
       "\n",
       "    .dataframe tbody tr th {\n",
       "        vertical-align: top;\n",
       "    }\n",
       "\n",
       "    .dataframe thead th {\n",
       "        text-align: right;\n",
       "    }\n",
       "</style>\n",
       "<table border=\"1\" class=\"dataframe\">\n",
       "  <thead>\n",
       "    <tr style=\"text-align: right;\">\n",
       "      <th></th>\n",
       "      <th>timestamp</th>\n",
       "      <th>temperature</th>\n",
       "      <th>label</th>\n",
       "      <th>delay</th>\n",
       "    </tr>\n",
       "  </thead>\n",
       "  <tbody>\n",
       "    <tr>\n",
       "      <th>0</th>\n",
       "      <td>0.453793</td>\n",
       "      <td>2.855213</td>\n",
       "      <td>0.0</td>\n",
       "      <td>-0.023848</td>\n",
       "    </tr>\n",
       "    <tr>\n",
       "      <th>1</th>\n",
       "      <td>0.100554</td>\n",
       "      <td>-0.192323</td>\n",
       "      <td>0.0</td>\n",
       "      <td>-0.023848</td>\n",
       "    </tr>\n",
       "    <tr>\n",
       "      <th>2</th>\n",
       "      <td>-0.014454</td>\n",
       "      <td>-0.275437</td>\n",
       "      <td>0.0</td>\n",
       "      <td>0.140706</td>\n",
       "    </tr>\n",
       "    <tr>\n",
       "      <th>3</th>\n",
       "      <td>0.059480</td>\n",
       "      <td>-0.303142</td>\n",
       "      <td>0.0</td>\n",
       "      <td>0.305260</td>\n",
       "    </tr>\n",
       "    <tr>\n",
       "      <th>4</th>\n",
       "      <td>0.034835</td>\n",
       "      <td>-0.303142</td>\n",
       "      <td>0.0</td>\n",
       "      <td>0.305260</td>\n",
       "    </tr>\n",
       "    <tr>\n",
       "      <th>...</th>\n",
       "      <td>...</td>\n",
       "      <td>...</td>\n",
       "      <td>...</td>\n",
       "      <td>...</td>\n",
       "    </tr>\n",
       "    <tr>\n",
       "      <th>1233</th>\n",
       "      <td>0.331391</td>\n",
       "      <td>0.250955</td>\n",
       "      <td>0.0</td>\n",
       "      <td>-0.106125</td>\n",
       "    </tr>\n",
       "    <tr>\n",
       "      <th>1234</th>\n",
       "      <td>0.447495</td>\n",
       "      <td>0.306365</td>\n",
       "      <td>0.0</td>\n",
       "      <td>-0.106125</td>\n",
       "    </tr>\n",
       "    <tr>\n",
       "      <th>1235</th>\n",
       "      <td>0.420933</td>\n",
       "      <td>0.638823</td>\n",
       "      <td>0.0</td>\n",
       "      <td>-0.050360</td>\n",
       "    </tr>\n",
       "    <tr>\n",
       "      <th>1236</th>\n",
       "      <td>0.420659</td>\n",
       "      <td>0.888167</td>\n",
       "      <td>0.0</td>\n",
       "      <td>-0.050360</td>\n",
       "    </tr>\n",
       "    <tr>\n",
       "      <th>1237</th>\n",
       "      <td>0.133140</td>\n",
       "      <td>-0.026094</td>\n",
       "      <td>0.0</td>\n",
       "      <td>-0.062029</td>\n",
       "    </tr>\n",
       "  </tbody>\n",
       "</table>\n",
       "<p>1238 rows × 4 columns</p>\n",
       "</div>"
      ],
      "text/plain": [
       "      timestamp  temperature  label     delay\n",
       "0      0.453793     2.855213    0.0 -0.023848\n",
       "1      0.100554    -0.192323    0.0 -0.023848\n",
       "2     -0.014454    -0.275437    0.0  0.140706\n",
       "3      0.059480    -0.303142    0.0  0.305260\n",
       "4      0.034835    -0.303142    0.0  0.305260\n",
       "...         ...          ...    ...       ...\n",
       "1233   0.331391     0.250955    0.0 -0.106125\n",
       "1234   0.447495     0.306365    0.0 -0.106125\n",
       "1235   0.420933     0.638823    0.0 -0.050360\n",
       "1236   0.420659     0.888167    0.0 -0.050360\n",
       "1237   0.133140    -0.026094    0.0 -0.062029\n",
       "\n",
       "[1238 rows x 4 columns]"
      ]
     },
     "execution_count": 7,
     "metadata": {},
     "output_type": "execute_result"
    }
   ],
   "source": [
    "preprocessing(prep_dataset1, '1')\n",
    "preprocessing(prep_dataset2, '2')\n",
    "preprocessing(prep_dataset3, '3')\n",
    "preprocessing(prep_test, 'test')"
   ]
  },
  {
   "cell_type": "code",
   "execution_count": 8,
   "metadata": {},
   "outputs": [
    {
     "data": {
      "text/html": [
       "<div>\n",
       "<style scoped>\n",
       "    .dataframe tbody tr th:only-of-type {\n",
       "        vertical-align: middle;\n",
       "    }\n",
       "\n",
       "    .dataframe tbody tr th {\n",
       "        vertical-align: top;\n",
       "    }\n",
       "\n",
       "    .dataframe thead th {\n",
       "        text-align: right;\n",
       "    }\n",
       "</style>\n",
       "<table border=\"1\" class=\"dataframe\">\n",
       "  <thead>\n",
       "    <tr style=\"text-align: right;\">\n",
       "      <th></th>\n",
       "      <th>timestamp</th>\n",
       "      <th>seconds</th>\n",
       "      <th>temperature</th>\n",
       "      <th>label</th>\n",
       "      <th>delay</th>\n",
       "    </tr>\n",
       "  </thead>\n",
       "  <tbody>\n",
       "    <tr>\n",
       "      <th>15000</th>\n",
       "      <td>2004-03-09 21:31:13</td>\n",
       "      <td>1.078879e+09</td>\n",
       "      <td>22.2620</td>\n",
       "      <td>1</td>\n",
       "      <td>25621.0</td>\n",
       "    </tr>\n",
       "    <tr>\n",
       "      <th>15001</th>\n",
       "      <td>2004-03-09 21:31:43</td>\n",
       "      <td>1.078879e+09</td>\n",
       "      <td>22.2718</td>\n",
       "      <td>1</td>\n",
       "      <td>25621.0</td>\n",
       "    </tr>\n",
       "    <tr>\n",
       "      <th>15002</th>\n",
       "      <td>2004-03-09 21:32:07</td>\n",
       "      <td>1.078879e+09</td>\n",
       "      <td>22.2620</td>\n",
       "      <td>1</td>\n",
       "      <td>25621.0</td>\n",
       "    </tr>\n",
       "    <tr>\n",
       "      <th>15003</th>\n",
       "      <td>2004-03-09 21:33:04</td>\n",
       "      <td>1.078879e+09</td>\n",
       "      <td>22.2620</td>\n",
       "      <td>1</td>\n",
       "      <td>25621.0</td>\n",
       "    </tr>\n",
       "    <tr>\n",
       "      <th>15004</th>\n",
       "      <td>2004-03-09 21:33:42</td>\n",
       "      <td>1.078879e+09</td>\n",
       "      <td>22.2620</td>\n",
       "      <td>1</td>\n",
       "      <td>25621.0</td>\n",
       "    </tr>\n",
       "    <tr>\n",
       "      <th>...</th>\n",
       "      <td>...</td>\n",
       "      <td>...</td>\n",
       "      <td>...</td>\n",
       "      <td>...</td>\n",
       "      <td>...</td>\n",
       "    </tr>\n",
       "    <tr>\n",
       "      <th>24395</th>\n",
       "      <td>2004-03-18 05:41:30</td>\n",
       "      <td>1.079599e+09</td>\n",
       "      <td>20.8704</td>\n",
       "      <td>1</td>\n",
       "      <td>1051.0</td>\n",
       "    </tr>\n",
       "    <tr>\n",
       "      <th>24396</th>\n",
       "      <td>2004-03-18 05:41:58</td>\n",
       "      <td>1.079599e+09</td>\n",
       "      <td>20.8704</td>\n",
       "      <td>1</td>\n",
       "      <td>1051.0</td>\n",
       "    </tr>\n",
       "    <tr>\n",
       "      <th>24397</th>\n",
       "      <td>2004-03-18 05:42:55</td>\n",
       "      <td>1.079599e+09</td>\n",
       "      <td>20.8802</td>\n",
       "      <td>1</td>\n",
       "      <td>1051.0</td>\n",
       "    </tr>\n",
       "    <tr>\n",
       "      <th>24398</th>\n",
       "      <td>2004-03-18 05:43:45</td>\n",
       "      <td>1.079599e+09</td>\n",
       "      <td>20.8704</td>\n",
       "      <td>1</td>\n",
       "      <td>1051.0</td>\n",
       "    </tr>\n",
       "    <tr>\n",
       "      <th>24399</th>\n",
       "      <td>2004-03-18 05:45:27</td>\n",
       "      <td>1.079600e+09</td>\n",
       "      <td>20.8802</td>\n",
       "      <td>1</td>\n",
       "      <td>1051.0</td>\n",
       "    </tr>\n",
       "  </tbody>\n",
       "</table>\n",
       "<p>850 rows × 5 columns</p>\n",
       "</div>"
      ],
      "text/plain": [
       "                 timestamp       seconds  temperature  label    delay\n",
       "15000  2004-03-09 21:31:13  1.078879e+09      22.2620      1  25621.0\n",
       "15001  2004-03-09 21:31:43  1.078879e+09      22.2718      1  25621.0\n",
       "15002  2004-03-09 21:32:07  1.078879e+09      22.2620      1  25621.0\n",
       "15003  2004-03-09 21:33:04  1.078879e+09      22.2620      1  25621.0\n",
       "15004  2004-03-09 21:33:42  1.078879e+09      22.2620      1  25621.0\n",
       "...                    ...           ...          ...    ...      ...\n",
       "24395  2004-03-18 05:41:30  1.079599e+09      20.8704      1   1051.0\n",
       "24396  2004-03-18 05:41:58  1.079599e+09      20.8704      1   1051.0\n",
       "24397  2004-03-18 05:42:55  1.079599e+09      20.8802      1   1051.0\n",
       "24398  2004-03-18 05:43:45  1.079599e+09      20.8704      1   1051.0\n",
       "24399  2004-03-18 05:45:27  1.079600e+09      20.8802      1   1051.0\n",
       "\n",
       "[850 rows x 5 columns]"
      ]
     },
     "execution_count": 8,
     "metadata": {},
     "output_type": "execute_result"
    }
   ],
   "source": [
    "prep_test[prep_test.label==1]"
   ]
  },
  {
   "cell_type": "code",
   "execution_count": 9,
   "metadata": {},
   "outputs": [],
   "source": [
    "def LSTMconf(X_train):\n",
    "    print('Init config LSTM')\n",
    "    model = keras.Sequential()\n",
    "    model.add(\n",
    "        keras.layers.Bidirectional(\n",
    "            keras.layers.LSTM(\n",
    "                 activation=\"relu\",\n",
    "                units=512,\n",
    "                input_shape=(X_train.shape[1],X_train.shape[2])\n",
    "            )\n",
    "        ))\n",
    "    model.add(keras.layers.Dense(units=512, activation=\"relu\"))\n",
    "    model.add(keras.layers.Dense(units=512, activation=\"relu\"))\n",
    "    model.add(keras.layers.Dense(units=512, activation=\"relu\"))\n",
    "    model.add(keras.layers.Dense(units=512, activation=\"relu\"))\n",
    "    model.add(keras.layers.Dropout(rate=0.2))\n",
    "    model.add(keras.layers.Dense(units=1))\n",
    "    \n",
    "    loss =\"mse\"\n",
    "    optim = tf.keras.optimizers.Adam(\n",
    "    learning_rate=0.0001)\n",
    "    metrics=[\"accuracy\"]\n",
    "\n",
    "    model.compile(loss=loss, optimizer=optim, \n",
    "             metrics=metrics\n",
    "             )\n",
    "    return model\n",
    "    "
   ]
  },
  {
   "cell_type": "code",
   "execution_count": 10,
   "metadata": {},
   "outputs": [],
   "source": [
    "def LSTMfit(model,X_train,Y_train):\n",
    "    print('Init Train')\n",
    "    start = timer()\n",
    "    history = model.fit(\n",
    "        X_train, Y_train, \n",
    "        epochs=100, \n",
    "        batch_size= 64,\n",
    "        validation_split=0.1,\n",
    "        shuffle=False,\n",
    "    #     callbacks=[tensorboard_callback]\n",
    "    )\n",
    "    return history\n"
   ]
  },
  {
   "cell_type": "code",
   "execution_count": 11,
   "metadata": {},
   "outputs": [
    {
     "name": "stdout",
     "output_type": "stream",
     "text": [
      "modeling to keras  99.94 %  3.1333333333333333  seconds\n",
      "Init Train\n",
      "Epoch 1/100\n",
      "22/22 [==============================] - 1s 36ms/step - loss: 0.5708 - accuracy: 0.0000e+00 - val_loss: 5.0010 - val_accuracy: 0.0000e+00\n",
      "Epoch 2/100\n",
      "22/22 [==============================] - 1s 32ms/step - loss: 0.5709 - accuracy: 0.0000e+00 - val_loss: 4.9972 - val_accuracy: 0.0000e+00\n",
      "Epoch 3/100\n",
      "22/22 [==============================] - 1s 31ms/step - loss: 0.5699 - accuracy: 0.0000e+00 - val_loss: 4.9865 - val_accuracy: 0.0000e+00\n",
      "Epoch 4/100\n",
      "22/22 [==============================] - 1s 33ms/step - loss: 0.5695 - accuracy: 0.0000e+00 - val_loss: 4.9867 - val_accuracy: 0.0000e+00\n",
      "Epoch 5/100\n",
      "22/22 [==============================] - 1s 34ms/step - loss: 0.5690 - accuracy: 0.0000e+00 - val_loss: 4.9861 - val_accuracy: 0.0000e+00\n",
      "Epoch 6/100\n",
      "22/22 [==============================] - 1s 32ms/step - loss: 0.5690 - accuracy: 0.0000e+00 - val_loss: 4.9854 - val_accuracy: 0.0000e+00\n",
      "Epoch 7/100\n",
      "22/22 [==============================] - 1s 32ms/step - loss: 0.5689 - accuracy: 0.0000e+00 - val_loss: 4.9867 - val_accuracy: 0.0000e+00\n",
      "Epoch 8/100\n",
      "22/22 [==============================] - 1s 30ms/step - loss: 0.5688 - accuracy: 0.0000e+00 - val_loss: 4.9856 - val_accuracy: 0.0000e+00\n",
      "Epoch 9/100\n",
      "22/22 [==============================] - 1s 31ms/step - loss: 0.5689 - accuracy: 0.0000e+00 - val_loss: 4.9858 - val_accuracy: 0.0000e+00\n",
      "Epoch 10/100\n",
      "22/22 [==============================] - 1s 30ms/step - loss: 0.5685 - accuracy: 0.0000e+00 - val_loss: 4.9861 - val_accuracy: 0.0000e+00\n",
      "Epoch 11/100\n",
      "22/22 [==============================] - 1s 31ms/step - loss: 0.5686 - accuracy: 0.0000e+00 - val_loss: 4.9876 - val_accuracy: 0.0000e+00\n",
      "Epoch 12/100\n",
      "22/22 [==============================] - 1s 42ms/step - loss: 0.5689 - accuracy: 0.0000e+00 - val_loss: 4.9864 - val_accuracy: 0.0000e+00\n",
      "Epoch 13/100\n",
      "22/22 [==============================] - 1s 37ms/step - loss: 0.5683 - accuracy: 0.0000e+00 - val_loss: 4.9888 - val_accuracy: 0.0000e+00\n",
      "Epoch 14/100\n",
      "22/22 [==============================] - 1s 33ms/step - loss: 0.5687 - accuracy: 0.0000e+00 - val_loss: 4.9875 - val_accuracy: 0.0000e+00\n",
      "Epoch 15/100\n",
      "22/22 [==============================] - 1s 31ms/step - loss: 0.5685 - accuracy: 0.0000e+00 - val_loss: 4.9886 - val_accuracy: 0.0000e+00\n",
      "Epoch 16/100\n",
      "22/22 [==============================] - 1s 31ms/step - loss: 0.5686 - accuracy: 0.0000e+00 - val_loss: 4.9879 - val_accuracy: 0.0000e+00\n",
      "Epoch 17/100\n",
      "22/22 [==============================] - 1s 34ms/step - loss: 0.5685 - accuracy: 0.0000e+00 - val_loss: 4.9899 - val_accuracy: 0.0000e+00\n",
      "Epoch 18/100\n",
      "22/22 [==============================] - 1s 33ms/step - loss: 0.5681 - accuracy: 0.0000e+00 - val_loss: 4.9912 - val_accuracy: 0.0000e+00\n",
      "Epoch 19/100\n",
      "22/22 [==============================] - 1s 34ms/step - loss: 0.5688 - accuracy: 0.0000e+00 - val_loss: 4.9917 - val_accuracy: 0.0000e+00\n",
      "Epoch 20/100\n",
      "22/22 [==============================] - 1s 35ms/step - loss: 0.5685 - accuracy: 0.0000e+00 - val_loss: 4.9932 - val_accuracy: 0.0000e+00\n",
      "Epoch 21/100\n",
      "22/22 [==============================] - 1s 34ms/step - loss: 0.5685 - accuracy: 0.0000e+00 - val_loss: 4.9919 - val_accuracy: 0.0000e+00\n",
      "Epoch 22/100\n",
      "22/22 [==============================] - 1s 33ms/step - loss: 0.5682 - accuracy: 0.0000e+00 - val_loss: 4.9918 - val_accuracy: 0.0000e+00\n",
      "Epoch 23/100\n",
      "22/22 [==============================] - 1s 34ms/step - loss: 0.5687 - accuracy: 0.0000e+00 - val_loss: 4.9926 - val_accuracy: 0.0000e+00\n",
      "Epoch 24/100\n",
      "22/22 [==============================] - 1s 34ms/step - loss: 0.5687 - accuracy: 0.0000e+00 - val_loss: 4.9924 - val_accuracy: 0.0000e+00\n",
      "Epoch 25/100\n",
      "22/22 [==============================] - 1s 34ms/step - loss: 0.5678 - accuracy: 0.0000e+00 - val_loss: 4.9945 - val_accuracy: 0.0000e+00\n",
      "Epoch 26/100\n",
      "22/22 [==============================] - 1s 32ms/step - loss: 0.5681 - accuracy: 0.0000e+00 - val_loss: 4.9947 - val_accuracy: 0.0000e+00\n",
      "Epoch 27/100\n",
      "22/22 [==============================] - 1s 30ms/step - loss: 0.5682 - accuracy: 0.0000e+00 - val_loss: 4.9957 - val_accuracy: 0.0000e+00\n",
      "Epoch 28/100\n",
      "22/22 [==============================] - 1s 29ms/step - loss: 0.5682 - accuracy: 0.0000e+00 - val_loss: 4.9958 - val_accuracy: 0.0000e+00\n",
      "Epoch 29/100\n",
      "22/22 [==============================] - 1s 28ms/step - loss: 0.5683 - accuracy: 0.0000e+00 - val_loss: 4.9959 - val_accuracy: 0.0000e+00\n",
      "Epoch 30/100\n",
      "22/22 [==============================] - 1s 31ms/step - loss: 0.5684 - accuracy: 0.0000e+00 - val_loss: 4.9949 - val_accuracy: 0.0000e+00\n",
      "Epoch 31/100\n",
      "22/22 [==============================] - 1s 31ms/step - loss: 0.5685 - accuracy: 0.0000e+00 - val_loss: 4.9990 - val_accuracy: 0.0000e+00\n",
      "Epoch 32/100\n",
      "22/22 [==============================] - 1s 30ms/step - loss: 0.5684 - accuracy: 0.0000e+00 - val_loss: 4.9967 - val_accuracy: 0.0000e+00\n",
      "Epoch 33/100\n",
      "22/22 [==============================] - 1s 31ms/step - loss: 0.5681 - accuracy: 0.0000e+00 - val_loss: 4.9982 - val_accuracy: 0.0000e+00\n",
      "Epoch 34/100\n",
      "22/22 [==============================] - 1s 32ms/step - loss: 0.5683 - accuracy: 0.0000e+00 - val_loss: 4.9975 - val_accuracy: 0.0000e+00\n",
      "Epoch 35/100\n",
      "22/22 [==============================] - 1s 32ms/step - loss: 0.5677 - accuracy: 0.0000e+00 - val_loss: 4.9996 - val_accuracy: 0.0000e+00\n",
      "Epoch 36/100\n",
      "22/22 [==============================] - 1s 33ms/step - loss: 0.5686 - accuracy: 0.0000e+00 - val_loss: 4.9993 - val_accuracy: 0.0000e+00\n",
      "Epoch 37/100\n",
      "22/22 [==============================] - 1s 34ms/step - loss: 0.5682 - accuracy: 0.0000e+00 - val_loss: 5.0020 - val_accuracy: 0.0000e+00\n",
      "Epoch 38/100\n",
      "22/22 [==============================] - 1s 34ms/step - loss: 0.5683 - accuracy: 0.0000e+00 - val_loss: 5.0028 - val_accuracy: 0.0000e+00\n",
      "Epoch 39/100\n",
      "22/22 [==============================] - 1s 34ms/step - loss: 0.5681 - accuracy: 0.0000e+00 - val_loss: 5.0036 - val_accuracy: 0.0000e+00\n",
      "Epoch 40/100\n",
      "22/22 [==============================] - 1s 34ms/step - loss: 0.5679 - accuracy: 0.0000e+00 - val_loss: 5.0065 - val_accuracy: 0.0000e+00\n",
      "Epoch 41/100\n",
      "22/22 [==============================] - 1s 33ms/step - loss: 0.5680 - accuracy: 0.0000e+00 - val_loss: 5.0071 - val_accuracy: 0.0000e+00\n",
      "Epoch 42/100\n",
      "22/22 [==============================] - 1s 34ms/step - loss: 0.5678 - accuracy: 0.0000e+00 - val_loss: 5.0060 - val_accuracy: 0.0000e+00\n",
      "Epoch 43/100\n",
      "22/22 [==============================] - 1s 30ms/step - loss: 0.5683 - accuracy: 0.0000e+00 - val_loss: 5.0074 - val_accuracy: 0.0000e+00\n",
      "Epoch 44/100\n",
      "22/22 [==============================] - 1s 30ms/step - loss: 0.5684 - accuracy: 0.0000e+00 - val_loss: 5.0062 - val_accuracy: 0.0000e+00\n",
      "Epoch 45/100\n",
      "22/22 [==============================] - 1s 32ms/step - loss: 0.5679 - accuracy: 0.0000e+00 - val_loss: 5.0091 - val_accuracy: 0.0000e+00\n",
      "Epoch 46/100\n",
      "22/22 [==============================] - 1s 33ms/step - loss: 0.5680 - accuracy: 0.0000e+00 - val_loss: 5.0094 - val_accuracy: 0.0000e+00\n",
      "Epoch 47/100\n",
      "22/22 [==============================] - 1s 32ms/step - loss: 0.5681 - accuracy: 0.0000e+00 - val_loss: 5.0133 - val_accuracy: 0.0000e+00\n",
      "Epoch 48/100\n",
      "22/22 [==============================] - 1s 35ms/step - loss: 0.5682 - accuracy: 0.0000e+00 - val_loss: 5.0117 - val_accuracy: 0.0000e+00\n",
      "Epoch 49/100\n",
      "22/22 [==============================] - 1s 32ms/step - loss: 0.5683 - accuracy: 0.0000e+00 - val_loss: 5.0131 - val_accuracy: 0.0000e+00\n",
      "Epoch 50/100\n",
      "22/22 [==============================] - 1s 32ms/step - loss: 0.5680 - accuracy: 0.0000e+00 - val_loss: 5.0135 - val_accuracy: 0.0000e+00\n",
      "Epoch 51/100\n",
      "22/22 [==============================] - 1s 33ms/step - loss: 0.5680 - accuracy: 0.0000e+00 - val_loss: 5.0168 - val_accuracy: 0.0000e+00\n",
      "Epoch 52/100\n",
      "22/22 [==============================] - 1s 41ms/step - loss: 0.5682 - accuracy: 0.0000e+00 - val_loss: 5.0167 - val_accuracy: 0.0000e+00\n",
      "Epoch 53/100\n",
      "22/22 [==============================] - 1s 46ms/step - loss: 0.5682 - accuracy: 0.0000e+00 - val_loss: 5.0153 - val_accuracy: 0.0000e+00\n",
      "Epoch 54/100\n",
      "22/22 [==============================] - 1s 35ms/step - loss: 0.5682 - accuracy: 0.0000e+00 - val_loss: 5.0195 - val_accuracy: 0.0000e+00\n"
     ]
    },
    {
     "name": "stdout",
     "output_type": "stream",
     "text": [
      "Epoch 55/100\n",
      "22/22 [==============================] - 1s 35ms/step - loss: 0.5680 - accuracy: 0.0000e+00 - val_loss: 5.0180 - val_accuracy: 0.0000e+00\n",
      "Epoch 56/100\n",
      "22/22 [==============================] - 1s 30ms/step - loss: 0.5678 - accuracy: 0.0000e+00 - val_loss: 5.0209 - val_accuracy: 0.0000e+00\n",
      "Epoch 57/100\n",
      "22/22 [==============================] - 1s 34ms/step - loss: 0.5678 - accuracy: 0.0000e+00 - val_loss: 5.0224 - val_accuracy: 0.0000e+00\n",
      "Epoch 58/100\n",
      "22/22 [==============================] - 1s 31ms/step - loss: 0.5679 - accuracy: 0.0000e+00 - val_loss: 5.0245 - val_accuracy: 0.0000e+00\n",
      "Epoch 59/100\n",
      "22/22 [==============================] - 1s 41ms/step - loss: 0.5678 - accuracy: 0.0000e+00 - val_loss: 5.0239 - val_accuracy: 0.0000e+00\n",
      "Epoch 60/100\n",
      "22/22 [==============================] - 1s 39ms/step - loss: 0.5677 - accuracy: 0.0000e+00 - val_loss: 5.0295 - val_accuracy: 0.0000e+00\n",
      "Epoch 61/100\n",
      "22/22 [==============================] - 1s 38ms/step - loss: 0.5679 - accuracy: 0.0000e+00 - val_loss: 5.0319 - val_accuracy: 0.0000e+00\n",
      "Epoch 62/100\n",
      "22/22 [==============================] - 1s 36ms/step - loss: 0.5686 - accuracy: 0.0000e+00 - val_loss: 5.0295 - val_accuracy: 0.0000e+00\n",
      "Epoch 63/100\n",
      "22/22 [==============================] - 1s 33ms/step - loss: 0.5679 - accuracy: 0.0000e+00 - val_loss: 5.0294 - val_accuracy: 0.0000e+00\n",
      "Epoch 64/100\n",
      "22/22 [==============================] - 1s 33ms/step - loss: 0.5673 - accuracy: 0.0000e+00 - val_loss: 5.0328 - val_accuracy: 0.0000e+00\n",
      "Epoch 65/100\n",
      "22/22 [==============================] - 1s 31ms/step - loss: 0.5678 - accuracy: 0.0000e+00 - val_loss: 5.0315 - val_accuracy: 0.0000e+00\n",
      "Epoch 66/100\n",
      "22/22 [==============================] - 1s 33ms/step - loss: 0.5677 - accuracy: 0.0000e+00 - val_loss: 5.0340 - val_accuracy: 0.0000e+00\n",
      "Epoch 67/100\n",
      "22/22 [==============================] - 1s 34ms/step - loss: 0.5676 - accuracy: 0.0000e+00 - val_loss: 5.0338 - val_accuracy: 0.0000e+00\n",
      "Epoch 68/100\n",
      "22/22 [==============================] - 1s 33ms/step - loss: 0.5681 - accuracy: 0.0000e+00 - val_loss: 5.0354 - val_accuracy: 0.0000e+00\n",
      "Epoch 69/100\n",
      "22/22 [==============================] - 1s 31ms/step - loss: 0.5676 - accuracy: 0.0000e+00 - val_loss: 5.0392 - val_accuracy: 0.0000e+00\n",
      "Epoch 70/100\n",
      "22/22 [==============================] - 1s 33ms/step - loss: 0.5683 - accuracy: 0.0000e+00 - val_loss: 5.0398 - val_accuracy: 0.0000e+00\n",
      "Epoch 71/100\n",
      "22/22 [==============================] - 1s 32ms/step - loss: 0.5674 - accuracy: 0.0000e+00 - val_loss: 5.0416 - val_accuracy: 0.0000e+00\n",
      "Epoch 72/100\n",
      "22/22 [==============================] - 1s 32ms/step - loss: 0.5683 - accuracy: 0.0000e+00 - val_loss: 5.0433 - val_accuracy: 0.0000e+00\n",
      "Epoch 73/100\n",
      "22/22 [==============================] - 1s 35ms/step - loss: 0.5671 - accuracy: 0.0000e+00 - val_loss: 5.0445 - val_accuracy: 0.0000e+00\n",
      "Epoch 74/100\n",
      "22/22 [==============================] - 1s 32ms/step - loss: 0.5682 - accuracy: 0.0000e+00 - val_loss: 5.0469 - val_accuracy: 0.0000e+00\n",
      "Epoch 75/100\n",
      "22/22 [==============================] - 1s 32ms/step - loss: 0.5677 - accuracy: 0.0000e+00 - val_loss: 5.0479 - val_accuracy: 0.0000e+00\n",
      "Epoch 76/100\n",
      "22/22 [==============================] - 1s 30ms/step - loss: 0.5676 - accuracy: 0.0000e+00 - val_loss: 5.0494 - val_accuracy: 0.0000e+00\n",
      "Epoch 77/100\n",
      "22/22 [==============================] - 1s 30ms/step - loss: 0.5671 - accuracy: 0.0000e+00 - val_loss: 5.0505 - val_accuracy: 0.0000e+00\n",
      "Epoch 78/100\n",
      "22/22 [==============================] - 1s 32ms/step - loss: 0.5676 - accuracy: 0.0000e+00 - val_loss: 5.0526 - val_accuracy: 0.0000e+00\n",
      "Epoch 79/100\n",
      "22/22 [==============================] - 1s 31ms/step - loss: 0.5674 - accuracy: 0.0000e+00 - val_loss: 5.0538 - val_accuracy: 0.0000e+00\n",
      "Epoch 80/100\n",
      "22/22 [==============================] - 1s 34ms/step - loss: 0.5682 - accuracy: 0.0000e+00 - val_loss: 5.0541 - val_accuracy: 0.0000e+00\n",
      "Epoch 81/100\n",
      "22/22 [==============================] - 1s 34ms/step - loss: 0.5675 - accuracy: 0.0000e+00 - val_loss: 5.0562 - val_accuracy: 0.0000e+00\n",
      "Epoch 82/100\n",
      "22/22 [==============================] - 1s 32ms/step - loss: 0.5686 - accuracy: 0.0000e+00 - val_loss: 5.0537 - val_accuracy: 0.0000e+00\n",
      "Epoch 83/100\n",
      "22/22 [==============================] - 1s 31ms/step - loss: 0.5674 - accuracy: 0.0000e+00 - val_loss: 5.0580 - val_accuracy: 0.0000e+00\n",
      "Epoch 84/100\n",
      "22/22 [==============================] - 1s 30ms/step - loss: 0.5672 - accuracy: 0.0000e+00 - val_loss: 5.0639 - val_accuracy: 0.0000e+00\n",
      "Epoch 85/100\n",
      "22/22 [==============================] - 1s 31ms/step - loss: 0.5673 - accuracy: 0.0000e+00 - val_loss: 5.0643 - val_accuracy: 0.0000e+00\n",
      "Epoch 86/100\n",
      "22/22 [==============================] - 1s 31ms/step - loss: 0.5679 - accuracy: 0.0000e+00 - val_loss: 5.0655 - val_accuracy: 0.0000e+00\n",
      "Epoch 87/100\n",
      "22/22 [==============================] - 1s 33ms/step - loss: 0.5670 - accuracy: 0.0000e+00 - val_loss: 5.0667 - val_accuracy: 0.0000e+00\n",
      "Epoch 88/100\n",
      "22/22 [==============================] - 1s 33ms/step - loss: 0.5680 - accuracy: 0.0000e+00 - val_loss: 5.0667 - val_accuracy: 0.0000e+00\n",
      "Epoch 89/100\n",
      "22/22 [==============================] - 1s 32ms/step - loss: 0.5675 - accuracy: 0.0000e+00 - val_loss: 5.0668 - val_accuracy: 0.0000e+00\n",
      "Epoch 90/100\n",
      "22/22 [==============================] - 1s 30ms/step - loss: 0.5678 - accuracy: 0.0000e+00 - val_loss: 5.0677 - val_accuracy: 0.0000e+00\n",
      "Epoch 91/100\n",
      "22/22 [==============================] - 1s 29ms/step - loss: 0.5677 - accuracy: 0.0000e+00 - val_loss: 5.0690 - val_accuracy: 0.0000e+00\n",
      "Epoch 92/100\n",
      "22/22 [==============================] - 1s 32ms/step - loss: 0.5670 - accuracy: 0.0000e+00 - val_loss: 5.0716 - val_accuracy: 0.0000e+00\n",
      "Epoch 93/100\n",
      "22/22 [==============================] - 1s 35ms/step - loss: 0.5687 - accuracy: 0.0000e+00 - val_loss: 5.0654 - val_accuracy: 0.0000e+00\n",
      "Epoch 94/100\n",
      "22/22 [==============================] - 1s 35ms/step - loss: 0.5667 - accuracy: 0.0000e+00 - val_loss: 5.0772 - val_accuracy: 0.0000e+00\n",
      "Epoch 95/100\n",
      "22/22 [==============================] - 1s 35ms/step - loss: 0.5687 - accuracy: 0.0000e+00 - val_loss: 5.0704 - val_accuracy: 0.0000e+00\n",
      "Epoch 96/100\n",
      "22/22 [==============================] - 1s 36ms/step - loss: 0.5666 - accuracy: 0.0000e+00 - val_loss: 5.0744 - val_accuracy: 0.0000e+00\n",
      "Epoch 97/100\n",
      "22/22 [==============================] - 1s 34ms/step - loss: 0.5677 - accuracy: 0.0000e+00 - val_loss: 5.0765 - val_accuracy: 0.0000e+00\n",
      "Epoch 98/100\n",
      "22/22 [==============================] - 1s 33ms/step - loss: 0.5670 - accuracy: 0.0000e+00 - val_loss: 5.0811 - val_accuracy: 0.0000e+00\n",
      "Epoch 99/100\n",
      "22/22 [==============================] - 1s 30ms/step - loss: 0.5667 - accuracy: 0.0000e+00 - val_loss: 5.0824 - val_accuracy: 0.0000e+00\n",
      "Epoch 100/100\n",
      "22/22 [==============================] - 1s 31ms/step - loss: 0.5673 - accuracy: 0.0000e+00 - val_loss: 5.0843 - val_accuracy: 0.0000e+00\n"
     ]
    }
   ],
   "source": [
    "model = None\n",
    "for i in range(1,4):\n",
    "    train = pd.read_csv('datasets/delta/sdn_train_mininet_normalized_'+str(i)+'.csv', delimiter=\",\")     \n",
    "    X_train,Y_train = create_dataset(train, train.delay)\n",
    "    if(model is None):\n",
    "        model = LSTMconf(X_train)\n",
    "    history = LSTMfit(model,X_train, Y_train)\n",
    "\n",
    "# r = Timer(1.0, preprocessing, (prep_dataset.iloc[cont:cont+window,:]))\n",
    "# r.start()\n",
    "# print(X_train)\n",
    "    "
   ]
  },
  {
   "cell_type": "code",
   "execution_count": 12,
   "metadata": {},
   "outputs": [
    {
     "name": "stdout",
     "output_type": "stream",
     "text": [
      "Saving Model\n",
      "INFO:tensorflow:Assets written to: models/lstm\\assets\n"
     ]
    }
   ],
   "source": [
    "print('Saving Model')\n",
    "model.save('models/lstm')"
   ]
  },
  {
   "cell_type": "markdown",
   "metadata": {},
   "source": [
    "# loss training"
   ]
  },
  {
   "cell_type": "code",
   "execution_count": 13,
   "metadata": {},
   "outputs": [
    {
     "data": {
      "image/png": "[encoded data removed]",
      "text/plain": [
       "<Figure size 432x288 with 1 Axes>"
      ]
     },
     "metadata": {
      "needs_background": "light"
     },
     "output_type": "display_data"
    }
   ],
   "source": [
    "\n",
    "fig1 = plt.figure()\n",
    "ax1 = fig1.add_subplot(1,1,1)\n",
    "ax1.plot(history.history['loss'], label='train')\n",
    "ax1.plot(history.history['val_loss'], label='validation')\n",
    "ax1.legend();"
   ]
  },
  {
   "cell_type": "code",
   "execution_count": 14,
   "metadata": {},
   "outputs": [
    {
     "name": "stdout",
     "output_type": "stream",
     "text": [
      "modeling to keras  99.92 %  4.55  seconds\n"
     ]
    }
   ],
   "source": [
    "test = pd.read_csv('datasets/delta/sdn_train_mininet_normalized_test.csv', delimiter=\",\")     \n",
    "X_test,Y_test = create_dataset(test, test.delay)"
   ]
  },
  {
   "cell_type": "markdown",
   "metadata": {},
   "source": [
    "# predicting"
   ]
  },
  {
   "cell_type": "code",
   "execution_count": 15,
   "metadata": {},
   "outputs": [],
   "source": [
    "y_pred = model.predict(X_test)"
   ]
  },
  {
   "cell_type": "markdown",
   "metadata": {},
   "source": [
    "# unormalizing"
   ]
  },
  {
   "cell_type": "code",
   "execution_count": 16,
   "metadata": {},
   "outputs": [],
   "source": [
    "y_test_inv, y_pred_inv = unormalizing(test, Y_test, y_pred)"
   ]
  },
  {
   "cell_type": "code",
   "execution_count": 17,
   "metadata": {},
   "outputs": [
    {
     "data": {
      "image/png": "[encoded data removed]",
      "text/plain": [
       "<Figure size 432x288 with 1 Axes>"
      ]
     },
     "metadata": {
      "needs_background": "light"
     },
     "output_type": "display_data"
    }
   ],
   "source": [
    "fig2 = plt.figure()\n",
    "a2 = fig2.add_subplot(1,1,1)\n",
    "a2.plot(y_test_inv.flatten(), marker='.', label='true')\n",
    "a2.legend();"
   ]
  },
  {
   "cell_type": "code",
   "execution_count": 18,
   "metadata": {},
   "outputs": [
    {
     "data": {
      "image/png": "[encoded data removed]",
      "text/plain": [
       "<Figure size 432x288 with 1 Axes>"
      ]
     },
     "metadata": {
      "needs_background": "light"
     },
     "output_type": "display_data"
    }
   ],
   "source": [
    "fig3 = plt.figure()\n",
    "a3 = fig3.add_subplot(1,1,1)\n",
    "a3.plot(y_pred_inv.flatten(),'r',marker='.', label='predicted')\n",
    "a3.legend();"
   ]
  },
  {
   "cell_type": "code",
   "execution_count": 19,
   "metadata": {},
   "outputs": [
    {
     "data": {
      "image/png": "[encoded data removed]",
      "text/plain": [
       "<Figure size 432x288 with 1 Axes>"
      ]
     },
     "metadata": {
      "needs_background": "light"
     },
     "output_type": "display_data"
    }
   ],
   "source": [
    "fig4 = plt.figure()\n",
    "a4 = fig4.add_subplot(1,1,1)\n",
    "\n",
    "a4.plot(y_test_inv.flatten(), marker='.', label='true')\n",
    "a4.plot(y_pred_inv.flatten(),'r',marker='.', label='predicted')\n",
    "a4.legend();"
   ]
  },
  {
   "cell_type": "code",
   "execution_count": 20,
   "metadata": {},
   "outputs": [
    {
     "name": "stdout",
     "output_type": "stream",
     "text": [
      "progress  99.92 %\n"
     ]
    }
   ],
   "source": [
    "l1 = []\n",
    "l2 = []\n",
    "for i in np.arange(y_pred_inv.shape[0]):\n",
    "    clear_output(wait=True)\n",
    "    print('progress ',round((i/y_pred_inv.shape[0])*100,2), ('%'))\n",
    "    if(y_pred_inv[i,0]<=10):\n",
    "        l1.append(y_pred_inv[i,0])\n",
    "    if(y_test_inv[0,i]<=10):\n",
    "        l2.append(y_test_inv[0,i])\n",
    "\n",
    "y_pred_inv2 = np.array(l1)\n",
    "y_test_inv2 = np.array(l2)"
   ]
  },
  {
   "cell_type": "code",
   "execution_count": 21,
   "metadata": {},
   "outputs": [
    {
     "data": {
      "image/png": "[encoded data removed]",
      "text/plain": [
       "<Figure size 432x288 with 1 Axes>"
      ]
     },
     "metadata": {
      "needs_background": "light"
     },
     "output_type": "display_data"
    }
   ],
   "source": [
    "plt.plot(y_pred_inv2.flatten(),'r',marker='.', label='predicted')\n",
    "plt.plot(y_test_inv2.flatten(), marker='.', label='true')\n",
    "plt.legend();"
   ]
  },
  {
   "cell_type": "code",
   "execution_count": 22,
   "metadata": {},
   "outputs": [],
   "source": [
    "from sklearn.metrics import mean_squared_error\n",
    "from sklearn.metrics import median_absolute_error\n",
    "from sklearn.metrics import mean_absolute_error\n",
    "from sklearn.metrics import mean_squared_log_error"
   ]
  },
  {
   "cell_type": "code",
   "execution_count": 25,
   "metadata": {},
   "outputs": [
    {
     "name": "stdout",
     "output_type": "stream",
     "text": [
      "1232\n"
     ]
    },
    {
     "ename": "ValueError",
     "evalue": "Found input variables with inconsistent numbers of samples: [1234, 1232]",
     "output_type": "error",
     "traceback": [
      "\u001b[1;31m---------------------------------------------------------------------------\u001b[0m",
      "\u001b[1;31mValueError\u001b[0m                                Traceback (most recent call last)",
      "\u001b[1;32m<ipython-input-25-c6fb9c1c0839>\u001b[0m in \u001b[0;36m<module>\u001b[1;34m\u001b[0m\n\u001b[0;32m      1\u001b[0m \u001b[0msize\u001b[0m \u001b[1;33m=\u001b[0m \u001b[0mnp\u001b[0m\u001b[1;33m.\u001b[0m\u001b[0mmin\u001b[0m\u001b[1;33m(\u001b[0m\u001b[1;33m[\u001b[0m\u001b[0my_pred_inv2\u001b[0m\u001b[1;33m.\u001b[0m\u001b[0mshape\u001b[0m\u001b[1;33m[\u001b[0m\u001b[1;36m0\u001b[0m\u001b[1;33m]\u001b[0m\u001b[1;33m,\u001b[0m\u001b[0my_test_inv2\u001b[0m\u001b[1;33m.\u001b[0m\u001b[0mshape\u001b[0m\u001b[1;33m[\u001b[0m\u001b[1;36m0\u001b[0m\u001b[1;33m]\u001b[0m \u001b[1;33m]\u001b[0m\u001b[1;33m)\u001b[0m\u001b[1;33m\u001b[0m\u001b[1;33m\u001b[0m\u001b[0m\n\u001b[0;32m      2\u001b[0m \u001b[0mprint\u001b[0m\u001b[1;33m(\u001b[0m\u001b[0msize\u001b[0m\u001b[1;33m)\u001b[0m\u001b[1;33m\u001b[0m\u001b[1;33m\u001b[0m\u001b[0m\n\u001b[1;32m----> 3\u001b[1;33m \u001b[0mrmse\u001b[0m \u001b[1;33m=\u001b[0m  \u001b[0mmean_squared_error\u001b[0m\u001b[1;33m(\u001b[0m\u001b[0my_test_inv2\u001b[0m\u001b[1;33m,\u001b[0m \u001b[0my_pred_inv2\u001b[0m\u001b[1;33m[\u001b[0m\u001b[1;36m0\u001b[0m\u001b[1;33m:\u001b[0m\u001b[0msize\u001b[0m\u001b[1;33m]\u001b[0m\u001b[1;33m,\u001b[0m \u001b[0msquared\u001b[0m\u001b[1;33m=\u001b[0m\u001b[1;32mFalse\u001b[0m\u001b[1;33m)\u001b[0m\u001b[1;33m\u001b[0m\u001b[1;33m\u001b[0m\u001b[0m\n\u001b[0m\u001b[0;32m      4\u001b[0m \u001b[0mmae\u001b[0m \u001b[1;33m=\u001b[0m  \u001b[0mmean_absolute_error\u001b[0m\u001b[1;33m(\u001b[0m\u001b[0my_test_inv2\u001b[0m\u001b[1;33m,\u001b[0m \u001b[0my_pred_inv2\u001b[0m\u001b[1;33m[\u001b[0m\u001b[1;36m0\u001b[0m\u001b[1;33m:\u001b[0m\u001b[0msize\u001b[0m\u001b[1;33m]\u001b[0m\u001b[1;33m)\u001b[0m\u001b[1;33m\u001b[0m\u001b[1;33m\u001b[0m\u001b[0m\n\u001b[0;32m      5\u001b[0m \u001b[0mmedian_mae\u001b[0m \u001b[1;33m=\u001b[0m \u001b[0mmedian_absolute_error\u001b[0m\u001b[1;33m(\u001b[0m\u001b[0my_test_inv2\u001b[0m\u001b[1;33m,\u001b[0m \u001b[0my_pred_inv2\u001b[0m\u001b[1;33m[\u001b[0m\u001b[1;36m0\u001b[0m\u001b[1;33m:\u001b[0m\u001b[0msize\u001b[0m\u001b[1;33m]\u001b[0m\u001b[1;33m)\u001b[0m\u001b[1;33m\u001b[0m\u001b[1;33m\u001b[0m\u001b[0m\n",
      "\u001b[1;32m~\\anaconda3\\lib\\site-packages\\sklearn\\utils\\validation.py\u001b[0m in \u001b[0;36minner_f\u001b[1;34m(*args, **kwargs)\u001b[0m\n\u001b[0;32m     70\u001b[0m                           FutureWarning)\n\u001b[0;32m     71\u001b[0m         \u001b[0mkwargs\u001b[0m\u001b[1;33m.\u001b[0m\u001b[0mupdate\u001b[0m\u001b[1;33m(\u001b[0m\u001b[1;33m{\u001b[0m\u001b[0mk\u001b[0m\u001b[1;33m:\u001b[0m \u001b[0marg\u001b[0m \u001b[1;32mfor\u001b[0m \u001b[0mk\u001b[0m\u001b[1;33m,\u001b[0m \u001b[0marg\u001b[0m \u001b[1;32min\u001b[0m \u001b[0mzip\u001b[0m\u001b[1;33m(\u001b[0m\u001b[0msig\u001b[0m\u001b[1;33m.\u001b[0m\u001b[0mparameters\u001b[0m\u001b[1;33m,\u001b[0m \u001b[0margs\u001b[0m\u001b[1;33m)\u001b[0m\u001b[1;33m}\u001b[0m\u001b[1;33m)\u001b[0m\u001b[1;33m\u001b[0m\u001b[1;33m\u001b[0m\u001b[0m\n\u001b[1;32m---> 72\u001b[1;33m         \u001b[1;32mreturn\u001b[0m \u001b[0mf\u001b[0m\u001b[1;33m(\u001b[0m\u001b[1;33m**\u001b[0m\u001b[0mkwargs\u001b[0m\u001b[1;33m)\u001b[0m\u001b[1;33m\u001b[0m\u001b[1;33m\u001b[0m\u001b[0m\n\u001b[0m\u001b[0;32m     73\u001b[0m     \u001b[1;32mreturn\u001b[0m \u001b[0minner_f\u001b[0m\u001b[1;33m\u001b[0m\u001b[1;33m\u001b[0m\u001b[0m\n\u001b[0;32m     74\u001b[0m \u001b[1;33m\u001b[0m\u001b[0m\n",
      "\u001b[1;32m~\\anaconda3\\lib\\site-packages\\sklearn\\metrics\\_regression.py\u001b[0m in \u001b[0;36mmean_squared_error\u001b[1;34m(y_true, y_pred, sample_weight, multioutput, squared)\u001b[0m\n\u001b[0;32m    253\u001b[0m \u001b[1;33m\u001b[0m\u001b[0m\n\u001b[0;32m    254\u001b[0m     \"\"\"\n\u001b[1;32m--> 255\u001b[1;33m     y_type, y_true, y_pred, multioutput = _check_reg_targets(\n\u001b[0m\u001b[0;32m    256\u001b[0m         y_true, y_pred, multioutput)\n\u001b[0;32m    257\u001b[0m     \u001b[0mcheck_consistent_length\u001b[0m\u001b[1;33m(\u001b[0m\u001b[0my_true\u001b[0m\u001b[1;33m,\u001b[0m \u001b[0my_pred\u001b[0m\u001b[1;33m,\u001b[0m \u001b[0msample_weight\u001b[0m\u001b[1;33m)\u001b[0m\u001b[1;33m\u001b[0m\u001b[1;33m\u001b[0m\u001b[0m\n",
      "\u001b[1;32m~\\anaconda3\\lib\\site-packages\\sklearn\\metrics\\_regression.py\u001b[0m in \u001b[0;36m_check_reg_targets\u001b[1;34m(y_true, y_pred, multioutput, dtype)\u001b[0m\n\u001b[0;32m     82\u001b[0m \u001b[1;33m\u001b[0m\u001b[0m\n\u001b[0;32m     83\u001b[0m     \"\"\"\n\u001b[1;32m---> 84\u001b[1;33m     \u001b[0mcheck_consistent_length\u001b[0m\u001b[1;33m(\u001b[0m\u001b[0my_true\u001b[0m\u001b[1;33m,\u001b[0m \u001b[0my_pred\u001b[0m\u001b[1;33m)\u001b[0m\u001b[1;33m\u001b[0m\u001b[1;33m\u001b[0m\u001b[0m\n\u001b[0m\u001b[0;32m     85\u001b[0m     \u001b[0my_true\u001b[0m \u001b[1;33m=\u001b[0m \u001b[0mcheck_array\u001b[0m\u001b[1;33m(\u001b[0m\u001b[0my_true\u001b[0m\u001b[1;33m,\u001b[0m \u001b[0mensure_2d\u001b[0m\u001b[1;33m=\u001b[0m\u001b[1;32mFalse\u001b[0m\u001b[1;33m,\u001b[0m \u001b[0mdtype\u001b[0m\u001b[1;33m=\u001b[0m\u001b[0mdtype\u001b[0m\u001b[1;33m)\u001b[0m\u001b[1;33m\u001b[0m\u001b[1;33m\u001b[0m\u001b[0m\n\u001b[0;32m     86\u001b[0m     \u001b[0my_pred\u001b[0m \u001b[1;33m=\u001b[0m \u001b[0mcheck_array\u001b[0m\u001b[1;33m(\u001b[0m\u001b[0my_pred\u001b[0m\u001b[1;33m,\u001b[0m \u001b[0mensure_2d\u001b[0m\u001b[1;33m=\u001b[0m\u001b[1;32mFalse\u001b[0m\u001b[1;33m,\u001b[0m \u001b[0mdtype\u001b[0m\u001b[1;33m=\u001b[0m\u001b[0mdtype\u001b[0m\u001b[1;33m)\u001b[0m\u001b[1;33m\u001b[0m\u001b[1;33m\u001b[0m\u001b[0m\n",
      "\u001b[1;32m~\\anaconda3\\lib\\site-packages\\sklearn\\utils\\validation.py\u001b[0m in \u001b[0;36mcheck_consistent_length\u001b[1;34m(*arrays)\u001b[0m\n\u001b[0;32m    253\u001b[0m     \u001b[0muniques\u001b[0m \u001b[1;33m=\u001b[0m \u001b[0mnp\u001b[0m\u001b[1;33m.\u001b[0m\u001b[0munique\u001b[0m\u001b[1;33m(\u001b[0m\u001b[0mlengths\u001b[0m\u001b[1;33m)\u001b[0m\u001b[1;33m\u001b[0m\u001b[1;33m\u001b[0m\u001b[0m\n\u001b[0;32m    254\u001b[0m     \u001b[1;32mif\u001b[0m \u001b[0mlen\u001b[0m\u001b[1;33m(\u001b[0m\u001b[0muniques\u001b[0m\u001b[1;33m)\u001b[0m \u001b[1;33m>\u001b[0m \u001b[1;36m1\u001b[0m\u001b[1;33m:\u001b[0m\u001b[1;33m\u001b[0m\u001b[1;33m\u001b[0m\u001b[0m\n\u001b[1;32m--> 255\u001b[1;33m         raise ValueError(\"Found input variables with inconsistent numbers of\"\n\u001b[0m\u001b[0;32m    256\u001b[0m                          \" samples: %r\" % [int(l) for l in lengths])\n\u001b[0;32m    257\u001b[0m \u001b[1;33m\u001b[0m\u001b[0m\n",
      "\u001b[1;31mValueError\u001b[0m: Found input variables with inconsistent numbers of samples: [1234, 1232]"
     ]
    }
   ],
   "source": [
    "size = np.min([y_pred_inv2.shape[0],y_test_inv2.shape[0] ])\n",
    "print(size)\n",
    "rmse =  mean_squared_error(y_test_inv2[0:size], y_pred_inv2[0:size], squared=False)\n",
    "mae =  mean_absolute_error(y_test_inv2[0:size], y_pred_inv2[0:size])\n",
    "median_mae = median_absolute_error(y_test_inv2[0:size], y_pred_inv2[0:size])\n",
    "\n",
    "\n",
    "print(rmse)\n",
    "print(mae)\n",
    "print(median_mae)"
   ]
  },
  {
   "cell_type": "code",
   "execution_count": null,
   "metadata": {},
   "outputs": [],
   "source": [
    "objects = ('rmse', 'mae', 'median-mae')\n",
    "y_pos = np.arange(3)\n",
    "performance = [rmse,mae,median_mae]\n",
    "\n",
    "plt.bar(y_pos, performance, align='center')\n",
    "plt.xticks(y_pos, objects)\n",
    "#plt.ylabel('Usage')\n",
    "plt.title('Métricas regressão')\n",
    "\n",
    "plt.show()"
   ]
  },
  {
   "cell_type": "code",
   "execution_count": null,
   "metadata": {},
   "outputs": [],
   "source": [
    " Y_test"
   ]
  },
  {
   "cell_type": "code",
   "execution_count": null,
   "metadata": {},
   "outputs": [],
   "source": [
    "y_pred"
   ]
  },
  {
   "cell_type": "code",
   "execution_count": null,
   "metadata": {},
   "outputs": [],
   "source": []
  },
  {
   "cell_type": "code",
   "execution_count": null,
   "metadata": {},
   "outputs": [],
   "source": []
  }
 ],
 "metadata": {
  "kernelspec": {
   "display_name": "Python 3",
   "language": "python",
   "name": "python3"
  },
  "language_info": {
   "codemirror_mode": {
    "name": "ipython",
    "version": 3
   },
   "file_extension": ".py",
   "mimetype": "text/x-python",
   "name": "python",
   "nbconvert_exporter": "python",
   "pygments_lexer": "ipython3",
   "version": "3.8.5"
  }
 },
 "nbformat": 4,
 "nbformat_minor": 4
}
