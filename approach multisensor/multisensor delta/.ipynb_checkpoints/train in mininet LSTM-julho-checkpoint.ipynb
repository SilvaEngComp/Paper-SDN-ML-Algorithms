{
 "cells": [
  {
   "cell_type": "code",
   "execution_count": 1,
   "metadata": {},
   "outputs": [],
   "source": [
    "import os\n",
    "os.environ[\"TF_CPP_MIN_LOG_LEVEL\"] = \"2\""
   ]
  },
  {
   "cell_type": "code",
   "execution_count": 2,
   "metadata": {},
   "outputs": [],
   "source": [
    "import tensorflow as tf\n",
    "from tensorflow import keras\n",
    "from tensorflow.keras import layers\n",
    "import matplotlib.pyplot as plt\n",
    "import seaborn as sns\n",
    "import csv\n",
    "\n",
    "import pandas as pd\n",
    "import numpy as np\n",
    "from sklearn.model_selection import train_test_split\n",
    "from sklearn.metrics import mean_squared_error\n",
    "from sklearn.preprocessing import StandardScaler\n",
    "from threading import Timer\n",
    "from timeit import default_timer as timer\n",
    "from IPython.display import clear_output"
   ]
  },
  {
   "cell_type": "code",
   "execution_count": 3,
   "metadata": {},
   "outputs": [],
   "source": [
    "start = timer()\n",
    "prep_dataset1 = pd.read_csv('../datasets/dataset_test_02_07.csv', delimiter=\",\")\n",
    "# prep_dataset2 = pd.read_csv('datasets/com_concept_drift/sdn_train_unormalized2.csv', delimiter=\",\")\n",
    "# prep_dataset3 = pd.read_csv('datasets/com_concept_drift/sdn_train_unormalized3.csv', delimiter=\",\")\n",
    "# prep_test = pd.read_csv('datasets/com_concept_drift/sdn_test_unormalized.csv', delimiter=\",\")\n",
    "\n",
    "# prep_dataset1 = prep_dataset1[prep_dataset1.delay>0]\n",
    "# prep_dataset2 = prep_dataset2[prep_dataset2.delay>0]\n",
    "# prep_dataset3 = prep_dataset3[prep_dataset3.delay>0]\n",
    "# prep_test = prep_test[prep_test.delay>0]\n",
    "df = prep_dataset1.iloc[:,1:4]\n",
    "train_size = int(len(df) * 0.9)\n",
    "test_size = len(df) - train_size\n",
    "train, test = df.iloc[0:train_size], df.iloc[train_size:len(df)]"
   ]
  },
  {
   "cell_type": "code",
   "execution_count": null,
   "metadata": {},
   "outputs": [],
   "source": [
    "train"
   ]
  },
  {
   "cell_type": "code",
   "execution_count": null,
   "metadata": {},
   "outputs": [],
   "source": []
  },
  {
   "cell_type": "markdown",
   "metadata": {},
   "source": [
    "# Normalizing"
   ]
  },
  {
   "cell_type": "code",
   "execution_count": 4,
   "metadata": {},
   "outputs": [],
   "source": [
    "def normalizing(df):\n",
    "    f_columns = ['temperature']\n",
    "    scaler1 = StandardScaler().fit(df)\n",
    "    scaler2 = StandardScaler().fit(df)\n",
    "\n",
    "    scaler1= scaler1.fit(df[f_columns].to_numpy())\n",
    "    scaler2 = scaler2.fit(df[['delay']])\n",
    "\n",
    "    df.loc[:,f_columns] = scaler1.transform(df[f_columns].to_numpy())\n",
    "    df['delay'] = scaler2.transform(df[['delay']])\n",
    "    return df\n",
    "\n",
    "\n",
    "def unormalizing(df,Y_test,y_pred ):\n",
    "    \n",
    "    scaler = StandardScaler().fit(df)\n",
    "    scaler = scaler.fit(df[['delay']])\n",
    "    y_test_inv = scaler.inverse_transform(Y_test.reshape(1,-1))\n",
    "    y_pred_inv = scaler.inverse_transform(y_pred)\n",
    "    \n",
    "    return y_test_inv, y_pred_inv\n"
   ]
  },
  {
   "cell_type": "code",
   "execution_count": 5,
   "metadata": {},
   "outputs": [],
   "source": [
    "def saveFile(dataset, name='dataset'):\n",
    "    print('saving: ',name, '......')\n",
    "    f = open(name,'w')\n",
    "    try:\n",
    "        writer = csv.writer(f)\n",
    "        writer.writerow(dataset.columns)\n",
    "        for i in np.arange(int(dataset.shape[0])):\n",
    "            writer.writerow(dataset.iloc[i,])\n",
    "    finally:\n",
    "        f.close()\n",
    "        \n",
    "\n",
    "def preprocessing(dataset, order): \n",
    "    saveFile(dataset, 'datasets/delta/sdn_train_mininet_unormalized_'+str(order)+'.csv')\n",
    "    norm = normalizing(dataset)\n",
    "    saveFile(norm, 'datasets/delta/sdn_train_mininet_normalized_'+str(order)+'.csv')\n",
    "\n",
    "    return norm\n",
    "    "
   ]
  },
  {
   "cell_type": "code",
   "execution_count": 6,
   "metadata": {},
   "outputs": [],
   "source": [
    "def create_dataset(X, y, time_steps=1):\n",
    "    Xs, ys = [], []    \n",
    "    for i in range(len(X) - time_steps):\n",
    "        clear_output(wait=True)\n",
    "        print('modeling to keras ',round((i/(len(X) - time_steps))*100,2), ('%'), end='')\n",
    "        s = round(timer() - start)\n",
    "        if(s>60):\n",
    "            s /=60\n",
    "            print(' ', s, ' seconds')\n",
    "        v = X.iloc[i: (i+time_steps), 1:3].to_numpy()\n",
    "        Xs.append(v)\n",
    "        ys.append(y.iloc[i+time_steps])\n",
    "    return np.array(Xs), np.array(ys)"
   ]
  },
  {
   "cell_type": "code",
   "execution_count": 7,
   "metadata": {},
   "outputs": [
    {
     "name": "stdout",
     "output_type": "stream",
     "text": [
      "saving:  datasets/delta/sdn_train_mininet_unormalized_train.csv ......\n"
     ]
    },
    {
     "name": "stderr",
     "output_type": "stream",
     "text": [
      "C:\\Users\\silva\\anaconda3\\lib\\site-packages\\pandas\\core\\indexing.py:1736: SettingWithCopyWarning: \n",
      "A value is trying to be set on a copy of a slice from a DataFrame.\n",
      "Try using .loc[row_indexer,col_indexer] = value instead\n",
      "\n",
      "See the caveats in the documentation: https://pandas.pydata.org/pandas-docs/stable/user_guide/indexing.html#returning-a-view-versus-a-copy\n",
      "  isetter(loc, value[:, i].tolist())\n",
      "<ipython-input-4-90b713e14068>:10: SettingWithCopyWarning: \n",
      "A value is trying to be set on a copy of a slice from a DataFrame.\n",
      "Try using .loc[row_indexer,col_indexer] = value instead\n",
      "\n",
      "See the caveats in the documentation: https://pandas.pydata.org/pandas-docs/stable/user_guide/indexing.html#returning-a-view-versus-a-copy\n",
      "  df['delay'] = scaler2.transform(df[['delay']])\n"
     ]
    },
    {
     "name": "stdout",
     "output_type": "stream",
     "text": [
      "saving:  datasets/delta/sdn_train_mininet_normalized_train.csv ......\n",
      "saving:  datasets/delta/sdn_train_mininet_unormalized_test.csv ......\n"
     ]
    },
    {
     "name": "stderr",
     "output_type": "stream",
     "text": [
      "C:\\Users\\silva\\anaconda3\\lib\\site-packages\\pandas\\core\\indexing.py:1736: SettingWithCopyWarning: \n",
      "A value is trying to be set on a copy of a slice from a DataFrame.\n",
      "Try using .loc[row_indexer,col_indexer] = value instead\n",
      "\n",
      "See the caveats in the documentation: https://pandas.pydata.org/pandas-docs/stable/user_guide/indexing.html#returning-a-view-versus-a-copy\n",
      "  isetter(loc, value[:, i].tolist())\n",
      "<ipython-input-4-90b713e14068>:10: SettingWithCopyWarning: \n",
      "A value is trying to be set on a copy of a slice from a DataFrame.\n",
      "Try using .loc[row_indexer,col_indexer] = value instead\n",
      "\n",
      "See the caveats in the documentation: https://pandas.pydata.org/pandas-docs/stable/user_guide/indexing.html#returning-a-view-versus-a-copy\n",
      "  df['delay'] = scaler2.transform(df[['delay']])\n"
     ]
    },
    {
     "name": "stdout",
     "output_type": "stream",
     "text": [
      "saving:  datasets/delta/sdn_train_mininet_normalized_test.csv ......\n"
     ]
    },
    {
     "data": {
      "text/html": [
       "<div>\n",
       "<style scoped>\n",
       "    .dataframe tbody tr th:only-of-type {\n",
       "        vertical-align: middle;\n",
       "    }\n",
       "\n",
       "    .dataframe tbody tr th {\n",
       "        vertical-align: top;\n",
       "    }\n",
       "\n",
       "    .dataframe thead th {\n",
       "        text-align: right;\n",
       "    }\n",
       "</style>\n",
       "<table border=\"1\" class=\"dataframe\">\n",
       "  <thead>\n",
       "    <tr style=\"text-align: right;\">\n",
       "      <th></th>\n",
       "      <th>temperature</th>\n",
       "      <th>label</th>\n",
       "      <th>delay</th>\n",
       "    </tr>\n",
       "  </thead>\n",
       "  <tbody>\n",
       "    <tr>\n",
       "      <th>0</th>\n",
       "      <td>-0.425742</td>\n",
       "      <td>1</td>\n",
       "      <td>-0.920823</td>\n",
       "    </tr>\n",
       "    <tr>\n",
       "      <th>1</th>\n",
       "      <td>-0.425761</td>\n",
       "      <td>1</td>\n",
       "      <td>-0.920823</td>\n",
       "    </tr>\n",
       "    <tr>\n",
       "      <th>2</th>\n",
       "      <td>2.195199</td>\n",
       "      <td>1</td>\n",
       "      <td>-0.920823</td>\n",
       "    </tr>\n",
       "    <tr>\n",
       "      <th>3</th>\n",
       "      <td>-0.425763</td>\n",
       "      <td>1</td>\n",
       "      <td>-0.920823</td>\n",
       "    </tr>\n",
       "    <tr>\n",
       "      <th>4</th>\n",
       "      <td>-0.425761</td>\n",
       "      <td>1</td>\n",
       "      <td>-0.920823</td>\n",
       "    </tr>\n",
       "    <tr>\n",
       "      <th>...</th>\n",
       "      <td>...</td>\n",
       "      <td>...</td>\n",
       "      <td>...</td>\n",
       "    </tr>\n",
       "    <tr>\n",
       "      <th>4405</th>\n",
       "      <td>-0.425244</td>\n",
       "      <td>0</td>\n",
       "      <td>-0.837870</td>\n",
       "    </tr>\n",
       "    <tr>\n",
       "      <th>4406</th>\n",
       "      <td>2.704728</td>\n",
       "      <td>0</td>\n",
       "      <td>-0.837870</td>\n",
       "    </tr>\n",
       "    <tr>\n",
       "      <th>4407</th>\n",
       "      <td>-0.425256</td>\n",
       "      <td>0</td>\n",
       "      <td>-0.837870</td>\n",
       "    </tr>\n",
       "    <tr>\n",
       "      <th>4408</th>\n",
       "      <td>-0.425258</td>\n",
       "      <td>0</td>\n",
       "      <td>-0.837870</td>\n",
       "    </tr>\n",
       "    <tr>\n",
       "      <th>4409</th>\n",
       "      <td>-0.425258</td>\n",
       "      <td>0</td>\n",
       "      <td>-0.837870</td>\n",
       "    </tr>\n",
       "  </tbody>\n",
       "</table>\n",
       "<p>4410 rows × 3 columns</p>\n",
       "</div>"
      ],
      "text/plain": [
       "      temperature  label     delay\n",
       "0       -0.425742      1 -0.920823\n",
       "1       -0.425761      1 -0.920823\n",
       "2        2.195199      1 -0.920823\n",
       "3       -0.425763      1 -0.920823\n",
       "4       -0.425761      1 -0.920823\n",
       "...           ...    ...       ...\n",
       "4405    -0.425244      0 -0.837870\n",
       "4406     2.704728      0 -0.837870\n",
       "4407    -0.425256      0 -0.837870\n",
       "4408    -0.425258      0 -0.837870\n",
       "4409    -0.425258      0 -0.837870\n",
       "\n",
       "[4410 rows x 3 columns]"
      ]
     },
     "execution_count": 7,
     "metadata": {},
     "output_type": "execute_result"
    }
   ],
   "source": [
    "preprocessing(train, 'train')\n",
    "preprocessing(train,'test')"
   ]
  },
  {
   "cell_type": "code",
   "execution_count": 8,
   "metadata": {},
   "outputs": [],
   "source": [
    "def LSTMconf(X_train):\n",
    "    print('Init config LSTM')\n",
    "    model = keras.Sequential()\n",
    "    model.add(\n",
    "        keras.layers.Bidirectional(\n",
    "            keras.layers.LSTM(\n",
    "                 activation=\"relu\",\n",
    "                units=512,\n",
    "                input_shape=(X_train.shape[1],X_train.shape[2])\n",
    "            )\n",
    "        ))\n",
    "    model.add(keras.layers.Dense(units=512, activation=\"relu\"))\n",
    "    model.add(keras.layers.Dense(units=512, activation=\"relu\"))\n",
    "    model.add(keras.layers.Dense(units=512, activation=\"relu\"))\n",
    "    model.add(keras.layers.Dense(units=512, activation=\"relu\"))\n",
    "    model.add(keras.layers.Dropout(rate=0.2))\n",
    "    model.add(keras.layers.Dense(units=1))\n",
    "    \n",
    "    loss =\"mse\"\n",
    "    optim = tf.keras.optimizers.Adam(\n",
    "    learning_rate=0.0001)\n",
    "    metrics=[\"accuracy\"]\n",
    "\n",
    "    model.compile(loss=loss, optimizer=optim, \n",
    "#              metrics=metrics\n",
    "             )\n",
    "    return model\n",
    "    "
   ]
  },
  {
   "cell_type": "code",
   "execution_count": 9,
   "metadata": {},
   "outputs": [],
   "source": [
    "def LSTMfit(model,X_train,Y_train):\n",
    "    print('Init Train')\n",
    "    start = timer()\n",
    "    history = model.fit(\n",
    "        X_train, Y_train, \n",
    "        epochs=256, \n",
    "        batch_size= 128,\n",
    "        validation_split=0.1,\n",
    "        shuffle=False,\n",
    "    #     callbacks=[tensorboard_callback]\n",
    "    )\n",
    "    return history\n"
   ]
  },
  {
   "cell_type": "code",
   "execution_count": 10,
   "metadata": {},
   "outputs": [
    {
     "name": "stdout",
     "output_type": "stream",
     "text": [
      "modeling to keras  99.98 %Init config LSTM\n",
      "Init Train\n",
      "Epoch 1/256\n",
      "31/31 [==============================] - 9s 91ms/step - loss: 1.0197 - val_loss: 0.5872\n",
      "Epoch 2/256\n",
      "31/31 [==============================] - 2s 53ms/step - loss: 0.8192 - val_loss: 0.0972\n",
      "Epoch 3/256\n",
      "31/31 [==============================] - 2s 55ms/step - loss: 0.4834 - val_loss: 0.0120\n",
      "Epoch 4/256\n",
      "31/31 [==============================] - 2s 54ms/step - loss: 0.0210 - val_loss: 0.0081\n",
      "Epoch 5/256\n",
      "31/31 [==============================] - 2s 53ms/step - loss: 0.0415 - val_loss: 0.0151\n",
      "Epoch 6/256\n",
      "31/31 [==============================] - 2s 54ms/step - loss: 0.0417 - val_loss: 8.3704e-04\n",
      "Epoch 7/256\n",
      "31/31 [==============================] - 2s 52ms/step - loss: 0.0726 - val_loss: 0.0024\n",
      "Epoch 8/256\n",
      "31/31 [==============================] - 2s 52ms/step - loss: 0.1139 - val_loss: 0.0010\n",
      "Epoch 9/256\n",
      "31/31 [==============================] - 2s 57ms/step - loss: 0.0524 - val_loss: 0.0031\n",
      "Epoch 10/256\n",
      "31/31 [==============================] - 2s 50ms/step - loss: 0.0761 - val_loss: 4.9847e-04\n",
      "Epoch 11/256\n",
      "31/31 [==============================] - 2s 50ms/step - loss: 0.0384 - val_loss: 5.0893e-04\n",
      "Epoch 12/256\n",
      "31/31 [==============================] - 2s 55ms/step - loss: 0.0541 - val_loss: 3.9196e-04\n",
      "Epoch 13/256\n",
      "31/31 [==============================] - 2s 54ms/step - loss: 0.0337 - val_loss: 7.7229e-04\n",
      "Epoch 14/256\n",
      "31/31 [==============================] - 2s 55ms/step - loss: 0.0468 - val_loss: 4.2857e-04\n",
      "Epoch 15/256\n",
      "31/31 [==============================] - 2s 60ms/step - loss: 0.0320 - val_loss: 5.0708e-04\n",
      "Epoch 16/256\n",
      "31/31 [==============================] - 2s 58ms/step - loss: 0.0445 - val_loss: 4.4135e-04\n",
      "Epoch 17/256\n",
      "31/31 [==============================] - 2s 54ms/step - loss: 0.0329 - val_loss: 8.6181e-04\n",
      "Epoch 18/256\n",
      "31/31 [==============================] - 2s 55ms/step - loss: 0.0482 - val_loss: 4.9070e-04\n",
      "Epoch 19/256\n",
      "31/31 [==============================] - 2s 55ms/step - loss: 0.0330 - val_loss: 8.0395e-04\n",
      "Epoch 20/256\n",
      "31/31 [==============================] - 2s 57ms/step - loss: 0.0480 - val_loss: 4.4114e-04\n",
      "Epoch 21/256\n",
      "31/31 [==============================] - 2s 65ms/step - loss: 0.0361 - val_loss: 0.0022\n",
      "Epoch 22/256\n",
      "31/31 [==============================] - 2s 65ms/step - loss: 0.0529 - val_loss: 7.2824e-04\n",
      "Epoch 23/256\n",
      "31/31 [==============================] - 2s 60ms/step - loss: 0.0346 - val_loss: 6.2978e-04\n",
      "Epoch 24/256\n",
      "31/31 [==============================] - 2s 57ms/step - loss: 0.0524 - val_loss: 4.3856e-04\n",
      "Epoch 25/256\n",
      "31/31 [==============================] - 2s 56ms/step - loss: 0.0347 - val_loss: 0.0040\n",
      "Epoch 26/256\n",
      "31/31 [==============================] - 2s 57ms/step - loss: 0.0478 - val_loss: 0.0015\n",
      "Epoch 27/256\n",
      "31/31 [==============================] - 2s 56ms/step - loss: 0.0280 - val_loss: 5.7872e-04\n",
      "Epoch 28/256\n",
      "31/31 [==============================] - 2s 53ms/step - loss: 0.0423 - val_loss: 7.8688e-04\n",
      "Epoch 29/256\n",
      "31/31 [==============================] - 2s 55ms/step - loss: 0.0311 - val_loss: 0.0020\n",
      "Epoch 30/256\n",
      "31/31 [==============================] - 2s 56ms/step - loss: 0.0422 - val_loss: 0.0015\n",
      "Epoch 31/256\n",
      "31/31 [==============================] - 2s 57ms/step - loss: 0.0285 - val_loss: 7.7048e-04\n",
      "Epoch 32/256\n",
      "31/31 [==============================] - 2s 67ms/step - loss: 0.0418 - val_loss: 6.1439e-04\n",
      "Epoch 33/256\n",
      "31/31 [==============================] - 2s 59ms/step - loss: 0.0303 - val_loss: 0.0023\n",
      "Epoch 34/256\n",
      "31/31 [==============================] - 2s 61ms/step - loss: 0.0406 - val_loss: 0.0012\n",
      "Epoch 35/256\n",
      "31/31 [==============================] - 2s 61ms/step - loss: 0.0282 - val_loss: 7.4206e-04\n",
      "Epoch 36/256\n",
      "31/31 [==============================] - 2s 63ms/step - loss: 0.0410 - val_loss: 8.4492e-04\n",
      "Epoch 37/256\n",
      "31/31 [==============================] - 2s 65ms/step - loss: 0.0314 - val_loss: 0.0018\n",
      "Epoch 38/256\n",
      "31/31 [==============================] - 2s 71ms/step - loss: 0.0451 - val_loss: 0.0011\n",
      "Epoch 39/256\n",
      "31/31 [==============================] - 2s 68ms/step - loss: 0.0307 - val_loss: 8.3305e-04\n",
      "Epoch 40/256\n",
      "31/31 [==============================] - 2s 77ms/step - loss: 0.0432 - val_loss: 6.8054e-04\n",
      "Epoch 41/256\n",
      "31/31 [==============================] - 2s 68ms/step - loss: 0.0303 - val_loss: 0.0039\n",
      "Epoch 42/256\n",
      "31/31 [==============================] - 2s 65ms/step - loss: 0.0424 - val_loss: 0.0014\n",
      "Epoch 43/256\n",
      "31/31 [==============================] - 2s 59ms/step - loss: 0.0261 - val_loss: 7.5551e-04\n",
      "Epoch 44/256\n",
      "31/31 [==============================] - 2s 69ms/step - loss: 0.0383 - val_loss: 9.4004e-04\n",
      "Epoch 45/256\n",
      "31/31 [==============================] - 2s 56ms/step - loss: 0.0304 - val_loss: 0.0021\n",
      "Epoch 46/256\n",
      "31/31 [==============================] - 2s 56ms/step - loss: 0.0409 - val_loss: 9.4405e-04\n",
      "Epoch 47/256\n",
      "31/31 [==============================] - 2s 61ms/step - loss: 0.0263 - val_loss: 7.7973e-04\n",
      "Epoch 48/256\n",
      "31/31 [==============================] - 2s 62ms/step - loss: 0.0363 - val_loss: 9.0486e-04\n",
      "Epoch 49/256\n",
      "31/31 [==============================] - 2s 59ms/step - loss: 0.0254 - val_loss: 0.0045\n",
      "Epoch 50/256\n",
      "31/31 [==============================] - 2s 63ms/step - loss: 0.0314 - val_loss: 0.0014\n",
      "Epoch 51/256\n",
      "31/31 [==============================] - 2s 75ms/step - loss: 0.0202 - val_loss: 4.9548e-04\n",
      "Epoch 52/256\n",
      "31/31 [==============================] - 2s 77ms/step - loss: 0.0261 - val_loss: 0.0011\n",
      "Epoch 53/256\n",
      "31/31 [==============================] - 2s 61ms/step - loss: 0.0208 - val_loss: 6.7879e-04\n",
      "Epoch 54/256\n",
      "31/31 [==============================] - 2s 68ms/step - loss: 0.0252 - val_loss: 0.0011\n",
      "Epoch 55/256\n",
      "31/31 [==============================] - 2s 64ms/step - loss: 0.0200 - val_loss: 6.3810e-04\n",
      "Epoch 56/256\n",
      "31/31 [==============================] - 2s 60ms/step - loss: 0.0257 - val_loss: 0.0011\n",
      "Epoch 57/256\n",
      "31/31 [==============================] - 2s 65ms/step - loss: 0.0206 - val_loss: 6.3142e-04\n",
      "Epoch 58/256\n",
      "31/31 [==============================] - 2s 66ms/step - loss: 0.0256 - val_loss: 0.0011\n",
      "Epoch 59/256\n",
      "31/31 [==============================] - 2s 66ms/step - loss: 0.0198 - val_loss: 6.0724e-04\n",
      "Epoch 60/256\n",
      "31/31 [==============================] - 2s 65ms/step - loss: 0.0264 - val_loss: 0.0013\n",
      "Epoch 61/256\n",
      "31/31 [==============================] - 2s 65ms/step - loss: 0.0220 - val_loss: 7.5675e-04\n",
      "Epoch 62/256\n",
      "31/31 [==============================] - 2s 64ms/step - loss: 0.0312 - val_loss: 0.0013\n",
      "Epoch 63/256\n",
      "31/31 [==============================] - 2s 70ms/step - loss: 0.0272 - val_loss: 0.0011\n",
      "Epoch 64/256\n",
      "31/31 [==============================] - 2s 68ms/step - loss: 0.0377 - val_loss: 0.0012\n",
      "Epoch 65/256\n",
      "31/31 [==============================] - 2s 63ms/step - loss: 0.0268 - val_loss: 0.0019\n",
      "Epoch 66/256\n",
      "31/31 [==============================] - 2s 62ms/step - loss: 0.0353 - val_loss: 0.0014\n",
      "Epoch 67/256\n",
      "31/31 [==============================] - 2s 60ms/step - loss: 0.0245 - val_loss: 0.0011\n",
      "Epoch 68/256\n",
      "31/31 [==============================] - 2s 58ms/step - loss: 0.0329 - val_loss: 0.0011\n",
      "Epoch 69/256\n",
      "31/31 [==============================] - 2s 60ms/step - loss: 0.0295 - val_loss: 0.0086\n",
      "Epoch 70/256\n",
      "31/31 [==============================] - 2s 57ms/step - loss: 0.0394 - val_loss: 0.0027\n",
      "Epoch 71/256\n",
      "31/31 [==============================] - 2s 58ms/step - loss: 0.0272 - val_loss: 0.0010\n",
      "Epoch 72/256\n",
      "31/31 [==============================] - 2s 66ms/step - loss: 0.0380 - val_loss: 0.0018\n",
      "Epoch 73/256\n",
      "31/31 [==============================] - 2s 68ms/step - loss: 0.0290 - val_loss: 0.0021\n",
      "Epoch 74/256\n",
      "31/31 [==============================] - 2s 59ms/step - loss: 0.0366 - val_loss: 0.0042\n",
      "Epoch 75/256\n",
      "31/31 [==============================] - 2s 59ms/step - loss: 0.0228 - val_loss: 4.7719e-04\n",
      "Epoch 76/256\n",
      "31/31 [==============================] - 2s 54ms/step - loss: 0.0277 - val_loss: 0.0026\n",
      "Epoch 77/256\n",
      "31/31 [==============================] - 2s 59ms/step - loss: 0.0220 - val_loss: 7.7422e-04\n",
      "Epoch 78/256\n",
      "31/31 [==============================] - 2s 63ms/step - loss: 0.0266 - val_loss: 0.0011\n",
      "Epoch 79/256\n",
      "31/31 [==============================] - 2s 66ms/step - loss: 0.0221 - val_loss: 0.0019\n",
      "Epoch 80/256\n"
     ]
    },
    {
     "name": "stdout",
     "output_type": "stream",
     "text": [
      "31/31 [==============================] - 2s 58ms/step - loss: 0.0253 - val_loss: 9.0799e-04\n",
      "Epoch 81/256\n",
      "31/31 [==============================] - 2s 57ms/step - loss: 0.0192 - val_loss: 6.4896e-04\n",
      "Epoch 82/256\n",
      "31/31 [==============================] - 2s 55ms/step - loss: 0.0241 - val_loss: 0.0015\n",
      "Epoch 83/256\n",
      "31/31 [==============================] - 2s 54ms/step - loss: 0.0196 - val_loss: 4.2994e-04\n",
      "Epoch 84/256\n",
      "31/31 [==============================] - 2s 56ms/step - loss: 0.0239 - val_loss: 0.0011\n",
      "Epoch 85/256\n",
      "31/31 [==============================] - 2s 55ms/step - loss: 0.0192 - val_loss: 0.0013\n",
      "Epoch 86/256\n",
      "31/31 [==============================] - 2s 58ms/step - loss: 0.0221 - val_loss: 9.5891e-04\n",
      "Epoch 87/256\n",
      "31/31 [==============================] - 2s 61ms/step - loss: 0.0175 - val_loss: 7.1953e-04\n",
      "Epoch 88/256\n",
      "31/31 [==============================] - 2s 55ms/step - loss: 0.0208 - val_loss: 0.0015\n",
      "Epoch 89/256\n",
      "31/31 [==============================] - 2s 65ms/step - loss: 0.0164 - val_loss: 4.4698e-04\n",
      "Epoch 90/256\n",
      "31/31 [==============================] - 2s 56ms/step - loss: 0.0188 - val_loss: 0.0012\n",
      "Epoch 91/256\n",
      "31/31 [==============================] - 2s 56ms/step - loss: 0.0170 - val_loss: 6.2180e-04\n",
      "Epoch 92/256\n",
      "31/31 [==============================] - 2s 53ms/step - loss: 0.0211 - val_loss: 0.0012\n",
      "Epoch 93/256\n",
      "31/31 [==============================] - 2s 51ms/step - loss: 0.0200 - val_loss: 0.0013\n",
      "Epoch 94/256\n",
      "31/31 [==============================] - 2s 53ms/step - loss: 0.0243 - val_loss: 0.0013\n",
      "Epoch 95/256\n",
      "31/31 [==============================] - 2s 54ms/step - loss: 0.0193 - val_loss: 8.0305e-04\n",
      "Epoch 96/256\n",
      "31/31 [==============================] - 2s 52ms/step - loss: 0.0241 - val_loss: 0.0015\n",
      "Epoch 97/256\n",
      "31/31 [==============================] - 2s 53ms/step - loss: 0.0206 - val_loss: 9.8810e-04\n",
      "Epoch 98/256\n",
      "31/31 [==============================] - 2s 57ms/step - loss: 0.0247 - val_loss: 0.0014\n",
      "Epoch 99/256\n",
      "31/31 [==============================] - 2s 54ms/step - loss: 0.0205 - val_loss: 0.0025\n",
      "Epoch 100/256\n",
      "31/31 [==============================] - 2s 56ms/step - loss: 0.0242 - val_loss: 0.0012\n",
      "Epoch 101/256\n",
      "31/31 [==============================] - 2s 76ms/step - loss: 0.0201 - val_loss: 0.0011\n",
      "Epoch 102/256\n",
      "31/31 [==============================] - 2s 62ms/step - loss: 0.0246 - val_loss: 0.0013\n",
      "Epoch 103/256\n",
      "31/31 [==============================] - 2s 55ms/step - loss: 0.0203 - val_loss: 0.0010\n",
      "Epoch 104/256\n",
      "31/31 [==============================] - 2s 57ms/step - loss: 0.0253 - val_loss: 0.0010\n",
      "Epoch 105/256\n",
      "31/31 [==============================] - 2s 66ms/step - loss: 0.0209 - val_loss: 0.0030\n",
      "Epoch 106/256\n",
      "31/31 [==============================] - 2s 57ms/step - loss: 0.0247 - val_loss: 0.0019\n",
      "Epoch 107/256\n",
      "31/31 [==============================] - 2s 66ms/step - loss: 0.0199 - val_loss: 7.1420e-04\n",
      "Epoch 108/256\n",
      "31/31 [==============================] - 2s 57ms/step - loss: 0.0235 - val_loss: 0.0011\n",
      "Epoch 109/256\n",
      "31/31 [==============================] - 2s 58ms/step - loss: 0.0197 - val_loss: 0.0011\n",
      "Epoch 110/256\n",
      "31/31 [==============================] - 2s 59ms/step - loss: 0.0229 - val_loss: 0.0016\n",
      "Epoch 111/256\n",
      "31/31 [==============================] - 2s 65ms/step - loss: 0.0185 - val_loss: 6.2048e-04\n",
      "Epoch 112/256\n",
      "31/31 [==============================] - 2s 65ms/step - loss: 0.0211 - val_loss: 9.4820e-04\n",
      "Epoch 113/256\n",
      "31/31 [==============================] - 2s 59ms/step - loss: 0.0173 - val_loss: 6.8549e-04\n",
      "Epoch 114/256\n",
      "31/31 [==============================] - 2s 56ms/step - loss: 0.0206 - val_loss: 0.0010\n",
      "Epoch 115/256\n",
      "31/31 [==============================] - 2s 52ms/step - loss: 0.0173 - val_loss: 6.8429e-04\n",
      "Epoch 116/256\n",
      "31/31 [==============================] - 2s 52ms/step - loss: 0.0205 - val_loss: 0.0013\n",
      "Epoch 117/256\n",
      "31/31 [==============================] - 2s 53ms/step - loss: 0.0174 - val_loss: 6.3320e-04\n",
      "Epoch 118/256\n",
      "31/31 [==============================] - 2s 49ms/step - loss: 0.0195 - val_loss: 0.0011\n",
      "Epoch 119/256\n",
      "31/31 [==============================] - 1s 48ms/step - loss: 0.0180 - val_loss: 8.2622e-04\n",
      "Epoch 120/256\n",
      "31/31 [==============================] - 2s 52ms/step - loss: 0.0217 - val_loss: 0.0010\n",
      "Epoch 121/256\n",
      "31/31 [==============================] - 2s 52ms/step - loss: 0.0203 - val_loss: 0.0018\n",
      "Epoch 122/256\n",
      "31/31 [==============================] - 2s 53ms/step - loss: 0.0269 - val_loss: 9.6686e-04\n",
      "Epoch 123/256\n",
      "31/31 [==============================] - 2s 58ms/step - loss: 0.0251 - val_loss: 0.0012\n",
      "Epoch 124/256\n",
      "31/31 [==============================] - 2s 53ms/step - loss: 0.0319 - val_loss: 9.3736e-04\n",
      "Epoch 125/256\n",
      "31/31 [==============================] - 2s 54ms/step - loss: 0.0238 - val_loss: 0.0012\n",
      "Epoch 126/256\n",
      "31/31 [==============================] - 2s 62ms/step - loss: 0.0307 - val_loss: 6.6366e-04\n",
      "Epoch 127/256\n",
      "31/31 [==============================] - 2s 57ms/step - loss: 0.0230 - val_loss: 0.0059\n",
      "Epoch 128/256\n",
      "31/31 [==============================] - 2s 56ms/step - loss: 0.0275 - val_loss: 0.0025\n",
      "Epoch 129/256\n",
      "31/31 [==============================] - 2s 55ms/step - loss: 0.0194 - val_loss: 4.8273e-04\n",
      "Epoch 130/256\n",
      "31/31 [==============================] - 2s 51ms/step - loss: 0.0219 - val_loss: 0.0011\n",
      "Epoch 131/256\n",
      "31/31 [==============================] - 2s 51ms/step - loss: 0.0187 - val_loss: 0.0014\n",
      "Epoch 132/256\n",
      "31/31 [==============================] - 2s 56ms/step - loss: 0.0211 - val_loss: 0.0037\n",
      "Epoch 133/256\n",
      "31/31 [==============================] - 2s 54ms/step - loss: 0.0162 - val_loss: 4.4552e-04\n",
      "Epoch 134/256\n",
      "31/31 [==============================] - 2s 53ms/step - loss: 0.0174 - val_loss: 0.0010\n",
      "Epoch 135/256\n",
      "31/31 [==============================] - 2s 55ms/step - loss: 0.0142 - val_loss: 4.4814e-04\n",
      "Epoch 136/256\n",
      "31/31 [==============================] - 2s 54ms/step - loss: 0.0153 - val_loss: 8.7647e-04\n",
      "Epoch 137/256\n",
      "31/31 [==============================] - 2s 50ms/step - loss: 0.0151 - val_loss: 5.7431e-04\n",
      "Epoch 138/256\n",
      "31/31 [==============================] - 2s 52ms/step - loss: 0.0172 - val_loss: 7.4082e-04\n",
      "Epoch 139/256\n",
      "31/31 [==============================] - 2s 51ms/step - loss: 0.0157 - val_loss: 4.5352e-04\n",
      "Epoch 140/256\n",
      "31/31 [==============================] - 2s 50ms/step - loss: 0.0179 - val_loss: 0.0011\n",
      "Epoch 141/256\n",
      "31/31 [==============================] - 2s 53ms/step - loss: 0.0152 - val_loss: 5.8082e-04\n",
      "Epoch 142/256\n",
      "31/31 [==============================] - 2s 50ms/step - loss: 0.0173 - val_loss: 0.0012\n",
      "Epoch 143/256\n",
      "31/31 [==============================] - 2s 51ms/step - loss: 0.0153 - val_loss: 4.4039e-04\n",
      "Epoch 144/256\n",
      "31/31 [==============================] - 2s 52ms/step - loss: 0.0161 - val_loss: 8.5339e-04\n",
      "Epoch 145/256\n",
      "31/31 [==============================] - 2s 56ms/step - loss: 0.0150 - val_loss: 9.4861e-04\n",
      "Epoch 146/256\n",
      "31/31 [==============================] - 2s 53ms/step - loss: 0.0159 - val_loss: 8.3967e-04\n",
      "Epoch 147/256\n",
      "31/31 [==============================] - 2s 65ms/step - loss: 0.0146 - val_loss: 5.7553e-04\n",
      "Epoch 148/256\n",
      "31/31 [==============================] - 2s 55ms/step - loss: 0.0164 - val_loss: 0.0012\n",
      "Epoch 149/256\n",
      "31/31 [==============================] - 2s 51ms/step - loss: 0.0149 - val_loss: 5.5041e-04\n",
      "Epoch 150/256\n",
      "31/31 [==============================] - 2s 53ms/step - loss: 0.0159 - val_loss: 0.0011\n",
      "Epoch 151/256\n",
      "31/31 [==============================] - 2s 51ms/step - loss: 0.0151 - val_loss: 5.5808e-04\n",
      "Epoch 152/256\n",
      "31/31 [==============================] - 2s 50ms/step - loss: 0.0161 - val_loss: 8.8064e-04\n",
      "Epoch 153/256\n",
      "31/31 [==============================] - 2s 54ms/step - loss: 0.0151 - val_loss: 6.0420e-04\n",
      "Epoch 154/256\n",
      "31/31 [==============================] - 2s 56ms/step - loss: 0.0170 - val_loss: 9.4641e-04\n",
      "Epoch 155/256\n",
      "31/31 [==============================] - 2s 57ms/step - loss: 0.0163 - val_loss: 6.9207e-04\n",
      "Epoch 156/256\n",
      "31/31 [==============================] - 2s 56ms/step - loss: 0.0192 - val_loss: 0.0010\n",
      "Epoch 157/256\n",
      "31/31 [==============================] - 2s 55ms/step - loss: 0.0179 - val_loss: 7.5046e-04\n",
      "Epoch 158/256\n",
      "31/31 [==============================] - 2s 55ms/step - loss: 0.0214 - val_loss: 8.4849e-04\n",
      "Epoch 159/256\n"
     ]
    },
    {
     "name": "stdout",
     "output_type": "stream",
     "text": [
      "31/31 [==============================] - 2s 60ms/step - loss: 0.0187 - val_loss: 9.5478e-04\n",
      "Epoch 160/256\n",
      "31/31 [==============================] - 2s 61ms/step - loss: 0.0218 - val_loss: 7.9768e-04\n",
      "Epoch 161/256\n",
      "31/31 [==============================] - 2s 55ms/step - loss: 0.0196 - val_loss: 0.0013\n",
      "Epoch 162/256\n",
      "31/31 [==============================] - 2s 53ms/step - loss: 0.0229 - val_loss: 7.6997e-04\n",
      "Epoch 163/256\n",
      "31/31 [==============================] - 2s 52ms/step - loss: 0.0186 - val_loss: 0.0010\n",
      "Epoch 164/256\n",
      "31/31 [==============================] - 2s 54ms/step - loss: 0.0210 - val_loss: 7.0617e-04\n",
      "Epoch 165/256\n",
      "31/31 [==============================] - 2s 55ms/step - loss: 0.0176 - val_loss: 0.0011\n",
      "Epoch 166/256\n",
      "31/31 [==============================] - 2s 50ms/step - loss: 0.0195 - val_loss: 6.5417e-04\n",
      "Epoch 167/256\n",
      "31/31 [==============================] - 2s 51ms/step - loss: 0.0174 - val_loss: 9.0494e-04\n",
      "Epoch 168/256\n",
      "31/31 [==============================] - 2s 54ms/step - loss: 0.0188 - val_loss: 7.7503e-04\n",
      "Epoch 169/256\n",
      "31/31 [==============================] - 2s 52ms/step - loss: 0.0173 - val_loss: 9.0251e-04\n",
      "Epoch 170/256\n",
      "31/31 [==============================] - 2s 49ms/step - loss: 0.0200 - val_loss: 8.4689e-04\n",
      "Epoch 171/256\n",
      "31/31 [==============================] - 2s 55ms/step - loss: 0.0173 - val_loss: 4.9794e-04\n",
      "Epoch 172/256\n",
      "31/31 [==============================] - 2s 51ms/step - loss: 0.0196 - val_loss: 7.2569e-04\n",
      "Epoch 173/256\n",
      "31/31 [==============================] - 2s 53ms/step - loss: 0.0168 - val_loss: 7.5401e-04\n",
      "Epoch 174/256\n",
      "31/31 [==============================] - 2s 58ms/step - loss: 0.0185 - val_loss: 6.6087e-04\n",
      "Epoch 175/256\n",
      "31/31 [==============================] - 2s 56ms/step - loss: 0.0165 - val_loss: 4.9858e-04\n",
      "Epoch 176/256\n",
      "31/31 [==============================] - 2s 53ms/step - loss: 0.0184 - val_loss: 6.8714e-04\n",
      "Epoch 177/256\n",
      "31/31 [==============================] - 2s 54ms/step - loss: 0.0161 - val_loss: 6.0675e-04\n",
      "Epoch 178/256\n",
      "31/31 [==============================] - 2s 52ms/step - loss: 0.0181 - val_loss: 6.9850e-04\n",
      "Epoch 179/256\n",
      "31/31 [==============================] - 2s 52ms/step - loss: 0.0161 - val_loss: 5.8211e-04\n",
      "Epoch 180/256\n",
      "31/31 [==============================] - 2s 52ms/step - loss: 0.0184 - val_loss: 8.0869e-04\n",
      "Epoch 181/256\n",
      "31/31 [==============================] - 2s 52ms/step - loss: 0.0168 - val_loss: 5.2684e-04\n",
      "Epoch 182/256\n",
      "31/31 [==============================] - 2s 50ms/step - loss: 0.0184 - val_loss: 5.9396e-04\n",
      "Epoch 183/256\n",
      "31/31 [==============================] - 2s 57ms/step - loss: 0.0160 - val_loss: 7.0906e-04\n",
      "Epoch 184/256\n",
      "31/31 [==============================] - 2s 57ms/step - loss: 0.0174 - val_loss: 6.0837e-04\n",
      "Epoch 185/256\n",
      "31/31 [==============================] - 2s 52ms/step - loss: 0.0152 - val_loss: 6.6086e-04\n",
      "Epoch 186/256\n",
      "31/31 [==============================] - 2s 51ms/step - loss: 0.0162 - val_loss: 6.3005e-04\n",
      "Epoch 187/256\n",
      "31/31 [==============================] - 2s 50ms/step - loss: 0.0150 - val_loss: 5.7890e-04\n",
      "Epoch 188/256\n",
      "31/31 [==============================] - 2s 50ms/step - loss: 0.0153 - val_loss: 6.0073e-04\n",
      "Epoch 189/256\n",
      "31/31 [==============================] - 2s 52ms/step - loss: 0.0144 - val_loss: 5.6046e-04\n",
      "Epoch 190/256\n",
      "31/31 [==============================] - 2s 52ms/step - loss: 0.0151 - val_loss: 6.5210e-04\n",
      "Epoch 191/256\n",
      "31/31 [==============================] - 1s 49ms/step - loss: 0.0145 - val_loss: 7.5499e-04\n",
      "Epoch 192/256\n",
      "31/31 [==============================] - 2s 52ms/step - loss: 0.0151 - val_loss: 6.9406e-04\n",
      "Epoch 193/256\n",
      "31/31 [==============================] - 2s 57ms/step - loss: 0.0146 - val_loss: 6.0568e-04\n",
      "Epoch 194/256\n",
      "31/31 [==============================] - 2s 54ms/step - loss: 0.0154 - val_loss: 6.6614e-04\n",
      "Epoch 195/256\n",
      "31/31 [==============================] - 2s 57ms/step - loss: 0.0143 - val_loss: 4.6917e-04\n",
      "Epoch 196/256\n",
      "31/31 [==============================] - 2s 52ms/step - loss: 0.0149 - val_loss: 6.5910e-04\n",
      "Epoch 197/256\n",
      "31/31 [==============================] - 2s 49ms/step - loss: 0.0141 - val_loss: 4.9931e-04\n",
      "Epoch 198/256\n",
      "31/31 [==============================] - 2s 50ms/step - loss: 0.0146 - val_loss: 5.7856e-04\n",
      "Epoch 199/256\n",
      "31/31 [==============================] - 2s 50ms/step - loss: 0.0141 - val_loss: 5.5035e-04ss: 0.01\n",
      "Epoch 200/256\n",
      "31/31 [==============================] - 2s 54ms/step - loss: 0.0145 - val_loss: 5.8467e-04\n",
      "Epoch 201/256\n",
      "31/31 [==============================] - 2s 51ms/step - loss: 0.0140 - val_loss: 5.0399e-04\n",
      "Epoch 202/256\n",
      "31/31 [==============================] - 2s 53ms/step - loss: 0.0150 - val_loss: 7.1458e-04\n",
      "Epoch 203/256\n",
      "31/31 [==============================] - 2s 51ms/step - loss: 0.0138 - val_loss: 4.8459e-04\n",
      "Epoch 204/256\n",
      "31/31 [==============================] - 2s 53ms/step - loss: 0.0144 - val_loss: 7.3444e-04\n",
      "Epoch 205/256\n",
      "31/31 [==============================] - 2s 54ms/step - loss: 0.0135 - val_loss: 5.7125e-04\n",
      "Epoch 206/256\n",
      "31/31 [==============================] - 2s 52ms/step - loss: 0.0143 - val_loss: 9.1775e-04\n",
      "Epoch 207/256\n",
      "31/31 [==============================] - 2s 49ms/step - loss: 0.0140 - val_loss: 4.7882e-04\n",
      "Epoch 208/256\n",
      "31/31 [==============================] - 2s 52ms/step - loss: 0.0154 - val_loss: 8.5765e-04\n",
      "Epoch 209/256\n",
      "31/31 [==============================] - 2s 52ms/step - loss: 0.0152 - val_loss: 4.7464e-04\n",
      "Epoch 210/256\n",
      "31/31 [==============================] - 2s 55ms/step - loss: 0.0162 - val_loss: 0.0013\n",
      "Epoch 211/256\n",
      "31/31 [==============================] - 2s 54ms/step - loss: 0.0152 - val_loss: 5.5432e-04\n",
      "Epoch 212/256\n",
      "31/31 [==============================] - 2s 52ms/step - loss: 0.0167 - val_loss: 9.8323e-04\n",
      "Epoch 213/256\n",
      "31/31 [==============================] - 2s 55ms/step - loss: 0.0160 - val_loss: 4.7556e-04\n",
      "Epoch 214/256\n",
      "31/31 [==============================] - 2s 55ms/step - loss: 0.0164 - val_loss: 0.0011\n",
      "Epoch 215/256\n",
      "31/31 [==============================] - 2s 57ms/step - loss: 0.0158 - val_loss: 4.6240e-04\n",
      "Epoch 216/256\n",
      "31/31 [==============================] - 2s 52ms/step - loss: 0.0166 - val_loss: 6.3232e-04\n",
      "Epoch 217/256\n",
      "31/31 [==============================] - 2s 54ms/step - loss: 0.0165 - val_loss: 5.1567e-04\n",
      "Epoch 218/256\n",
      "31/31 [==============================] - 2s 51ms/step - loss: 0.0175 - val_loss: 4.4364e-04\n",
      "Epoch 219/256\n",
      "31/31 [==============================] - 2s 49ms/step - loss: 0.0183 - val_loss: 5.0156e-04\n",
      "Epoch 220/256\n",
      "31/31 [==============================] - 2s 56ms/step - loss: 0.0229 - val_loss: 5.3002e-04\n",
      "Epoch 221/256\n",
      "31/31 [==============================] - 2s 56ms/step - loss: 0.0217 - val_loss: 6.1518e-04\n",
      "Epoch 222/256\n",
      "31/31 [==============================] - 2s 53ms/step - loss: 0.0260 - val_loss: 6.3330e-04\n",
      "Epoch 223/256\n",
      "31/31 [==============================] - 2s 54ms/step - loss: 0.0192 - val_loss: 8.2485e-04\n",
      "Epoch 224/256\n",
      "31/31 [==============================] - 2s 53ms/step - loss: 0.0213 - val_loss: 6.1220e-04\n",
      "Epoch 225/256\n",
      "31/31 [==============================] - 2s 52ms/step - loss: 0.0160 - val_loss: 0.0012\n",
      "Epoch 226/256\n",
      "31/31 [==============================] - 2s 53ms/step - loss: 0.0165 - val_loss: 5.1025e-04\n",
      "Epoch 227/256\n",
      "31/31 [==============================] - 2s 52ms/step - loss: 0.0141 - val_loss: 7.5559e-04\n",
      "Epoch 228/256\n",
      "31/31 [==============================] - 2s 51ms/step - loss: 0.0137 - val_loss: 4.8731e-04\n",
      "Epoch 229/256\n",
      "31/31 [==============================] - 2s 55ms/step - loss: 0.0124 - val_loss: 6.2149e-04\n",
      "Epoch 230/256\n",
      "31/31 [==============================] - 2s 54ms/step - loss: 0.0121 - val_loss: 5.5464e-04\n",
      "Epoch 231/256\n",
      "31/31 [==============================] - 2s 50ms/step - loss: 0.0114 - val_loss: 3.8536e-04\n",
      "Epoch 232/256\n",
      "31/31 [==============================] - 2s 54ms/step - loss: 0.0108 - val_loss: 5.5867e-04\n",
      "Epoch 233/256\n",
      "31/31 [==============================] - 2s 52ms/step - loss: 0.0111 - val_loss: 4.0160e-04\n",
      "Epoch 234/256\n",
      "31/31 [==============================] - 2s 50ms/step - loss: 0.0109 - val_loss: 4.8083e-04\n",
      "Epoch 235/256\n",
      "31/31 [==============================] - 2s 51ms/step - loss: 0.0108 - val_loss: 3.6887e-04\n",
      "Epoch 236/256\n"
     ]
    },
    {
     "name": "stdout",
     "output_type": "stream",
     "text": [
      "31/31 [==============================] - 2s 49ms/step - loss: 0.0104 - val_loss: 4.9276e-04\n",
      "Epoch 237/256\n",
      "31/31 [==============================] - 2s 50ms/step - loss: 0.0101 - val_loss: 5.2779e-04\n",
      "Epoch 238/256\n",
      "31/31 [==============================] - 2s 50ms/step - loss: 0.0100 - val_loss: 8.8451e-04\n",
      "Epoch 239/256\n",
      "31/31 [==============================] - 2s 51ms/step - loss: 0.0106 - val_loss: 7.3876e-04\n",
      "Epoch 240/256\n",
      "31/31 [==============================] - 1s 48ms/step - loss: 0.0103 - val_loss: 8.0067e-04\n",
      "Epoch 241/256\n",
      "31/31 [==============================] - 2s 51ms/step - loss: 0.0108 - val_loss: 5.1732e-04\n",
      "Epoch 242/256\n",
      "31/31 [==============================] - 2s 52ms/step - loss: 0.0106 - val_loss: 6.2848e-04\n",
      "Epoch 243/256\n",
      "31/31 [==============================] - 2s 51ms/step - loss: 0.0111 - val_loss: 3.8138e-04\n",
      "Epoch 244/256\n",
      "31/31 [==============================] - 2s 50ms/step - loss: 0.0112 - val_loss: 6.3260e-04\n",
      "Epoch 245/256\n",
      "31/31 [==============================] - 2s 51ms/step - loss: 0.0120 - val_loss: 3.9890e-04\n",
      "Epoch 246/256\n",
      "31/31 [==============================] - 2s 50ms/step - loss: 0.0116 - val_loss: 5.7306e-04\n",
      "Epoch 247/256\n",
      "31/31 [==============================] - 2s 51ms/step - loss: 0.0119 - val_loss: 4.8502e-04\n",
      "Epoch 248/256\n",
      "31/31 [==============================] - 2s 50ms/step - loss: 0.0131 - val_loss: 5.4327e-04\n",
      "Epoch 249/256\n",
      "31/31 [==============================] - 2s 50ms/step - loss: 0.0133 - val_loss: 4.9846e-04\n",
      "Epoch 250/256\n",
      "31/31 [==============================] - 2s 49ms/step - loss: 0.0141 - val_loss: 6.7860e-04\n",
      "Epoch 251/256\n",
      "31/31 [==============================] - 2s 52ms/step - loss: 0.0137 - val_loss: 6.5000e-04\n",
      "Epoch 252/256\n",
      "31/31 [==============================] - 2s 51ms/step - loss: 0.0148 - val_loss: 6.2679e-04\n",
      "Epoch 253/256\n",
      "31/31 [==============================] - 2s 52ms/step - loss: 0.0144 - val_loss: 6.6890e-04\n",
      "Epoch 254/256\n",
      "31/31 [==============================] - 2s 52ms/step - loss: 0.0151 - val_loss: 5.7816e-04\n",
      "Epoch 255/256\n",
      "31/31 [==============================] - 2s 51ms/step - loss: 0.0151 - val_loss: 7.1417e-04\n",
      "Epoch 256/256\n",
      "31/31 [==============================] - 2s 51ms/step - loss: 0.0164 - val_loss: 7.6607e-04\n"
     ]
    }
   ],
   "source": [
    "\n",
    "train = pd.read_csv('datasets/delta/sdn_train_mininet_normalized_train.csv', delimiter=\",\")     \n",
    "test = pd.read_csv('datasets/delta/sdn_train_mininet_normalized_test.csv', delimiter=\",\")  \n",
    "X_train,Y_train = create_dataset(train, train.delay)\n",
    "model = LSTMconf(X_train)\n",
    "history = LSTMfit(model,X_train, Y_train)\n",
    "\n",
    "# r = Timer(1.0, preprocessing, (prep_dataset.iloc[cont:cont+window,:]))\n",
    "# r.start()\n",
    "# print(X_train)\n",
    "    "
   ]
  },
  {
   "cell_type": "code",
   "execution_count": 11,
   "metadata": {},
   "outputs": [
    {
     "name": "stdout",
     "output_type": "stream",
     "text": [
      "Saving Model\n",
      "INFO:tensorflow:Assets written to: models/lstm_mininet\\assets\n"
     ]
    }
   ],
   "source": [
    "print('Saving Model')\n",
    "model.save('models/lstm_mininet')"
   ]
  },
  {
   "cell_type": "markdown",
   "metadata": {},
   "source": [
    "# loss training"
   ]
  },
  {
   "cell_type": "code",
   "execution_count": 12,
   "metadata": {},
   "outputs": [
    {
     "data": {
      "image/png": "[encoded data removed]",
      "text/plain": [
       "<Figure size 432x288 with 1 Axes>"
      ]
     },
     "metadata": {
      "needs_background": "light"
     },
     "output_type": "display_data"
    }
   ],
   "source": [
    "\n",
    "fig1 = plt.figure()\n",
    "ax1 = fig1.add_subplot(1,1,1)\n",
    "ax1.plot(history.history['loss'], label='train')\n",
    "ax1.plot(history.history['val_loss'], label='validation')\n",
    "ax1.legend();"
   ]
  },
  {
   "cell_type": "code",
   "execution_count": 13,
   "metadata": {},
   "outputs": [
    {
     "name": "stdout",
     "output_type": "stream",
     "text": [
      "modeling to keras  99.98 %  8.35  seconds\n"
     ]
    }
   ],
   "source": [
    "test_un = pd.read_csv('datasets/delta/sdn_train_mininet_unormalized_test.csv', delimiter=\",\")  \n",
    "test = pd.read_csv('datasets/delta/sdn_train_mininet_normalized_test.csv', delimiter=\",\")     \n",
    "X_test,Y_test = create_dataset(test, test.delay)"
   ]
  },
  {
   "cell_type": "code",
   "execution_count": 29,
   "metadata": {},
   "outputs": [
    {
     "data": {
      "text/html": [
       "<div>\n",
       "<style scoped>\n",
       "    .dataframe tbody tr th:only-of-type {\n",
       "        vertical-align: middle;\n",
       "    }\n",
       "\n",
       "    .dataframe tbody tr th {\n",
       "        vertical-align: top;\n",
       "    }\n",
       "\n",
       "    .dataframe thead th {\n",
       "        text-align: right;\n",
       "    }\n",
       "</style>\n",
       "<table border=\"1\" class=\"dataframe\">\n",
       "  <thead>\n",
       "    <tr style=\"text-align: right;\">\n",
       "      <th></th>\n",
       "      <th>temperature</th>\n",
       "      <th>label</th>\n",
       "      <th>delay</th>\n",
       "    </tr>\n",
       "  </thead>\n",
       "  <tbody>\n",
       "    <tr>\n",
       "      <th>0</th>\n",
       "      <td>-0.425742</td>\n",
       "      <td>1.0</td>\n",
       "      <td>-0.920823</td>\n",
       "    </tr>\n",
       "    <tr>\n",
       "      <th>1</th>\n",
       "      <td>-0.425761</td>\n",
       "      <td>1.0</td>\n",
       "      <td>-0.920823</td>\n",
       "    </tr>\n",
       "    <tr>\n",
       "      <th>2</th>\n",
       "      <td>2.195199</td>\n",
       "      <td>1.0</td>\n",
       "      <td>-0.920823</td>\n",
       "    </tr>\n",
       "    <tr>\n",
       "      <th>3</th>\n",
       "      <td>-0.425763</td>\n",
       "      <td>1.0</td>\n",
       "      <td>-0.920823</td>\n",
       "    </tr>\n",
       "    <tr>\n",
       "      <th>4</th>\n",
       "      <td>-0.425761</td>\n",
       "      <td>1.0</td>\n",
       "      <td>-0.920823</td>\n",
       "    </tr>\n",
       "    <tr>\n",
       "      <th>...</th>\n",
       "      <td>...</td>\n",
       "      <td>...</td>\n",
       "      <td>...</td>\n",
       "    </tr>\n",
       "    <tr>\n",
       "      <th>4405</th>\n",
       "      <td>-0.425244</td>\n",
       "      <td>0.0</td>\n",
       "      <td>-0.837870</td>\n",
       "    </tr>\n",
       "    <tr>\n",
       "      <th>4406</th>\n",
       "      <td>2.704728</td>\n",
       "      <td>0.0</td>\n",
       "      <td>-0.837870</td>\n",
       "    </tr>\n",
       "    <tr>\n",
       "      <th>4407</th>\n",
       "      <td>-0.425256</td>\n",
       "      <td>0.0</td>\n",
       "      <td>-0.837870</td>\n",
       "    </tr>\n",
       "    <tr>\n",
       "      <th>4408</th>\n",
       "      <td>-0.425258</td>\n",
       "      <td>0.0</td>\n",
       "      <td>-0.837870</td>\n",
       "    </tr>\n",
       "    <tr>\n",
       "      <th>4409</th>\n",
       "      <td>-0.425258</td>\n",
       "      <td>0.0</td>\n",
       "      <td>-0.837870</td>\n",
       "    </tr>\n",
       "  </tbody>\n",
       "</table>\n",
       "<p>4410 rows × 3 columns</p>\n",
       "</div>"
      ],
      "text/plain": [
       "      temperature  label     delay\n",
       "0       -0.425742    1.0 -0.920823\n",
       "1       -0.425761    1.0 -0.920823\n",
       "2        2.195199    1.0 -0.920823\n",
       "3       -0.425763    1.0 -0.920823\n",
       "4       -0.425761    1.0 -0.920823\n",
       "...           ...    ...       ...\n",
       "4405    -0.425244    0.0 -0.837870\n",
       "4406     2.704728    0.0 -0.837870\n",
       "4407    -0.425256    0.0 -0.837870\n",
       "4408    -0.425258    0.0 -0.837870\n",
       "4409    -0.425258    0.0 -0.837870\n",
       "\n",
       "[4410 rows x 3 columns]"
      ]
     },
     "execution_count": 29,
     "metadata": {},
     "output_type": "execute_result"
    }
   ],
   "source": [
    "test_un"
   ]
  },
  {
   "cell_type": "markdown",
   "metadata": {},
   "source": [
    "# predicting"
   ]
  },
  {
   "cell_type": "code",
   "execution_count": 14,
   "metadata": {},
   "outputs": [],
   "source": [
    "y_pred = model.predict(X_test)"
   ]
  },
  {
   "cell_type": "markdown",
   "metadata": {},
   "source": [
    "# unormalizing"
   ]
  },
  {
   "cell_type": "code",
   "execution_count": 15,
   "metadata": {},
   "outputs": [],
   "source": [
    "y_test_inv, y_pred_inv = unormalizing(test_un, Y_test, y_pred)\n"
   ]
  },
  {
   "cell_type": "code",
   "execution_count": 28,
   "metadata": {},
   "outputs": [
    {
     "data": {
      "text/plain": [
       "array([[-0.92082262, -0.92082262, -0.92082262, ..., -0.83786992,\n",
       "        -0.83786992, -0.83786992]])"
      ]
     },
     "execution_count": 28,
     "metadata": {},
     "output_type": "execute_result"
    }
   ],
   "source": [
    "y_test_inv"
   ]
  },
  {
   "cell_type": "code",
   "execution_count": 17,
   "metadata": {},
   "outputs": [
    {
     "data": {
      "image/png": "[encoded data removed]",
      "text/plain": [
       "<Figure size 432x288 with 1 Axes>"
      ]
     },
     "metadata": {
      "needs_background": "light"
     },
     "output_type": "display_data"
    }
   ],
   "source": [
    "fig2 = plt.figure()\n",
    "a2 = fig2.add_subplot(1,1,1)\n",
    "a2.plot(y_test_inv.flatten(), marker='.', label='true')\n",
    "a2.legend();"
   ]
  },
  {
   "cell_type": "code",
   "execution_count": 18,
   "metadata": {},
   "outputs": [
    {
     "data": {
      "image/png": "[encoded data removed]",
      "text/plain": [
       "<Figure size 432x288 with 1 Axes>"
      ]
     },
     "metadata": {
      "needs_background": "light"
     },
     "output_type": "display_data"
    }
   ],
   "source": [
    "fig3 = plt.figure()\n",
    "a3 = fig3.add_subplot(1,1,1)\n",
    "a3.plot(y_pred_inv.flatten(),'r',marker='.', label='predicted')\n",
    "a3.legend();"
   ]
  },
  {
   "cell_type": "code",
   "execution_count": 19,
   "metadata": {},
   "outputs": [
    {
     "data": {
      "image/png": "[encoded data removed]",
      "text/plain": [
       "<Figure size 432x288 with 1 Axes>"
      ]
     },
     "metadata": {
      "needs_background": "light"
     },
     "output_type": "display_data"
    }
   ],
   "source": [
    "fig4 = plt.figure()\n",
    "a4 = fig4.add_subplot(1,1,1)\n",
    "\n",
    "a4.plot(y_test_inv.flatten(), marker='.', label='true')\n",
    "a4.plot(y_pred_inv.flatten(),'r',marker='.', label='predicted')\n",
    "a4.legend();"
   ]
  },
  {
   "cell_type": "code",
   "execution_count": 20,
   "metadata": {},
   "outputs": [
    {
     "name": "stdout",
     "output_type": "stream",
     "text": [
      "progress  99.98 %\n"
     ]
    }
   ],
   "source": [
    "l1 = []\n",
    "l2 = []\n",
    "for i in np.arange(y_pred_inv.shape[0]):\n",
    "    clear_output(wait=True)\n",
    "    print('progress ',round((i/y_pred_inv.shape[0])*100,2), ('%'))\n",
    "    if(y_pred_inv[i,0]<=1000):\n",
    "        l1.append(y_pred_inv[i,0])\n",
    "    if(y_test_inv[0,i]<=1000):\n",
    "        l2.append(y_test_inv[0,i])\n",
    "\n",
    "y_pred_inv2 = np.array(l1)\n",
    "y_test_inv2 = np.array(l2)"
   ]
  },
  {
   "cell_type": "code",
   "execution_count": 21,
   "metadata": {},
   "outputs": [
    {
     "data": {
      "image/png": "[encoded data removed]",
      "text/plain": [
       "<Figure size 432x288 with 1 Axes>"
      ]
     },
     "metadata": {
      "needs_background": "light"
     },
     "output_type": "display_data"
    }
   ],
   "source": [
    "plt.plot(y_pred_inv2.flatten(),'r',marker='.', label='predicted')\n",
    "plt.plot(y_test_inv2.flatten(), marker='.', label='true')\n",
    "plt.legend();"
   ]
  },
  {
   "cell_type": "code",
   "execution_count": 22,
   "metadata": {},
   "outputs": [],
   "source": [
    "from sklearn.metrics import mean_squared_error\n",
    "from sklearn.metrics import median_absolute_error\n",
    "from sklearn.metrics import mean_absolute_error\n",
    "from sklearn.metrics import mean_squared_log_error"
   ]
  },
  {
   "cell_type": "code",
   "execution_count": 23,
   "metadata": {},
   "outputs": [
    {
     "name": "stdout",
     "output_type": "stream",
     "text": [
      "0.07736695497806581\n",
      "0.04438185762288965\n",
      "0.032222850089716704\n"
     ]
    }
   ],
   "source": [
    "size = np.min([y_pred_inv2.shape[0],y_test_inv2.shape[0] ])\n",
    "rmse =  mean_squared_error(y_test_inv2[0:size], y_pred_inv2[0:size], squared=False)\n",
    "mae =  mean_absolute_error(y_test_inv2[0:size], y_pred_inv2[0:size])\n",
    "median_mae = median_absolute_error(y_test_inv2[0:size], y_pred_inv2[0:size])\n",
    "\n",
    "\n",
    "print(rmse)\n",
    "print(mae)\n",
    "print(median_mae)"
   ]
  },
  {
   "cell_type": "code",
   "execution_count": 24,
   "metadata": {},
   "outputs": [
    {
     "data": {
      "image/png": "[encoded data removed]",
      "text/plain": [
       "<Figure size 432x288 with 1 Axes>"
      ]
     },
     "metadata": {
      "needs_background": "light"
     },
     "output_type": "display_data"
    }
   ],
   "source": [
    "objects = ('rmse', 'mae', 'median-mae')\n",
    "y_pos = np.arange(3)\n",
    "performance = [rmse,mae,median_mae]\n",
    "\n",
    "plt.bar(y_pos, performance, align='center')\n",
    "plt.xticks(y_pos, objects)\n",
    "#plt.ylabel('Usage')\n",
    "plt.title('Métricas regressão')\n",
    "\n",
    "plt.show()"
   ]
  },
  {
   "cell_type": "code",
   "execution_count": 25,
   "metadata": {},
   "outputs": [],
   "source": [
    "from sklearn.metrics import explained_variance_score"
   ]
  },
  {
   "cell_type": "code",
   "execution_count": 26,
   "metadata": {},
   "outputs": [
    {
     "data": {
      "text/plain": [
       "0.9941959642270874"
      ]
     },
     "execution_count": 26,
     "metadata": {},
     "output_type": "execute_result"
    }
   ],
   "source": [
    "explained_variance_score(y_test_inv2[0:size], y_pred_inv2[0:size])"
   ]
  },
  {
   "cell_type": "code",
   "execution_count": 27,
   "metadata": {},
   "outputs": [
    {
     "data": {
      "text/plain": [
       "array([-0.92082262, -0.92082262, -0.92082262, ..., -0.83786992,\n",
       "       -0.83786992, -0.83786992])"
      ]
     },
     "execution_count": 27,
     "metadata": {},
     "output_type": "execute_result"
    }
   ],
   "source": [
    "y_test_inv2[0:size]"
   ]
  },
  {
   "cell_type": "code",
   "execution_count": null,
   "metadata": {},
   "outputs": [],
   "source": []
  },
  {
   "cell_type": "code",
   "execution_count": null,
   "metadata": {},
   "outputs": [],
   "source": []
  },
  {
   "cell_type": "code",
   "execution_count": null,
   "metadata": {},
   "outputs": [],
   "source": []
  }
 ],
 "metadata": {
  "kernelspec": {
   "display_name": "Python 3",
   "language": "python",
   "name": "python3"
  },
  "language_info": {
   "codemirror_mode": {
    "name": "ipython",
    "version": 3
   },
   "file_extension": ".py",
   "mimetype": "text/x-python",
   "name": "python",
   "nbconvert_exporter": "python",
   "pygments_lexer": "ipython3",
   "version": "3.8.5"
  }
 },
 "nbformat": 4,
 "nbformat_minor": 4
}
