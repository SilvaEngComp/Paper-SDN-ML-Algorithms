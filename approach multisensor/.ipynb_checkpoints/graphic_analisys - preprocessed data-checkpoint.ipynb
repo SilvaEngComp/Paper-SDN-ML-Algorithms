{
 "cells": [
  {
   "cell_type": "code",
   "execution_count": 1,
   "metadata": {},
   "outputs": [],
   "source": [
    "import matplotlib.pyplot as plt\n",
    "import seaborn as sns\n",
    "\n",
    "import pandas as pd\n",
    "import numpy as np\n"
   ]
  },
  {
   "cell_type": "markdown",
   "metadata": {},
   "source": [
    "# Loading data"
   ]
  },
  {
   "cell_type": "code",
   "execution_count": 2,
   "metadata": {},
   "outputs": [],
   "source": [
    "train = pd.read_csv('datasets/com_concept_drift/sdn_train_unormalized.csv')\n",
    "test = pd.read_csv('datasets/com_concept_drift/sdn_test_unormalized.csv')"
   ]
  },
  {
   "cell_type": "code",
   "execution_count": 3,
   "metadata": {},
   "outputs": [],
   "source": [
    "train.index = train['timestamp']\n",
    "train.drop('timestamp', axis=1, inplace=True)\n",
    "\n",
    "test.index = test['timestamp']\n",
    "test.drop('timestamp', axis=1, inplace=True)"
   ]
  },
  {
   "cell_type": "code",
   "execution_count": 25,
   "metadata": {},
   "outputs": [
    {
     "data": {
      "text/html": [
       "<div>\n",
       "<style scoped>\n",
       "    .dataframe tbody tr th:only-of-type {\n",
       "        vertical-align: middle;\n",
       "    }\n",
       "\n",
       "    .dataframe tbody tr th {\n",
       "        vertical-align: top;\n",
       "    }\n",
       "\n",
       "    .dataframe thead th {\n",
       "        text-align: right;\n",
       "    }\n",
       "</style>\n",
       "<table border=\"1\" class=\"dataframe\">\n",
       "  <thead>\n",
       "    <tr style=\"text-align: right;\">\n",
       "      <th></th>\n",
       "      <th>seconds</th>\n",
       "      <th>temperature</th>\n",
       "      <th>label</th>\n",
       "      <th>delay</th>\n",
       "    </tr>\n",
       "    <tr>\n",
       "      <th>timestamp</th>\n",
       "      <th></th>\n",
       "      <th></th>\n",
       "      <th></th>\n",
       "      <th></th>\n",
       "    </tr>\n",
       "  </thead>\n",
       "  <tbody>\n",
       "    <tr>\n",
       "      <th>2004-03-20 02:36:55</th>\n",
       "      <td>1.079761e+09</td>\n",
       "      <td>20.3804</td>\n",
       "      <td>1</td>\n",
       "      <td>-991123.0</td>\n",
       "    </tr>\n",
       "    <tr>\n",
       "      <th>2004-03-20 02:37:35</th>\n",
       "      <td>1.079761e+09</td>\n",
       "      <td>20.3902</td>\n",
       "      <td>1</td>\n",
       "      <td>-991123.0</td>\n",
       "    </tr>\n",
       "    <tr>\n",
       "      <th>2004-03-20 02:38:23</th>\n",
       "      <td>1.079761e+09</td>\n",
       "      <td>20.3804</td>\n",
       "      <td>1</td>\n",
       "      <td>-991123.0</td>\n",
       "    </tr>\n",
       "    <tr>\n",
       "      <th>2004-03-20 02:38:56</th>\n",
       "      <td>1.079761e+09</td>\n",
       "      <td>20.3804</td>\n",
       "      <td>1</td>\n",
       "      <td>-991123.0</td>\n",
       "    </tr>\n",
       "    <tr>\n",
       "      <th>2004-03-20 02:39:51</th>\n",
       "      <td>1.079761e+09</td>\n",
       "      <td>20.3706</td>\n",
       "      <td>1</td>\n",
       "      <td>-991123.0</td>\n",
       "    </tr>\n",
       "    <tr>\n",
       "      <th>2004-03-20 02:40:54</th>\n",
       "      <td>1.079761e+09</td>\n",
       "      <td>20.3608</td>\n",
       "      <td>1</td>\n",
       "      <td>-991123.0</td>\n",
       "    </tr>\n",
       "    <tr>\n",
       "      <th>2004-03-20 02:41:24</th>\n",
       "      <td>1.079761e+09</td>\n",
       "      <td>20.3412</td>\n",
       "      <td>1</td>\n",
       "      <td>-991123.0</td>\n",
       "    </tr>\n",
       "    <tr>\n",
       "      <th>2004-03-20 02:42:05</th>\n",
       "      <td>1.079761e+09</td>\n",
       "      <td>20.3412</td>\n",
       "      <td>1</td>\n",
       "      <td>-991123.0</td>\n",
       "    </tr>\n",
       "    <tr>\n",
       "      <th>2004-03-20 02:42:29</th>\n",
       "      <td>1.079761e+09</td>\n",
       "      <td>20.3314</td>\n",
       "      <td>1</td>\n",
       "      <td>-991123.0</td>\n",
       "    </tr>\n",
       "    <tr>\n",
       "      <th>2004-03-20 02:43:08</th>\n",
       "      <td>1.079761e+09</td>\n",
       "      <td>20.3608</td>\n",
       "      <td>1</td>\n",
       "      <td>-991123.0</td>\n",
       "    </tr>\n",
       "    <tr>\n",
       "      <th>2004-03-20 02:43:24</th>\n",
       "      <td>1.079761e+09</td>\n",
       "      <td>20.3412</td>\n",
       "      <td>1</td>\n",
       "      <td>-991123.0</td>\n",
       "    </tr>\n",
       "    <tr>\n",
       "      <th>2004-03-20 02:43:51</th>\n",
       "      <td>1.079761e+09</td>\n",
       "      <td>20.3412</td>\n",
       "      <td>1</td>\n",
       "      <td>-991123.0</td>\n",
       "    </tr>\n",
       "    <tr>\n",
       "      <th>2004-03-20 02:44:20</th>\n",
       "      <td>1.079761e+09</td>\n",
       "      <td>20.3412</td>\n",
       "      <td>1</td>\n",
       "      <td>-991123.0</td>\n",
       "    </tr>\n",
       "    <tr>\n",
       "      <th>2004-03-20 02:44:54</th>\n",
       "      <td>1.079761e+09</td>\n",
       "      <td>20.3314</td>\n",
       "      <td>1</td>\n",
       "      <td>-991123.0</td>\n",
       "    </tr>\n",
       "    <tr>\n",
       "      <th>2004-03-20 02:45:21</th>\n",
       "      <td>1.079762e+09</td>\n",
       "      <td>20.3216</td>\n",
       "      <td>1</td>\n",
       "      <td>-991123.0</td>\n",
       "    </tr>\n",
       "    <tr>\n",
       "      <th>2004-03-20 02:45:59</th>\n",
       "      <td>1.079762e+09</td>\n",
       "      <td>20.3314</td>\n",
       "      <td>1</td>\n",
       "      <td>-991123.0</td>\n",
       "    </tr>\n",
       "    <tr>\n",
       "      <th>2004-03-20 02:46:25</th>\n",
       "      <td>1.079762e+09</td>\n",
       "      <td>20.3314</td>\n",
       "      <td>1</td>\n",
       "      <td>-991123.0</td>\n",
       "    </tr>\n",
       "    <tr>\n",
       "      <th>2004-03-20 02:46:59</th>\n",
       "      <td>1.079762e+09</td>\n",
       "      <td>20.3216</td>\n",
       "      <td>1</td>\n",
       "      <td>-991123.0</td>\n",
       "    </tr>\n",
       "    <tr>\n",
       "      <th>2004-03-20 02:47:20</th>\n",
       "      <td>1.079762e+09</td>\n",
       "      <td>20.3118</td>\n",
       "      <td>1</td>\n",
       "      <td>-991123.0</td>\n",
       "    </tr>\n",
       "    <tr>\n",
       "      <th>2004-03-20 02:48:02</th>\n",
       "      <td>1.079762e+09</td>\n",
       "      <td>20.3216</td>\n",
       "      <td>1</td>\n",
       "      <td>-991123.0</td>\n",
       "    </tr>\n",
       "    <tr>\n",
       "      <th>2004-03-20 10:40:21</th>\n",
       "      <td>1.079790e+09</td>\n",
       "      <td>25.2510</td>\n",
       "      <td>1</td>\n",
       "      <td>-993853.0</td>\n",
       "    </tr>\n",
       "    <tr>\n",
       "      <th>2004-03-20 10:41:33</th>\n",
       "      <td>1.079790e+09</td>\n",
       "      <td>25.2902</td>\n",
       "      <td>1</td>\n",
       "      <td>-993853.0</td>\n",
       "    </tr>\n",
       "    <tr>\n",
       "      <th>2004-03-20 10:42:00</th>\n",
       "      <td>1.079790e+09</td>\n",
       "      <td>25.3196</td>\n",
       "      <td>1</td>\n",
       "      <td>-993853.0</td>\n",
       "    </tr>\n",
       "    <tr>\n",
       "      <th>2004-03-20 10:42:29</th>\n",
       "      <td>1.079790e+09</td>\n",
       "      <td>25.3000</td>\n",
       "      <td>1</td>\n",
       "      <td>-993853.0</td>\n",
       "    </tr>\n",
       "    <tr>\n",
       "      <th>2004-03-20 10:43:05</th>\n",
       "      <td>1.079790e+09</td>\n",
       "      <td>25.3196</td>\n",
       "      <td>1</td>\n",
       "      <td>-993853.0</td>\n",
       "    </tr>\n",
       "    <tr>\n",
       "      <th>2004-03-20 10:43:33</th>\n",
       "      <td>1.079790e+09</td>\n",
       "      <td>25.3294</td>\n",
       "      <td>1</td>\n",
       "      <td>-993853.0</td>\n",
       "    </tr>\n",
       "    <tr>\n",
       "      <th>2004-03-20 10:43:52</th>\n",
       "      <td>1.079790e+09</td>\n",
       "      <td>25.3588</td>\n",
       "      <td>1</td>\n",
       "      <td>-993853.0</td>\n",
       "    </tr>\n",
       "    <tr>\n",
       "      <th>2004-03-20 10:44:21</th>\n",
       "      <td>1.079790e+09</td>\n",
       "      <td>25.3588</td>\n",
       "      <td>1</td>\n",
       "      <td>-993853.0</td>\n",
       "    </tr>\n",
       "    <tr>\n",
       "      <th>2004-03-20 10:45:52</th>\n",
       "      <td>1.079790e+09</td>\n",
       "      <td>25.4372</td>\n",
       "      <td>1</td>\n",
       "      <td>-993853.0</td>\n",
       "    </tr>\n",
       "    <tr>\n",
       "      <th>2004-03-20 10:46:51</th>\n",
       "      <td>1.079790e+09</td>\n",
       "      <td>25.4568</td>\n",
       "      <td>1</td>\n",
       "      <td>-993853.0</td>\n",
       "    </tr>\n",
       "    <tr>\n",
       "      <th>2004-03-20 10:47:22</th>\n",
       "      <td>1.079790e+09</td>\n",
       "      <td>25.4666</td>\n",
       "      <td>1</td>\n",
       "      <td>-993853.0</td>\n",
       "    </tr>\n",
       "    <tr>\n",
       "      <th>2004-03-20 10:47:56</th>\n",
       "      <td>1.079790e+09</td>\n",
       "      <td>25.4666</td>\n",
       "      <td>1</td>\n",
       "      <td>-993853.0</td>\n",
       "    </tr>\n",
       "    <tr>\n",
       "      <th>2004-03-20 10:48:25</th>\n",
       "      <td>1.079791e+09</td>\n",
       "      <td>25.4568</td>\n",
       "      <td>1</td>\n",
       "      <td>-993853.0</td>\n",
       "    </tr>\n",
       "    <tr>\n",
       "      <th>2004-03-20 10:49:55</th>\n",
       "      <td>1.079791e+09</td>\n",
       "      <td>25.4666</td>\n",
       "      <td>1</td>\n",
       "      <td>-993853.0</td>\n",
       "    </tr>\n",
       "    <tr>\n",
       "      <th>2004-03-20 10:50:31</th>\n",
       "      <td>1.079791e+09</td>\n",
       "      <td>25.4568</td>\n",
       "      <td>1</td>\n",
       "      <td>-993853.0</td>\n",
       "    </tr>\n",
       "    <tr>\n",
       "      <th>2004-03-20 10:51:02</th>\n",
       "      <td>1.079791e+09</td>\n",
       "      <td>25.4764</td>\n",
       "      <td>1</td>\n",
       "      <td>-993853.0</td>\n",
       "    </tr>\n",
       "    <tr>\n",
       "      <th>2004-03-20 10:51:36</th>\n",
       "      <td>1.079791e+09</td>\n",
       "      <td>25.4764</td>\n",
       "      <td>1</td>\n",
       "      <td>-993853.0</td>\n",
       "    </tr>\n",
       "    <tr>\n",
       "      <th>2004-03-20 10:52:03</th>\n",
       "      <td>1.079791e+09</td>\n",
       "      <td>25.4960</td>\n",
       "      <td>1</td>\n",
       "      <td>-993853.0</td>\n",
       "    </tr>\n",
       "    <tr>\n",
       "      <th>2004-03-20 10:52:51</th>\n",
       "      <td>1.079791e+09</td>\n",
       "      <td>25.6136</td>\n",
       "      <td>1</td>\n",
       "      <td>-993853.0</td>\n",
       "    </tr>\n",
       "    <tr>\n",
       "      <th>2004-03-20 10:53:36</th>\n",
       "      <td>1.079791e+09</td>\n",
       "      <td>25.6136</td>\n",
       "      <td>1</td>\n",
       "      <td>-993853.0</td>\n",
       "    </tr>\n",
       "  </tbody>\n",
       "</table>\n",
       "</div>"
      ],
      "text/plain": [
       "                          seconds  temperature  label     delay\n",
       "timestamp                                                      \n",
       "2004-03-20 02:36:55  1.079761e+09      20.3804      1 -991123.0\n",
       "2004-03-20 02:37:35  1.079761e+09      20.3902      1 -991123.0\n",
       "2004-03-20 02:38:23  1.079761e+09      20.3804      1 -991123.0\n",
       "2004-03-20 02:38:56  1.079761e+09      20.3804      1 -991123.0\n",
       "2004-03-20 02:39:51  1.079761e+09      20.3706      1 -991123.0\n",
       "2004-03-20 02:40:54  1.079761e+09      20.3608      1 -991123.0\n",
       "2004-03-20 02:41:24  1.079761e+09      20.3412      1 -991123.0\n",
       "2004-03-20 02:42:05  1.079761e+09      20.3412      1 -991123.0\n",
       "2004-03-20 02:42:29  1.079761e+09      20.3314      1 -991123.0\n",
       "2004-03-20 02:43:08  1.079761e+09      20.3608      1 -991123.0\n",
       "2004-03-20 02:43:24  1.079761e+09      20.3412      1 -991123.0\n",
       "2004-03-20 02:43:51  1.079761e+09      20.3412      1 -991123.0\n",
       "2004-03-20 02:44:20  1.079761e+09      20.3412      1 -991123.0\n",
       "2004-03-20 02:44:54  1.079761e+09      20.3314      1 -991123.0\n",
       "2004-03-20 02:45:21  1.079762e+09      20.3216      1 -991123.0\n",
       "2004-03-20 02:45:59  1.079762e+09      20.3314      1 -991123.0\n",
       "2004-03-20 02:46:25  1.079762e+09      20.3314      1 -991123.0\n",
       "2004-03-20 02:46:59  1.079762e+09      20.3216      1 -991123.0\n",
       "2004-03-20 02:47:20  1.079762e+09      20.3118      1 -991123.0\n",
       "2004-03-20 02:48:02  1.079762e+09      20.3216      1 -991123.0\n",
       "2004-03-20 10:40:21  1.079790e+09      25.2510      1 -993853.0\n",
       "2004-03-20 10:41:33  1.079790e+09      25.2902      1 -993853.0\n",
       "2004-03-20 10:42:00  1.079790e+09      25.3196      1 -993853.0\n",
       "2004-03-20 10:42:29  1.079790e+09      25.3000      1 -993853.0\n",
       "2004-03-20 10:43:05  1.079790e+09      25.3196      1 -993853.0\n",
       "2004-03-20 10:43:33  1.079790e+09      25.3294      1 -993853.0\n",
       "2004-03-20 10:43:52  1.079790e+09      25.3588      1 -993853.0\n",
       "2004-03-20 10:44:21  1.079790e+09      25.3588      1 -993853.0\n",
       "2004-03-20 10:45:52  1.079790e+09      25.4372      1 -993853.0\n",
       "2004-03-20 10:46:51  1.079790e+09      25.4568      1 -993853.0\n",
       "2004-03-20 10:47:22  1.079790e+09      25.4666      1 -993853.0\n",
       "2004-03-20 10:47:56  1.079790e+09      25.4666      1 -993853.0\n",
       "2004-03-20 10:48:25  1.079791e+09      25.4568      1 -993853.0\n",
       "2004-03-20 10:49:55  1.079791e+09      25.4666      1 -993853.0\n",
       "2004-03-20 10:50:31  1.079791e+09      25.4568      1 -993853.0\n",
       "2004-03-20 10:51:02  1.079791e+09      25.4764      1 -993853.0\n",
       "2004-03-20 10:51:36  1.079791e+09      25.4764      1 -993853.0\n",
       "2004-03-20 10:52:03  1.079791e+09      25.4960      1 -993853.0\n",
       "2004-03-20 10:52:51  1.079791e+09      25.6136      1 -993853.0\n",
       "2004-03-20 10:53:36  1.079791e+09      25.6136      1 -993853.0"
      ]
     },
     "execution_count": 25,
     "metadata": {},
     "output_type": "execute_result"
    }
   ],
   "source": [
    "train = train[train.delay>=0]\n",
    "test = test[test.delay>=0]"
   ]
  },
  {
   "cell_type": "code",
   "execution_count": 4,
   "metadata": {},
   "outputs": [
    {
     "data": {
      "image/png": "[encoded data removed]",
      "text/plain": [
       "<Figure size 432x288 with 1 Axes>"
      ]
     },
     "metadata": {
      "needs_background": "light"
     },
     "output_type": "display_data"
    }
   ],
   "source": [
    "plt.title(\"Line graph\")  \n",
    "plt.xlabel(\"X axis\")  \n",
    "plt.ylabel(\"Y axis\")  \n",
    "plt.plot(np.arange(len(train.delay)), train.delay, color =\"red\")  \n",
    "plt.plot(np.arange(len(test.delay)), test.delay, color =\"green\") \n",
    "plt.show()"
   ]
  },
  {
   "cell_type": "code",
   "execution_count": 5,
   "metadata": {},
   "outputs": [
    {
     "data": {
      "text/plain": [
       "Text(0.5, 1.0, 'Attribute: delay')"
      ]
     },
     "execution_count": 5,
     "metadata": {},
     "output_type": "execute_result"
    },
    {
     "data": {
      "image/png": "[encoded data removed]",
      "text/plain": [
       "<Figure size 432x288 with 1 Axes>"
      ]
     },
     "metadata": {
      "needs_background": "light"
     },
     "output_type": "display_data"
    }
   ],
   "source": [
    "train[\"delay\"].plot.hist(grid=True, bins=10, rwidth=0.9,\n",
    "                   color='#607c8e')\n",
    "plt.title(\"Attribute: delay\")"
   ]
  },
  {
   "cell_type": "code",
   "execution_count": 6,
   "metadata": {},
   "outputs": [
    {
     "data": {
      "image/png": "[encoded data removed]",
      "text/plain": [
       "<Figure size 432x288 with 1 Axes>"
      ]
     },
     "metadata": {
      "needs_background": "light"
     },
     "output_type": "display_data"
    }
   ],
   "source": [
    "plt.title(\"Line graph\")  \n",
    "plt.xlabel(\"X axis\")  \n",
    "plt.ylabel(\"Y axis\")  \n",
    "plt.plot(np.arange(len(train.label)), train.label, color =\"red\")  \n",
    "plt.plot(np.arange(len(test.label)), test.label, color =\"green\") \n",
    "plt.show()"
   ]
  },
  {
   "cell_type": "markdown",
   "metadata": {},
   "source": [
    "# general graphic\n"
   ]
  },
  {
   "cell_type": "code",
   "execution_count": 7,
   "metadata": {},
   "outputs": [
    {
     "data": {
      "image/png": "[encoded data removed]",
      "text/plain": [
       "<Figure size 432x288 with 1 Axes>"
      ]
     },
     "metadata": {
      "needs_background": "light"
     },
     "output_type": "display_data"
    }
   ],
   "source": [
    " ax = sns.boxplot(data=train, orient=\"h\", palette=\"Set2\")"
   ]
  },
  {
   "cell_type": "code",
   "execution_count": 8,
   "metadata": {},
   "outputs": [
    {
     "data": {
      "image/png": "[encoded data removed]",
      "text/plain": [
       "<Figure size 432x288 with 1 Axes>"
      ]
     },
     "metadata": {
      "needs_background": "light"
     },
     "output_type": "display_data"
    }
   ],
   "source": [
    "ax = sns.boxplot(data=train['temperature'], orient=\"h\", palette=\"Set2\")"
   ]
  },
  {
   "cell_type": "markdown",
   "metadata": {},
   "source": [
    "# Normalized Graphic "
   ]
  },
  {
   "cell_type": "code",
   "execution_count": 9,
   "metadata": {},
   "outputs": [],
   "source": [
    "from sklearn.preprocessing import StandardScaler"
   ]
  },
  {
   "cell_type": "code",
   "execution_count": 10,
   "metadata": {},
   "outputs": [
    {
     "data": {
      "image/png": "[encoded data removed]",
      "text/plain": [
       "<Figure size 432x288 with 1 Axes>"
      ]
     },
     "metadata": {
      "needs_background": "light"
     },
     "output_type": "display_data"
    }
   ],
   "source": [
    "scaler = StandardScaler().fit(train)\n",
    "norm_subset = pd.DataFrame(scaler.transform(train), columns = train.columns)\n",
    "ax = sns.boxplot(data=norm_subset, orient=\"h\", palette=\"Set2\")"
   ]
  },
  {
   "cell_type": "code",
   "execution_count": 11,
   "metadata": {},
   "outputs": [
    {
     "data": {
      "image/png": "[encoded data removed]",
      "text/plain": [
       "<Figure size 432x288 with 1 Axes>"
      ]
     },
     "metadata": {
      "needs_background": "light"
     },
     "output_type": "display_data"
    }
   ],
   "source": [
    "ax = sns.boxplot(data=train['temperature'], orient=\"h\", palette=\"Set2\")"
   ]
  },
  {
   "cell_type": "code",
   "execution_count": 12,
   "metadata": {},
   "outputs": [
    {
     "data": {
      "text/plain": [
       "Text(0.5, 1.0, 'Attribute: delay')"
      ]
     },
     "execution_count": 12,
     "metadata": {},
     "output_type": "execute_result"
    },
    {
     "data": {
      "image/png": "[encoded data removed]",
      "text/plain": [
       "<Figure size 432x288 with 1 Axes>"
      ]
     },
     "metadata": {
      "needs_background": "light"
     },
     "output_type": "display_data"
    }
   ],
   "source": [
    "train[\"delay\"].plot.hist(grid=True, bins=10, rwidth=0.9,\n",
    "                   color='#607c8e')\n",
    "plt.title(\"Attribute: delay\")"
   ]
  },
  {
   "cell_type": "code",
   "execution_count": 13,
   "metadata": {},
   "outputs": [
    {
     "data": {
      "text/plain": [
       "Text(0.5, 1.0, 'Attribute: delay')"
      ]
     },
     "execution_count": 13,
     "metadata": {},
     "output_type": "execute_result"
    },
    {
     "data": {
      "image/png": "[encoded data removed]",
      "text/plain": [
       "<Figure size 432x288 with 1 Axes>"
      ]
     },
     "metadata": {
      "needs_background": "light"
     },
     "output_type": "display_data"
    }
   ],
   "source": [
    "train[\"delay\"].plot.hist(grid=True, bins=10, rwidth=0.9,\n",
    "                   color='#607c8e')\n",
    "plt.title(\"Attribute: delay\")"
   ]
  },
  {
   "cell_type": "code",
   "execution_count": 14,
   "metadata": {},
   "outputs": [
    {
     "data": {
      "text/html": [
       "<div>\n",
       "<style scoped>\n",
       "    .dataframe tbody tr th:only-of-type {\n",
       "        vertical-align: middle;\n",
       "    }\n",
       "\n",
       "    .dataframe tbody tr th {\n",
       "        vertical-align: top;\n",
       "    }\n",
       "\n",
       "    .dataframe thead th {\n",
       "        text-align: right;\n",
       "    }\n",
       "</style>\n",
       "<table border=\"1\" class=\"dataframe\">\n",
       "  <thead>\n",
       "    <tr style=\"text-align: right;\">\n",
       "      <th></th>\n",
       "      <th>seconds</th>\n",
       "      <th>temperature</th>\n",
       "      <th>label</th>\n",
       "      <th>delay</th>\n",
       "    </tr>\n",
       "  </thead>\n",
       "  <tbody>\n",
       "    <tr>\n",
       "      <th>seconds</th>\n",
       "      <td>1.000000</td>\n",
       "      <td>0.294190</td>\n",
       "      <td>0.002978</td>\n",
       "      <td>0.007378</td>\n",
       "    </tr>\n",
       "    <tr>\n",
       "      <th>temperature</th>\n",
       "      <td>0.294190</td>\n",
       "      <td>1.000000</td>\n",
       "      <td>0.037876</td>\n",
       "      <td>-0.001676</td>\n",
       "    </tr>\n",
       "    <tr>\n",
       "      <th>label</th>\n",
       "      <td>0.002978</td>\n",
       "      <td>0.037876</td>\n",
       "      <td>1.000000</td>\n",
       "      <td>-0.253211</td>\n",
       "    </tr>\n",
       "    <tr>\n",
       "      <th>delay</th>\n",
       "      <td>0.007378</td>\n",
       "      <td>-0.001676</td>\n",
       "      <td>-0.253211</td>\n",
       "      <td>1.000000</td>\n",
       "    </tr>\n",
       "  </tbody>\n",
       "</table>\n",
       "</div>"
      ],
      "text/plain": [
       "              seconds  temperature     label     delay\n",
       "seconds      1.000000     0.294190  0.002978  0.007378\n",
       "temperature  0.294190     1.000000  0.037876 -0.001676\n",
       "label        0.002978     0.037876  1.000000 -0.253211\n",
       "delay        0.007378    -0.001676 -0.253211  1.000000"
      ]
     },
     "execution_count": 14,
     "metadata": {},
     "output_type": "execute_result"
    }
   ],
   "source": [
    "train.corr()"
   ]
  },
  {
   "cell_type": "code",
   "execution_count": 15,
   "metadata": {},
   "outputs": [
    {
     "data": {
      "image/png": "[encoded data removed]",
      "text/plain": [
       "<Figure size 432x288 with 2 Axes>"
      ]
     },
     "metadata": {
      "needs_background": "light"
     },
     "output_type": "display_data"
    }
   ],
   "source": [
    "corr = train.corr()\n",
    "ax = sns.heatmap(\n",
    "    corr, \n",
    "    vmin=-1, vmax=1, center=0,\n",
    "    cmap=sns.diverging_palette(20, 220, n=200),\n",
    "    square=True\n",
    ")\n",
    "ax.set_xticklabels(\n",
    "    ax.get_xticklabels(),\n",
    "    rotation=45,\n",
    "    horizontalalignment='right'\n",
    ");"
   ]
  },
  {
   "cell_type": "code",
   "execution_count": 16,
   "metadata": {},
   "outputs": [
    {
     "data": {
      "image/png": "[encoded data removed]",
      "text/plain": [
       "<Figure size 432x288 with 1 Axes>"
      ]
     },
     "metadata": {
      "needs_background": "light"
     },
     "output_type": "display_data"
    }
   ],
   "source": [
    "plt.title(\"Line graph\")  \n",
    "plt.xlabel(\"X axis\")  \n",
    "plt.ylabel(\"Y axis\")  \n",
    "plt.plot(np.arange(len(train.temperature)), train.temperature, color =\"purple\")  \n",
    "plt.show()"
   ]
  },
  {
   "cell_type": "code",
   "execution_count": 17,
   "metadata": {},
   "outputs": [
    {
     "data": {
      "image/png": "[encoded data removed]",
      "text/plain": [
       "<Figure size 432x288 with 1 Axes>"
      ]
     },
     "metadata": {
      "needs_background": "light"
     },
     "output_type": "display_data"
    }
   ],
   "source": [
    "plt.title(\"Line graph\")  \n",
    "plt.xlabel(\"X axis\")  \n",
    "plt.ylabel(\"Y axis\")  \n",
    "plt.plot(np.arange(len(test.temperature)), test.temperature, color =\"purple\")  \n",
    "plt.show()"
   ]
  },
  {
   "cell_type": "code",
   "execution_count": 18,
   "metadata": {},
   "outputs": [],
   "source": [
    "from sklearn.preprocessing import RobustScaler"
   ]
  },
  {
   "cell_type": "code",
   "execution_count": 19,
   "metadata": {},
   "outputs": [],
   "source": [
    "f_columns = ['delay','temperature']\n",
    "\n",
    "f_transformer = RobustScaler()\n",
    "lb_transformer = RobustScaler()\n",
    "\n",
    "f_transformer = f_transformer.fit(train[f_columns].to_numpy())\n",
    "train.loc[:,f_columns] = f_transformer.transform(train[f_columns].to_numpy())\n",
    "\n",
    "lb_transformer = lb_transformer.fit(train[['label']])\n",
    "train['label'] = lb_transformer.transform(train[['label']])"
   ]
  },
  {
   "cell_type": "code",
   "execution_count": 20,
   "metadata": {},
   "outputs": [
    {
     "data": {
      "image/png": "[encoded data removed]",
      "text/plain": [
       "<Figure size 432x288 with 1 Axes>"
      ]
     },
     "metadata": {
      "needs_background": "light"
     },
     "output_type": "display_data"
    }
   ],
   "source": [
    "plt.title(\"Line graph\")  \n",
    "plt.xlabel(\"X axis\")  \n",
    "plt.ylabel(\"Y axis\")  \n",
    "plt.plot(np.arange(len(train.delay)), train.delay, color =\"red\")  \n",
    "plt.plot(np.arange(len(test.delay)), test.delay, color =\"green\") \n",
    "plt.show()"
   ]
  },
  {
   "cell_type": "code",
   "execution_count": 21,
   "metadata": {},
   "outputs": [
    {
     "data": {
      "text/html": [
       "<div>\n",
       "<style scoped>\n",
       "    .dataframe tbody tr th:only-of-type {\n",
       "        vertical-align: middle;\n",
       "    }\n",
       "\n",
       "    .dataframe tbody tr th {\n",
       "        vertical-align: top;\n",
       "    }\n",
       "\n",
       "    .dataframe thead th {\n",
       "        text-align: right;\n",
       "    }\n",
       "</style>\n",
       "<table border=\"1\" class=\"dataframe\">\n",
       "  <thead>\n",
       "    <tr style=\"text-align: right;\">\n",
       "      <th></th>\n",
       "      <th>seconds</th>\n",
       "      <th>temperature</th>\n",
       "      <th>label</th>\n",
       "      <th>delay</th>\n",
       "    </tr>\n",
       "    <tr>\n",
       "      <th>timestamp</th>\n",
       "      <th></th>\n",
       "      <th></th>\n",
       "      <th></th>\n",
       "      <th></th>\n",
       "    </tr>\n",
       "  </thead>\n",
       "  <tbody>\n",
       "    <tr>\n",
       "      <th>2004-03-06 08:56:32</th>\n",
       "      <td>1.078574e+09</td>\n",
       "      <td>-0.074257</td>\n",
       "      <td>1.0</td>\n",
       "      <td>-1127426.0</td>\n",
       "    </tr>\n",
       "    <tr>\n",
       "      <th>2004-03-06 08:57:37</th>\n",
       "      <td>1.078574e+09</td>\n",
       "      <td>-0.059406</td>\n",
       "      <td>1.0</td>\n",
       "      <td>-1127426.0</td>\n",
       "    </tr>\n",
       "    <tr>\n",
       "      <th>2004-03-06 08:59:02</th>\n",
       "      <td>1.078574e+09</td>\n",
       "      <td>-0.039604</td>\n",
       "      <td>1.0</td>\n",
       "      <td>-1127426.0</td>\n",
       "    </tr>\n",
       "    <tr>\n",
       "      <th>2004-03-06 08:59:38</th>\n",
       "      <td>1.078574e+09</td>\n",
       "      <td>-0.019802</td>\n",
       "      <td>1.0</td>\n",
       "      <td>-1127426.0</td>\n",
       "    </tr>\n",
       "    <tr>\n",
       "      <th>2004-03-06 09:00:08</th>\n",
       "      <td>1.078574e+09</td>\n",
       "      <td>-0.024752</td>\n",
       "      <td>1.0</td>\n",
       "      <td>-1127426.0</td>\n",
       "    </tr>\n",
       "    <tr>\n",
       "      <th>...</th>\n",
       "      <td>...</td>\n",
       "      <td>...</td>\n",
       "      <td>...</td>\n",
       "      <td>...</td>\n",
       "    </tr>\n",
       "    <tr>\n",
       "      <th>2004-03-12 09:04:38</th>\n",
       "      <td>1.079093e+09</td>\n",
       "      <td>0.178218</td>\n",
       "      <td>1.0</td>\n",
       "      <td>2341.0</td>\n",
       "    </tr>\n",
       "    <tr>\n",
       "      <th>2004-03-12 09:05:10</th>\n",
       "      <td>1.079093e+09</td>\n",
       "      <td>0.148515</td>\n",
       "      <td>1.0</td>\n",
       "      <td>2341.0</td>\n",
       "    </tr>\n",
       "    <tr>\n",
       "      <th>2004-03-12 09:05:34</th>\n",
       "      <td>1.079093e+09</td>\n",
       "      <td>0.148515</td>\n",
       "      <td>1.0</td>\n",
       "      <td>2341.0</td>\n",
       "    </tr>\n",
       "    <tr>\n",
       "      <th>2004-03-12 09:06:37</th>\n",
       "      <td>1.079093e+09</td>\n",
       "      <td>0.158416</td>\n",
       "      <td>1.0</td>\n",
       "      <td>2341.0</td>\n",
       "    </tr>\n",
       "    <tr>\n",
       "      <th>2004-03-12 09:07:00</th>\n",
       "      <td>1.079093e+09</td>\n",
       "      <td>0.178218</td>\n",
       "      <td>1.0</td>\n",
       "      <td>2341.0</td>\n",
       "    </tr>\n",
       "  </tbody>\n",
       "</table>\n",
       "<p>300 rows × 4 columns</p>\n",
       "</div>"
      ],
      "text/plain": [
       "                          seconds  temperature  label      delay\n",
       "timestamp                                                       \n",
       "2004-03-06 08:56:32  1.078574e+09    -0.074257    1.0 -1127426.0\n",
       "2004-03-06 08:57:37  1.078574e+09    -0.059406    1.0 -1127426.0\n",
       "2004-03-06 08:59:02  1.078574e+09    -0.039604    1.0 -1127426.0\n",
       "2004-03-06 08:59:38  1.078574e+09    -0.019802    1.0 -1127426.0\n",
       "2004-03-06 09:00:08  1.078574e+09    -0.024752    1.0 -1127426.0\n",
       "...                           ...          ...    ...        ...\n",
       "2004-03-12 09:04:38  1.079093e+09     0.178218    1.0     2341.0\n",
       "2004-03-12 09:05:10  1.079093e+09     0.148515    1.0     2341.0\n",
       "2004-03-12 09:05:34  1.079093e+09     0.148515    1.0     2341.0\n",
       "2004-03-12 09:06:37  1.079093e+09     0.158416    1.0     2341.0\n",
       "2004-03-12 09:07:00  1.079093e+09     0.178218    1.0     2341.0\n",
       "\n",
       "[300 rows x 4 columns]"
      ]
     },
     "execution_count": 21,
     "metadata": {},
     "output_type": "execute_result"
    }
   ],
   "source": [
    "train[train.label==1]"
   ]
  },
  {
   "cell_type": "code",
   "execution_count": 22,
   "metadata": {},
   "outputs": [
    {
     "ename": "IndexError",
     "evalue": "single positional indexer is out-of-bounds",
     "output_type": "error",
     "traceback": [
      "\u001b[1;31m---------------------------------------------------------------------------\u001b[0m",
      "\u001b[1;31mIndexError\u001b[0m                                Traceback (most recent call last)",
      "\u001b[1;32m<ipython-input-22-259a35c8554b>\u001b[0m in \u001b[0;36m<module>\u001b[1;34m\u001b[0m\n\u001b[1;32m----> 1\u001b[1;33m \u001b[0mnp\u001b[0m\u001b[1;33m.\u001b[0m\u001b[0margsort\u001b[0m\u001b[1;33m(\u001b[0m\u001b[0mtrain\u001b[0m\u001b[1;33m[\u001b[0m\u001b[0mtrain\u001b[0m\u001b[1;33m.\u001b[0m\u001b[0mlabel\u001b[0m\u001b[1;33m==\u001b[0m\u001b[1;36m1\u001b[0m\u001b[1;33m]\u001b[0m\u001b[1;33m.\u001b[0m\u001b[0miloc\u001b[0m\u001b[1;33m[\u001b[0m\u001b[1;33m:\u001b[0m\u001b[1;33m,\u001b[0m\u001b[1;36m8\u001b[0m\u001b[1;33m]\u001b[0m\u001b[1;33m)\u001b[0m\u001b[1;33m\u001b[0m\u001b[1;33m\u001b[0m\u001b[0m\n\u001b[0m",
      "\u001b[1;32m~\\anaconda3\\lib\\site-packages\\pandas\\core\\indexing.py\u001b[0m in \u001b[0;36m__getitem__\u001b[1;34m(self, key)\u001b[0m\n\u001b[0;32m    871\u001b[0m                     \u001b[1;31m# AttributeError for IntervalTree get_value\u001b[0m\u001b[1;33m\u001b[0m\u001b[1;33m\u001b[0m\u001b[1;33m\u001b[0m\u001b[0m\n\u001b[0;32m    872\u001b[0m                     \u001b[1;32mpass\u001b[0m\u001b[1;33m\u001b[0m\u001b[1;33m\u001b[0m\u001b[0m\n\u001b[1;32m--> 873\u001b[1;33m             \u001b[1;32mreturn\u001b[0m \u001b[0mself\u001b[0m\u001b[1;33m.\u001b[0m\u001b[0m_getitem_tuple\u001b[0m\u001b[1;33m(\u001b[0m\u001b[0mkey\u001b[0m\u001b[1;33m)\u001b[0m\u001b[1;33m\u001b[0m\u001b[1;33m\u001b[0m\u001b[0m\n\u001b[0m\u001b[0;32m    874\u001b[0m         \u001b[1;32melse\u001b[0m\u001b[1;33m:\u001b[0m\u001b[1;33m\u001b[0m\u001b[1;33m\u001b[0m\u001b[0m\n\u001b[0;32m    875\u001b[0m             \u001b[1;31m# we by definition only have the 0th axis\u001b[0m\u001b[1;33m\u001b[0m\u001b[1;33m\u001b[0m\u001b[1;33m\u001b[0m\u001b[0m\n",
      "\u001b[1;32m~\\anaconda3\\lib\\site-packages\\pandas\\core\\indexing.py\u001b[0m in \u001b[0;36m_getitem_tuple\u001b[1;34m(self, tup)\u001b[0m\n\u001b[0;32m   1441\u001b[0m     \u001b[1;32mdef\u001b[0m \u001b[0m_getitem_tuple\u001b[0m\u001b[1;33m(\u001b[0m\u001b[0mself\u001b[0m\u001b[1;33m,\u001b[0m \u001b[0mtup\u001b[0m\u001b[1;33m:\u001b[0m \u001b[0mTuple\u001b[0m\u001b[1;33m)\u001b[0m\u001b[1;33m:\u001b[0m\u001b[1;33m\u001b[0m\u001b[1;33m\u001b[0m\u001b[0m\n\u001b[0;32m   1442\u001b[0m \u001b[1;33m\u001b[0m\u001b[0m\n\u001b[1;32m-> 1443\u001b[1;33m         \u001b[0mself\u001b[0m\u001b[1;33m.\u001b[0m\u001b[0m_has_valid_tuple\u001b[0m\u001b[1;33m(\u001b[0m\u001b[0mtup\u001b[0m\u001b[1;33m)\u001b[0m\u001b[1;33m\u001b[0m\u001b[1;33m\u001b[0m\u001b[0m\n\u001b[0m\u001b[0;32m   1444\u001b[0m         \u001b[1;32mtry\u001b[0m\u001b[1;33m:\u001b[0m\u001b[1;33m\u001b[0m\u001b[1;33m\u001b[0m\u001b[0m\n\u001b[0;32m   1445\u001b[0m             \u001b[1;32mreturn\u001b[0m \u001b[0mself\u001b[0m\u001b[1;33m.\u001b[0m\u001b[0m_getitem_lowerdim\u001b[0m\u001b[1;33m(\u001b[0m\u001b[0mtup\u001b[0m\u001b[1;33m)\u001b[0m\u001b[1;33m\u001b[0m\u001b[1;33m\u001b[0m\u001b[0m\n",
      "\u001b[1;32m~\\anaconda3\\lib\\site-packages\\pandas\\core\\indexing.py\u001b[0m in \u001b[0;36m_has_valid_tuple\u001b[1;34m(self, key)\u001b[0m\n\u001b[0;32m    700\u001b[0m                 \u001b[1;32mraise\u001b[0m \u001b[0mIndexingError\u001b[0m\u001b[1;33m(\u001b[0m\u001b[1;34m\"Too many indexers\"\u001b[0m\u001b[1;33m)\u001b[0m\u001b[1;33m\u001b[0m\u001b[1;33m\u001b[0m\u001b[0m\n\u001b[0;32m    701\u001b[0m             \u001b[1;32mtry\u001b[0m\u001b[1;33m:\u001b[0m\u001b[1;33m\u001b[0m\u001b[1;33m\u001b[0m\u001b[0m\n\u001b[1;32m--> 702\u001b[1;33m                 \u001b[0mself\u001b[0m\u001b[1;33m.\u001b[0m\u001b[0m_validate_key\u001b[0m\u001b[1;33m(\u001b[0m\u001b[0mk\u001b[0m\u001b[1;33m,\u001b[0m \u001b[0mi\u001b[0m\u001b[1;33m)\u001b[0m\u001b[1;33m\u001b[0m\u001b[1;33m\u001b[0m\u001b[0m\n\u001b[0m\u001b[0;32m    703\u001b[0m             \u001b[1;32mexcept\u001b[0m \u001b[0mValueError\u001b[0m \u001b[1;32mas\u001b[0m \u001b[0merr\u001b[0m\u001b[1;33m:\u001b[0m\u001b[1;33m\u001b[0m\u001b[1;33m\u001b[0m\u001b[0m\n\u001b[0;32m    704\u001b[0m                 raise ValueError(\n",
      "\u001b[1;32m~\\anaconda3\\lib\\site-packages\\pandas\\core\\indexing.py\u001b[0m in \u001b[0;36m_validate_key\u001b[1;34m(self, key, axis)\u001b[0m\n\u001b[0;32m   1350\u001b[0m             \u001b[1;32mreturn\u001b[0m\u001b[1;33m\u001b[0m\u001b[1;33m\u001b[0m\u001b[0m\n\u001b[0;32m   1351\u001b[0m         \u001b[1;32melif\u001b[0m \u001b[0mis_integer\u001b[0m\u001b[1;33m(\u001b[0m\u001b[0mkey\u001b[0m\u001b[1;33m)\u001b[0m\u001b[1;33m:\u001b[0m\u001b[1;33m\u001b[0m\u001b[1;33m\u001b[0m\u001b[0m\n\u001b[1;32m-> 1352\u001b[1;33m             \u001b[0mself\u001b[0m\u001b[1;33m.\u001b[0m\u001b[0m_validate_integer\u001b[0m\u001b[1;33m(\u001b[0m\u001b[0mkey\u001b[0m\u001b[1;33m,\u001b[0m \u001b[0maxis\u001b[0m\u001b[1;33m)\u001b[0m\u001b[1;33m\u001b[0m\u001b[1;33m\u001b[0m\u001b[0m\n\u001b[0m\u001b[0;32m   1353\u001b[0m         \u001b[1;32melif\u001b[0m \u001b[0misinstance\u001b[0m\u001b[1;33m(\u001b[0m\u001b[0mkey\u001b[0m\u001b[1;33m,\u001b[0m \u001b[0mtuple\u001b[0m\u001b[1;33m)\u001b[0m\u001b[1;33m:\u001b[0m\u001b[1;33m\u001b[0m\u001b[1;33m\u001b[0m\u001b[0m\n\u001b[0;32m   1354\u001b[0m             \u001b[1;31m# a tuple should already have been caught by this point\u001b[0m\u001b[1;33m\u001b[0m\u001b[1;33m\u001b[0m\u001b[1;33m\u001b[0m\u001b[0m\n",
      "\u001b[1;32m~\\anaconda3\\lib\\site-packages\\pandas\\core\\indexing.py\u001b[0m in \u001b[0;36m_validate_integer\u001b[1;34m(self, key, axis)\u001b[0m\n\u001b[0;32m   1435\u001b[0m         \u001b[0mlen_axis\u001b[0m \u001b[1;33m=\u001b[0m \u001b[0mlen\u001b[0m\u001b[1;33m(\u001b[0m\u001b[0mself\u001b[0m\u001b[1;33m.\u001b[0m\u001b[0mobj\u001b[0m\u001b[1;33m.\u001b[0m\u001b[0m_get_axis\u001b[0m\u001b[1;33m(\u001b[0m\u001b[0maxis\u001b[0m\u001b[1;33m)\u001b[0m\u001b[1;33m)\u001b[0m\u001b[1;33m\u001b[0m\u001b[1;33m\u001b[0m\u001b[0m\n\u001b[0;32m   1436\u001b[0m         \u001b[1;32mif\u001b[0m \u001b[0mkey\u001b[0m \u001b[1;33m>=\u001b[0m \u001b[0mlen_axis\u001b[0m \u001b[1;32mor\u001b[0m \u001b[0mkey\u001b[0m \u001b[1;33m<\u001b[0m \u001b[1;33m-\u001b[0m\u001b[0mlen_axis\u001b[0m\u001b[1;33m:\u001b[0m\u001b[1;33m\u001b[0m\u001b[1;33m\u001b[0m\u001b[0m\n\u001b[1;32m-> 1437\u001b[1;33m             \u001b[1;32mraise\u001b[0m \u001b[0mIndexError\u001b[0m\u001b[1;33m(\u001b[0m\u001b[1;34m\"single positional indexer is out-of-bounds\"\u001b[0m\u001b[1;33m)\u001b[0m\u001b[1;33m\u001b[0m\u001b[1;33m\u001b[0m\u001b[0m\n\u001b[0m\u001b[0;32m   1438\u001b[0m \u001b[1;33m\u001b[0m\u001b[0m\n\u001b[0;32m   1439\u001b[0m     \u001b[1;31m# -------------------------------------------------------------------\u001b[0m\u001b[1;33m\u001b[0m\u001b[1;33m\u001b[0m\u001b[1;33m\u001b[0m\u001b[0m\n",
      "\u001b[1;31mIndexError\u001b[0m: single positional indexer is out-of-bounds"
     ]
    }
   ],
   "source": [
    "np.argsort(train[train.label==1].iloc[:,8])"
   ]
  },
  {
   "cell_type": "code",
   "execution_count": null,
   "metadata": {},
   "outputs": [],
   "source": [
    "train[train.label==1].iloc[0,8]"
   ]
  },
  {
   "cell_type": "code",
   "execution_count": null,
   "metadata": {},
   "outputs": [],
   "source": []
  }
 ],
 "metadata": {
  "kernelspec": {
   "display_name": "Python 3",
   "language": "python",
   "name": "python3"
  },
  "language_info": {
   "codemirror_mode": {
    "name": "ipython",
    "version": 3
   },
   "file_extension": ".py",
   "mimetype": "text/x-python",
   "name": "python",
   "nbconvert_exporter": "python",
   "pygments_lexer": "ipython3",
   "version": "3.8.5"
  }
 },
 "nbformat": 4,
 "nbformat_minor": 4
}
