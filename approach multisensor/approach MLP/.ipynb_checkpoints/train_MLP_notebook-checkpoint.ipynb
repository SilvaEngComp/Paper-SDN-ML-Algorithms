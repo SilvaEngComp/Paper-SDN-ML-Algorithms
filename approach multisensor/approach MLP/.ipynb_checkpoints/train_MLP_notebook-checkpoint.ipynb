{
 "cells": [
  {
   "cell_type": "code",
   "execution_count": 1,
   "metadata": {},
   "outputs": [],
   "source": [
    "import os\n",
    "import tensorflow as tf\n",
    "from tensorflow import keras\n",
    "\n",
    "import pandas as pd\n",
    "import numpy as np\n",
    "import matplotlib.pyplot as plt\n",
    "from sklearn.preprocessing import StandardScaler\n",
    "from sklearn.metrics import mean_squared_error\n",
    "from timeit import default_timer as timer\n",
    "from IPython.display import clear_output"
   ]
  },
  {
   "cell_type": "code",
   "execution_count": 2,
   "metadata": {},
   "outputs": [],
   "source": [
    "\n",
    "os.environ[\"TF_CPP_MIN_LOG_LEVEL\"] = \"2\""
   ]
  },
  {
   "cell_type": "code",
   "execution_count": 3,
   "metadata": {},
   "outputs": [],
   "source": [
    "def create_dataset(X, y, time_steps=1):\n",
    "    Xs, ys = [], []    \n",
    "    for i in range(len(X) - time_steps):\n",
    "        clear_output(wait=True)\n",
    "        print('modeling to keras ',round((i/(len(X) - time_steps))*100,2), ('%'), end='')\n",
    "        print(' ', round(timer() - start), ' seconds')\n",
    "        v = X.iloc[i: (i+time_steps), 2:4].to_numpy()\n",
    "        Xs.append(v)\n",
    "        ys.append(y.iloc[i+time_steps])\n",
    "    return np.array(Xs), np.array(ys)"
   ]
  },
  {
   "cell_type": "code",
   "execution_count": 4,
   "metadata": {},
   "outputs": [
    {
     "name": "stdout",
     "output_type": "stream",
     "text": [
      "loading dataset...\n",
      "load duration:  0\n"
     ]
    }
   ],
   "source": [
    "start = timer()\n",
    "#carregando datasets\n",
    "print('loading dataset...')\n",
    "train = pd.read_csv('../datasets/com_concept_drift/sdn_train_unormalized.csv')\n",
    "test = pd.read_csv('../datasets/com_concept_drift/sdn_test_unormalized.csv')\n",
    "\n",
    "train = train[train.delay>=0]\n",
    "test = test[test.delay>=0]\n",
    "print('load duration: ', round(timer() - start))"
   ]
  },
  {
   "cell_type": "code",
   "execution_count": null,
   "metadata": {},
   "outputs": [],
   "source": []
  },
  {
   "cell_type": "code",
   "execution_count": 5,
   "metadata": {},
   "outputs": [
    {
     "name": "stdout",
     "output_type": "stream",
     "text": [
      "modeling to keras  100.0 %  649  seconds\n",
      "2D to 3D duration:  649\n"
     ]
    }
   ],
   "source": [
    "start = timer()\n",
    "print('creating window')\n",
    "TIME_STEPS = 1\n",
    "X_train,Y_train = create_dataset(train, train.delay, time_steps=TIME_STEPS)\n",
    "X_test,Y_test = create_dataset(test, test.delay, time_steps=TIME_STEPS)\n",
    "\n",
    "print('2D to 3D duration: ', round(timer() - start))"
   ]
  },
  {
   "cell_type": "markdown",
   "metadata": {},
   "source": [
    "# setting LSTM"
   ]
  },
  {
   "cell_type": "code",
   "execution_count": 6,
   "metadata": {},
   "outputs": [
    {
     "name": "stdout",
     "output_type": "stream",
     "text": [
      "Init Train\n"
     ]
    }
   ],
   "source": [
    "#configurando rede para treinamento\n",
    "print('Init Train')\n",
    "model = keras.Sequential()\n",
    "model.add(tf.keras.layers.Dense(activation=\"relu\", input_dim=2, units=10, kernel_initializer='uniform'))\n",
    "model.add(tf.keras.layers.Dense(activation=\"sigmoid\", units=128, kernel_initializer='uniform'))\n",
    "model.add(tf.keras.layers.Dense(activation=\"sigmoid\", units=128, kernel_initializer='uniform'))\n",
    "model.add(tf.keras.layers.Dense(activation=\"sigmoid\", units=128, kernel_initializer='uniform'))\n",
    "model.add(keras.layers.Dropout(rate=0.2))\n",
    "model.add(keras.layers.Dense(units=1))"
   ]
  },
  {
   "cell_type": "markdown",
   "metadata": {},
   "source": [
    "# compiling"
   ]
  },
  {
   "cell_type": "code",
   "execution_count": 7,
   "metadata": {},
   "outputs": [],
   "source": [
    "loss =\"mse\"\n",
    "optim = tf.keras.optimizers.Adam(\n",
    "    learning_rate=0.0001)\n",
    "metrics=[\"accuracy\"]\n",
    "\n",
    "model.compile(loss=loss, optimizer=optim, \n",
    "             metrics=metrics\n",
    "             )"
   ]
  },
  {
   "cell_type": "markdown",
   "metadata": {},
   "source": [
    "# training "
   ]
  },
  {
   "cell_type": "code",
   "execution_count": 8,
   "metadata": {},
   "outputs": [
    {
     "name": "stdout",
     "output_type": "stream",
     "text": [
      "Init Train\n",
      "Epoch 1/100\n",
      "WARNING:tensorflow:Model was constructed with shape (None, 2) for input KerasTensor(type_spec=TensorSpec(shape=(None, 2), dtype=tf.float32, name='dense_input'), name='dense_input', description=\"created by layer 'dense_input'\"), but it was called on an input with incompatible shape (None, 1, 2).\n",
      "WARNING:tensorflow:Model was constructed with shape (None, 2) for input KerasTensor(type_spec=TensorSpec(shape=(None, 2), dtype=tf.float32, name='dense_input'), name='dense_input', description=\"created by layer 'dense_input'\"), but it was called on an input with incompatible shape (None, 1, 2).\n",
      "2498/2498 [==============================] - ETA: 0s - loss: 14795.5684 - accuracy: 0.5882WARNING:tensorflow:Model was constructed with shape (None, 2) for input KerasTensor(type_spec=TensorSpec(shape=(None, 2), dtype=tf.float32, name='dense_input'), name='dense_input', description=\"created by layer 'dense_input'\"), but it was called on an input with incompatible shape (None, 1, 2).\n",
      "2498/2498 [==============================] - 12s 4ms/step - loss: 14795.5684 - accuracy: 0.5882 - val_loss: 18564.0664 - val_accuracy: 0.0000e+00\n",
      "Epoch 2/100\n",
      "2498/2498 [==============================] - 9s 3ms/step - loss: 14749.7256 - accuracy: 0.0000e+00 - val_loss: 18550.8418 - val_accuracy: 0.0000e+00\n",
      "Epoch 3/100\n",
      "2498/2498 [==============================] - 8s 3ms/step - loss: 14728.9863 - accuracy: 0.0000e+00 - val_loss: 18544.7227 - val_accuracy: 0.0000e+00\n",
      "Epoch 4/100\n",
      "2498/2498 [==============================] - 8s 3ms/step - loss: 14716.1250 - accuracy: 0.0000e+00 - val_loss: 18542.2363 - val_accuracy: 0.0000e+00\n",
      "Epoch 5/100\n",
      "2498/2498 [==============================] - 8s 3ms/step - loss: 14707.0322 - accuracy: 0.0000e+00 - val_loss: 18541.7949 - val_accuracy: 0.0000e+00\n",
      "Epoch 6/100\n",
      "2498/2498 [==============================] - 9s 3ms/step - loss: 14699.2949 - accuracy: 0.0000e+00 - val_loss: 18542.8242 - val_accuracy: 0.0000e+00\n",
      "Epoch 7/100\n",
      "2498/2498 [==============================] - 9s 3ms/step - loss: 14696.9150 - accuracy: 0.0000e+00 - val_loss: 18544.3926 - val_accuracy: 0.0000e+00\n",
      "Epoch 8/100\n",
      "2498/2498 [==============================] - 8s 3ms/step - loss: 14695.3145 - accuracy: 0.0000e+00 - val_loss: 18546.1953 - val_accuracy: 0.0000e+00\n",
      "Epoch 9/100\n",
      "2498/2498 [==============================] - 8s 3ms/step - loss: 14736.2646 - accuracy: 0.0000e+00 - val_loss: 18547.4844 - val_accuracy: 0.0000e+00\n",
      "Epoch 10/100\n",
      "2498/2498 [==============================] - 8s 3ms/step - loss: 14697.6777 - accuracy: 0.0000e+00 - val_loss: 18551.0156 - val_accuracy: 0.0000e+00\n",
      "Epoch 11/100\n",
      "2498/2498 [==============================] - 9s 4ms/step - loss: 14696.0430 - accuracy: 0.0000e+00 - val_loss: 18554.5840 - val_accuracy: 0.0000e+00\n",
      "Epoch 12/100\n",
      "2498/2498 [==============================] - 8s 3ms/step - loss: 14693.3945 - accuracy: 0.0000e+00 - val_loss: 18558.3105 - val_accuracy: 0.0000e+00\n",
      "Epoch 13/100\n",
      "2498/2498 [==============================] - 9s 3ms/step - loss: 14694.4912 - accuracy: 0.0000e+00 - val_loss: 18562.0957 - val_accuracy: 0.0000e+00\n",
      "Epoch 14/100\n",
      "2498/2498 [==============================] - 9s 3ms/step - loss: 14691.8271 - accuracy: 0.0000e+00 - val_loss: 18566.0605 - val_accuracy: 0.0000e+00\n",
      "Epoch 15/100\n",
      "2498/2498 [==============================] - 8s 3ms/step - loss: 14687.2480 - accuracy: 0.0000e+00 - val_loss: 18570.3809 - val_accuracy: 0.0000e+00\n",
      "Epoch 16/100\n",
      "2498/2498 [==============================] - 8s 3ms/step - loss: 14685.3906 - accuracy: 0.0000e+00 - val_loss: 18574.8262 - val_accuracy: 0.0000e+00\n",
      "Epoch 17/100\n",
      "2498/2498 [==============================] - 10s 4ms/step - loss: 14685.5967 - accuracy: 0.0000e+00 - val_loss: 18579.3574 - val_accuracy: 0.0000e+00\n",
      "Epoch 18/100\n",
      "2498/2498 [==============================] - 9s 4ms/step - loss: 14683.6221 - accuracy: 0.0000e+00 - val_loss: 18584.0918 - val_accuracy: 0.0000e+00\n",
      "Epoch 19/100\n",
      "2498/2498 [==============================] - 9s 4ms/step - loss: 14680.4551 - accuracy: 0.0000e+00 - val_loss: 18589.1836 - val_accuracy: 0.0000e+00\n",
      "Epoch 20/100\n",
      "2498/2498 [==============================] - 9s 4ms/step - loss: 14678.1885 - accuracy: 0.0000e+00 - val_loss: 18594.4531 - val_accuracy: 0.0000e+00\n",
      "Epoch 21/100\n",
      "2498/2498 [==============================] - 9s 4ms/step - loss: 14673.9043 - accuracy: 0.0000e+00 - val_loss: 18600.0020 - val_accuracy: 0.0000e+00\n",
      "Epoch 22/100\n",
      "2498/2498 [==============================] - 10s 4ms/step - loss: 14672.6465 - accuracy: 0.0000e+00 - val_loss: 18605.6992 - val_accuracy: 0.0000e+00\n",
      "Epoch 23/100\n",
      "2498/2498 [==============================] - 9s 4ms/step - loss: 14668.3828 - accuracy: 0.0000e+00 - val_loss: 18611.6504 - val_accuracy: 0.0000e+00\n",
      "Epoch 24/100\n",
      "2498/2498 [==============================] - 10s 4ms/step - loss: 14663.0576 - accuracy: 0.0000e+00 - val_loss: 18617.9238 - val_accuracy: 0.0000e+00\n",
      "Epoch 25/100\n",
      "2498/2498 [==============================] - 9s 4ms/step - loss: 14660.0830 - accuracy: 0.0000e+00 - val_loss: 18624.5078 - val_accuracy: 0.0000e+00\n",
      "Epoch 26/100\n",
      "2498/2498 [==============================] - 9s 4ms/step - loss: 14657.0801 - accuracy: 2.0024e-05 - val_loss: 18631.0879 - val_accuracy: 0.0000e+00\n",
      "Epoch 27/100\n",
      "2498/2498 [==============================] - 9s 4ms/step - loss: 14650.0908 - accuracy: 1.0012e-04 - val_loss: 18638.0566 - val_accuracy: 0.0000e+00\n",
      "Epoch 28/100\n",
      "2498/2498 [==============================] - 9s 3ms/step - loss: 14645.3535 - accuracy: 2.0024e-04 - val_loss: 18645.0566 - val_accuracy: 0.0000e+00\n",
      "Epoch 29/100\n",
      "2498/2498 [==============================] - 9s 4ms/step - loss: 14640.0967 - accuracy: 8.8104e-04 - val_loss: 18652.2188 - val_accuracy: 0.0000e+00\n",
      "Epoch 30/100\n",
      "2498/2498 [==============================] - 9s 3ms/step - loss: 14634.2051 - accuracy: 0.0021 - val_loss: 18659.5781 - val_accuracy: 0.0000e+00\n",
      "Epoch 31/100\n",
      "2498/2498 [==============================] - 9s 4ms/step - loss: 14631.1562 - accuracy: 0.0032 - val_loss: 18666.7988 - val_accuracy: 0.0000e+00\n",
      "Epoch 32/100\n",
      "2498/2498 [==============================] - 9s 4ms/step - loss: 14624.1953 - accuracy: 0.0065 - val_loss: 18674.3848 - val_accuracy: 0.0000e+00\n",
      "Epoch 33/100\n",
      "2498/2498 [==============================] - 9s 4ms/step - loss: 14618.9502 - accuracy: 0.0102 - val_loss: 18681.9082 - val_accuracy: 0.0000e+00\n",
      "Epoch 34/100\n",
      "2498/2498 [==============================] - 9s 4ms/step - loss: 14617.3525 - accuracy: 0.0158 - val_loss: 18689.3203 - val_accuracy: 0.0000e+00\n",
      "Epoch 35/100\n",
      "2498/2498 [==============================] - 9s 3ms/step - loss: 14611.8672 - accuracy: 0.0210 - val_loss: 18696.9395 - val_accuracy: 0.0000e+00\n",
      "Epoch 36/100\n",
      "2498/2498 [==============================] - 9s 4ms/step - loss: 14609.3789 - accuracy: 0.0276 - val_loss: 18704.2852 - val_accuracy: 0.0000e+00\n",
      "Epoch 37/100\n",
      "2498/2498 [==============================] - 9s 3ms/step - loss: 14602.1641 - accuracy: 0.0344 - val_loss: 18712.0938 - val_accuracy: 0.0000e+00\n",
      "Epoch 38/100\n",
      "2498/2498 [==============================] - 9s 4ms/step - loss: 14602.2305 - accuracy: 0.0414 - val_loss: 18719.1914 - val_accuracy: 0.0000e+00\n",
      "Epoch 39/100\n",
      "2498/2498 [==============================] - 9s 3ms/step - loss: 14592.7441 - accuracy: 0.0510 - val_loss: 18727.1309 - val_accuracy: 0.0000e+00\n",
      "Epoch 40/100\n",
      "2498/2498 [==============================] - 9s 4ms/step - loss: 14593.8672 - accuracy: 0.0588 - val_loss: 18734.1562 - val_accuracy: 0.0000e+00\n",
      "Epoch 41/100\n",
      "2498/2498 [==============================] - 9s 3ms/step - loss: 14588.0654 - accuracy: 0.0650 - val_loss: 18741.7617 - val_accuracy: 0.0000e+00\n",
      "Epoch 42/100\n",
      "2498/2498 [==============================] - 9s 4ms/step - loss: 14582.5068 - accuracy: 0.0718 - val_loss: 18749.0879 - val_accuracy: 0.0000e+00\n",
      "Epoch 43/100\n",
      "2498/2498 [==============================] - 9s 4ms/step - loss: 14582.1123 - accuracy: 0.0799 - val_loss: 18756.1172 - val_accuracy: 0.0000e+00\n",
      "Epoch 44/100\n",
      "2498/2498 [==============================] - 9s 4ms/step - loss: 14573.7129 - accuracy: 0.0861 - val_loss: 18763.4863 - val_accuracy: 0.0000e+00\n",
      "Epoch 45/100\n",
      "2498/2498 [==============================] - 9s 4ms/step - loss: 14569.6992 - accuracy: 0.0910 - val_loss: 18770.7637 - val_accuracy: 0.0000e+00\n"
     ]
    },
    {
     "name": "stdout",
     "output_type": "stream",
     "text": [
      "Epoch 46/100\n",
      "2498/2498 [==============================] - 9s 3ms/step - loss: 14567.7500 - accuracy: 0.1001 - val_loss: 18778.0664 - val_accuracy: 0.0000e+00\n",
      "Epoch 47/100\n",
      "2498/2498 [==============================] - 9s 4ms/step - loss: 14564.7764 - accuracy: 0.1056 - val_loss: 18785.2891 - val_accuracy: 0.0000e+00\n",
      "Epoch 48/100\n",
      "2498/2498 [==============================] - 9s 4ms/step - loss: 14556.7451 - accuracy: 0.1114 - val_loss: 18792.7188 - val_accuracy: 0.0000e+00\n",
      "Epoch 49/100\n",
      "2498/2498 [==============================] - 9s 4ms/step - loss: 14554.7910 - accuracy: 0.1175 - val_loss: 18799.9082 - val_accuracy: 0.0000e+00\n",
      "Epoch 50/100\n",
      "2498/2498 [==============================] - 9s 3ms/step - loss: 14550.9395 - accuracy: 0.1218 - val_loss: 18807.0215 - val_accuracy: 0.0000e+00\n",
      "Epoch 51/100\n",
      "2498/2498 [==============================] - 9s 4ms/step - loss: 14546.5645 - accuracy: 0.1274 - val_loss: 18814.2852 - val_accuracy: 0.0000e+00\n",
      "Epoch 52/100\n",
      "2498/2498 [==============================] - 9s 4ms/step - loss: 14543.3984 - accuracy: 0.1340 - val_loss: 18821.2148 - val_accuracy: 0.0000e+00\n",
      "Epoch 53/100\n",
      "2498/2498 [==============================] - 9s 3ms/step - loss: 14539.4834 - accuracy: 0.1371 - val_loss: 18828.6836 - val_accuracy: 0.0000e+00\n",
      "Epoch 54/100\n",
      "2498/2498 [==============================] - 9s 4ms/step - loss: 14532.8926 - accuracy: 0.1418 - val_loss: 18836.3359 - val_accuracy: 0.0000e+00\n",
      "Epoch 55/100\n",
      "2498/2498 [==============================] - 9s 3ms/step - loss: 14533.3066 - accuracy: 0.1476 - val_loss: 18843.0469 - val_accuracy: 0.0000e+00\n",
      "Epoch 56/100\n",
      "2498/2498 [==============================] - 9s 4ms/step - loss: 14520.4229 - accuracy: 0.1533 - val_loss: 18851.2793 - val_accuracy: 0.0000e+00\n",
      "Epoch 57/100\n",
      "2498/2498 [==============================] - 9s 4ms/step - loss: 14518.2852 - accuracy: 0.1580 - val_loss: 18858.3145 - val_accuracy: 0.0000e+00\n",
      "Epoch 58/100\n",
      "2498/2498 [==============================] - 9s 4ms/step - loss: 14512.4824 - accuracy: 0.1593 - val_loss: 18865.8906 - val_accuracy: 0.0000e+00\n",
      "Epoch 59/100\n",
      "2498/2498 [==============================] - 9s 3ms/step - loss: 14505.0850 - accuracy: 0.1657 - val_loss: 18873.6738 - val_accuracy: 0.0000e+00\n",
      "Epoch 60/100\n",
      "2498/2498 [==============================] - 9s 4ms/step - loss: 14497.2822 - accuracy: 0.1709 - val_loss: 18881.4961 - val_accuracy: 0.0000e+00\n",
      "Epoch 61/100\n",
      "2498/2498 [==============================] - 9s 3ms/step - loss: 14492.3281 - accuracy: 0.1753 - val_loss: 18888.3828 - val_accuracy: 0.0000e+00\n",
      "Epoch 62/100\n",
      "2498/2498 [==============================] - 9s 4ms/step - loss: 14483.5098 - accuracy: 0.1802 - val_loss: 18894.8359 - val_accuracy: 0.0000e+00\n",
      "Epoch 63/100\n",
      "2498/2498 [==============================] - 9s 4ms/step - loss: 14478.3271 - accuracy: 0.1852 - val_loss: 18899.7266 - val_accuracy: 0.0000e+00\n",
      "Epoch 64/100\n",
      "2498/2498 [==============================] - 9s 3ms/step - loss: 14462.3506 - accuracy: 0.1872 - val_loss: 18903.9297 - val_accuracy: 0.0000e+00\n",
      "Epoch 65/100\n",
      "2498/2498 [==============================] - 9s 4ms/step - loss: 14452.0752 - accuracy: 0.1882 - val_loss: 18902.9668 - val_accuracy: 0.0000e+00\n",
      "Epoch 66/100\n",
      "2498/2498 [==============================] - 9s 4ms/step - loss: 14438.0645 - accuracy: 0.1927 - val_loss: 18896.0859 - val_accuracy: 0.0000e+00\n",
      "Epoch 67/100\n",
      "2498/2498 [==============================] - 9s 4ms/step - loss: 14419.8828 - accuracy: 0.1909 - val_loss: 18876.3809 - val_accuracy: 0.0000e+00\n",
      "Epoch 68/100\n",
      "2498/2498 [==============================] - 9s 3ms/step - loss: 14400.6064 - accuracy: 0.1909 - val_loss: 18836.2754 - val_accuracy: 0.0000e+00\n",
      "Epoch 69/100\n",
      "2498/2498 [==============================] - 9s 4ms/step - loss: 14371.6133 - accuracy: 0.1865 - val_loss: 18771.4883 - val_accuracy: 0.0000e+00\n",
      "Epoch 70/100\n",
      "2498/2498 [==============================] - 9s 4ms/step - loss: 14338.1719 - accuracy: 0.1843 - val_loss: 18686.4277 - val_accuracy: 0.0000e+00\n",
      "Epoch 71/100\n",
      "2498/2498 [==============================] - 9s 4ms/step - loss: 14287.7988 - accuracy: 0.1823 - val_loss: 18575.3086 - val_accuracy: 0.0000e+00\n",
      "Epoch 72/100\n",
      "2498/2498 [==============================] - 9s 4ms/step - loss: 14218.4609 - accuracy: 0.1847 - val_loss: 18434.2656 - val_accuracy: 0.0000e+00\n",
      "Epoch 73/100\n",
      "2498/2498 [==============================] - 9s 4ms/step - loss: 14119.9834 - accuracy: 0.1979 - val_loss: 18255.2637 - val_accuracy: 0.0000e+00\n",
      "Epoch 74/100\n",
      "2498/2498 [==============================] - 12s 5ms/step - loss: 13971.8613 - accuracy: 0.2276 - val_loss: 18018.9805 - val_accuracy: 0.0000e+00\n",
      "Epoch 75/100\n",
      "2498/2498 [==============================] - 9s 4ms/step - loss: 13773.8828 - accuracy: 0.2752 - val_loss: 17777.4570 - val_accuracy: 0.0000e+00\n",
      "Epoch 76/100\n",
      "2498/2498 [==============================] - 9s 4ms/step - loss: 13586.2607 - accuracy: 0.3192 - val_loss: 17602.7461 - val_accuracy: 0.0000e+00\n",
      "Epoch 77/100\n",
      "2498/2498 [==============================] - 9s 4ms/step - loss: 13432.3555 - accuracy: 0.3631 - val_loss: 17486.0156 - val_accuracy: 0.1307\n",
      "Epoch 78/100\n",
      "2498/2498 [==============================] - 9s 4ms/step - loss: 13309.6982 - accuracy: 0.4280 - val_loss: 17398.1895 - val_accuracy: 0.2523\n",
      "Epoch 79/100\n",
      "2498/2498 [==============================] - 9s 4ms/step - loss: 13207.7314 - accuracy: 0.4636 - val_loss: 17321.9941 - val_accuracy: 0.3150\n",
      "Epoch 80/100\n",
      "2498/2498 [==============================] - 9s 3ms/step - loss: 13107.4307 - accuracy: 0.4769 - val_loss: 17248.8086 - val_accuracy: 0.3462\n",
      "Epoch 81/100\n",
      "2498/2498 [==============================] - 9s 4ms/step - loss: 13014.8994 - accuracy: 0.4819 - val_loss: 17176.8965 - val_accuracy: 0.3761\n",
      "Epoch 82/100\n",
      "2498/2498 [==============================] - 9s 3ms/step - loss: 12917.1455 - accuracy: 0.4916 - val_loss: 17105.7754 - val_accuracy: 0.3821\n",
      "Epoch 83/100\n",
      "2498/2498 [==============================] - 9s 4ms/step - loss: 12824.0254 - accuracy: 0.5004 - val_loss: 17034.8066 - val_accuracy: 0.4349\n",
      "Epoch 84/100\n",
      "2498/2498 [==============================] - 10s 4ms/step - loss: 12731.2432 - accuracy: 0.5055 - val_loss: 16964.2578 - val_accuracy: 0.4633\n",
      "Epoch 85/100\n",
      "2498/2498 [==============================] - 10s 4ms/step - loss: 12644.5791 - accuracy: 0.5120 - val_loss: 16894.2637 - val_accuracy: 0.4309\n",
      "Epoch 86/100\n",
      "2498/2498 [==============================] - 10s 4ms/step - loss: 12554.2939 - accuracy: 0.5204 - val_loss: 16824.5352 - val_accuracy: 0.3882\n",
      "Epoch 87/100\n",
      "2498/2498 [==============================] - 9s 4ms/step - loss: 12464.0771 - accuracy: 0.5303 - val_loss: 16754.7676 - val_accuracy: 0.4275\n",
      "Epoch 88/100\n",
      "2498/2498 [==============================] - 10s 4ms/step - loss: 12382.9521 - accuracy: 0.5348 - val_loss: 16685.6543 - val_accuracy: 0.3638\n",
      "Epoch 89/100\n",
      "2498/2498 [==============================] - 9s 4ms/step - loss: 12295.6211 - accuracy: 0.5394 - val_loss: 16616.4434 - val_accuracy: 0.3857\n",
      "Epoch 90/100\n",
      "2498/2498 [==============================] - 9s 4ms/step - loss: 12202.4629 - accuracy: 0.5457 - val_loss: 16547.4980 - val_accuracy: 0.4017\n",
      "Epoch 91/100\n",
      "2498/2498 [==============================] - 10s 4ms/step - loss: 12116.1309 - accuracy: 0.5527 - val_loss: 16478.8672 - val_accuracy: 0.4185\n",
      "Epoch 92/100\n",
      "2498/2498 [==============================] - 9s 4ms/step - loss: 12028.6963 - accuracy: 0.5544 - val_loss: 16410.5723 - val_accuracy: 0.3462\n",
      "Epoch 93/100\n",
      "2498/2498 [==============================] - 9s 4ms/step - loss: 11952.1104 - accuracy: 0.5550 - val_loss: 16342.3574 - val_accuracy: 0.3455\n",
      "Epoch 94/100\n",
      "2498/2498 [==============================] - 9s 4ms/step - loss: 11846.2383 - accuracy: 0.5577 - val_loss: 16274.2188 - val_accuracy: 0.3089\n",
      "Epoch 95/100\n",
      "2498/2498 [==============================] - 9s 4ms/step - loss: 11766.6475 - accuracy: 0.5601 - val_loss: 16206.3574 - val_accuracy: 0.3419\n",
      "Epoch 96/100\n",
      "2498/2498 [==============================] - 9s 4ms/step - loss: 11681.4580 - accuracy: 0.5647 - val_loss: 16138.8271 - val_accuracy: 0.3242\n",
      "Epoch 97/100\n",
      "2498/2498 [==============================] - 9s 4ms/step - loss: 11598.5020 - accuracy: 0.5645 - val_loss: 16071.5576 - val_accuracy: 0.3150\n",
      "Epoch 98/100\n"
     ]
    },
    {
     "name": "stdout",
     "output_type": "stream",
     "text": [
      "2498/2498 [==============================] - 8s 3ms/step - loss: 11519.4229 - accuracy: 0.5663 - val_loss: 16004.5469 - val_accuracy: 0.2436\n",
      "Epoch 99/100\n",
      "2498/2498 [==============================] - 7s 3ms/step - loss: 11438.4551 - accuracy: 0.5671 - val_loss: 15937.6045 - val_accuracy: 0.2062\n",
      "Epoch 100/100\n",
      "2498/2498 [==============================] - 7s 3ms/step - loss: 11363.2021 - accuracy: 0.5655 - val_loss: 15870.7715 - val_accuracy: 0.2236\n",
      "trraining duration:  898\n"
     ]
    }
   ],
   "source": [
    "print('Init Train')\n",
    "start = timer()\n",
    "history = model.fit(\n",
    "    X_train, Y_train, \n",
    "    epochs=100, \n",
    "    batch_size= 20,\n",
    "    validation_split=0.1,\n",
    "    shuffle=False,\n",
    "#     callbacks=[tensorboard_callback]\n",
    ")\n",
    "print('trraining duration: ',round(timer() - start))"
   ]
  },
  {
   "cell_type": "markdown",
   "metadata": {},
   "source": [
    "# saving model"
   ]
  },
  {
   "cell_type": "code",
   "execution_count": 9,
   "metadata": {},
   "outputs": [
    {
     "name": "stdout",
     "output_type": "stream",
     "text": [
      "Saving Model\n",
      "INFO:tensorflow:Assets written to: models/lstm\\assets\n"
     ]
    }
   ],
   "source": [
    "print('Saving Model')\n",
    "model.save('models/lstm')"
   ]
  },
  {
   "cell_type": "markdown",
   "metadata": {},
   "source": [
    "# loss training"
   ]
  },
  {
   "cell_type": "code",
   "execution_count": 10,
   "metadata": {},
   "outputs": [
    {
     "data": {
      "image/png": "[encoded data removed]",
      "text/plain": [
       "<Figure size 432x288 with 1 Axes>"
      ]
     },
     "metadata": {
      "needs_background": "light"
     },
     "output_type": "display_data"
    }
   ],
   "source": [
    "\n",
    "fig1 = plt.figure()\n",
    "ax1 = fig1.add_subplot(1,1,1)\n",
    "ax1.plot(history.history['loss'], label='train')\n",
    "ax1.plot(history.history['val_loss'], label='validation')\n",
    "ax1.legend();"
   ]
  },
  {
   "cell_type": "markdown",
   "metadata": {},
   "source": [
    "# predicting"
   ]
  },
  {
   "cell_type": "code",
   "execution_count": 11,
   "metadata": {},
   "outputs": [
    {
     "name": "stdout",
     "output_type": "stream",
     "text": [
      "WARNING:tensorflow:Model was constructed with shape (None, 2) for input KerasTensor(type_spec=TensorSpec(shape=(None, 2), dtype=tf.float32, name='dense_input'), name='dense_input', description=\"created by layer 'dense_input'\"), but it was called on an input with incompatible shape (None, 1, 2).\n"
     ]
    }
   ],
   "source": [
    "y_pred = model.predict(X_test)"
   ]
  },
  {
   "cell_type": "markdown",
   "metadata": {},
   "source": [
    "# unormalizing "
   ]
  },
  {
   "cell_type": "code",
   "execution_count": 12,
   "metadata": {},
   "outputs": [],
   "source": [
    "f_columns = ['temperature','label']\n",
    "scaler1 = StandardScaler().fit(train[f_columns])\n",
    "scaler2 = StandardScaler().fit(train[f_columns])\n",
    "\n",
    "scaler1= scaler1.fit(train[f_columns].to_numpy())\n",
    "scaler2 = scaler2.fit(train[['delay']])\n",
    "\n",
    "\n",
    "#normalizando test\n",
    "scaler3 = StandardScaler().fit(test[f_columns])\n",
    "scaler4 = StandardScaler().fit(test[f_columns])\n",
    "\n",
    "scaler3 = scaler3.fit(test[f_columns].to_numpy())\n",
    "scaler4 = scaler4.fit(test[['delay']])\n"
   ]
  },
  {
   "cell_type": "code",
   "execution_count": 31,
   "metadata": {},
   "outputs": [],
   "source": [
    "y_test_inv = scaler4.inverse_transform(Y_test.reshape(1,-1))\n",
    "y_pred_inv = scaler4.inverse_transform(y_pred)"
   ]
  },
  {
   "cell_type": "code",
   "execution_count": 32,
   "metadata": {},
   "outputs": [
    {
     "data": {
      "image/png": "[encoded data removed]",
      "text/plain": [
       "<Figure size 432x288 with 1 Axes>"
      ]
     },
     "metadata": {
      "needs_background": "light"
     },
     "output_type": "display_data"
    }
   ],
   "source": [
    "fig2 = plt.figure()\n",
    "a2 = fig2.add_subplot(1,1,1)\n",
    "a2.plot(y_test_inv.flatten(), marker='.', label='true')\n",
    "a2.legend();"
   ]
  },
  {
   "cell_type": "code",
   "execution_count": 33,
   "metadata": {},
   "outputs": [
    {
     "data": {
      "image/png": "[encoded data removed]",
      "text/plain": [
       "<Figure size 432x288 with 1 Axes>"
      ]
     },
     "metadata": {
      "needs_background": "light"
     },
     "output_type": "display_data"
    }
   ],
   "source": [
    "fig3 = plt.figure()\n",
    "a3 = fig3.add_subplot(1,1,1)\n",
    "a3.plot(y_pred_inv.flatten(),'r',marker='.', label='predicted')\n",
    "a3.legend();\n"
   ]
  },
  {
   "cell_type": "code",
   "execution_count": 41,
   "metadata": {},
   "outputs": [
    {
     "data": {
      "image/png": "[encoded data removed]",
      "text/plain": [
       "<Figure size 432x288 with 1 Axes>"
      ]
     },
     "metadata": {
      "needs_background": "light"
     },
     "output_type": "display_data"
    }
   ],
   "source": [
    "\n",
    "plt.plot(y_test_inv.flatten(), marker='.', label='true')\n",
    "\n",
    "plt.plot(y_pred_inv.flatten(),'r',marker='.', label='predicted')\n",
    "plt.legend();"
   ]
  },
  {
   "cell_type": "code",
   "execution_count": 35,
   "metadata": {},
   "outputs": [],
   "source": [
    "from sklearn.metrics import mean_squared_error"
   ]
  },
  {
   "cell_type": "code",
   "execution_count": 36,
   "metadata": {},
   "outputs": [
    {
     "data": {
      "text/plain": [
       "array([[2067.7690356, 2067.7690356, 2067.7690356, ..., 2067.7690356,\n",
       "        2067.7690356, 2067.7690356]])"
      ]
     },
     "execution_count": 36,
     "metadata": {},
     "output_type": "execute_result"
    }
   ],
   "source": [
    "y_test_inv"
   ]
  },
  {
   "cell_type": "code",
   "execution_count": 37,
   "metadata": {},
   "outputs": [
    {
     "data": {
      "text/plain": [
       "array([[78820.9  ],\n",
       "       [79464.07 ],\n",
       "       [80762.45 ],\n",
       "       ...,\n",
       "       [48807.367],\n",
       "       [48653.48 ],\n",
       "       [48807.367]], dtype=float32)"
      ]
     },
     "execution_count": 37,
     "metadata": {},
     "output_type": "execute_result"
    }
   ],
   "source": [
    "y_pred_inv[:,0]"
   ]
  },
  {
   "cell_type": "code",
   "execution_count": 38,
   "metadata": {},
   "outputs": [
    {
     "data": {
      "text/plain": [
       "4.1982608827923553e+18"
      ]
     },
     "execution_count": 38,
     "metadata": {},
     "output_type": "execute_result"
    }
   ],
   "source": [
    "mean_squared_error(y_test_inv[0], y_pred_inv[:,0])"
   ]
  },
  {
   "cell_type": "code",
   "execution_count": null,
   "metadata": {},
   "outputs": [],
   "source": []
  },
  {
   "cell_type": "code",
   "execution_count": null,
   "metadata": {},
   "outputs": [],
   "source": []
  }
 ],
 "metadata": {
  "kernelspec": {
   "display_name": "Python 3",
   "language": "python",
   "name": "python3"
  },
  "language_info": {
   "codemirror_mode": {
    "name": "ipython",
    "version": 3
   },
   "file_extension": ".py",
   "mimetype": "text/x-python",
   "name": "python",
   "nbconvert_exporter": "python",
   "pygments_lexer": "ipython3",
   "version": "3.8.5"
  }
 },
 "nbformat": 4,
 "nbformat_minor": 4
}
