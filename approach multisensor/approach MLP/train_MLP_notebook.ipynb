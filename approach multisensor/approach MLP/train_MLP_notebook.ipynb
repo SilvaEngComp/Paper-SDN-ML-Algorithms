{
 "cells": [
  {
   "cell_type": "code",
   "execution_count": 1,
   "metadata": {},
   "outputs": [],
   "source": [
    "import os\n",
    "import tensorflow as tf\n",
    "from tensorflow import keras\n",
    "\n",
    "import pandas as pd\n",
    "import numpy as np\n",
    "import matplotlib.pyplot as plt\n",
    "from sklearn.preprocessing import StandardScaler\n",
    "from sklearn.metrics import mean_squared_error\n",
    "from timeit import default_timer as timer\n",
    "from IPython.display import clear_output"
   ]
  },
  {
   "cell_type": "code",
   "execution_count": 2,
   "metadata": {},
   "outputs": [],
   "source": [
    "\n",
    "os.environ[\"TF_CPP_MIN_LOG_LEVEL\"] = \"2\""
   ]
  },
  {
   "cell_type": "code",
   "execution_count": 3,
   "metadata": {},
   "outputs": [],
   "source": [
    "def create_dataset(X, y, time_steps=1):\n",
    "    Xs, ys = [], []    \n",
    "    for i in range(len(X) - time_steps):\n",
    "        clear_output(wait=True)\n",
    "        print('modeling to keras ',round((i/(len(X) - time_steps))*100,2), ('%'), end='')\n",
    "        print(' ', round(timer() - start), ' seconds')\n",
    "        v = X.iloc[i: (i+time_steps), 2:4].to_numpy()\n",
    "        Xs.append(v)\n",
    "        ys.append(y.iloc[i+time_steps])\n",
    "    return np.array(Xs), np.array(ys)"
   ]
  },
  {
   "cell_type": "code",
   "execution_count": 4,
   "metadata": {},
   "outputs": [
    {
     "name": "stdout",
     "output_type": "stream",
     "text": [
      "loading dataset...\n",
      "load duration:  0\n"
     ]
    }
   ],
   "source": [
    "start = timer()\n",
    "#carregando datasets\n",
    "print('loading dataset...')\n",
    "train = pd.read_csv('../datasets/com_concept_drift/sdn_train_unormalized.csv')\n",
    "test = pd.read_csv('../datasets/com_concept_drift/sdn_test_unormalized.csv')\n",
    "\n",
    "train = train[train.delay>=0]\n",
    "test = test[test.delay>=0]\n",
    "print('load duration: ', round(timer() - start))"
   ]
  },
  {
   "cell_type": "code",
   "execution_count": null,
   "metadata": {},
   "outputs": [],
   "source": []
  },
  {
   "cell_type": "code",
   "execution_count": 5,
   "metadata": {},
   "outputs": [
    {
     "name": "stdout",
     "output_type": "stream",
     "text": [
      "modeling to keras  100.0 %  649  seconds\n",
      "2D to 3D duration:  649\n"
     ]
    }
   ],
   "source": [
    "start = timer()\n",
    "print('creating window')\n",
    "TIME_STEPS = 1\n",
    "X_train,Y_train = create_dataset(train, train.delay, time_steps=TIME_STEPS)\n",
    "X_test,Y_test = create_dataset(test, test.delay, time_steps=TIME_STEPS)\n",
    "\n",
    "print('2D to 3D duration: ', round(timer() - start))"
   ]
  },
  {
   "cell_type": "markdown",
   "metadata": {},
   "source": [
    "# setting LSTM"
   ]
  },
  {
   "cell_type": "code",
   "execution_count": 6,
   "metadata": {},
   "outputs": [
    {
     "name": "stdout",
     "output_type": "stream",
     "text": [
      "Init Train\n"
     ]
    }
   ],
   "source": [
    "#configurando rede para treinamento\n",
    "print('Init Train')\n",
    "model = keras.Sequential()\n",
    "model.add(tf.keras.layers.Dense(activation=\"relu\", input_dim=2, units=10, kernel_initializer='uniform'))\n",
    "model.add(tf.keras.layers.Dense(activation=\"sigmoid\", units=128, kernel_initializer='uniform'))\n",
    "model.add(tf.keras.layers.Dense(activation=\"sigmoid\", units=128, kernel_initializer='uniform'))\n",
    "model.add(tf.keras.layers.Dense(activation=\"sigmoid\", units=128, kernel_initializer='uniform'))\n",
    "model.add(keras.layers.Dropout(rate=0.2))\n",
    "model.add(keras.layers.Dense(units=1))"
   ]
  },
  {
   "cell_type": "markdown",
   "metadata": {},
   "source": [
    "# compiling"
   ]
  },
  {
   "cell_type": "code",
   "execution_count": 7,
   "metadata": {},
   "outputs": [],
   "source": [
    "loss =\"mse\"\n",
    "optim = tf.keras.optimizers.Adam(\n",
    "    learning_rate=0.0001)\n",
    "metrics=[\"accuracy\"]\n",
    "\n",
    "model.compile(loss=loss, optimizer=optim, \n",
    "             metrics=metrics\n",
    "             )"
   ]
  },
  {
   "cell_type": "markdown",
   "metadata": {},
   "source": [
    "# training "
   ]
  },
  {
   "cell_type": "code",
   "execution_count": null,
   "metadata": {},
   "outputs": [
    {
     "name": "stdout",
     "output_type": "stream",
     "text": [
      "Init Train\n",
      "Epoch 1/100\n",
      "4995/4995 [==============================] - 15s 3ms/step - loss: 11216.6201 - accuracy: 0.5707 - val_loss: 15743.2891 - val_accuracy: 0.0824\n",
      "Epoch 2/100\n",
      "4995/4995 [==============================] - 15s 3ms/step - loss: 11059.0244 - accuracy: 0.5724 - val_loss: 15619.3623 - val_accuracy: 0.0822\n",
      "Epoch 3/100\n",
      "4995/4995 [==============================] - 14s 3ms/step - loss: 10917.3877 - accuracy: 0.5642 - val_loss: 15496.4717 - val_accuracy: 0.0487\n",
      "Epoch 4/100\n",
      "4995/4995 [==============================] - 15s 3ms/step - loss: 10771.3408 - accuracy: 0.5611 - val_loss: 15374.0664 - val_accuracy: 0.0000e+00\n",
      "Epoch 5/100\n",
      "4995/4995 [==============================] - 13s 3ms/step - loss: 10636.5586 - accuracy: 0.5600 - val_loss: 15252.2979 - val_accuracy: 0.0000e+00\n",
      "Epoch 6/100\n",
      "4995/4995 [==============================] - 12s 2ms/step - loss: 10476.6924 - accuracy: 0.5572 - val_loss: 15131.0713 - val_accuracy: 0.0000e+00\n",
      "Epoch 7/100\n",
      "4995/4995 [==============================] - 13s 3ms/step - loss: 10322.6543 - accuracy: 0.5523 - val_loss: 15010.1699 - val_accuracy: 0.0000e+00\n",
      "Epoch 8/100\n",
      "4995/4995 [==============================] - 19s 4ms/step - loss: 10179.2090 - accuracy: 0.5537 - val_loss: 14889.9834 - val_accuracy: 0.0000e+00\n",
      "Epoch 9/100\n",
      "4995/4995 [==============================] - 18s 4ms/step - loss: 10043.8115 - accuracy: 0.5475 - val_loss: 14770.4180 - val_accuracy: 0.0000e+00\n",
      "Epoch 10/100\n",
      "4995/4995 [==============================] - 18s 4ms/step - loss: 9905.5449 - accuracy: 0.5513 - val_loss: 14651.5361 - val_accuracy: 0.0000e+00\n",
      "Epoch 11/100\n",
      "4995/4995 [==============================] - 18s 4ms/step - loss: 9755.1289 - accuracy: 0.5482 - val_loss: 14533.1338 - val_accuracy: 0.0000e+00\n",
      "Epoch 12/100\n",
      "4995/4995 [==============================] - 17s 3ms/step - loss: 9638.3467 - accuracy: 0.5498 - val_loss: 14415.4375 - val_accuracy: 0.0000e+00\n",
      "Epoch 13/100\n",
      "4995/4995 [==============================] - 18s 4ms/step - loss: 9500.7305 - accuracy: 0.5391 - val_loss: 14298.2832 - val_accuracy: 0.0000e+00\n",
      "Epoch 14/100\n",
      "4995/4995 [==============================] - 17s 3ms/step - loss: 9362.7451 - accuracy: 0.5461 - val_loss: 14181.6260 - val_accuracy: 0.0000e+00\n",
      "Epoch 15/100\n",
      "4995/4995 [==============================] - 17s 3ms/step - loss: 9222.1660 - accuracy: 0.5385 - val_loss: 14065.6465 - val_accuracy: 0.0000e+00\n",
      "Epoch 16/100\n",
      "4995/4995 [==============================] - 17s 3ms/step - loss: 9097.7021 - accuracy: 0.5432 - val_loss: 13950.1807 - val_accuracy: 0.0000e+00\n",
      "Epoch 17/100\n",
      "4995/4995 [==============================] - 17s 3ms/step - loss: 8970.2354 - accuracy: 0.5466 - val_loss: 13835.4043 - val_accuracy: 0.0000e+00\n",
      "Epoch 18/100\n",
      "4995/4995 [==============================] - 17s 3ms/step - loss: 8832.9160 - accuracy: 0.5445 - val_loss: 13721.2139 - val_accuracy: 0.0000e+00\n",
      "Epoch 19/100\n",
      "4995/4995 [==============================] - 17s 3ms/step - loss: 8706.4814 - accuracy: 0.5356 - val_loss: 13607.5801 - val_accuracy: 0.0000e+00\n",
      "Epoch 20/100\n",
      "4995/4995 [==============================] - 17s 3ms/step - loss: 8578.0342 - accuracy: 0.5381 - val_loss: 13494.5498 - val_accuracy: 0.0000e+00\n",
      "Epoch 21/100\n",
      "4995/4995 [==============================] - 18s 4ms/step - loss: 8478.2812 - accuracy: 0.5421 - val_loss: 13382.3867 - val_accuracy: 0.0000e+00\n",
      "Epoch 22/100\n",
      "4995/4995 [==============================] - 18s 4ms/step - loss: 8345.7061 - accuracy: 0.5407 - val_loss: 13270.6475 - val_accuracy: 0.0000e+00\n",
      "Epoch 23/100\n",
      "4995/4995 [==============================] - 17s 3ms/step - loss: 8216.3389 - accuracy: 0.5421 - val_loss: 13159.6572 - val_accuracy: 0.0000e+00\n",
      "Epoch 24/100\n",
      "4995/4995 [==============================] - 17s 3ms/step - loss: 8096.7388 - accuracy: 0.5410 - val_loss: 13049.1719 - val_accuracy: 0.0000e+00\n",
      "Epoch 25/100\n",
      "4995/4995 [==============================] - 18s 4ms/step - loss: 7975.5391 - accuracy: 0.5429 - val_loss: 12939.3330 - val_accuracy: 0.0000e+00\n",
      "Epoch 26/100\n",
      "4995/4995 [==============================] - 17s 3ms/step - loss: 7856.9390 - accuracy: 0.5412 - val_loss: 12830.2451 - val_accuracy: 0.0000e+00\n",
      "Epoch 27/100\n",
      "4995/4995 [==============================] - 17s 3ms/step - loss: 7742.5596 - accuracy: 0.5428 - val_loss: 12721.8369 - val_accuracy: 0.0000e+00\n",
      "Epoch 28/100\n",
      "4995/4995 [==============================] - 18s 4ms/step - loss: 7627.2075 - accuracy: 0.5447 - val_loss: 12614.0439 - val_accuracy: 0.0000e+00\n",
      "Epoch 29/100\n",
      "4995/4995 [==============================] - 19s 4ms/step - loss: 7514.7310 - accuracy: 0.5429 - val_loss: 12507.0049 - val_accuracy: 0.0000e+00\n",
      "Epoch 30/100\n",
      "4995/4995 [==============================] - 18s 4ms/step - loss: 7398.5801 - accuracy: 0.5367 - val_loss: 12400.5771 - val_accuracy: 0.0000e+00\n",
      "Epoch 31/100\n",
      "4995/4995 [==============================] - 17s 3ms/step - loss: 7318.8662 - accuracy: 0.5426 - val_loss: 12294.8984 - val_accuracy: 0.0000e+00\n",
      "Epoch 32/100\n",
      "4995/4995 [==============================] - 18s 4ms/step - loss: 7185.0591 - accuracy: 0.5481 - val_loss: 12189.7666 - val_accuracy: 0.0000e+00\n",
      "Epoch 33/100\n",
      "4995/4995 [==============================] - 17s 3ms/step - loss: 7099.2310 - accuracy: 0.5435 - val_loss: 12085.5645 - val_accuracy: 0.0000e+00\n",
      "Epoch 34/100\n",
      "4995/4995 [==============================] - 18s 4ms/step - loss: 6986.6353 - accuracy: 0.5414 - val_loss: 11981.9863 - val_accuracy: 0.0000e+00\n",
      "Epoch 35/100\n",
      "4995/4995 [==============================] - 17s 3ms/step - loss: 6862.9482 - accuracy: 0.5415 - val_loss: 11879.2275 - val_accuracy: 0.0000e+00\n",
      "Epoch 36/100\n",
      "4995/4995 [==============================] - 17s 3ms/step - loss: 6761.3901 - accuracy: 0.5423 - val_loss: 11777.1357 - val_accuracy: 0.0000e+00\n",
      "Epoch 37/100\n",
      "4995/4995 [==============================] - 17s 3ms/step - loss: 6683.3325 - accuracy: 0.5452 - val_loss: 11675.8584 - val_accuracy: 0.0000e+00\n",
      "Epoch 38/100\n",
      "4995/4995 [==============================] - 18s 4ms/step - loss: 6566.8345 - accuracy: 0.5456 - val_loss: 11575.2334 - val_accuracy: 0.0000e+00\n",
      "Epoch 39/100\n",
      "3459/4995 [===================>..........] - ETA: 5s - loss: 598.6229 - accuracy: 0.6583"
     ]
    }
   ],
   "source": [
    "print('Init Train')\n",
    "start = timer()\n",
    "history = model.fit(\n",
    "    X_train, Y_train, \n",
    "    epochs=100, \n",
    "    batch_size= 10,\n",
    "    validation_split=0.1,\n",
    "    shuffle=False,\n",
    "#     callbacks=[tensorboard_callback]\n",
    ")\n",
    "print('trraining duration: ',round(timer() - start))"
   ]
  },
  {
   "cell_type": "markdown",
   "metadata": {},
   "source": [
    "# saving model"
   ]
  },
  {
   "cell_type": "code",
   "execution_count": null,
   "metadata": {},
   "outputs": [],
   "source": [
    "print('Saving Model')\n",
    "model.save('models/mlp')"
   ]
  },
  {
   "cell_type": "markdown",
   "metadata": {},
   "source": [
    "# loss training"
   ]
  },
  {
   "cell_type": "code",
   "execution_count": null,
   "metadata": {},
   "outputs": [],
   "source": [
    "\n",
    "fig1 = plt.figure()\n",
    "ax1 = fig1.add_subplot(1,1,1)\n",
    "ax1.plot(history.history['loss'], label='train')\n",
    "ax1.plot(history.history['val_loss'], label='validation')\n",
    "ax1.legend();"
   ]
  },
  {
   "cell_type": "markdown",
   "metadata": {},
   "source": [
    "# predicting"
   ]
  },
  {
   "cell_type": "code",
   "execution_count": null,
   "metadata": {},
   "outputs": [],
   "source": [
    "y_pred = model.predict(X_test)"
   ]
  },
  {
   "cell_type": "markdown",
   "metadata": {},
   "source": [
    "# unormalizing "
   ]
  },
  {
   "cell_type": "code",
   "execution_count": null,
   "metadata": {},
   "outputs": [],
   "source": [
    "f_columns = ['temperature','label']\n",
    "scaler1 = StandardScaler().fit(train[f_columns])\n",
    "scaler2 = StandardScaler().fit(train[f_columns])\n",
    "\n",
    "scaler1= scaler1.fit(train[f_columns].to_numpy())\n",
    "scaler2 = scaler2.fit(train[['delay']])\n",
    "\n",
    "\n",
    "#normalizando test\n",
    "scaler3 = StandardScaler().fit(test[f_columns])\n",
    "scaler4 = StandardScaler().fit(test[f_columns])\n",
    "\n",
    "scaler3 = scaler3.fit(test[f_columns].to_numpy())\n",
    "scaler4 = scaler4.fit(test[['delay']])\n"
   ]
  },
  {
   "cell_type": "code",
   "execution_count": null,
   "metadata": {},
   "outputs": [],
   "source": [
    "y_test_inv = scaler4.inverse_transform(Y_test.reshape(1,-1))\n",
    "y_pred_inv = scaler4.inverse_transform(y_pred)"
   ]
  },
  {
   "cell_type": "code",
   "execution_count": null,
   "metadata": {},
   "outputs": [],
   "source": [
    "fig2 = plt.figure()\n",
    "a2 = fig2.add_subplot(1,1,1)\n",
    "a2.plot(y_test_inv.flatten(), marker='.', label='true')\n",
    "a2.legend();"
   ]
  },
  {
   "cell_type": "code",
   "execution_count": null,
   "metadata": {},
   "outputs": [],
   "source": [
    "fig3 = plt.figure()\n",
    "a3 = fig3.add_subplot(1,1,1)\n",
    "a3.plot(y_pred_inv.flatten(),'r',marker='.', label='predicted')\n",
    "a3.legend();\n"
   ]
  },
  {
   "cell_type": "code",
   "execution_count": null,
   "metadata": {},
   "outputs": [],
   "source": [
    "\n",
    "plt.plot(y_test_inv.flatten(), marker='.', label='true')\n",
    "\n",
    "plt.plot(y_pred_inv.flatten(),'r',marker='.', label='predicted')\n",
    "plt.legend();"
   ]
  },
  {
   "cell_type": "code",
   "execution_count": null,
   "metadata": {},
   "outputs": [],
   "source": [
    "from sklearn.metrics import mean_squared_error"
   ]
  },
  {
   "cell_type": "code",
   "execution_count": null,
   "metadata": {},
   "outputs": [],
   "source": [
    "y_test_inv"
   ]
  },
  {
   "cell_type": "code",
   "execution_count": null,
   "metadata": {},
   "outputs": [],
   "source": [
    "y_pred_inv[:,0]"
   ]
  },
  {
   "cell_type": "code",
   "execution_count": null,
   "metadata": {},
   "outputs": [],
   "source": [
    "mean_squared_error(y_test_inv[0], y_pred_inv[:,0])"
   ]
  },
  {
   "cell_type": "code",
   "execution_count": null,
   "metadata": {},
   "outputs": [],
   "source": []
  },
  {
   "cell_type": "code",
   "execution_count": null,
   "metadata": {},
   "outputs": [],
   "source": []
  }
 ],
 "metadata": {
  "kernelspec": {
   "display_name": "Python 3",
   "language": "python",
   "name": "python3"
  },
  "language_info": {
   "codemirror_mode": {
    "name": "ipython",
    "version": 3
   },
   "file_extension": ".py",
   "mimetype": "text/x-python",
   "name": "python",
   "nbconvert_exporter": "python",
   "pygments_lexer": "ipython3",
   "version": "3.8.5"
  }
 },
 "nbformat": 4,
 "nbformat_minor": 4
}
