{
 "cells": [
  {
   "cell_type": "code",
   "execution_count": 1,
   "metadata": {},
   "outputs": [],
   "source": [
    "import os\n",
    "import tensorflow as tf\n",
    "from tensorflow import keras\n",
    "\n",
    "import pandas as pd\n",
    "import numpy as np\n",
    "import matplotlib.pyplot as plt\n",
    "from sklearn.preprocessing import StandardScaler\n",
    "from sklearn.metrics import mean_squared_error\n",
    "from timeit import default_timer as timer\n",
    "from IPython.display import clear_output"
   ]
  },
  {
   "cell_type": "code",
   "execution_count": 2,
   "metadata": {},
   "outputs": [],
   "source": [
    "\n",
    "os.environ[\"TF_CPP_MIN_LOG_LEVEL\"] = \"2\""
   ]
  },
  {
   "cell_type": "code",
   "execution_count": 3,
   "metadata": {},
   "outputs": [],
   "source": [
    "def create_dataset(X, y, time_steps=1):\n",
    "    Xs, ys = [], []    \n",
    "    for i in range(len(X) - time_steps):\n",
    "        clear_output(wait=True)\n",
    "        print('modeling to keras ',round((i/(len(X) - time_steps))*100,2), ('%'), end='')\n",
    "        s = round(timer() - start)\n",
    "        if(s>60):\n",
    "            s /=60\n",
    "            print(' ', s, ' seconds')\n",
    "        v = X.iloc[i: (i+time_steps), 2:4].to_numpy()\n",
    "        Xs.append(v)\n",
    "        ys.append(y.iloc[i+time_steps])\n",
    "    return np.array(Xs), np.array(ys)"
   ]
  },
  {
   "cell_type": "code",
   "execution_count": 4,
   "metadata": {},
   "outputs": [
    {
     "name": "stdout",
     "output_type": "stream",
     "text": [
      "loading dataset...\n"
     ]
    }
   ],
   "source": [
    "#carregando datasets\n",
    "print('loading dataset...')\n",
    "train = pd.read_csv('../datasets/com_concept_drift/sdn_train_unormalized.csv')\n",
    "test = pd.read_csv('../datasets/com_concept_drift/sdn_test_unormalized.csv')\n",
    "\n",
    "train = train[train.delay>=0]\n",
    "test = test[test.delay>=0]\n",
    "\n",
    "train = train[train.delay<=10000] \n",
    "test = test[test.delay<=10000] \n"
   ]
  },
  {
   "cell_type": "code",
   "execution_count": null,
   "metadata": {},
   "outputs": [],
   "source": []
  },
  {
   "cell_type": "code",
   "execution_count": 5,
   "metadata": {},
   "outputs": [
    {
     "name": "stdout",
     "output_type": "stream",
     "text": [
      "modeling to keras  99.81 %  11.133333333333333  seconds\n"
     ]
    }
   ],
   "source": [
    "start = timer()\n",
    "print('creating window')\n",
    "TIME_STEPS = 1\n",
    "X_train,Y_train = create_dataset(train, train.delay, time_steps=TIME_STEPS)\n",
    "X_test,Y_test = create_dataset(test, test.delay, time_steps=TIME_STEPS)\n",
    "\n",
    "print('2D to 3D duration: ', round(timer() - start))"
   ]
  },
  {
   "cell_type": "markdown",
   "metadata": {},
   "source": [
    "# setting MLP"
   ]
  },
  {
   "cell_type": "code",
   "execution_count": 6,
   "metadata": {},
   "outputs": [],
   "source": [
    "#configurando rede para treinamento\n",
    "print('Init Train')\n",
    "model = keras.Sequential()\n",
    "model.add(tf.keras.layers.Dense(activation=\"relu\", input_dim=2, units=10, kernel_initializer='uniform'))\n",
    "model.add(tf.keras.layers.Dense(activation=\"relu\", units=128, kernel_initializer='uniform'))\n",
    "model.add(tf.keras.layers.Dense(activation=\"relu\", units=128, kernel_initializer='uniform'))\n",
    "model.add(tf.keras.layers.Dense(activation=\"relu\", units=128, kernel_initializer='uniform'))\n",
    "model.add(keras.layers.Dropout(rate=0.2))\n",
    "model.add(keras.layers.Dense(units=1))"
   ]
  },
  {
   "cell_type": "markdown",
   "metadata": {},
   "source": [
    "# compiling"
   ]
  },
  {
   "cell_type": "code",
   "execution_count": 7,
   "metadata": {},
   "outputs": [],
   "source": [
    "loss =\"mse\"\n",
    "optim = tf.keras.optimizers.Adam(\n",
    "    learning_rate=0.0001)\n",
    "metrics=[\"accuracy\"]\n",
    "\n",
    "model.compile(loss=loss, optimizer=optim, \n",
    "             metrics=metrics\n",
    "             )"
   ]
  },
  {
   "cell_type": "markdown",
   "metadata": {},
   "source": [
    "# training "
   ]
  },
  {
   "cell_type": "code",
   "execution_count": 8,
   "metadata": {},
   "outputs": [
    {
     "name": "stdout",
     "output_type": "stream",
     "text": [
      "Init Train\n",
      "Epoch 1/100\n",
      "WARNING:tensorflow:Model was constructed with shape (None, 2) for input KerasTensor(type_spec=TensorSpec(shape=(None, 2), dtype=tf.float32, name='dense_input'), name='dense_input', description=\"created by layer 'dense_input'\"), but it was called on an input with incompatible shape (None, 1, 2).\n",
      "WARNING:tensorflow:Model was constructed with shape (None, 2) for input KerasTensor(type_spec=TensorSpec(shape=(None, 2), dtype=tf.float32, name='dense_input'), name='dense_input', description=\"created by layer 'dense_input'\"), but it was called on an input with incompatible shape (None, 1, 2).\n",
      "4979/4995 [============================>.] - ETA: 0s - loss: 12620.5869 - accuracy: 0.6480WARNING:tensorflow:Model was constructed with shape (None, 2) for input KerasTensor(type_spec=TensorSpec(shape=(None, 2), dtype=tf.float32, name='dense_input'), name='dense_input', description=\"created by layer 'dense_input'\"), but it was called on an input with incompatible shape (None, 1, 2).\n",
      "4995/4995 [==============================] - 20s 3ms/step - loss: 14563.4932 - accuracy: 0.6461 - val_loss: 18984.5566 - val_accuracy: 0.0000e+00\n",
      "Epoch 2/100\n",
      "4995/4995 [==============================] - 16s 3ms/step - loss: 14593.8555 - accuracy: 0.0000e+00 - val_loss: 19057.5508 - val_accuracy: 0.0000e+00\n",
      "Epoch 3/100\n",
      "4995/4995 [==============================] - 14s 3ms/step - loss: 14554.5801 - accuracy: 0.0000e+00 - val_loss: 19092.3496 - val_accuracy: 0.0000e+00\n",
      "Epoch 4/100\n",
      "4995/4995 [==============================] - 13s 3ms/step - loss: 14517.0762 - accuracy: 0.0000e+00 - val_loss: 19077.9277 - val_accuracy: 0.0000e+00\n",
      "Epoch 5/100\n",
      "4995/4995 [==============================] - 12s 2ms/step - loss: 14431.0537 - accuracy: 0.1121 - val_loss: 19162.8281 - val_accuracy: 0.0000e+00\n",
      "Epoch 6/100\n",
      "4995/4995 [==============================] - 11s 2ms/step - loss: 14296.5068 - accuracy: 4.0047e-05 - val_loss: 19064.8398 - val_accuracy: 0.0000e+00\n",
      "Epoch 7/100\n",
      "4995/4995 [==============================] - 12s 2ms/step - loss: 13916.9912 - accuracy: 0.0605 - val_loss: 18715.9102 - val_accuracy: 0.0000e+00\n",
      "Epoch 8/100\n",
      "4995/4995 [==============================] - 12s 2ms/step - loss: 12380.6152 - accuracy: 0.1992 - val_loss: 16378.9629 - val_accuracy: 0.0000e+00\n",
      "Epoch 9/100\n",
      "4995/4995 [==============================] - 12s 2ms/step - loss: 6440.5112 - accuracy: 0.2893 - val_loss: 9201.4053 - val_accuracy: 0.0000e+00\n",
      "Epoch 10/100\n",
      "4995/4995 [==============================] - 12s 2ms/step - loss: 2070.7917 - accuracy: 0.6350 - val_loss: 7322.8120 - val_accuracy: 0.0000e+00\n",
      "Epoch 11/100\n",
      "4995/4995 [==============================] - 12s 2ms/step - loss: 1696.8521 - accuracy: 0.6364 - val_loss: 4738.6211 - val_accuracy: 0.0000e+00\n",
      "Epoch 12/100\n",
      "4995/4995 [==============================] - 12s 2ms/step - loss: 1796.2686 - accuracy: 0.6027 - val_loss: 1496.8722 - val_accuracy: 0.2948\n",
      "Epoch 13/100\n",
      "4995/4995 [==============================] - 13s 3ms/step - loss: 1913.7960 - accuracy: 0.5698 - val_loss: 1594.4114 - val_accuracy: 0.0627\n",
      "Epoch 14/100\n",
      "4995/4995 [==============================] - 13s 3ms/step - loss: 1955.7272 - accuracy: 0.5538 - val_loss: 1535.4669 - val_accuracy: 0.0515\n",
      "Epoch 15/100\n",
      "4995/4995 [==============================] - 12s 2ms/step - loss: 1921.5026 - accuracy: 0.5614 - val_loss: 1486.8374 - val_accuracy: 0.0315\n",
      "Epoch 16/100\n",
      "4995/4995 [==============================] - 13s 3ms/step - loss: 1909.7012 - accuracy: 0.5715 - val_loss: 1486.8312 - val_accuracy: 0.0000e+00\n",
      "Epoch 17/100\n",
      "4995/4995 [==============================] - 13s 3ms/step - loss: 1972.1023 - accuracy: 0.5714 - val_loss: 1496.3660 - val_accuracy: 0.0000e+00\n",
      "Epoch 18/100\n",
      "4995/4995 [==============================] - 13s 3ms/step - loss: 2018.0323 - accuracy: 0.5667 - val_loss: 1473.0535 - val_accuracy: 0.0000e+00\n",
      "Epoch 19/100\n",
      "4995/4995 [==============================] - 12s 2ms/step - loss: 1962.3424 - accuracy: 0.5706 - val_loss: 1520.0557 - val_accuracy: 0.0000e+00\n",
      "Epoch 20/100\n",
      "4995/4995 [==============================] - 12s 2ms/step - loss: 1931.2529 - accuracy: 0.5768 - val_loss: 1572.1237 - val_accuracy: 0.0000e+00\n",
      "Epoch 21/100\n",
      "4995/4995 [==============================] - 12s 2ms/step - loss: 1914.7915 - accuracy: 0.5692 - val_loss: 1498.5692 - val_accuracy: 0.0000e+00\n",
      "Epoch 22/100\n",
      "4995/4995 [==============================] - 12s 2ms/step - loss: 1978.2003 - accuracy: 0.5832 - val_loss: 1543.0012 - val_accuracy: 0.0000e+00\n",
      "Epoch 23/100\n",
      "4995/4995 [==============================] - 18s 4ms/step - loss: 1908.6047 - accuracy: 0.5723 - val_loss: 1495.5116 - val_accuracy: 0.0000e+00\n",
      "Epoch 24/100\n",
      "4995/4995 [==============================] - 19s 4ms/step - loss: 1962.8383 - accuracy: 0.5906 - val_loss: 1447.4083 - val_accuracy: 0.0000e+00\n",
      "Epoch 25/100\n",
      "4995/4995 [==============================] - 18s 4ms/step - loss: 1984.1622 - accuracy: 0.5914 - val_loss: 1487.8463 - val_accuracy: 0.0000e+00\n",
      "Epoch 26/100\n",
      "4995/4995 [==============================] - 20s 4ms/step - loss: 1953.3342 - accuracy: 0.5863 - val_loss: 1456.7954 - val_accuracy: 0.0000e+00\n",
      "Epoch 27/100\n",
      "4995/4995 [==============================] - 21s 4ms/step - loss: 1965.0099 - accuracy: 0.6063 - val_loss: 1470.8191 - val_accuracy: 0.0000e+00\n",
      "Epoch 28/100\n",
      "4995/4995 [==============================] - 18s 4ms/step - loss: 1995.5632 - accuracy: 0.5802 - val_loss: 1529.3853 - val_accuracy: 0.0000e+00\n",
      "Epoch 29/100\n",
      "4995/4995 [==============================] - 18s 4ms/step - loss: 1991.9385 - accuracy: 0.6058 - val_loss: 1549.1047 - val_accuracy: 0.0000e+00\n",
      "Epoch 30/100\n",
      "4995/4995 [==============================] - 18s 4ms/step - loss: 2002.3098 - accuracy: 0.6200 - val_loss: 1515.8274 - val_accuracy: 0.0000e+00\n",
      "Epoch 31/100\n",
      "4995/4995 [==============================] - 18s 4ms/step - loss: 1953.1594 - accuracy: 0.6035 - val_loss: 1542.9946 - val_accuracy: 0.0000e+00\n",
      "Epoch 32/100\n",
      "4995/4995 [==============================] - 18s 4ms/step - loss: 1889.2633 - accuracy: 0.6096 - val_loss: 1418.7426 - val_accuracy: 0.0959\n",
      "Epoch 33/100\n",
      "4995/4995 [==============================] - 16s 3ms/step - loss: 1997.6588 - accuracy: 0.6176 - val_loss: 1472.8082 - val_accuracy: 0.0000e+00\n",
      "Epoch 34/100\n",
      "4995/4995 [==============================] - 16s 3ms/step - loss: 1990.4247 - accuracy: 0.6122 - val_loss: 1459.4720 - val_accuracy: 0.0000e+00\n",
      "Epoch 35/100\n",
      "4995/4995 [==============================] - 23s 5ms/step - loss: 1917.3015 - accuracy: 0.6119 - val_loss: 1546.1177 - val_accuracy: 0.0000e+00\n",
      "Epoch 36/100\n",
      "4995/4995 [==============================] - 21s 4ms/step - loss: 1934.3180 - accuracy: 0.5917 - val_loss: 1507.4536 - val_accuracy: 0.0000e+00\n",
      "Epoch 37/100\n",
      "4995/4995 [==============================] - 20s 4ms/step - loss: 2029.8838 - accuracy: 0.6066 - val_loss: 1517.2593 - val_accuracy: 0.0000e+00\n",
      "Epoch 38/100\n",
      "4995/4995 [==============================] - 20s 4ms/step - loss: 1941.3889 - accuracy: 0.6046 - val_loss: 1473.3129 - val_accuracy: 0.0535\n",
      "Epoch 39/100\n",
      "4995/4995 [==============================] - 19s 4ms/step - loss: 1950.5852 - accuracy: 0.6179 - val_loss: 1576.2297 - val_accuracy: 0.0000e+00\n",
      "Epoch 40/100\n",
      "4995/4995 [==============================] - 15s 3ms/step - loss: 1952.4586 - accuracy: 0.6020 - val_loss: 1524.4071 - val_accuracy: 0.0000e+00\n",
      "Epoch 41/100\n",
      "4995/4995 [==============================] - 16s 3ms/step - loss: 1983.5245 - accuracy: 0.5982 - val_loss: 1508.9203 - val_accuracy: 0.0000e+00\n",
      "Epoch 42/100\n",
      "4995/4995 [==============================] - 17s 3ms/step - loss: 1945.4657 - accuracy: 0.6282 - val_loss: 1451.5266 - val_accuracy: 0.2154\n",
      "Epoch 43/100\n",
      "4995/4995 [==============================] - 13s 3ms/step - loss: 2009.0558 - accuracy: 0.6300 - val_loss: 1574.6259 - val_accuracy: 0.0000e+00\n",
      "Epoch 44/100\n",
      "4995/4995 [==============================] - 12s 2ms/step - loss: 1915.5795 - accuracy: 0.5934 - val_loss: 1384.0504 - val_accuracy: 0.7178\n",
      "Epoch 45/100\n",
      "4995/4995 [==============================] - 12s 2ms/step - loss: 1969.0356 - accuracy: 0.6387 - val_loss: 1467.6215 - val_accuracy: 0.1016\n",
      "Epoch 46/100\n",
      "4995/4995 [==============================] - 12s 2ms/step - loss: 2022.8893 - accuracy: 0.6522 - val_loss: 1500.4902 - val_accuracy: 0.0485\n"
     ]
    },
    {
     "name": "stdout",
     "output_type": "stream",
     "text": [
      "Epoch 47/100\n",
      "4995/4995 [==============================] - 12s 2ms/step - loss: 1984.7052 - accuracy: 0.5923 - val_loss: 1478.1158 - val_accuracy: 0.1009\n",
      "Epoch 48/100\n",
      "4995/4995 [==============================] - 13s 3ms/step - loss: 1962.3511 - accuracy: 0.6076 - val_loss: 1446.5250 - val_accuracy: 0.1481\n",
      "Epoch 49/100\n",
      "4995/4995 [==============================] - 13s 3ms/step - loss: 2008.5388 - accuracy: 0.6308 - val_loss: 1425.2990 - val_accuracy: 0.1813\n",
      "Epoch 50/100\n",
      "4995/4995 [==============================] - 12s 2ms/step - loss: 1959.2343 - accuracy: 0.6064 - val_loss: 1346.4398 - val_accuracy: 0.7677\n",
      "Epoch 51/100\n",
      "4995/4995 [==============================] - 12s 2ms/step - loss: 1965.0155 - accuracy: 0.6230 - val_loss: 1464.7053 - val_accuracy: 0.0667\n",
      "Epoch 52/100\n",
      "4995/4995 [==============================] - 12s 2ms/step - loss: 1977.0648 - accuracy: 0.6189 - val_loss: 1478.6978 - val_accuracy: 0.0578\n",
      "Epoch 53/100\n",
      "4995/4995 [==============================] - 12s 2ms/step - loss: 1977.0292 - accuracy: 0.6271 - val_loss: 1528.9781 - val_accuracy: 0.0000e+00\n",
      "Epoch 54/100\n",
      "4995/4995 [==============================] - 12s 2ms/step - loss: 1944.4064 - accuracy: 0.6270 - val_loss: 1414.6044 - val_accuracy: 0.2465\n",
      "Epoch 55/100\n",
      "4995/4995 [==============================] - 12s 2ms/step - loss: 1997.5527 - accuracy: 0.6092 - val_loss: 1524.9675 - val_accuracy: 0.0016\n",
      "Epoch 56/100\n",
      "4995/4995 [==============================] - 12s 2ms/step - loss: 1953.3116 - accuracy: 0.6208 - val_loss: 1505.3184 - val_accuracy: 0.0566\n",
      "Epoch 57/100\n",
      "4995/4995 [==============================] - 12s 2ms/step - loss: 1950.6385 - accuracy: 0.6222 - val_loss: 1448.5963 - val_accuracy: 0.1193\n",
      "Epoch 58/100\n",
      "4995/4995 [==============================] - 12s 2ms/step - loss: 2019.6528 - accuracy: 0.6091 - val_loss: 1431.0098 - val_accuracy: 0.1501\n",
      "Epoch 59/100\n",
      "4995/4995 [==============================] - 12s 2ms/step - loss: 1949.2175 - accuracy: 0.6347 - val_loss: 1469.4316 - val_accuracy: 0.1184\n",
      "Epoch 60/100\n",
      "4995/4995 [==============================] - 12s 2ms/step - loss: 1933.7120 - accuracy: 0.6466 - val_loss: 1513.8484 - val_accuracy: 0.0510\n",
      "Epoch 61/100\n",
      "4995/4995 [==============================] - 12s 2ms/step - loss: 1916.6384 - accuracy: 0.6286 - val_loss: 1534.0243 - val_accuracy: 0.0319\n",
      "Epoch 62/100\n",
      "4995/4995 [==============================] - 12s 2ms/step - loss: 1939.9849 - accuracy: 0.6136 - val_loss: 1556.2615 - val_accuracy: 0.0305\n",
      "Epoch 63/100\n",
      "4995/4995 [==============================] - 13s 3ms/step - loss: 2003.2552 - accuracy: 0.6013 - val_loss: 1399.2366 - val_accuracy: 0.6774\n",
      "Epoch 64/100\n",
      "4995/4995 [==============================] - 13s 3ms/step - loss: 1993.4928 - accuracy: 0.6314 - val_loss: 1465.4178 - val_accuracy: 0.1193\n",
      "Epoch 65/100\n",
      "4995/4995 [==============================] - 12s 2ms/step - loss: 1996.7662 - accuracy: 0.6173 - val_loss: 1441.5996 - val_accuracy: 0.1593\n",
      "Epoch 66/100\n",
      "4995/4995 [==============================] - 13s 3ms/step - loss: 1984.2700 - accuracy: 0.6269 - val_loss: 1527.4210 - val_accuracy: 0.0067\n",
      "Epoch 67/100\n",
      "4995/4995 [==============================] - 12s 2ms/step - loss: 1884.3961 - accuracy: 0.6154 - val_loss: 1516.1530 - val_accuracy: 0.0943\n",
      "Epoch 68/100\n",
      "4995/4995 [==============================] - 12s 2ms/step - loss: 1998.7654 - accuracy: 0.6162 - val_loss: 1488.2944 - val_accuracy: 0.1564\n",
      "Epoch 69/100\n",
      "4995/4995 [==============================] - 13s 3ms/step - loss: 1996.2076 - accuracy: 0.6287 - val_loss: 1460.6722 - val_accuracy: 0.2691\n",
      "Epoch 70/100\n",
      "4995/4995 [==============================] - 12s 2ms/step - loss: 1977.2980 - accuracy: 0.6387 - val_loss: 1493.8601 - val_accuracy: 0.1307\n",
      "Epoch 71/100\n",
      "4995/4995 [==============================] - 12s 2ms/step - loss: 1956.0131 - accuracy: 0.6273 - val_loss: 1462.0156 - val_accuracy: 0.2764\n",
      "Epoch 72/100\n",
      "4995/4995 [==============================] - 13s 3ms/step - loss: 2028.2323 - accuracy: 0.6127 - val_loss: 1566.0856 - val_accuracy: 0.0943\n",
      "Epoch 73/100\n",
      "4995/4995 [==============================] - 14s 3ms/step - loss: 1965.9266 - accuracy: 0.6236 - val_loss: 1516.3866 - val_accuracy: 0.2712\n",
      "Epoch 74/100\n",
      "4995/4995 [==============================] - 12s 2ms/step - loss: 1973.3655 - accuracy: 0.6415 - val_loss: 1467.0552 - val_accuracy: 0.6774\n",
      "Epoch 75/100\n",
      "4995/4995 [==============================] - 14s 3ms/step - loss: 1963.4274 - accuracy: 0.6283 - val_loss: 1506.8533 - val_accuracy: 0.3716\n",
      "Epoch 76/100\n",
      "4995/4995 [==============================] - 19s 4ms/step - loss: 1945.6276 - accuracy: 0.6291 - val_loss: 1532.9681 - val_accuracy: 0.3469\n",
      "Epoch 77/100\n",
      "4995/4995 [==============================] - 19s 4ms/step - loss: 1965.1805 - accuracy: 0.6285 - val_loss: 1447.4508 - val_accuracy: 0.9054\n",
      "Epoch 78/100\n",
      "4995/4995 [==============================] - 19s 4ms/step - loss: 1971.5468 - accuracy: 0.6359 - val_loss: 1483.5361 - val_accuracy: 0.8452\n",
      "Epoch 79/100\n",
      "4995/4995 [==============================] - 19s 4ms/step - loss: 1962.8793 - accuracy: 0.6325 - val_loss: 1488.4008 - val_accuracy: 0.7111\n",
      "Epoch 80/100\n",
      "4995/4995 [==============================] - 19s 4ms/step - loss: 1986.3876 - accuracy: 0.6554 - val_loss: 1531.0885 - val_accuracy: 0.4671\n",
      "Epoch 81/100\n",
      "4995/4995 [==============================] - 19s 4ms/step - loss: 1955.3867 - accuracy: 0.6498 - val_loss: 1434.3553 - val_accuracy: 0.9908\n",
      "Epoch 82/100\n",
      "4995/4995 [==============================] - 19s 4ms/step - loss: 2001.4943 - accuracy: 0.6478 - val_loss: 1483.7875 - val_accuracy: 0.9256\n",
      "Epoch 83/100\n",
      "4995/4995 [==============================] - 19s 4ms/step - loss: 2008.2523 - accuracy: 0.6522 - val_loss: 1482.4470 - val_accuracy: 0.9094\n",
      "Epoch 84/100\n",
      "4995/4995 [==============================] - 19s 4ms/step - loss: 1952.9996 - accuracy: 0.6374 - val_loss: 1482.6967 - val_accuracy: 0.9092\n",
      "Epoch 85/100\n",
      "4995/4995 [==============================] - 19s 4ms/step - loss: 1925.4054 - accuracy: 0.6435 - val_loss: 1546.1674 - val_accuracy: 0.7371\n",
      "Epoch 86/100\n",
      "4995/4995 [==============================] - 19s 4ms/step - loss: 1985.8087 - accuracy: 0.6453 - val_loss: 1454.1130 - val_accuracy: 0.9595\n",
      "Epoch 87/100\n",
      "4995/4995 [==============================] - 18s 4ms/step - loss: 1979.4980 - accuracy: 0.6386 - val_loss: 1482.5673 - val_accuracy: 0.9227\n",
      "Epoch 88/100\n",
      "4995/4995 [==============================] - 18s 4ms/step - loss: 1992.3199 - accuracy: 0.6369 - val_loss: 1452.5841 - val_accuracy: 0.9405\n",
      "Epoch 89/100\n",
      "4995/4995 [==============================] - 18s 4ms/step - loss: 1953.9559 - accuracy: 0.6329 - val_loss: 1482.3489 - val_accuracy: 0.9211\n",
      "Epoch 90/100\n",
      "4995/4995 [==============================] - 24s 5ms/step - loss: 1987.4451 - accuracy: 0.6376 - val_loss: 1483.1356 - val_accuracy: 0.9216\n",
      "Epoch 91/100\n",
      "4995/4995 [==============================] - 18s 4ms/step - loss: 1956.8673 - accuracy: 0.6350 - val_loss: 1458.0466 - val_accuracy: 0.9769\n",
      "Epoch 92/100\n",
      "4995/4995 [==============================] - 16s 3ms/step - loss: 1958.0377 - accuracy: 0.6385 - val_loss: 1443.4928 - val_accuracy: 0.9908\n",
      "Epoch 93/100\n",
      "4995/4995 [==============================] - 16s 3ms/step - loss: 1937.8007 - accuracy: 0.6399 - val_loss: 1436.0779 - val_accuracy: 0.9908\n",
      "Epoch 94/100\n",
      "4995/4995 [==============================] - 16s 3ms/step - loss: 1952.2384 - accuracy: 0.6361 - val_loss: 1539.6107 - val_accuracy: 0.9184\n",
      "Epoch 95/100\n",
      "4995/4995 [==============================] - 17s 3ms/step - loss: 1942.2119 - accuracy: 0.6314 - val_loss: 1476.2469 - val_accuracy: 0.9908\n",
      "Epoch 96/100\n",
      "4995/4995 [==============================] - 15s 3ms/step - loss: 1986.2629 - accuracy: 0.6299 - val_loss: 1513.1121 - val_accuracy: 0.9908\n",
      "Epoch 97/100\n",
      "4995/4995 [==============================] - 14s 3ms/step - loss: 1908.8978 - accuracy: 0.6286 - val_loss: 1544.4589 - val_accuracy: 0.9908\n",
      "Epoch 98/100\n",
      "4995/4995 [==============================] - 13s 3ms/step - loss: 1915.3125 - accuracy: 0.6340 - val_loss: 1447.6991 - val_accuracy: 0.9908\n",
      "Epoch 99/100\n",
      "4995/4995 [==============================] - 13s 3ms/step - loss: 1994.4196 - accuracy: 0.6269 - val_loss: 1473.8724 - val_accuracy: 0.9908\n",
      "Epoch 100/100\n"
     ]
    },
    {
     "name": "stdout",
     "output_type": "stream",
     "text": [
      "4995/4995 [==============================] - 13s 3ms/step - loss: 1983.3220 - accuracy: 0.6399 - val_loss: 1538.5986 - val_accuracy: 0.9908\n",
      "trraining duration:  1496\n"
     ]
    }
   ],
   "source": [
    "print('Init Train')\n",
    "start = timer()\n",
    "history = model.fit(\n",
    "    X_train, Y_train, \n",
    "    epochs=100, \n",
    "    batch_size= 10,\n",
    "    validation_split=0.1,\n",
    "    shuffle=False,\n",
    "#     callbacks=[tensorboard_callback]\n",
    ")\n",
    "print('trraining duration: ',round(timer() - start))"
   ]
  },
  {
   "cell_type": "markdown",
   "metadata": {},
   "source": [
    "# saving model"
   ]
  },
  {
   "cell_type": "code",
   "execution_count": 9,
   "metadata": {},
   "outputs": [
    {
     "name": "stdout",
     "output_type": "stream",
     "text": [
      "Saving Model\n",
      "INFO:tensorflow:Assets written to: models/mlp\\assets\n"
     ]
    }
   ],
   "source": [
    "print('Saving Model')\n",
    "model.save('models/mlp')"
   ]
  },
  {
   "cell_type": "markdown",
   "metadata": {},
   "source": [
    "# loss training"
   ]
  },
  {
   "cell_type": "code",
   "execution_count": 10,
   "metadata": {},
   "outputs": [
    {
     "data": {
      "image/png": "[encoded data removed]",
      "text/plain": [
       "<Figure size 432x288 with 1 Axes>"
      ]
     },
     "metadata": {
      "needs_background": "light"
     },
     "output_type": "display_data"
    }
   ],
   "source": [
    "# accuracy\n",
    "\n",
    "\n",
    "fig1 = plt.figure()\n",
    "ax1 = fig1.add_subplot(1,1,1)\n",
    "ax1.plot(history.history['loss'], label='train')\n",
    "ax1.plot(history.history['val_loss'], label='validation')\n",
    "ax1.legend();"
   ]
  },
  {
   "cell_type": "markdown",
   "metadata": {},
   "source": [
    "# accuracy"
   ]
  },
  {
   "cell_type": "code",
   "execution_count": 11,
   "metadata": {},
   "outputs": [
    {
     "data": {
      "image/png": "[encoded data removed]",
      "text/plain": [
       "<Figure size 432x288 with 1 Axes>"
      ]
     },
     "metadata": {
      "needs_background": "light"
     },
     "output_type": "display_data"
    }
   ],
   "source": [
    "\n",
    "fig1 = plt.figure()\n",
    "ax1 = fig1.add_subplot(1,1,1)\n",
    "ax1.plot(history.history['accuracy'], label='train')\n",
    "ax1.plot(history.history['val_accuracy'], label='validation')\n",
    "ax1.legend();"
   ]
  },
  {
   "cell_type": "markdown",
   "metadata": {},
   "source": [
    "# predicting"
   ]
  },
  {
   "cell_type": "code",
   "execution_count": 12,
   "metadata": {},
   "outputs": [
    {
     "name": "stdout",
     "output_type": "stream",
     "text": [
      "WARNING:tensorflow:Model was constructed with shape (None, 2) for input KerasTensor(type_spec=TensorSpec(shape=(None, 2), dtype=tf.float32, name='dense_input'), name='dense_input', description=\"created by layer 'dense_input'\"), but it was called on an input with incompatible shape (None, 1, 2).\n"
     ]
    }
   ],
   "source": [
    "y_pred = model.predict(X_test)"
   ]
  },
  {
   "cell_type": "markdown",
   "metadata": {},
   "source": [
    "# unormalizing "
   ]
  },
  {
   "cell_type": "code",
   "execution_count": 13,
   "metadata": {},
   "outputs": [],
   "source": [
    "f_columns = ['temperature','label']\n",
    "scaler1 = StandardScaler().fit(train[f_columns])\n",
    "scaler2 = StandardScaler().fit(train[f_columns])\n",
    "\n",
    "scaler1= scaler1.fit(train[f_columns].to_numpy())\n",
    "scaler2 = scaler2.fit(train[['delay']])\n",
    "\n",
    "\n",
    "#normalizando test\n",
    "scaler3 = StandardScaler().fit(test[f_columns])\n",
    "scaler4 = StandardScaler().fit(test[f_columns])\n",
    "\n",
    "scaler3 = scaler3.fit(test[f_columns].to_numpy())\n",
    "scaler4 = scaler4.fit(test[['delay']])\n"
   ]
  },
  {
   "cell_type": "code",
   "execution_count": 14,
   "metadata": {},
   "outputs": [],
   "source": [
    "y_test_inv = scaler4.inverse_transform(Y_test.reshape(1,-1))\n",
    "y_pred_inv = scaler4.inverse_transform(y_pred)"
   ]
  },
  {
   "cell_type": "code",
   "execution_count": 15,
   "metadata": {},
   "outputs": [
    {
     "data": {
      "image/png": "[encoded data removed]",
      "text/plain": [
       "<Figure size 432x288 with 1 Axes>"
      ]
     },
     "metadata": {
      "needs_background": "light"
     },
     "output_type": "display_data"
    }
   ],
   "source": [
    "fig2 = plt.figure()\n",
    "a2 = fig2.add_subplot(1,1,1)\n",
    "a2.plot(y_test_inv.flatten(), marker='.', label='true')\n",
    "a2.legend();"
   ]
  },
  {
   "cell_type": "code",
   "execution_count": 16,
   "metadata": {
    "scrolled": true
   },
   "outputs": [
    {
     "data": {
      "image/png": "[encoded data removed]",
      "text/plain": [
       "<Figure size 432x288 with 1 Axes>"
      ]
     },
     "metadata": {
      "needs_background": "light"
     },
     "output_type": "display_data"
    }
   ],
   "source": [
    "fig3 = plt.figure()\n",
    "a3 = fig3.add_subplot(1,1,1)\n",
    "a3.plot(y_pred_inv.flatten(),'r',marker='.', label='predicted')\n",
    "a3.legend();\n"
   ]
  },
  {
   "cell_type": "code",
   "execution_count": 17,
   "metadata": {},
   "outputs": [
    {
     "data": {
      "image/png": "[encoded data removed]",
      "text/plain": [
       "<Figure size 432x288 with 1 Axes>"
      ]
     },
     "metadata": {
      "needs_background": "light"
     },
     "output_type": "display_data"
    }
   ],
   "source": [
    "\n",
    "plt.plot(y_test_inv.flatten(), marker='.', label='true')\n",
    "\n",
    "plt.plot(y_pred_inv.flatten(),'r',marker='.', label='predicted')\n",
    "plt.legend();"
   ]
  },
  {
   "cell_type": "code",
   "execution_count": 26,
   "metadata": {},
   "outputs": [
    {
     "name": "stdout",
     "output_type": "stream",
     "text": [
      "progress  98.6 %\n"
     ]
    }
   ],
   "source": [
    "l1 = []\n",
    "l2 = []\n",
    "for i in np.arange(y_pred_inv.shape[0]):\n",
    "    clear_output(wait=True)\n",
    "    print('progress ',round((i/y_pred_inv.shape[0])*100,2), ('%'))\n",
    "    if(y_pred_inv[i,0,0]<=350000):\n",
    "        l1.append(y_pred_inv[i])\n",
    "    if(y_test_inv[0,i]<=350000):\n",
    "        l2.append(y_test_inv[0,i])\n",
    "\n",
    "y_pred_inv2 = np.array(l1)\n",
    "y_test_inv2 = np.array(l2)"
   ]
  },
  {
   "cell_type": "code",
   "execution_count": 27,
   "metadata": {
    "scrolled": true
   },
   "outputs": [],
   "source": [
    "\n",
    "plt.plot(y_test_inv2.flatten(), marker='.', label='true')\n",
    "\n",
    "plt.plot(y_pred_inv2.flatten(),'r',marker='.', label='predicted')\n",
    "plt.legend();"
   ]
  },
  {
   "cell_type": "code",
   "execution_count": 28,
   "metadata": {},
   "outputs": [
    {
     "name": "stdout",
     "output_type": "stream",
     "text": [
      "progress  100.0 %\n"
     ]
    }
   ],
   "source": [
    "l1 = []\n",
    "l2 = []\n",
    "for i in np.arange(y_pred_inv.shape[0]):\n",
    "    clear_output(wait=True)\n",
    "    print('progress ',round((i/y_pred_inv.shape[0])*100,2), ('%'))\n",
    "    if(y_pred_inv[i,0,0]<=350000):\n",
    "        l1.append(y_pred_inv[i])\n",
    "    if(y_test_inv[0,i]<=350000):\n",
    "        l2.append(y_test_inv[0,i])\n",
    "\n",
    "y_pred_inv3 = np.array(l1)\n",
    "y_test_inv3 = np.array(l2)"
   ]
  },
  {
   "cell_type": "code",
   "execution_count": 35,
   "metadata": {},
   "outputs": [
    {
     "data": {
      "image/png": "[encoded data removed]",
      "text/plain": [
       "<Figure size 432x288 with 1 Axes>"
      ]
     },
     "metadata": {
      "needs_background": "light"
     },
     "output_type": "display_data"
    }
   ],
   "source": [
    "\n",
    "\n",
    "\n",
    "plt.plot(y_pred_inv2.flatten(),'r',marker='.', label='predicted')\n",
    "plt.plot(y_test_inv2.flatten(), marker='.', label='true')\n",
    "plt.legend();"
   ]
  },
  {
   "cell_type": "code",
   "execution_count": 36,
   "metadata": {},
   "outputs": [],
   "source": [
    "from sklearn.metrics import mean_squared_error"
   ]
  },
  {
   "cell_type": "code",
   "execution_count": 37,
   "metadata": {},
   "outputs": [
    {
     "data": {
      "text/plain": [
       "875000.6517809001"
      ]
     },
     "execution_count": 37,
     "metadata": {},
     "output_type": "execute_result"
    }
   ],
   "source": [
    "np.max(y_test_inv)"
   ]
  },
  {
   "cell_type": "code",
   "execution_count": 38,
   "metadata": {},
   "outputs": [
    {
     "data": {
      "text/plain": [
       "194165.39"
      ]
     },
     "execution_count": 38,
     "metadata": {},
     "output_type": "execute_result"
    }
   ],
   "source": [
    "np.max(y_pred_inv[:,0])"
   ]
  },
  {
   "cell_type": "code",
   "execution_count": 39,
   "metadata": {},
   "outputs": [
    {
     "data": {
      "text/plain": [
       "513641227.8055485"
      ]
     },
     "execution_count": 39,
     "metadata": {},
     "output_type": "execute_result"
    }
   ],
   "source": [
    "mean_squared_error(y_test_inv[0], y_pred_inv[:,0])"
   ]
  },
  {
   "cell_type": "code",
   "execution_count": 43,
   "metadata": {},
   "outputs": [],
   "source": [
    "from sklearn.metrics import mean_squared_error\n",
    "from sklearn.metrics import median_absolute_error\n",
    "from sklearn.metrics import mean_absolute_error\n",
    "from sklearn.metrics import mean_squared_log_error\n"
   ]
  },
  {
   "cell_type": "code",
   "execution_count": 50,
   "metadata": {},
   "outputs": [
    {
     "name": "stdout",
     "output_type": "stream",
     "text": [
      "22663.654334761384\n",
      "2070.443394213174\n",
      "20.907545591220824\n"
     ]
    }
   ],
   "source": [
    "rmse =  mean_squared_error(y_test_inv[0], y_pred_inv[:,0], squared=False)\n",
    "mae =  mean_absolute_error(y_test_inv[0], y_pred_inv[:,0])\n",
    "median_mae = median_absolute_error(y_test_inv[0], y_pred_inv[:,0])\n",
    "msle = mean_squared_log_error(y_test_inv[0], y_pred_inv[:,0])\n",
    "\n",
    "print(rmse)\n",
    "print(mae)\n",
    "print(median_mae)\n"
   ]
  },
  {
   "cell_type": "code",
   "execution_count": 51,
   "metadata": {},
   "outputs": [
    {
     "data": {
      "image/png": "[encoded data removed]",
      "text/plain": [
       "<Figure size 432x288 with 1 Axes>"
      ]
     },
     "metadata": {
      "needs_background": "light"
     },
     "output_type": "display_data"
    }
   ],
   "source": [
    "objects = ('rmse', 'mae', 'median-mae')\n",
    "y_pos = np.arange(3)\n",
    "performance = [rmse,mae,median_mae]\n",
    "\n",
    "plt.bar(y_pos, performance, align='center')\n",
    "plt.xticks(y_pos, objects)\n",
    "#plt.ylabel('Usage')\n",
    "plt.title('Métricas regressão')\n",
    "\n",
    "plt.show()"
   ]
  },
  {
   "cell_type": "code",
   "execution_count": 47,
   "metadata": {},
   "outputs": [
    {
     "ename": "ValueError",
     "evalue": "The number of FixedLocator locations (2), usually from a call to set_ticks, does not match the number of ticklabels (4).",
     "output_type": "error",
     "traceback": [
      "\u001b[1;31m---------------------------------------------------------------------------\u001b[0m",
      "\u001b[1;31mValueError\u001b[0m                                Traceback (most recent call last)",
      "\u001b[1;32m<ipython-input-47-8a787a9e338e>\u001b[0m in \u001b[0;36m<module>\u001b[1;34m\u001b[0m\n\u001b[0;32m      4\u001b[0m \u001b[1;33m\u001b[0m\u001b[0m\n\u001b[0;32m      5\u001b[0m \u001b[0mplt\u001b[0m\u001b[1;33m.\u001b[0m\u001b[0mbar\u001b[0m\u001b[1;33m(\u001b[0m\u001b[0my_pos\u001b[0m\u001b[1;33m,\u001b[0m \u001b[0mperformance\u001b[0m\u001b[1;33m,\u001b[0m \u001b[0malign\u001b[0m\u001b[1;33m=\u001b[0m\u001b[1;34m'center'\u001b[0m\u001b[1;33m,\u001b[0m \u001b[0malpha\u001b[0m\u001b[1;33m=\u001b[0m\u001b[1;36m0.5\u001b[0m\u001b[1;33m)\u001b[0m\u001b[1;33m\u001b[0m\u001b[1;33m\u001b[0m\u001b[0m\n\u001b[1;32m----> 6\u001b[1;33m \u001b[0mplt\u001b[0m\u001b[1;33m.\u001b[0m\u001b[0mxticks\u001b[0m\u001b[1;33m(\u001b[0m\u001b[0my_pos\u001b[0m\u001b[1;33m,\u001b[0m \u001b[0mobjects\u001b[0m\u001b[1;33m)\u001b[0m\u001b[1;33m\u001b[0m\u001b[1;33m\u001b[0m\u001b[0m\n\u001b[0m\u001b[0;32m      7\u001b[0m \u001b[1;31m#plt.ylabel('Usage')\u001b[0m\u001b[1;33m\u001b[0m\u001b[1;33m\u001b[0m\u001b[1;33m\u001b[0m\u001b[0m\n\u001b[0;32m      8\u001b[0m \u001b[0mplt\u001b[0m\u001b[1;33m.\u001b[0m\u001b[0mtitle\u001b[0m\u001b[1;33m(\u001b[0m\u001b[1;34m'Métricas regressão'\u001b[0m\u001b[1;33m)\u001b[0m\u001b[1;33m\u001b[0m\u001b[1;33m\u001b[0m\u001b[0m\n",
      "\u001b[1;32m~\\anaconda3\\lib\\site-packages\\matplotlib\\pyplot.py\u001b[0m in \u001b[0;36mxticks\u001b[1;34m(ticks, labels, **kwargs)\u001b[0m\n\u001b[0;32m   1657\u001b[0m         \u001b[0mlabels\u001b[0m \u001b[1;33m=\u001b[0m \u001b[0max\u001b[0m\u001b[1;33m.\u001b[0m\u001b[0mget_xticklabels\u001b[0m\u001b[1;33m(\u001b[0m\u001b[1;33m)\u001b[0m\u001b[1;33m\u001b[0m\u001b[1;33m\u001b[0m\u001b[0m\n\u001b[0;32m   1658\u001b[0m     \u001b[1;32melse\u001b[0m\u001b[1;33m:\u001b[0m\u001b[1;33m\u001b[0m\u001b[1;33m\u001b[0m\u001b[0m\n\u001b[1;32m-> 1659\u001b[1;33m         \u001b[0mlabels\u001b[0m \u001b[1;33m=\u001b[0m \u001b[0max\u001b[0m\u001b[1;33m.\u001b[0m\u001b[0mset_xticklabels\u001b[0m\u001b[1;33m(\u001b[0m\u001b[0mlabels\u001b[0m\u001b[1;33m,\u001b[0m \u001b[1;33m**\u001b[0m\u001b[0mkwargs\u001b[0m\u001b[1;33m)\u001b[0m\u001b[1;33m\u001b[0m\u001b[1;33m\u001b[0m\u001b[0m\n\u001b[0m\u001b[0;32m   1660\u001b[0m     \u001b[1;32mfor\u001b[0m \u001b[0ml\u001b[0m \u001b[1;32min\u001b[0m \u001b[0mlabels\u001b[0m\u001b[1;33m:\u001b[0m\u001b[1;33m\u001b[0m\u001b[1;33m\u001b[0m\u001b[0m\n\u001b[0;32m   1661\u001b[0m         \u001b[0ml\u001b[0m\u001b[1;33m.\u001b[0m\u001b[0mupdate\u001b[0m\u001b[1;33m(\u001b[0m\u001b[0mkwargs\u001b[0m\u001b[1;33m)\u001b[0m\u001b[1;33m\u001b[0m\u001b[1;33m\u001b[0m\u001b[0m\n",
      "\u001b[1;32m~\\anaconda3\\lib\\site-packages\\matplotlib\\axes\\_base.py\u001b[0m in \u001b[0;36mwrapper\u001b[1;34m(self, *args, **kwargs)\u001b[0m\n\u001b[0;32m     61\u001b[0m \u001b[1;33m\u001b[0m\u001b[0m\n\u001b[0;32m     62\u001b[0m         \u001b[1;32mdef\u001b[0m \u001b[0mwrapper\u001b[0m\u001b[1;33m(\u001b[0m\u001b[0mself\u001b[0m\u001b[1;33m,\u001b[0m \u001b[1;33m*\u001b[0m\u001b[0margs\u001b[0m\u001b[1;33m,\u001b[0m \u001b[1;33m**\u001b[0m\u001b[0mkwargs\u001b[0m\u001b[1;33m)\u001b[0m\u001b[1;33m:\u001b[0m\u001b[1;33m\u001b[0m\u001b[1;33m\u001b[0m\u001b[0m\n\u001b[1;32m---> 63\u001b[1;33m             \u001b[1;32mreturn\u001b[0m \u001b[0mget_method\u001b[0m\u001b[1;33m(\u001b[0m\u001b[0mself\u001b[0m\u001b[1;33m)\u001b[0m\u001b[1;33m(\u001b[0m\u001b[1;33m*\u001b[0m\u001b[0margs\u001b[0m\u001b[1;33m,\u001b[0m \u001b[1;33m**\u001b[0m\u001b[0mkwargs\u001b[0m\u001b[1;33m)\u001b[0m\u001b[1;33m\u001b[0m\u001b[1;33m\u001b[0m\u001b[0m\n\u001b[0m\u001b[0;32m     64\u001b[0m \u001b[1;33m\u001b[0m\u001b[0m\n\u001b[0;32m     65\u001b[0m         \u001b[0mwrapper\u001b[0m\u001b[1;33m.\u001b[0m\u001b[0m__module__\u001b[0m \u001b[1;33m=\u001b[0m \u001b[0mowner\u001b[0m\u001b[1;33m.\u001b[0m\u001b[0m__module__\u001b[0m\u001b[1;33m\u001b[0m\u001b[1;33m\u001b[0m\u001b[0m\n",
      "\u001b[1;32m~\\anaconda3\\lib\\site-packages\\matplotlib\\cbook\\deprecation.py\u001b[0m in \u001b[0;36mwrapper\u001b[1;34m(*args, **kwargs)\u001b[0m\n\u001b[0;32m    449\u001b[0m                 \u001b[1;34m\"parameter will become keyword-only %(removal)s.\"\u001b[0m\u001b[1;33m,\u001b[0m\u001b[1;33m\u001b[0m\u001b[1;33m\u001b[0m\u001b[0m\n\u001b[0;32m    450\u001b[0m                 name=name, obj_type=f\"parameter of {func.__name__}()\")\n\u001b[1;32m--> 451\u001b[1;33m         \u001b[1;32mreturn\u001b[0m \u001b[0mfunc\u001b[0m\u001b[1;33m(\u001b[0m\u001b[1;33m*\u001b[0m\u001b[0margs\u001b[0m\u001b[1;33m,\u001b[0m \u001b[1;33m**\u001b[0m\u001b[0mkwargs\u001b[0m\u001b[1;33m)\u001b[0m\u001b[1;33m\u001b[0m\u001b[1;33m\u001b[0m\u001b[0m\n\u001b[0m\u001b[0;32m    452\u001b[0m \u001b[1;33m\u001b[0m\u001b[0m\n\u001b[0;32m    453\u001b[0m     \u001b[1;32mreturn\u001b[0m \u001b[0mwrapper\u001b[0m\u001b[1;33m\u001b[0m\u001b[1;33m\u001b[0m\u001b[0m\n",
      "\u001b[1;32m~\\anaconda3\\lib\\site-packages\\matplotlib\\axis.py\u001b[0m in \u001b[0;36m_set_ticklabels\u001b[1;34m(self, labels, fontdict, minor, **kwargs)\u001b[0m\n\u001b[0;32m   1791\u001b[0m         \u001b[1;32mif\u001b[0m \u001b[0mfontdict\u001b[0m \u001b[1;32mis\u001b[0m \u001b[1;32mnot\u001b[0m \u001b[1;32mNone\u001b[0m\u001b[1;33m:\u001b[0m\u001b[1;33m\u001b[0m\u001b[1;33m\u001b[0m\u001b[0m\n\u001b[0;32m   1792\u001b[0m             \u001b[0mkwargs\u001b[0m\u001b[1;33m.\u001b[0m\u001b[0mupdate\u001b[0m\u001b[1;33m(\u001b[0m\u001b[0mfontdict\u001b[0m\u001b[1;33m)\u001b[0m\u001b[1;33m\u001b[0m\u001b[1;33m\u001b[0m\u001b[0m\n\u001b[1;32m-> 1793\u001b[1;33m         \u001b[1;32mreturn\u001b[0m \u001b[0mself\u001b[0m\u001b[1;33m.\u001b[0m\u001b[0mset_ticklabels\u001b[0m\u001b[1;33m(\u001b[0m\u001b[0mlabels\u001b[0m\u001b[1;33m,\u001b[0m \u001b[0mminor\u001b[0m\u001b[1;33m=\u001b[0m\u001b[0mminor\u001b[0m\u001b[1;33m,\u001b[0m \u001b[1;33m**\u001b[0m\u001b[0mkwargs\u001b[0m\u001b[1;33m)\u001b[0m\u001b[1;33m\u001b[0m\u001b[1;33m\u001b[0m\u001b[0m\n\u001b[0m\u001b[0;32m   1794\u001b[0m \u001b[1;33m\u001b[0m\u001b[0m\n\u001b[0;32m   1795\u001b[0m     \u001b[1;33m@\u001b[0m\u001b[0mcbook\u001b[0m\u001b[1;33m.\u001b[0m\u001b[0m_make_keyword_only\u001b[0m\u001b[1;33m(\u001b[0m\u001b[1;34m\"3.2\"\u001b[0m\u001b[1;33m,\u001b[0m \u001b[1;34m\"minor\"\u001b[0m\u001b[1;33m)\u001b[0m\u001b[1;33m\u001b[0m\u001b[1;33m\u001b[0m\u001b[0m\n",
      "\u001b[1;32m~\\anaconda3\\lib\\site-packages\\matplotlib\\axis.py\u001b[0m in \u001b[0;36mset_ticklabels\u001b[1;34m(self, ticklabels, minor, **kwargs)\u001b[0m\n\u001b[0;32m   1712\u001b[0m             \u001b[1;31m# remove all tick labels, so only error for > 0 ticklabels\u001b[0m\u001b[1;33m\u001b[0m\u001b[1;33m\u001b[0m\u001b[1;33m\u001b[0m\u001b[0m\n\u001b[0;32m   1713\u001b[0m             \u001b[1;32mif\u001b[0m \u001b[0mlen\u001b[0m\u001b[1;33m(\u001b[0m\u001b[0mlocator\u001b[0m\u001b[1;33m.\u001b[0m\u001b[0mlocs\u001b[0m\u001b[1;33m)\u001b[0m \u001b[1;33m!=\u001b[0m \u001b[0mlen\u001b[0m\u001b[1;33m(\u001b[0m\u001b[0mticklabels\u001b[0m\u001b[1;33m)\u001b[0m \u001b[1;32mand\u001b[0m \u001b[0mlen\u001b[0m\u001b[1;33m(\u001b[0m\u001b[0mticklabels\u001b[0m\u001b[1;33m)\u001b[0m \u001b[1;33m!=\u001b[0m \u001b[1;36m0\u001b[0m\u001b[1;33m:\u001b[0m\u001b[1;33m\u001b[0m\u001b[1;33m\u001b[0m\u001b[0m\n\u001b[1;32m-> 1714\u001b[1;33m                 raise ValueError(\n\u001b[0m\u001b[0;32m   1715\u001b[0m                     \u001b[1;34m\"The number of FixedLocator locations\"\u001b[0m\u001b[1;33m\u001b[0m\u001b[1;33m\u001b[0m\u001b[0m\n\u001b[0;32m   1716\u001b[0m                     \u001b[1;34mf\" ({len(locator.locs)}), usually from a call to\"\u001b[0m\u001b[1;33m\u001b[0m\u001b[1;33m\u001b[0m\u001b[0m\n",
      "\u001b[1;31mValueError\u001b[0m: The number of FixedLocator locations (2), usually from a call to set_ticks, does not match the number of ticklabels (4)."
     ]
    },
    {
     "data": {
      "image/png": "[encoded data removed]",
      "text/plain": [
       "<Figure size 432x288 with 1 Axes>"
      ]
     },
     "metadata": {
      "needs_background": "light"
     },
     "output_type": "display_data"
    }
   ],
   "source": [
    "objects = ('msle')\n",
    "y_pos = np.arange(2)\n",
    "performance = [msle]\n",
    "\n",
    "plt.bar(y_pos, performance, align='center', alpha=0.5)\n",
    "plt.xticks(y_pos, objects)\n",
    "#plt.ylabel('Usage')\n",
    "plt.title('Métricas regressão')\n",
    "\n",
    "plt.show()"
   ]
  },
  {
   "cell_type": "code",
   "execution_count": null,
   "metadata": {},
   "outputs": [],
   "source": []
  },
  {
   "cell_type": "code",
   "execution_count": null,
   "metadata": {},
   "outputs": [],
   "source": []
  }
 ],
 "metadata": {
  "kernelspec": {
   "display_name": "Python 3",
   "language": "python",
   "name": "python3"
  },
  "language_info": {
   "codemirror_mode": {
    "name": "ipython",
    "version": 3
   },
   "file_extension": ".py",
   "mimetype": "text/x-python",
   "name": "python",
   "nbconvert_exporter": "python",
   "pygments_lexer": "ipython3",
   "version": "3.8.5"
  }
 },
 "nbformat": 4,
 "nbformat_minor": 4
}
