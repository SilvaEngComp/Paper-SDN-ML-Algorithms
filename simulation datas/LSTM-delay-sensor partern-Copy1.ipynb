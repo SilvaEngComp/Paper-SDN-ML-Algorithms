{
 "cells": [
  {
   "cell_type": "code",
   "execution_count": 1,
   "metadata": {},
   "outputs": [],
   "source": [
    "import os\n",
    "os.environ[\"TF_CPP_MIN_LOG_LEVEL\"] = \"2\""
   ]
  },
  {
   "cell_type": "code",
   "execution_count": 1,
   "metadata": {},
   "outputs": [],
   "source": [
    "import tensorflow as tf\n",
    "from tensorflow import keras\n",
    "from tensorflow.keras import layers\n",
    "import matplotlib.pyplot as plt\n",
    "import seaborn as sns\n",
    "\n",
    "import pandas as pd\n",
    "import numpy as np\n",
    "from sklearn.model_selection import train_test_split\n"
   ]
  },
  {
   "cell_type": "markdown",
   "metadata": {},
   "source": [
    "# Load Datas"
   ]
  },
  {
   "cell_type": "code",
   "execution_count": 3,
   "metadata": {},
   "outputs": [
    {
     "data": {
      "text/html": [
       "<div>\n",
       "<style scoped>\n",
       "    .dataframe tbody tr th:only-of-type {\n",
       "        vertical-align: middle;\n",
       "    }\n",
       "\n",
       "    .dataframe tbody tr th {\n",
       "        vertical-align: top;\n",
       "    }\n",
       "\n",
       "    .dataframe thead th {\n",
       "        text-align: right;\n",
       "    }\n",
       "</style>\n",
       "<table border=\"1\" class=\"dataframe\">\n",
       "  <thead>\n",
       "    <tr style=\"text-align: right;\">\n",
       "      <th></th>\n",
       "      <th>temperature</th>\n",
       "      <th>label</th>\n",
       "      <th>delay</th>\n",
       "    </tr>\n",
       "  </thead>\n",
       "  <tbody>\n",
       "    <tr>\n",
       "      <th>0</th>\n",
       "      <td>19.1652</td>\n",
       "      <td>1.0</td>\n",
       "      <td>126.251634</td>\n",
       "    </tr>\n",
       "    <tr>\n",
       "      <th>1</th>\n",
       "      <td>19.1750</td>\n",
       "      <td>1.0</td>\n",
       "      <td>126.251634</td>\n",
       "    </tr>\n",
       "    <tr>\n",
       "      <th>2</th>\n",
       "      <td>19.1456</td>\n",
       "      <td>1.0</td>\n",
       "      <td>126.251634</td>\n",
       "    </tr>\n",
       "    <tr>\n",
       "      <th>3</th>\n",
       "      <td>19.1652</td>\n",
       "      <td>1.0</td>\n",
       "      <td>126.251634</td>\n",
       "    </tr>\n",
       "    <tr>\n",
       "      <th>4</th>\n",
       "      <td>19.1652</td>\n",
       "      <td>1.0</td>\n",
       "      <td>126.251634</td>\n",
       "    </tr>\n",
       "    <tr>\n",
       "      <th>...</th>\n",
       "      <td>...</td>\n",
       "      <td>...</td>\n",
       "      <td>...</td>\n",
       "    </tr>\n",
       "    <tr>\n",
       "      <th>3144</th>\n",
       "      <td>18.1558</td>\n",
       "      <td>0.0</td>\n",
       "      <td>9235.036163</td>\n",
       "    </tr>\n",
       "    <tr>\n",
       "      <th>3145</th>\n",
       "      <td>18.1656</td>\n",
       "      <td>0.0</td>\n",
       "      <td>9235.036163</td>\n",
       "    </tr>\n",
       "    <tr>\n",
       "      <th>3146</th>\n",
       "      <td>18.1558</td>\n",
       "      <td>0.0</td>\n",
       "      <td>9235.036163</td>\n",
       "    </tr>\n",
       "    <tr>\n",
       "      <th>3147</th>\n",
       "      <td>18.1656</td>\n",
       "      <td>0.0</td>\n",
       "      <td>9235.036163</td>\n",
       "    </tr>\n",
       "    <tr>\n",
       "      <th>3148</th>\n",
       "      <td>18.1558</td>\n",
       "      <td>0.0</td>\n",
       "      <td>9235.036163</td>\n",
       "    </tr>\n",
       "  </tbody>\n",
       "</table>\n",
       "<p>3149 rows × 3 columns</p>\n",
       "</div>"
      ],
      "text/plain": [
       "      temperature  label        delay\n",
       "0         19.1652    1.0   126.251634\n",
       "1         19.1750    1.0   126.251634\n",
       "2         19.1456    1.0   126.251634\n",
       "3         19.1652    1.0   126.251634\n",
       "4         19.1652    1.0   126.251634\n",
       "...           ...    ...          ...\n",
       "3144      18.1558    0.0  9235.036163\n",
       "3145      18.1656    0.0  9235.036163\n",
       "3146      18.1558    0.0  9235.036163\n",
       "3147      18.1656    0.0  9235.036163\n",
       "3148      18.1558    0.0  9235.036163\n",
       "\n",
       "[3149 rows x 3 columns]"
      ]
     },
     "execution_count": 3,
     "metadata": {},
     "output_type": "execute_result"
    }
   ],
   "source": [
    "df = pd.read_csv('sdn_ml.csv')\n",
    "\n",
    "df"
   ]
  },
  {
   "cell_type": "markdown",
   "metadata": {},
   "source": [
    "# Separing dataset"
   ]
  },
  {
   "cell_type": "code",
   "execution_count": 4,
   "metadata": {},
   "outputs": [],
   "source": [
    "train_size = int(len(df) * 0.9)\n",
    "test_size = len(df) - train_size\n",
    "train, test = df.iloc[0:train_size], df.iloc[train_size:len(df)]\n"
   ]
  },
  {
   "cell_type": "markdown",
   "metadata": {},
   "source": [
    "# Normalizing"
   ]
  },
  {
   "cell_type": "code",
   "execution_count": 5,
   "metadata": {},
   "outputs": [],
   "source": [
    "from sklearn.preprocessing import StandardScaler\n",
    "f_columns = ['temperature','label']"
   ]
  },
  {
   "cell_type": "code",
   "execution_count": 6,
   "metadata": {},
   "outputs": [
    {
     "name": "stderr",
     "output_type": "stream",
     "text": [
      "C:\\Users\\silva\\anaconda3\\lib\\site-packages\\pandas\\core\\indexing.py:670: SettingWithCopyWarning: \n",
      "A value is trying to be set on a copy of a slice from a DataFrame\n",
      "\n",
      "See the caveats in the documentation: https://pandas.pydata.org/pandas-docs/stable/user_guide/indexing.html#returning-a-view-versus-a-copy\n",
      "  iloc._setitem_with_indexer(indexer, value)\n",
      "<ipython-input-6-ed2d138871be>:7: SettingWithCopyWarning: \n",
      "A value is trying to be set on a copy of a slice from a DataFrame\n",
      "\n",
      "See the caveats in the documentation: https://pandas.pydata.org/pandas-docs/stable/user_guide/indexing.html#returning-a-view-versus-a-copy\n",
      "  train.loc[:,f_columns] = scaler1.transform(train[f_columns].to_numpy())\n",
      "<ipython-input-6-ed2d138871be>:8: SettingWithCopyWarning: \n",
      "A value is trying to be set on a copy of a slice from a DataFrame.\n",
      "Try using .loc[row_indexer,col_indexer] = value instead\n",
      "\n",
      "See the caveats in the documentation: https://pandas.pydata.org/pandas-docs/stable/user_guide/indexing.html#returning-a-view-versus-a-copy\n",
      "  train['delay'] = scaler2.transform(train[['delay']])\n"
     ]
    }
   ],
   "source": [
    "\n",
    "scaler1 = StandardScaler().fit(train)\n",
    "scaler2 = StandardScaler().fit(train)\n",
    "\n",
    "scaler1= scaler1.fit(train[f_columns].to_numpy())\n",
    "scaler2 = scaler2.fit(train[['delay']])\n",
    "\n",
    "train.loc[:,f_columns] = scaler1.transform(train[f_columns].to_numpy())\n",
    "train['delay'] = scaler2.transform(train[['delay']])\n",
    "\n",
    "\n",
    "\n"
   ]
  },
  {
   "cell_type": "code",
   "execution_count": 7,
   "metadata": {},
   "outputs": [
    {
     "name": "stderr",
     "output_type": "stream",
     "text": [
      "C:\\Users\\silva\\anaconda3\\lib\\site-packages\\pandas\\core\\indexing.py:670: SettingWithCopyWarning: \n",
      "A value is trying to be set on a copy of a slice from a DataFrame\n",
      "\n",
      "See the caveats in the documentation: https://pandas.pydata.org/pandas-docs/stable/user_guide/indexing.html#returning-a-view-versus-a-copy\n",
      "  iloc._setitem_with_indexer(indexer, value)\n",
      "<ipython-input-7-1fcedf14ad57>:6: SettingWithCopyWarning: \n",
      "A value is trying to be set on a copy of a slice from a DataFrame\n",
      "\n",
      "See the caveats in the documentation: https://pandas.pydata.org/pandas-docs/stable/user_guide/indexing.html#returning-a-view-versus-a-copy\n",
      "  test.loc[:,f_columns] = scaler3.transform(test[f_columns].to_numpy())\n",
      "<ipython-input-7-1fcedf14ad57>:7: SettingWithCopyWarning: \n",
      "A value is trying to be set on a copy of a slice from a DataFrame.\n",
      "Try using .loc[row_indexer,col_indexer] = value instead\n",
      "\n",
      "See the caveats in the documentation: https://pandas.pydata.org/pandas-docs/stable/user_guide/indexing.html#returning-a-view-versus-a-copy\n",
      "  test['delay'] = scaler4.transform(test[['delay']])\n"
     ]
    }
   ],
   "source": [
    "scaler3 = StandardScaler().fit(test)\n",
    "scaler4 = StandardScaler().fit(test)\n",
    "scaler3 = scaler3.fit(test[f_columns].to_numpy())\n",
    "scaler4 = scaler4.fit(test[['delay']])\n",
    "\n",
    "test.loc[:,f_columns] = scaler3.transform(test[f_columns].to_numpy())\n",
    "test['delay'] = scaler4.transform(test[['delay']])"
   ]
  },
  {
   "cell_type": "code",
   "execution_count": 8,
   "metadata": {},
   "outputs": [
    {
     "data": {
      "text/html": [
       "<div>\n",
       "<style scoped>\n",
       "    .dataframe tbody tr th:only-of-type {\n",
       "        vertical-align: middle;\n",
       "    }\n",
       "\n",
       "    .dataframe tbody tr th {\n",
       "        vertical-align: top;\n",
       "    }\n",
       "\n",
       "    .dataframe thead th {\n",
       "        text-align: right;\n",
       "    }\n",
       "</style>\n",
       "<table border=\"1\" class=\"dataframe\">\n",
       "  <thead>\n",
       "    <tr style=\"text-align: right;\">\n",
       "      <th></th>\n",
       "      <th>temperature</th>\n",
       "      <th>label</th>\n",
       "      <th>delay</th>\n",
       "    </tr>\n",
       "  </thead>\n",
       "  <tbody>\n",
       "    <tr>\n",
       "      <th>2834</th>\n",
       "      <td>1.548949</td>\n",
       "      <td>0.0</td>\n",
       "      <td>0.0</td>\n",
       "    </tr>\n",
       "    <tr>\n",
       "      <th>2835</th>\n",
       "      <td>1.548949</td>\n",
       "      <td>0.0</td>\n",
       "      <td>0.0</td>\n",
       "    </tr>\n",
       "    <tr>\n",
       "      <th>2836</th>\n",
       "      <td>1.451414</td>\n",
       "      <td>0.0</td>\n",
       "      <td>0.0</td>\n",
       "    </tr>\n",
       "    <tr>\n",
       "      <th>2837</th>\n",
       "      <td>1.451414</td>\n",
       "      <td>0.0</td>\n",
       "      <td>0.0</td>\n",
       "    </tr>\n",
       "    <tr>\n",
       "      <th>2838</th>\n",
       "      <td>1.500182</td>\n",
       "      <td>0.0</td>\n",
       "      <td>0.0</td>\n",
       "    </tr>\n",
       "    <tr>\n",
       "      <th>...</th>\n",
       "      <td>...</td>\n",
       "      <td>...</td>\n",
       "      <td>...</td>\n",
       "    </tr>\n",
       "    <tr>\n",
       "      <th>3144</th>\n",
       "      <td>-1.913545</td>\n",
       "      <td>0.0</td>\n",
       "      <td>0.0</td>\n",
       "    </tr>\n",
       "    <tr>\n",
       "      <th>3145</th>\n",
       "      <td>-1.864777</td>\n",
       "      <td>0.0</td>\n",
       "      <td>0.0</td>\n",
       "    </tr>\n",
       "    <tr>\n",
       "      <th>3146</th>\n",
       "      <td>-1.913545</td>\n",
       "      <td>0.0</td>\n",
       "      <td>0.0</td>\n",
       "    </tr>\n",
       "    <tr>\n",
       "      <th>3147</th>\n",
       "      <td>-1.864777</td>\n",
       "      <td>0.0</td>\n",
       "      <td>0.0</td>\n",
       "    </tr>\n",
       "    <tr>\n",
       "      <th>3148</th>\n",
       "      <td>-1.913545</td>\n",
       "      <td>0.0</td>\n",
       "      <td>0.0</td>\n",
       "    </tr>\n",
       "  </tbody>\n",
       "</table>\n",
       "<p>315 rows × 3 columns</p>\n",
       "</div>"
      ],
      "text/plain": [
       "      temperature  label  delay\n",
       "2834     1.548949    0.0    0.0\n",
       "2835     1.548949    0.0    0.0\n",
       "2836     1.451414    0.0    0.0\n",
       "2837     1.451414    0.0    0.0\n",
       "2838     1.500182    0.0    0.0\n",
       "...           ...    ...    ...\n",
       "3144    -1.913545    0.0    0.0\n",
       "3145    -1.864777    0.0    0.0\n",
       "3146    -1.913545    0.0    0.0\n",
       "3147    -1.864777    0.0    0.0\n",
       "3148    -1.913545    0.0    0.0\n",
       "\n",
       "[315 rows x 3 columns]"
      ]
     },
     "execution_count": 8,
     "metadata": {},
     "output_type": "execute_result"
    }
   ],
   "source": [
    "test"
   ]
  },
  {
   "cell_type": "code",
   "execution_count": 9,
   "metadata": {},
   "outputs": [],
   "source": [
    "def create_dataset(X, y, time_steps=1):\n",
    "    Xs, ys = [], []\n",
    "    for i in range(len(X) - time_steps):\n",
    "        v = X.iloc[i: (i+time_steps), 0:2].to_numpy()\n",
    "        Xs.append(v)\n",
    "        ys.append(y.iloc[i+time_steps])\n",
    "    return np.array(Xs), np.array(ys)"
   ]
  },
  {
   "cell_type": "code",
   "execution_count": 10,
   "metadata": {},
   "outputs": [],
   "source": [
    "TIME_STEPS = 1\n",
    "\n",
    "X_train,Y_train = create_dataset(train, train.delay, time_steps=TIME_STEPS)\n",
    "X_test,Y_test = create_dataset(test, test.delay, time_steps=TIME_STEPS)"
   ]
  },
  {
   "cell_type": "code",
   "execution_count": 11,
   "metadata": {},
   "outputs": [],
   "source": [
    "#deoeting label\n",
    "# X_train.drop('label', axis=1, inplace=True)\n",
    "# X_test.drop('label', axis=1, inplace=True)\n"
   ]
  },
  {
   "cell_type": "code",
   "execution_count": 12,
   "metadata": {},
   "outputs": [
    {
     "data": {
      "text/plain": [
       "array([-1.24042754, -1.24042754, -1.24042754, ...,  1.55672485,\n",
       "        1.55672485,  1.55672485])"
      ]
     },
     "execution_count": 12,
     "metadata": {},
     "output_type": "execute_result"
    }
   ],
   "source": [
    "Y_train"
   ]
  },
  {
   "cell_type": "code",
   "execution_count": 13,
   "metadata": {},
   "outputs": [
    {
     "name": "stdout",
     "output_type": "stream",
     "text": [
      "39.839062500000004 (2833,)\n"
     ]
    }
   ],
   "source": [
    "print(X_train.shape[0]*0.9/64, Y_train.shape)"
   ]
  },
  {
   "cell_type": "markdown",
   "metadata": {},
   "source": [
    "# Training"
   ]
  },
  {
   "cell_type": "code",
   "execution_count": 14,
   "metadata": {},
   "outputs": [],
   "source": [
    "model = keras.Sequential()\n",
    "model.add(\n",
    "    keras.layers.Bidirectional(\n",
    "        keras.layers.LSTM(\n",
    "            units=40,\n",
    "            input_shape=(X_train.shape[1],X_train.shape[2])\n",
    "        )\n",
    "    ))\n",
    "\n",
    "model.add(keras.layers.Dense(units=40))\n",
    "model.add(keras.layers.Dense(units=40))\n",
    "model.add(keras.layers.Dense(units=40))\n",
    "model.add(keras.layers.Dense(units=40))\n",
    "model.add(keras.layers.Dropout(rate=0.2))\n",
    "model.add(keras.layers.Dense(units=1))\n",
    "#model.add(tf.keras.layers.ThresholdedReLU(theta=0.6))"
   ]
  },
  {
   "cell_type": "markdown",
   "metadata": {},
   "source": [
    "# Compilation"
   ]
  },
  {
   "cell_type": "code",
   "execution_count": 15,
   "metadata": {},
   "outputs": [],
   "source": [
    "loss =\"mse\"\n",
    "optim = tf.keras.optimizers.Adam(\n",
    "    learning_rate=0.0001)\n",
    "metrics=[\"accuracy\"]"
   ]
  },
  {
   "cell_type": "code",
   "execution_count": 16,
   "metadata": {},
   "outputs": [],
   "source": [
    "model.compile(loss=loss, optimizer=optim, \n",
    "             metrics=metrics\n",
    "             )"
   ]
  },
  {
   "cell_type": "code",
   "execution_count": 17,
   "metadata": {},
   "outputs": [],
   "source": [
    "# tensorboard_callback = tf.keras.callbacks.TensorBoard(log_dir=\"./logs\")"
   ]
  },
  {
   "cell_type": "code",
   "execution_count": 18,
   "metadata": {},
   "outputs": [
    {
     "name": "stdout",
     "output_type": "stream",
     "text": [
      "Epoch 1/20\n",
      "34/34 [==============================] - 10s 54ms/step - loss: 0.5728 - accuracy: 0.0000e+00 - val_loss: 2.5089 - val_accuracy: 0.0000e+00\n",
      "Epoch 2/20\n",
      "34/34 [==============================] - 0s 4ms/step - loss: 0.4894 - accuracy: 0.0000e+00 - val_loss: 2.7150 - val_accuracy: 0.0000e+00\n",
      "Epoch 3/20\n",
      "34/34 [==============================] - 0s 4ms/step - loss: 0.4417 - accuracy: 0.0000e+00 - val_loss: 2.9196 - val_accuracy: 0.0000e+00\n",
      "Epoch 4/20\n",
      "34/34 [==============================] - 0s 4ms/step - loss: 0.4013 - accuracy: 0.0000e+00 - val_loss: 3.1219 - val_accuracy: 0.0000e+00\n",
      "Epoch 5/20\n",
      "34/34 [==============================] - 0s 4ms/step - loss: 0.3686 - accuracy: 0.0000e+00 - val_loss: 3.3149 - val_accuracy: 0.0000e+00\n",
      "Epoch 6/20\n",
      "34/34 [==============================] - 0s 4ms/step - loss: 0.3463 - accuracy: 0.0000e+00 - val_loss: 3.4883 - val_accuracy: 0.0000e+00\n",
      "Epoch 7/20\n",
      "34/34 [==============================] - 0s 4ms/step - loss: 0.3322 - accuracy: 0.0000e+00 - val_loss: 3.6340 - val_accuracy: 0.0000e+00\n",
      "Epoch 8/20\n",
      "34/34 [==============================] - 0s 4ms/step - loss: 0.3219 - accuracy: 0.0000e+00 - val_loss: 3.7487 - val_accuracy: 0.0000e+00\n",
      "Epoch 9/20\n",
      "34/34 [==============================] - 0s 4ms/step - loss: 0.3188 - accuracy: 0.0000e+00 - val_loss: 3.8321 - val_accuracy: 0.0000e+00\n",
      "Epoch 10/20\n",
      "34/34 [==============================] - 0s 4ms/step - loss: 0.3133 - accuracy: 0.0000e+00 - val_loss: 3.8905 - val_accuracy: 0.0000e+00\n",
      "Epoch 11/20\n",
      "34/34 [==============================] - 0s 4ms/step - loss: 0.3127 - accuracy: 0.0000e+00 - val_loss: 3.9326 - val_accuracy: 0.0000e+00\n",
      "Epoch 12/20\n",
      "34/34 [==============================] - 0s 4ms/step - loss: 0.3099 - accuracy: 0.0000e+00 - val_loss: 3.9559 - val_accuracy: 0.0000e+00\n",
      "Epoch 13/20\n",
      "34/34 [==============================] - 0s 4ms/step - loss: 0.3106 - accuracy: 0.0000e+00 - val_loss: 3.9730 - val_accuracy: 0.0000e+00\n",
      "Epoch 14/20\n",
      "34/34 [==============================] - 0s 4ms/step - loss: 0.3113 - accuracy: 0.0000e+00 - val_loss: 3.9870 - val_accuracy: 0.0000e+00\n",
      "Epoch 15/20\n",
      "34/34 [==============================] - 0s 4ms/step - loss: 0.3104 - accuracy: 0.0000e+00 - val_loss: 3.9938 - val_accuracy: 0.0000e+00\n",
      "Epoch 16/20\n",
      "34/34 [==============================] - 0s 4ms/step - loss: 0.3096 - accuracy: 0.0000e+00 - val_loss: 3.9970 - val_accuracy: 0.0000e+00\n",
      "Epoch 17/20\n",
      "34/34 [==============================] - 0s 5ms/step - loss: 0.3096 - accuracy: 0.0000e+00 - val_loss: 3.9981 - val_accuracy: 0.0000e+00\n",
      "Epoch 18/20\n",
      "34/34 [==============================] - 0s 4ms/step - loss: 0.3080 - accuracy: 0.0000e+00 - val_loss: 3.9941 - val_accuracy: 0.0000e+00\n",
      "Epoch 19/20\n",
      "34/34 [==============================] - 0s 4ms/step - loss: 0.3060 - accuracy: 0.0000e+00 - val_loss: 3.9912 - val_accuracy: 0.0000e+00\n",
      "Epoch 20/20\n",
      "34/34 [==============================] - 0s 4ms/step - loss: 0.3084 - accuracy: 0.0000e+00 - val_loss: 3.9921 - val_accuracy: 0.0000e+00\n"
     ]
    }
   ],
   "source": [
    "history = model.fit(\n",
    "    X_train, Y_train, \n",
    "    epochs=20, \n",
    "    batch_size= 64,\n",
    "    validation_split=0.25,\n",
    "    shuffle=False,\n",
    "#     callbacks=[tensorboard_callback]\n",
    ")"
   ]
  },
  {
   "cell_type": "code",
   "execution_count": 19,
   "metadata": {},
   "outputs": [],
   "source": [
    "model.save('models/teste/my_h5_model.h5')"
   ]
  },
  {
   "cell_type": "code",
   "execution_count": 20,
   "metadata": {},
   "outputs": [],
   "source": [
    "# plt.plot(history.history['accuracy'], label='train')\n",
    "# plt.plot(history.history['val_accuracy'], label='validation')\n",
    "# plt.legend();"
   ]
  },
  {
   "cell_type": "code",
   "execution_count": 21,
   "metadata": {},
   "outputs": [
    {
     "data": {
      "image/png": "[encoded data removed]",
      "text/plain": [
       "<Figure size 432x288 with 1 Axes>"
      ]
     },
     "metadata": {
      "needs_background": "light"
     },
     "output_type": "display_data"
    }
   ],
   "source": [
    "plt.plot(history.history['loss'], label='train')\n",
    "plt.plot(history.history['val_loss'], label='validation')\n",
    "plt.legend();"
   ]
  },
  {
   "cell_type": "code",
   "execution_count": 22,
   "metadata": {},
   "outputs": [],
   "source": [
    "y_pred = model.predict(X_test)"
   ]
  },
  {
   "cell_type": "code",
   "execution_count": 23,
   "metadata": {},
   "outputs": [
    {
     "data": {
      "text/plain": [
       "(1, 2833)"
      ]
     },
     "execution_count": 23,
     "metadata": {},
     "output_type": "execute_result"
    }
   ],
   "source": [
    "Y_train.reshape(1,-1).shape"
   ]
  },
  {
   "cell_type": "code",
   "execution_count": 24,
   "metadata": {},
   "outputs": [],
   "source": [
    "y_train_inv = scaler2.inverse_transform(Y_train.reshape(1,-1)) \n",
    "y_test_inv = scaler4.inverse_transform(Y_test.reshape(1,-1))\n",
    "y_pred_inv = scaler2.inverse_transform(y_pred)"
   ]
  },
  {
   "cell_type": "code",
   "execution_count": 25,
   "metadata": {},
   "outputs": [
    {
     "data": {
      "image/png": "[encoded data removed]",
      "text/plain": [
       "<Figure size 432x288 with 1 Axes>"
      ]
     },
     "metadata": {
      "needs_background": "light"
     },
     "output_type": "display_data"
    }
   ],
   "source": [
    "\n",
    "# plt.plot(y_pred_inv.flatten(),'r',marker='.', label='predicted')\n",
    "plt.plot(y_test_inv.flatten(), marker='.', label='true')\n",
    "plt.legend();"
   ]
  },
  {
   "cell_type": "code",
   "execution_count": 26,
   "metadata": {},
   "outputs": [
    {
     "data": {
      "text/plain": [
       "[<matplotlib.lines.Line2D at 0x28553ce42e0>]"
      ]
     },
     "execution_count": 26,
     "metadata": {},
     "output_type": "execute_result"
    },
    {
     "data": {
      "image/png": "[encoded data removed]",
      "text/plain": [
       "<Figure size 432x288 with 1 Axes>"
      ]
     },
     "metadata": {
      "needs_background": "light"
     },
     "output_type": "display_data"
    }
   ],
   "source": [
    "plt.plot(y_pred_inv.flatten(),'r',marker='.', label='predicted')"
   ]
  },
  {
   "cell_type": "code",
   "execution_count": 27,
   "metadata": {},
   "outputs": [
    {
     "data": {
      "image/png": "[encoded data removed]",
      "text/plain": [
       "<Figure size 432x288 with 1 Axes>"
      ]
     },
     "metadata": {
      "needs_background": "light"
     },
     "output_type": "display_data"
    }
   ],
   "source": [
    "plt.plot(y_test_inv.flatten(), marker='.', label='true')\n",
    "plt.plot(y_pred_inv.flatten(),'r',marker='.', label='predicted')\n",
    "\n",
    "plt.legend();"
   ]
  },
  {
   "cell_type": "code",
   "execution_count": 28,
   "metadata": {},
   "outputs": [
    {
     "data": {
      "text/plain": [
       "array([[2738.9656],\n",
       "       [2738.9656],\n",
       "       [2752.804 ],\n",
       "       [2752.804 ],\n",
       "       [2746.0984],\n",
       "       [2746.0984],\n",
       "       [2746.0984],\n",
       "       [2752.804 ],\n",
       "       [2746.0984],\n",
       "       [2752.804 ],\n",
       "       [2752.804 ],\n",
       "       [2752.804 ],\n",
       "       [2752.804 ],\n",
       "       [2752.804 ],\n",
       "       [2759.079 ],\n",
       "       [2759.079 ],\n",
       "       [2764.9211],\n",
       "       [2759.079 ],\n",
       "       [2759.079 ],\n",
       "       [2764.9211],\n",
       "       [2752.804 ],\n",
       "       [2752.804 ],\n",
       "       [2759.079 ],\n",
       "       [2764.9211],\n",
       "       [2764.9211],\n",
       "       [2752.804 ],\n",
       "       [2759.079 ],\n",
       "       [2759.079 ],\n",
       "       [2759.079 ],\n",
       "       [2752.804 ],\n",
       "       [2764.921 ],\n",
       "       [2764.921 ],\n",
       "       [2759.079 ],\n",
       "       [2759.079 ],\n",
       "       [2775.2947],\n",
       "       [2775.2947],\n",
       "       [2764.9211],\n",
       "       [2775.2947],\n",
       "       [2775.2947],\n",
       "       [2775.2947],\n",
       "       [2775.2947],\n",
       "       [2775.2947],\n",
       "       [2775.2947],\n",
       "       [2770.327 ],\n",
       "       [2775.2947],\n",
       "       [2775.2947],\n",
       "       [2770.327 ],\n",
       "       [2770.327 ],\n",
       "       [2775.2947],\n",
       "       [2775.2947],\n",
       "       [2779.8213],\n",
       "       [2783.9048],\n",
       "       [2793.476 ],\n",
       "       [2790.7341],\n",
       "       [2790.7341],\n",
       "       [2790.7341],\n",
       "       [2787.5432],\n",
       "       [2787.5432],\n",
       "       [2783.9048],\n",
       "       [2787.5432],\n",
       "       [2790.7341],\n",
       "       [2790.7341],\n",
       "       [2790.7341],\n",
       "       [2795.7678],\n",
       "       [2797.607 ],\n",
       "       [2795.7678],\n",
       "       [2798.993 ],\n",
       "       [2797.607 ],\n",
       "       [2797.607 ],\n",
       "       [2797.607 ],\n",
       "       [2795.7678],\n",
       "       [2795.7678],\n",
       "       [2793.476 ],\n",
       "       [2795.7678],\n",
       "       [2797.607 ],\n",
       "       [2797.607 ],\n",
       "       [2797.607 ],\n",
       "       [2798.993 ],\n",
       "       [2795.7678],\n",
       "       [2797.607 ],\n",
       "       [2795.7678],\n",
       "       [2797.607 ],\n",
       "       [2795.7678],\n",
       "       [2793.476 ],\n",
       "       [2797.607 ],\n",
       "       [2798.993 ],\n",
       "       [2795.7678],\n",
       "       [2798.993 ],\n",
       "       [2799.9243],\n",
       "       [2800.4   ],\n",
       "       [2799.9243],\n",
       "       [2799.9243],\n",
       "       [2800.4194],\n",
       "       [2800.4   ],\n",
       "       [2799.9817],\n",
       "       [2799.9817],\n",
       "       [2800.4   ],\n",
       "       [2799.9817],\n",
       "       [2800.4194],\n",
       "       [2800.4   ],\n",
       "       [2799.9817],\n",
       "       [2800.4194],\n",
       "       [2800.4194],\n",
       "       [2799.9817],\n",
       "       [2797.7334],\n",
       "       [2799.0864],\n",
       "       [2799.0864],\n",
       "       [2799.0864],\n",
       "       [2797.7334],\n",
       "       [2793.6538],\n",
       "       [2793.6538],\n",
       "       [2793.6538],\n",
       "       [2795.9224],\n",
       "       [2793.6538],\n",
       "       [2793.6538],\n",
       "       [2793.6538],\n",
       "       [2793.6538],\n",
       "       [2793.6538],\n",
       "       [2790.9272],\n",
       "       [2793.6538],\n",
       "       [2793.6538],\n",
       "       [2787.7432],\n",
       "       [2787.7432],\n",
       "       [2787.7432],\n",
       "       [2787.7432],\n",
       "       [2790.9272],\n",
       "       [2787.7434],\n",
       "       [2787.7434],\n",
       "       [2787.7432],\n",
       "       [2790.9272],\n",
       "       [2790.9272],\n",
       "       [2790.9272],\n",
       "       [2790.9272],\n",
       "       [2787.7432],\n",
       "       [2780.0066],\n",
       "       [2780.0066],\n",
       "       [2780.0066],\n",
       "       [2780.0066],\n",
       "       [2780.0066],\n",
       "       [2775.4553],\n",
       "       [2770.4502],\n",
       "       [2775.4553],\n",
       "       [2775.4553],\n",
       "       [2780.0066],\n",
       "       [2780.0066],\n",
       "       [2780.0066],\n",
       "       [2780.0066],\n",
       "       [2770.4502],\n",
       "       [2770.4502],\n",
       "       [2770.4502],\n",
       "       [2764.9922],\n",
       "       [2759.083 ],\n",
       "       [2759.083 ],\n",
       "       [2752.7244],\n",
       "       [2759.083 ],\n",
       "       [2770.4502],\n",
       "       [2770.4502],\n",
       "       [2759.083 ],\n",
       "       [2745.918 ],\n",
       "       [2752.7244],\n",
       "       [2759.083 ],\n",
       "       [2752.7244],\n",
       "       [2745.918 ],\n",
       "       [2730.9697],\n",
       "       [2722.8323],\n",
       "       [2722.8323],\n",
       "       [2714.2563],\n",
       "       [2714.2563],\n",
       "       [2714.2563],\n",
       "       [2705.244 ],\n",
       "       [2705.244 ],\n",
       "       [2695.7979],\n",
       "       [2714.2563],\n",
       "       [2714.2563],\n",
       "       [2714.2563],\n",
       "       [2705.244 ],\n",
       "       [2714.2563],\n",
       "       [2714.2563],\n",
       "       [2695.7979],\n",
       "       [2705.244 ],\n",
       "       [2695.7979],\n",
       "       [2695.7979],\n",
       "       [2695.7979],\n",
       "       [2695.7979],\n",
       "       [2705.244 ],\n",
       "       [2695.7979],\n",
       "       [2705.244 ],\n",
       "       [2705.244 ],\n",
       "       [2695.7979],\n",
       "       [2685.9211],\n",
       "       [2685.9211],\n",
       "       [2685.9211],\n",
       "       [2685.9211],\n",
       "       [2675.6172],\n",
       "       [2695.7979],\n",
       "       [2685.9211],\n",
       "       [2685.9211],\n",
       "       [2695.7979],\n",
       "       [2675.6172],\n",
       "       [2695.7979],\n",
       "       [2675.6172],\n",
       "       [2685.9211],\n",
       "       [2695.7979],\n",
       "       [2714.2563],\n",
       "       [2695.7979],\n",
       "       [2675.6172],\n",
       "       [2695.7979],\n",
       "       [2695.7979],\n",
       "       [2675.6172],\n",
       "       [2664.8887],\n",
       "       [2653.7395],\n",
       "       [2653.7395],\n",
       "       [2664.8887],\n",
       "       [2642.1729],\n",
       "       [2653.7395],\n",
       "       [2642.1729],\n",
       "       [2642.1729],\n",
       "       [2642.1729],\n",
       "       [2591.8093],\n",
       "       [2591.8093],\n",
       "       [2591.8093],\n",
       "       [2591.8093],\n",
       "       [2578.214 ],\n",
       "       [2591.8093],\n",
       "       [2578.214 ],\n",
       "       [2549.8484],\n",
       "       [2578.214 ],\n",
       "       [2591.8093],\n",
       "       [2578.214 ],\n",
       "       [2564.2258],\n",
       "       [2564.2258],\n",
       "       [2549.8484],\n",
       "       [2564.2258],\n",
       "       [2578.214 ],\n",
       "       [2578.214 ],\n",
       "       [2564.2258],\n",
       "       [2564.2258],\n",
       "       [2549.8484],\n",
       "       [2549.8484],\n",
       "       [2549.8484],\n",
       "       [2549.8484],\n",
       "       [2549.8484],\n",
       "       [2549.8484],\n",
       "       [2549.8484],\n",
       "       [2519.9456],\n",
       "       [2549.8484],\n",
       "       [2549.8484],\n",
       "       [2549.8484],\n",
       "       [2549.8484],\n",
       "       [2519.9456],\n",
       "       [2504.4297],\n",
       "       [2504.4297],\n",
       "       [2519.9456],\n",
       "       [2488.544 ],\n",
       "       [2504.4297],\n",
       "       [2504.4297],\n",
       "       [2488.544 ],\n",
       "       [2472.2932],\n",
       "       [2455.6824],\n",
       "       [2455.6824],\n",
       "       [2455.6824],\n",
       "       [2472.2932],\n",
       "       [2488.544 ],\n",
       "       [2472.2932],\n",
       "       [2455.6824],\n",
       "       [2472.2932],\n",
       "       [2421.402 ],\n",
       "       [2455.6824],\n",
       "       [2438.717 ],\n",
       "       [2421.402 ],\n",
       "       [2421.402 ],\n",
       "       [2472.2932],\n",
       "       [2421.402 ],\n",
       "       [2472.2932],\n",
       "       [2455.6824],\n",
       "       [2403.743 ],\n",
       "       [2403.743 ],\n",
       "       [2403.743 ],\n",
       "       [2385.7449],\n",
       "       [2367.414 ],\n",
       "       [2385.7449],\n",
       "       [2385.7449],\n",
       "       [2385.7449],\n",
       "       [2367.414 ],\n",
       "       [2348.755 ],\n",
       "       [2348.755 ],\n",
       "       [2348.7551],\n",
       "       [2367.414 ],\n",
       "       [2385.7449],\n",
       "       [2310.476 ],\n",
       "       [2310.476 ],\n",
       "       [2348.755 ],\n",
       "       [2329.774 ],\n",
       "       [2290.8667],\n",
       "       [2290.8667],\n",
       "       [2270.9526],\n",
       "       [2270.9526],\n",
       "       [2270.9526],\n",
       "       [2270.9526],\n",
       "       [2270.9526],\n",
       "       [2270.9526],\n",
       "       [2290.8667],\n",
       "       [2290.8667],\n",
       "       [2290.8667],\n",
       "       [2270.9526],\n",
       "       [2250.7393],\n",
       "       [2250.7393],\n",
       "       [2230.232 ],\n",
       "       [2188.3599],\n",
       "       [2188.3599],\n",
       "       [2167.0066],\n",
       "       [2188.3599],\n",
       "       [2167.0066],\n",
       "       [2188.3599]], dtype=float32)"
      ]
     },
     "execution_count": 28,
     "metadata": {},
     "output_type": "execute_result"
    }
   ],
   "source": [
    "y_pred_inv"
   ]
  },
  {
   "cell_type": "code",
   "execution_count": 29,
   "metadata": {},
   "outputs": [
    {
     "data": {
      "text/plain": [
       "array([[9235.03616261, 9235.03616261, 9235.03616261, 9235.03616261,\n",
       "        9235.03616261, 9235.03616261, 9235.03616261, 9235.03616261,\n",
       "        9235.03616261, 9235.03616261, 9235.03616261, 9235.03616261,\n",
       "        9235.03616261, 9235.03616261, 9235.03616261, 9235.03616261,\n",
       "        9235.03616261, 9235.03616261, 9235.03616261, 9235.03616261,\n",
       "        9235.03616261, 9235.03616261, 9235.03616261, 9235.03616261,\n",
       "        9235.03616261, 9235.03616261, 9235.03616261, 9235.03616261,\n",
       "        9235.03616261, 9235.03616261, 9235.03616261, 9235.03616261,\n",
       "        9235.03616261, 9235.03616261, 9235.03616261, 9235.03616261,\n",
       "        9235.03616261, 9235.03616261, 9235.03616261, 9235.03616261,\n",
       "        9235.03616261, 9235.03616261, 9235.03616261, 9235.03616261,\n",
       "        9235.03616261, 9235.03616261, 9235.03616261, 9235.03616261,\n",
       "        9235.03616261, 9235.03616261, 9235.03616261, 9235.03616261,\n",
       "        9235.03616261, 9235.03616261, 9235.03616261, 9235.03616261,\n",
       "        9235.03616261, 9235.03616261, 9235.03616261, 9235.03616261,\n",
       "        9235.03616261, 9235.03616261, 9235.03616261, 9235.03616261,\n",
       "        9235.03616261, 9235.03616261, 9235.03616261, 9235.03616261,\n",
       "        9235.03616261, 9235.03616261, 9235.03616261, 9235.03616261,\n",
       "        9235.03616261, 9235.03616261, 9235.03616261, 9235.03616261,\n",
       "        9235.03616261, 9235.03616261, 9235.03616261, 9235.03616261,\n",
       "        9235.03616261, 9235.03616261, 9235.03616261, 9235.03616261,\n",
       "        9235.03616261, 9235.03616261, 9235.03616261, 9235.03616261,\n",
       "        9235.03616261, 9235.03616261, 9235.03616261, 9235.03616261,\n",
       "        9235.03616261, 9235.03616261, 9235.03616261, 9235.03616261,\n",
       "        9235.03616261, 9235.03616261, 9235.03616261, 9235.03616261,\n",
       "        9235.03616261, 9235.03616261, 9235.03616261, 9235.03616261,\n",
       "        9235.03616261, 9235.03616261, 9235.03616261, 9235.03616261,\n",
       "        9235.03616261, 9235.03616261, 9235.03616261, 9235.03616261,\n",
       "        9235.03616261, 9235.03616261, 9235.03616261, 9235.03616261,\n",
       "        9235.03616261, 9235.03616261, 9235.03616261, 9235.03616261,\n",
       "        9235.03616261, 9235.03616261, 9235.03616261, 9235.03616261,\n",
       "        9235.03616261, 9235.03616261, 9235.03616261, 9235.03616261,\n",
       "        9235.03616261, 9235.03616261, 9235.03616261, 9235.03616261,\n",
       "        9235.03616261, 9235.03616261, 9235.03616261, 9235.03616261,\n",
       "        9235.03616261, 9235.03616261, 9235.03616261, 9235.03616261,\n",
       "        9235.03616261, 9235.03616261, 9235.03616261, 9235.03616261,\n",
       "        9235.03616261, 9235.03616261, 9235.03616261, 9235.03616261,\n",
       "        9235.03616261, 9235.03616261, 9235.03616261, 9235.03616261,\n",
       "        9235.03616261, 9235.03616261, 9235.03616261, 9235.03616261,\n",
       "        9235.03616261, 9235.03616261, 9235.03616261, 9235.03616261,\n",
       "        9235.03616261, 9235.03616261, 9235.03616261, 9235.03616261,\n",
       "        9235.03616261, 9235.03616261, 9235.03616261, 9235.03616261,\n",
       "        9235.03616261, 9235.03616261, 9235.03616261, 9235.03616261,\n",
       "        9235.03616261, 9235.03616261, 9235.03616261, 9235.03616261,\n",
       "        9235.03616261, 9235.03616261, 9235.03616261, 9235.03616261,\n",
       "        9235.03616261, 9235.03616261, 9235.03616261, 9235.03616261,\n",
       "        9235.03616261, 9235.03616261, 9235.03616261, 9235.03616261,\n",
       "        9235.03616261, 9235.03616261, 9235.03616261, 9235.03616261,\n",
       "        9235.03616261, 9235.03616261, 9235.03616261, 9235.03616261,\n",
       "        9235.03616261, 9235.03616261, 9235.03616261, 9235.03616261,\n",
       "        9235.03616261, 9235.03616261, 9235.03616261, 9235.03616261,\n",
       "        9235.03616261, 9235.03616261, 9235.03616261, 9235.03616261,\n",
       "        9235.03616261, 9235.03616261, 9235.03616261, 9235.03616261,\n",
       "        9235.03616261, 9235.03616261, 9235.03616261, 9235.03616261,\n",
       "        9235.03616261, 9235.03616261, 9235.03616261, 9235.03616261,\n",
       "        9235.03616261, 9235.03616261, 9235.03616261, 9235.03616261,\n",
       "        9235.03616261, 9235.03616261, 9235.03616261, 9235.03616261,\n",
       "        9235.03616261, 9235.03616261, 9235.03616261, 9235.03616261,\n",
       "        9235.03616261, 9235.03616261, 9235.03616261, 9235.03616261,\n",
       "        9235.03616261, 9235.03616261, 9235.03616261, 9235.03616261,\n",
       "        9235.03616261, 9235.03616261, 9235.03616261, 9235.03616261,\n",
       "        9235.03616261, 9235.03616261, 9235.03616261, 9235.03616261,\n",
       "        9235.03616261, 9235.03616261, 9235.03616261, 9235.03616261,\n",
       "        9235.03616261, 9235.03616261, 9235.03616261, 9235.03616261,\n",
       "        9235.03616261, 9235.03616261, 9235.03616261, 9235.03616261,\n",
       "        9235.03616261, 9235.03616261, 9235.03616261, 9235.03616261,\n",
       "        9235.03616261, 9235.03616261, 9235.03616261, 9235.03616261,\n",
       "        9235.03616261, 9235.03616261, 9235.03616261, 9235.03616261,\n",
       "        9235.03616261, 9235.03616261, 9235.03616261, 9235.03616261,\n",
       "        9235.03616261, 9235.03616261, 9235.03616261, 9235.03616261,\n",
       "        9235.03616261, 9235.03616261, 9235.03616261, 9235.03616261,\n",
       "        9235.03616261, 9235.03616261, 9235.03616261, 9235.03616261,\n",
       "        9235.03616261, 9235.03616261, 9235.03616261, 9235.03616261,\n",
       "        9235.03616261, 9235.03616261, 9235.03616261, 9235.03616261,\n",
       "        9235.03616261, 9235.03616261, 9235.03616261, 9235.03616261,\n",
       "        9235.03616261, 9235.03616261, 9235.03616261, 9235.03616261,\n",
       "        9235.03616261, 9235.03616261, 9235.03616261, 9235.03616261,\n",
       "        9235.03616261, 9235.03616261, 9235.03616261, 9235.03616261,\n",
       "        9235.03616261, 9235.03616261]])"
      ]
     },
     "execution_count": 29,
     "metadata": {},
     "output_type": "execute_result"
    }
   ],
   "source": [
    "y_test_inv"
   ]
  },
  {
   "cell_type": "code",
   "execution_count": 30,
   "metadata": {},
   "outputs": [],
   "source": [
    "np.testing.assert_allclose(\n",
    "    model.predict(X_test), model.predict(X_test)\n",
    ")"
   ]
  },
  {
   "cell_type": "code",
   "execution_count": 5,
   "metadata": {},
   "outputs": [],
   "source": [
    "from random import randint, seed"
   ]
  },
  {
   "cell_type": "code",
   "execution_count": 10,
   "metadata": {},
   "outputs": [
    {
     "name": "stdout",
     "output_type": "stream",
     "text": [
      "6\n"
     ]
    }
   ],
   "source": [
    "seed(0)\n",
    "x = randint(0,10)\n",
    "print(x)"
   ]
  },
  {
   "cell_type": "code",
   "execution_count": null,
   "metadata": {},
   "outputs": [],
   "source": []
  },
  {
   "cell_type": "code",
   "execution_count": null,
   "metadata": {},
   "outputs": [],
   "source": []
  }
 ],
 "metadata": {
  "kernelspec": {
   "display_name": "Python 3",
   "language": "python",
   "name": "python3"
  },
  "language_info": {
   "codemirror_mode": {
    "name": "ipython",
    "version": 3
   },
   "file_extension": ".py",
   "mimetype": "text/x-python",
   "name": "python",
   "nbconvert_exporter": "python",
   "pygments_lexer": "ipython3",
   "version": "3.8.5"
  }
 },
 "nbformat": 4,
 "nbformat_minor": 4
}
