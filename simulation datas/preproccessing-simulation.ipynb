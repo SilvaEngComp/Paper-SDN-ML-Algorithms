{
 "cells": [
  {
   "cell_type": "code",
   "execution_count": 1,
   "metadata": {},
   "outputs": [],
   "source": [
    "import pandas as pd\n",
    "import numpy as np\n",
    "import math\n",
    "from datetime import datetime\n",
    "import csv\n",
    "import time\n",
    "from skmultiflow.drift_detection import PageHinkley\n"
   ]
  },
  {
   "cell_type": "markdown",
   "metadata": {},
   "source": [
    "# Loading original dataset"
   ]
  },
  {
   "cell_type": "code",
   "execution_count": 2,
   "metadata": {},
   "outputs": [
    {
     "data": {
      "text/html": [
       "<div>\n",
       "<style scoped>\n",
       "    .dataframe tbody tr th:only-of-type {\n",
       "        vertical-align: middle;\n",
       "    }\n",
       "\n",
       "    .dataframe tbody tr th {\n",
       "        vertical-align: top;\n",
       "    }\n",
       "\n",
       "    .dataframe thead th {\n",
       "        text-align: right;\n",
       "    }\n",
       "</style>\n",
       "<table border=\"1\" class=\"dataframe\">\n",
       "  <thead>\n",
       "    <tr style=\"text-align: right;\">\n",
       "      <th></th>\n",
       "      <th>0</th>\n",
       "      <th>19.3024</th>\n",
       "      <th>1</th>\n",
       "      <th>126.25163435935974</th>\n",
       "    </tr>\n",
       "  </thead>\n",
       "  <tbody>\n",
       "    <tr>\n",
       "      <th>0</th>\n",
       "      <td>1</td>\n",
       "      <td>19.1652</td>\n",
       "      <td>1</td>\n",
       "      <td>126.251634</td>\n",
       "    </tr>\n",
       "    <tr>\n",
       "      <th>1</th>\n",
       "      <td>2</td>\n",
       "      <td>19.1750</td>\n",
       "      <td>1</td>\n",
       "      <td>126.251634</td>\n",
       "    </tr>\n",
       "    <tr>\n",
       "      <th>2</th>\n",
       "      <td>3</td>\n",
       "      <td>19.1456</td>\n",
       "      <td>1</td>\n",
       "      <td>126.251634</td>\n",
       "    </tr>\n",
       "    <tr>\n",
       "      <th>3</th>\n",
       "      <td>4</td>\n",
       "      <td>19.1652</td>\n",
       "      <td>1</td>\n",
       "      <td>126.251634</td>\n",
       "    </tr>\n",
       "    <tr>\n",
       "      <th>4</th>\n",
       "      <td>5</td>\n",
       "      <td>19.1652</td>\n",
       "      <td>1</td>\n",
       "      <td>126.251634</td>\n",
       "    </tr>\n",
       "    <tr>\n",
       "      <th>...</th>\n",
       "      <td>...</td>\n",
       "      <td>...</td>\n",
       "      <td>...</td>\n",
       "      <td>...</td>\n",
       "    </tr>\n",
       "    <tr>\n",
       "      <th>3144</th>\n",
       "      <td>30</td>\n",
       "      <td>18.1558</td>\n",
       "      <td>0</td>\n",
       "      <td>9235.036163</td>\n",
       "    </tr>\n",
       "    <tr>\n",
       "      <th>3145</th>\n",
       "      <td>31</td>\n",
       "      <td>18.1656</td>\n",
       "      <td>0</td>\n",
       "      <td>9235.036163</td>\n",
       "    </tr>\n",
       "    <tr>\n",
       "      <th>3146</th>\n",
       "      <td>32</td>\n",
       "      <td>18.1558</td>\n",
       "      <td>0</td>\n",
       "      <td>9235.036163</td>\n",
       "    </tr>\n",
       "    <tr>\n",
       "      <th>3147</th>\n",
       "      <td>33</td>\n",
       "      <td>18.1656</td>\n",
       "      <td>0</td>\n",
       "      <td>9235.036163</td>\n",
       "    </tr>\n",
       "    <tr>\n",
       "      <th>3148</th>\n",
       "      <td>34</td>\n",
       "      <td>18.1558</td>\n",
       "      <td>0</td>\n",
       "      <td>9235.036163</td>\n",
       "    </tr>\n",
       "  </tbody>\n",
       "</table>\n",
       "<p>3149 rows × 4 columns</p>\n",
       "</div>"
      ],
      "text/plain": [
       "       0  19.3024  1  126.25163435935974\n",
       "0      1  19.1652  1          126.251634\n",
       "1      2  19.1750  1          126.251634\n",
       "2      3  19.1456  1          126.251634\n",
       "3      4  19.1652  1          126.251634\n",
       "4      5  19.1652  1          126.251634\n",
       "...   ..      ... ..                 ...\n",
       "3144  30  18.1558  0         9235.036163\n",
       "3145  31  18.1656  0         9235.036163\n",
       "3146  32  18.1558  0         9235.036163\n",
       "3147  33  18.1656  0         9235.036163\n",
       "3148  34  18.1558  0         9235.036163\n",
       "\n",
       "[3149 rows x 4 columns]"
      ]
     },
     "execution_count": 2,
     "metadata": {},
     "output_type": "execute_result"
    }
   ],
   "source": [
    "dataset = pd.read_csv('dataset_moteid-01.csv')\n",
    "dataset"
   ]
  },
  {
   "cell_type": "markdown",
   "metadata": {},
   "source": [
    "# build ML dataset part 1"
   ]
  },
  {
   "cell_type": "code",
   "execution_count": 3,
   "metadata": {},
   "outputs": [],
   "source": [
    "def preprocessing(dataset):\n",
    "    MyLIst = []\n",
    "\n",
    "    for i in np.arange((dataset.shape[0])):\n",
    "        temperature = dataset.iloc[i, 1]\n",
    "        label = dataset.iloc[i, 2]\n",
    "        delay = dataset.iloc[i, 3]\n",
    "\n",
    "        MyLIst.append([ temperature,label, delay ])\n",
    "    cols = [ 'temperature','label' ,'delay' ]\n",
    "    return pd.DataFrame(MyLIst, columns = cols)\n"
   ]
  },
  {
   "cell_type": "code",
   "execution_count": 4,
   "metadata": {},
   "outputs": [],
   "source": [
    "\n"
   ]
  },
  {
   "cell_type": "markdown",
   "metadata": {},
   "source": [
    "# Registring ML in csv"
   ]
  },
  {
   "cell_type": "code",
   "execution_count": 5,
   "metadata": {
    "scrolled": false
   },
   "outputs": [
    {
     "data": {
      "text/html": [
       "<div>\n",
       "<style scoped>\n",
       "    .dataframe tbody tr th:only-of-type {\n",
       "        vertical-align: middle;\n",
       "    }\n",
       "\n",
       "    .dataframe tbody tr th {\n",
       "        vertical-align: top;\n",
       "    }\n",
       "\n",
       "    .dataframe thead th {\n",
       "        text-align: right;\n",
       "    }\n",
       "</style>\n",
       "<table border=\"1\" class=\"dataframe\">\n",
       "  <thead>\n",
       "    <tr style=\"text-align: right;\">\n",
       "      <th></th>\n",
       "      <th>temperature</th>\n",
       "      <th>label</th>\n",
       "      <th>delay</th>\n",
       "    </tr>\n",
       "  </thead>\n",
       "  <tbody>\n",
       "    <tr>\n",
       "      <th>0</th>\n",
       "      <td>19.1652</td>\n",
       "      <td>1</td>\n",
       "      <td>126.251634</td>\n",
       "    </tr>\n",
       "    <tr>\n",
       "      <th>1</th>\n",
       "      <td>19.1750</td>\n",
       "      <td>1</td>\n",
       "      <td>126.251634</td>\n",
       "    </tr>\n",
       "    <tr>\n",
       "      <th>2</th>\n",
       "      <td>19.1456</td>\n",
       "      <td>1</td>\n",
       "      <td>126.251634</td>\n",
       "    </tr>\n",
       "    <tr>\n",
       "      <th>3</th>\n",
       "      <td>19.1652</td>\n",
       "      <td>1</td>\n",
       "      <td>126.251634</td>\n",
       "    </tr>\n",
       "    <tr>\n",
       "      <th>4</th>\n",
       "      <td>19.1652</td>\n",
       "      <td>1</td>\n",
       "      <td>126.251634</td>\n",
       "    </tr>\n",
       "    <tr>\n",
       "      <th>...</th>\n",
       "      <td>...</td>\n",
       "      <td>...</td>\n",
       "      <td>...</td>\n",
       "    </tr>\n",
       "    <tr>\n",
       "      <th>3144</th>\n",
       "      <td>18.1558</td>\n",
       "      <td>0</td>\n",
       "      <td>9235.036163</td>\n",
       "    </tr>\n",
       "    <tr>\n",
       "      <th>3145</th>\n",
       "      <td>18.1656</td>\n",
       "      <td>0</td>\n",
       "      <td>9235.036163</td>\n",
       "    </tr>\n",
       "    <tr>\n",
       "      <th>3146</th>\n",
       "      <td>18.1558</td>\n",
       "      <td>0</td>\n",
       "      <td>9235.036163</td>\n",
       "    </tr>\n",
       "    <tr>\n",
       "      <th>3147</th>\n",
       "      <td>18.1656</td>\n",
       "      <td>0</td>\n",
       "      <td>9235.036163</td>\n",
       "    </tr>\n",
       "    <tr>\n",
       "      <th>3148</th>\n",
       "      <td>18.1558</td>\n",
       "      <td>0</td>\n",
       "      <td>9235.036163</td>\n",
       "    </tr>\n",
       "  </tbody>\n",
       "</table>\n",
       "<p>3149 rows × 3 columns</p>\n",
       "</div>"
      ],
      "text/plain": [
       "      temperature  label        delay\n",
       "0         19.1652      1   126.251634\n",
       "1         19.1750      1   126.251634\n",
       "2         19.1456      1   126.251634\n",
       "3         19.1652      1   126.251634\n",
       "4         19.1652      1   126.251634\n",
       "...           ...    ...          ...\n",
       "3144      18.1558      0  9235.036163\n",
       "3145      18.1656      0  9235.036163\n",
       "3146      18.1558      0  9235.036163\n",
       "3147      18.1656      0  9235.036163\n",
       "3148      18.1558      0  9235.036163\n",
       "\n",
       "[3149 rows x 3 columns]"
      ]
     },
     "execution_count": 5,
     "metadata": {},
     "output_type": "execute_result"
    }
   ],
   "source": [
    "df_ML"
   ]
  },
  {
   "cell_type": "code",
   "execution_count": 6,
   "metadata": {},
   "outputs": [],
   "source": [
    "def saveFile(dataset, name='dataset'):\n",
    "    f = open(name,'w')\n",
    "    try:\n",
    "        writer = csv.writer(f)\n",
    "        writer.writerow(dataset.columns)\n",
    "        for i in np.arange(int(dataset.shape[0])):\n",
    "            writer.writerow(dataset.iloc[i,])\n",
    "    finally:\n",
    "        f.close()"
   ]
  },
  {
   "cell_type": "code",
   "execution_count": 7,
   "metadata": {},
   "outputs": [],
   "source": [
    "saveFile(df_ML, name='sdn_ml.csv')"
   ]
  },
  {
   "cell_type": "code",
   "execution_count": 8,
   "metadata": {},
   "outputs": [],
   "source": [
    "import matplotlib.pyplot as plt\n",
    "import seaborn as sns"
   ]
  },
  {
   "cell_type": "code",
   "execution_count": 9,
   "metadata": {},
   "outputs": [
    {
     "data": {
      "image/png": "[encoded data removed]",
      "text/plain": [
       "<Figure size 432x288 with 1 Axes>"
      ]
     },
     "metadata": {
      "needs_background": "light"
     },
     "output_type": "display_data"
    }
   ],
   "source": [
    "plt.title(\"Line graph\")  \n",
    "\n",
    "plt.xlabel(\"X axis\")  \n",
    "\n",
    "plt.ylabel(\"Y axis\")  \n",
    "\n",
    "plt.plot(np.arange(len(df_ML.delay)), df_ML.delay, color =\"red\")  \n",
    "\n",
    "plt.show()"
   ]
  },
  {
   "cell_type": "code",
   "execution_count": null,
   "metadata": {},
   "outputs": [],
   "source": []
  },
  {
   "cell_type": "code",
   "execution_count": null,
   "metadata": {},
   "outputs": [],
   "source": []
  },
  {
   "cell_type": "code",
   "execution_count": null,
   "metadata": {},
   "outputs": [],
   "source": []
  },
  {
   "cell_type": "code",
   "execution_count": null,
   "metadata": {},
   "outputs": [],
   "source": []
  }
 ],
 "metadata": {
  "kernelspec": {
   "display_name": "Python 3",
   "language": "python",
   "name": "python3"
  },
  "language_info": {
   "codemirror_mode": {
    "name": "ipython",
    "version": 3
   },
   "file_extension": ".py",
   "mimetype": "text/x-python",
   "name": "python",
   "nbconvert_exporter": "python",
   "pygments_lexer": "ipython3",
   "version": "3.8.5"
  }
 },
 "nbformat": 4,
 "nbformat_minor": 4
}
