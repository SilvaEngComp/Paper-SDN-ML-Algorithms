{
 "cells": [
  {
   "cell_type": "code",
   "execution_count": 1,
   "metadata": {},
   "outputs": [],
   "source": [
    "import os\n",
    "os.environ[\"TF_CPP_MIN_LOG_LEVEL\"] = \"2\""
   ]
  },
  {
   "cell_type": "code",
   "execution_count": 2,
   "metadata": {},
   "outputs": [],
   "source": [
    "import tensorflow as tf\n",
    "from tensorflow import keras\n",
    "from tensorflow.keras import layers\n",
    "import matplotlib.pyplot as plt\n",
    "import seaborn as sns\n",
    "\n",
    "import pandas as pd\n",
    "import numpy as np\n",
    "from sklearn.model_selection import train_test_split\n"
   ]
  },
  {
   "cell_type": "markdown",
   "metadata": {},
   "source": [
    "# Load Datas"
   ]
  },
  {
   "cell_type": "code",
   "execution_count": 3,
   "metadata": {},
   "outputs": [
    {
     "data": {
      "text/html": [
       "<div>\n",
       "<style scoped>\n",
       "    .dataframe tbody tr th:only-of-type {\n",
       "        vertical-align: middle;\n",
       "    }\n",
       "\n",
       "    .dataframe tbody tr th {\n",
       "        vertical-align: top;\n",
       "    }\n",
       "\n",
       "    .dataframe thead th {\n",
       "        text-align: right;\n",
       "    }\n",
       "</style>\n",
       "<table border=\"1\" class=\"dataframe\">\n",
       "  <thead>\n",
       "    <tr style=\"text-align: right;\">\n",
       "      <th></th>\n",
       "      <th>temperature</th>\n",
       "      <th>label</th>\n",
       "      <th>delay</th>\n",
       "    </tr>\n",
       "  </thead>\n",
       "  <tbody>\n",
       "    <tr>\n",
       "      <th>0</th>\n",
       "      <td>19.1652</td>\n",
       "      <td>1.0</td>\n",
       "      <td>126.251634</td>\n",
       "    </tr>\n",
       "    <tr>\n",
       "      <th>1</th>\n",
       "      <td>19.1750</td>\n",
       "      <td>1.0</td>\n",
       "      <td>126.251634</td>\n",
       "    </tr>\n",
       "    <tr>\n",
       "      <th>2</th>\n",
       "      <td>19.1456</td>\n",
       "      <td>1.0</td>\n",
       "      <td>126.251634</td>\n",
       "    </tr>\n",
       "    <tr>\n",
       "      <th>3</th>\n",
       "      <td>19.1652</td>\n",
       "      <td>1.0</td>\n",
       "      <td>126.251634</td>\n",
       "    </tr>\n",
       "    <tr>\n",
       "      <th>4</th>\n",
       "      <td>19.1652</td>\n",
       "      <td>1.0</td>\n",
       "      <td>126.251634</td>\n",
       "    </tr>\n",
       "    <tr>\n",
       "      <th>...</th>\n",
       "      <td>...</td>\n",
       "      <td>...</td>\n",
       "      <td>...</td>\n",
       "    </tr>\n",
       "    <tr>\n",
       "      <th>3144</th>\n",
       "      <td>18.1558</td>\n",
       "      <td>0.0</td>\n",
       "      <td>9235.036163</td>\n",
       "    </tr>\n",
       "    <tr>\n",
       "      <th>3145</th>\n",
       "      <td>18.1656</td>\n",
       "      <td>0.0</td>\n",
       "      <td>9235.036163</td>\n",
       "    </tr>\n",
       "    <tr>\n",
       "      <th>3146</th>\n",
       "      <td>18.1558</td>\n",
       "      <td>0.0</td>\n",
       "      <td>9235.036163</td>\n",
       "    </tr>\n",
       "    <tr>\n",
       "      <th>3147</th>\n",
       "      <td>18.1656</td>\n",
       "      <td>0.0</td>\n",
       "      <td>9235.036163</td>\n",
       "    </tr>\n",
       "    <tr>\n",
       "      <th>3148</th>\n",
       "      <td>18.1558</td>\n",
       "      <td>0.0</td>\n",
       "      <td>9235.036163</td>\n",
       "    </tr>\n",
       "  </tbody>\n",
       "</table>\n",
       "<p>3149 rows × 3 columns</p>\n",
       "</div>"
      ],
      "text/plain": [
       "      temperature  label        delay\n",
       "0         19.1652    1.0   126.251634\n",
       "1         19.1750    1.0   126.251634\n",
       "2         19.1456    1.0   126.251634\n",
       "3         19.1652    1.0   126.251634\n",
       "4         19.1652    1.0   126.251634\n",
       "...           ...    ...          ...\n",
       "3144      18.1558    0.0  9235.036163\n",
       "3145      18.1656    0.0  9235.036163\n",
       "3146      18.1558    0.0  9235.036163\n",
       "3147      18.1656    0.0  9235.036163\n",
       "3148      18.1558    0.0  9235.036163\n",
       "\n",
       "[3149 rows x 3 columns]"
      ]
     },
     "execution_count": 3,
     "metadata": {},
     "output_type": "execute_result"
    }
   ],
   "source": [
    "df = pd.read_csv('sdn_ml.csv')\n",
    "\n",
    "df"
   ]
  },
  {
   "cell_type": "markdown",
   "metadata": {},
   "source": [
    "# Separing dataset"
   ]
  },
  {
   "cell_type": "code",
   "execution_count": 4,
   "metadata": {},
   "outputs": [],
   "source": [
    "train_size = int(len(df) * 0.9)\n",
    "test_size = len(df) - train_size\n",
    "train, test = df.iloc[0:train_size], df.iloc[train_size:len(df)]\n"
   ]
  },
  {
   "cell_type": "markdown",
   "metadata": {},
   "source": [
    "# Normalizing"
   ]
  },
  {
   "cell_type": "code",
   "execution_count": 5,
   "metadata": {},
   "outputs": [],
   "source": [
    "from sklearn.preprocessing import StandardScaler\n",
    "f_columns = ['temperature','label']"
   ]
  },
  {
   "cell_type": "code",
   "execution_count": 6,
   "metadata": {},
   "outputs": [
    {
     "name": "stderr",
     "output_type": "stream",
     "text": [
      "C:\\Users\\silva\\anaconda3\\lib\\site-packages\\pandas\\core\\indexing.py:670: SettingWithCopyWarning: \n",
      "A value is trying to be set on a copy of a slice from a DataFrame\n",
      "\n",
      "See the caveats in the documentation: https://pandas.pydata.org/pandas-docs/stable/user_guide/indexing.html#returning-a-view-versus-a-copy\n",
      "  iloc._setitem_with_indexer(indexer, value)\n",
      "<ipython-input-6-ed2d138871be>:7: SettingWithCopyWarning: \n",
      "A value is trying to be set on a copy of a slice from a DataFrame\n",
      "\n",
      "See the caveats in the documentation: https://pandas.pydata.org/pandas-docs/stable/user_guide/indexing.html#returning-a-view-versus-a-copy\n",
      "  train.loc[:,f_columns] = scaler1.transform(train[f_columns].to_numpy())\n",
      "<ipython-input-6-ed2d138871be>:8: SettingWithCopyWarning: \n",
      "A value is trying to be set on a copy of a slice from a DataFrame.\n",
      "Try using .loc[row_indexer,col_indexer] = value instead\n",
      "\n",
      "See the caveats in the documentation: https://pandas.pydata.org/pandas-docs/stable/user_guide/indexing.html#returning-a-view-versus-a-copy\n",
      "  train['delay'] = scaler2.transform(train[['delay']])\n"
     ]
    }
   ],
   "source": [
    "\n",
    "scaler1 = StandardScaler().fit(train)\n",
    "scaler2 = StandardScaler().fit(train)\n",
    "\n",
    "scaler1= scaler1.fit(train[f_columns].to_numpy())\n",
    "scaler2 = scaler2.fit(train[['delay']])\n",
    "\n",
    "train.loc[:,f_columns] = scaler1.transform(train[f_columns].to_numpy())\n",
    "train['delay'] = scaler2.transform(train[['delay']])\n",
    "\n",
    "\n",
    "\n"
   ]
  },
  {
   "cell_type": "code",
   "execution_count": 7,
   "metadata": {},
   "outputs": [
    {
     "name": "stderr",
     "output_type": "stream",
     "text": [
      "C:\\Users\\silva\\anaconda3\\lib\\site-packages\\pandas\\core\\indexing.py:670: SettingWithCopyWarning: \n",
      "A value is trying to be set on a copy of a slice from a DataFrame\n",
      "\n",
      "See the caveats in the documentation: https://pandas.pydata.org/pandas-docs/stable/user_guide/indexing.html#returning-a-view-versus-a-copy\n",
      "  iloc._setitem_with_indexer(indexer, value)\n",
      "<ipython-input-7-1fcedf14ad57>:6: SettingWithCopyWarning: \n",
      "A value is trying to be set on a copy of a slice from a DataFrame\n",
      "\n",
      "See the caveats in the documentation: https://pandas.pydata.org/pandas-docs/stable/user_guide/indexing.html#returning-a-view-versus-a-copy\n",
      "  test.loc[:,f_columns] = scaler3.transform(test[f_columns].to_numpy())\n",
      "<ipython-input-7-1fcedf14ad57>:7: SettingWithCopyWarning: \n",
      "A value is trying to be set on a copy of a slice from a DataFrame.\n",
      "Try using .loc[row_indexer,col_indexer] = value instead\n",
      "\n",
      "See the caveats in the documentation: https://pandas.pydata.org/pandas-docs/stable/user_guide/indexing.html#returning-a-view-versus-a-copy\n",
      "  test['delay'] = scaler4.transform(test[['delay']])\n"
     ]
    }
   ],
   "source": [
    "scaler3 = StandardScaler().fit(test)\n",
    "scaler4 = StandardScaler().fit(test)\n",
    "scaler3 = scaler3.fit(test[f_columns].to_numpy())\n",
    "scaler4 = scaler4.fit(test[['delay']])\n",
    "\n",
    "test.loc[:,f_columns] = scaler3.transform(test[f_columns].to_numpy())\n",
    "test['delay'] = scaler4.transform(test[['delay']])"
   ]
  },
  {
   "cell_type": "code",
   "execution_count": 8,
   "metadata": {},
   "outputs": [
    {
     "data": {
      "text/html": [
       "<div>\n",
       "<style scoped>\n",
       "    .dataframe tbody tr th:only-of-type {\n",
       "        vertical-align: middle;\n",
       "    }\n",
       "\n",
       "    .dataframe tbody tr th {\n",
       "        vertical-align: top;\n",
       "    }\n",
       "\n",
       "    .dataframe thead th {\n",
       "        text-align: right;\n",
       "    }\n",
       "</style>\n",
       "<table border=\"1\" class=\"dataframe\">\n",
       "  <thead>\n",
       "    <tr style=\"text-align: right;\">\n",
       "      <th></th>\n",
       "      <th>temperature</th>\n",
       "      <th>label</th>\n",
       "      <th>delay</th>\n",
       "    </tr>\n",
       "  </thead>\n",
       "  <tbody>\n",
       "    <tr>\n",
       "      <th>2834</th>\n",
       "      <td>1.548949</td>\n",
       "      <td>0.0</td>\n",
       "      <td>0.0</td>\n",
       "    </tr>\n",
       "    <tr>\n",
       "      <th>2835</th>\n",
       "      <td>1.548949</td>\n",
       "      <td>0.0</td>\n",
       "      <td>0.0</td>\n",
       "    </tr>\n",
       "    <tr>\n",
       "      <th>2836</th>\n",
       "      <td>1.451414</td>\n",
       "      <td>0.0</td>\n",
       "      <td>0.0</td>\n",
       "    </tr>\n",
       "    <tr>\n",
       "      <th>2837</th>\n",
       "      <td>1.451414</td>\n",
       "      <td>0.0</td>\n",
       "      <td>0.0</td>\n",
       "    </tr>\n",
       "    <tr>\n",
       "      <th>2838</th>\n",
       "      <td>1.500182</td>\n",
       "      <td>0.0</td>\n",
       "      <td>0.0</td>\n",
       "    </tr>\n",
       "    <tr>\n",
       "      <th>...</th>\n",
       "      <td>...</td>\n",
       "      <td>...</td>\n",
       "      <td>...</td>\n",
       "    </tr>\n",
       "    <tr>\n",
       "      <th>3144</th>\n",
       "      <td>-1.913545</td>\n",
       "      <td>0.0</td>\n",
       "      <td>0.0</td>\n",
       "    </tr>\n",
       "    <tr>\n",
       "      <th>3145</th>\n",
       "      <td>-1.864777</td>\n",
       "      <td>0.0</td>\n",
       "      <td>0.0</td>\n",
       "    </tr>\n",
       "    <tr>\n",
       "      <th>3146</th>\n",
       "      <td>-1.913545</td>\n",
       "      <td>0.0</td>\n",
       "      <td>0.0</td>\n",
       "    </tr>\n",
       "    <tr>\n",
       "      <th>3147</th>\n",
       "      <td>-1.864777</td>\n",
       "      <td>0.0</td>\n",
       "      <td>0.0</td>\n",
       "    </tr>\n",
       "    <tr>\n",
       "      <th>3148</th>\n",
       "      <td>-1.913545</td>\n",
       "      <td>0.0</td>\n",
       "      <td>0.0</td>\n",
       "    </tr>\n",
       "  </tbody>\n",
       "</table>\n",
       "<p>315 rows × 3 columns</p>\n",
       "</div>"
      ],
      "text/plain": [
       "      temperature  label  delay\n",
       "2834     1.548949    0.0    0.0\n",
       "2835     1.548949    0.0    0.0\n",
       "2836     1.451414    0.0    0.0\n",
       "2837     1.451414    0.0    0.0\n",
       "2838     1.500182    0.0    0.0\n",
       "...           ...    ...    ...\n",
       "3144    -1.913545    0.0    0.0\n",
       "3145    -1.864777    0.0    0.0\n",
       "3146    -1.913545    0.0    0.0\n",
       "3147    -1.864777    0.0    0.0\n",
       "3148    -1.913545    0.0    0.0\n",
       "\n",
       "[315 rows x 3 columns]"
      ]
     },
     "execution_count": 8,
     "metadata": {},
     "output_type": "execute_result"
    }
   ],
   "source": [
    "test"
   ]
  },
  {
   "cell_type": "code",
   "execution_count": 9,
   "metadata": {},
   "outputs": [],
   "source": [
    "def create_dataset(X, y, time_steps=1):\n",
    "    Xs, ys = [], []\n",
    "    for i in range(len(X) - time_steps):\n",
    "        v = X.iloc[i: (i+time_steps), 0:2].to_numpy()\n",
    "        Xs.append(v)\n",
    "        ys.append(y.iloc[i+time_steps])\n",
    "    return np.array(Xs), np.array(ys)"
   ]
  },
  {
   "cell_type": "code",
   "execution_count": 10,
   "metadata": {},
   "outputs": [],
   "source": [
    "TIME_STEPS = 1\n",
    "\n",
    "X_train,Y_train = create_dataset(train, train.delay, time_steps=TIME_STEPS)\n",
    "X_test,Y_test = create_dataset(test, test.delay, time_steps=TIME_STEPS)"
   ]
  },
  {
   "cell_type": "code",
   "execution_count": 11,
   "metadata": {},
   "outputs": [],
   "source": [
    "#deoeting label\n",
    "# X_train.drop('label', axis=1, inplace=True)\n",
    "# X_test.drop('label', axis=1, inplace=True)\n"
   ]
  },
  {
   "cell_type": "code",
   "execution_count": 12,
   "metadata": {},
   "outputs": [
    {
     "data": {
      "text/plain": [
       "array([-1.24042754, -1.24042754, -1.24042754, ...,  1.55672485,\n",
       "        1.55672485,  1.55672485])"
      ]
     },
     "execution_count": 12,
     "metadata": {},
     "output_type": "execute_result"
    }
   ],
   "source": [
    "Y_train"
   ]
  },
  {
   "cell_type": "code",
   "execution_count": 13,
   "metadata": {},
   "outputs": [
    {
     "name": "stdout",
     "output_type": "stream",
     "text": [
      "38.446875 (2734,)\n"
     ]
    }
   ],
   "source": [
    "print(X_train.shape[0]*0.9/64, Y_train.shape)"
   ]
  },
  {
   "cell_type": "markdown",
   "metadata": {},
   "source": [
    "# Training"
   ]
  },
  {
   "cell_type": "code",
   "execution_count": 14,
   "metadata": {},
   "outputs": [],
   "source": [
    "model = keras.Sequential()\n",
    "model.add(\n",
    "    keras.layers.Bidirectional(\n",
    "        keras.layers.LSTM(\n",
    "            units=40,\n",
    "            input_shape=(X_train.shape[1],X_train.shape[2])\n",
    "        )\n",
    "    ))\n",
    "\n",
    "model.add(keras.layers.Dense(units=40))\n",
    "model.add(keras.layers.Dense(units=40))\n",
    "model.add(keras.layers.Dense(units=40))\n",
    "model.add(keras.layers.Dense(units=40))\n",
    "model.add(keras.layers.Dropout(rate=0.2))\n",
    "model.add(keras.layers.Dense(units=1))\n",
    "#model.add(tf.keras.layers.ThresholdedReLU(theta=0.6))"
   ]
  },
  {
   "cell_type": "markdown",
   "metadata": {},
   "source": [
    "# Compilation"
   ]
  },
  {
   "cell_type": "code",
   "execution_count": 15,
   "metadata": {},
   "outputs": [],
   "source": [
    "loss =\"mse\"\n",
    "optim = tf.keras.optimizers.Adam(\n",
    "    learning_rate=0.0001)\n",
    "metrics=[\"accuracy\"]"
   ]
  },
  {
   "cell_type": "code",
   "execution_count": 16,
   "metadata": {},
   "outputs": [],
   "source": [
    "model.compile(loss=loss, optimizer=optim, \n",
    "             metrics=metrics\n",
    "             )"
   ]
  },
  {
   "cell_type": "code",
   "execution_count": 17,
   "metadata": {},
   "outputs": [],
   "source": [
    "# tensorboard_callback = tf.keras.callbacks.TensorBoard(log_dir=\"./logs\")"
   ]
  },
  {
   "cell_type": "code",
   "execution_count": 18,
   "metadata": {},
   "outputs": [
    {
     "name": "stdout",
     "output_type": "stream",
     "text": [
      "Epoch 1/10\n",
      "33/33 [==============================] - 22s 176ms/step - loss: 0.5606 - accuracy: 0.0000e+00 - val_loss: 2.6768 - val_accuracy: 0.0000e+00\n",
      "Epoch 2/10\n",
      "33/33 [==============================] - 2s 55ms/step - loss: 0.4467 - accuracy: 0.0000e+00 - val_loss: 2.8890 - val_accuracy: 0.0000e+00\n",
      "Epoch 3/10\n",
      "33/33 [==============================] - 2s 55ms/step - loss: 0.3889 - accuracy: 0.0000e+00 - val_loss: 3.0831 - val_accuracy: 0.0000e+00\n",
      "Epoch 4/10\n",
      "33/33 [==============================] - 2s 54ms/step - loss: 0.3484 - accuracy: 0.0000e+00 - val_loss: 3.2532 - val_accuracy: 0.0000e+00\n",
      "Epoch 5/10\n",
      "33/33 [==============================] - 2s 59ms/step - loss: 0.3284 - accuracy: 0.0000e+00 - val_loss: 3.3800 - val_accuracy: 0.0000e+00\n",
      "Epoch 6/10\n",
      "33/33 [==============================] - 2s 60ms/step - loss: 0.3050 - accuracy: 0.0000e+00 - val_loss: 3.4680 - val_accuracy: 0.0000e+00\n",
      "Epoch 7/10\n",
      "33/33 [==============================] - 2s 58ms/step - loss: 0.2948 - accuracy: 0.0000e+00 - val_loss: 3.5019 - val_accuracy: 0.0000e+00\n",
      "Epoch 8/10\n",
      "33/33 [==============================] - 2s 60ms/step - loss: 0.2917 - accuracy: 0.0000e+00 - val_loss: 3.5170 - val_accuracy: 0.0000e+00\n",
      "Epoch 9/10\n",
      "33/33 [==============================] - 2s 59ms/step - loss: 0.2868 - accuracy: 0.0000e+00 - val_loss: 3.5262 - val_accuracy: 0.0000e+00\n",
      "Epoch 10/10\n",
      "33/33 [==============================] - 2s 57ms/step - loss: 0.2843 - accuracy: 0.0000e+00 - val_loss: 3.5150 - val_accuracy: 0.0000e+00\n"
     ]
    }
   ],
   "source": [
    "history = model.fit(\n",
    "    X_train, Y_train, \n",
    "    epochs=100, \n",
    "    batch_size= 64,\n",
    "    validation_split=0.25,\n",
    "    shuffle=False,\n",
    "#     callbacks=[tensorboard_callback]\n",
    ")"
   ]
  },
  {
   "cell_type": "code",
   "execution_count": 19,
   "metadata": {},
   "outputs": [
    {
     "name": "stderr",
     "output_type": "stream",
     "text": [
      "WARNING:absl:Found untraced functions such as lstm_cell_1_layer_call_and_return_conditional_losses, lstm_cell_1_layer_call_fn, lstm_cell_2_layer_call_and_return_conditional_losses, lstm_cell_2_layer_call_fn, lstm_cell_1_layer_call_fn while saving (showing 5 of 10). These functions will not be directly callable after loading.\n"
     ]
    },
    {
     "name": "stdout",
     "output_type": "stream",
     "text": [
      "INFO:tensorflow:Assets written to: models/5_layers/40_neurons/m1\\assets\n"
     ]
    },
    {
     "name": "stderr",
     "output_type": "stream",
     "text": [
      "INFO:tensorflow:Assets written to: models/5_layers/40_neurons/m1\\assets\n"
     ]
    }
   ],
   "source": [
    "model.save('models/5_layers/40_neurons/m1')"
   ]
  },
  {
   "cell_type": "code",
   "execution_count": 20,
   "metadata": {},
   "outputs": [],
   "source": [
    "# plt.plot(history.history['accuracy'], label='train')\n",
    "# plt.plot(history.history['val_accuracy'], label='validation')\n",
    "# plt.legend();"
   ]
  },
  {
   "cell_type": "code",
   "execution_count": 21,
   "metadata": {},
   "outputs": [
    {
     "data": {
      "image/png": "[encoded data removed]",
      "text/plain": [
       "<Figure size 432x288 with 1 Axes>"
      ]
     },
     "metadata": {
      "needs_background": "light"
     },
     "output_type": "display_data"
    }
   ],
   "source": [
    "plt.plot(history.history['loss'], label='train')\n",
    "plt.plot(history.history['val_loss'], label='validation')\n",
    "plt.legend();"
   ]
  },
  {
   "cell_type": "code",
   "execution_count": 22,
   "metadata": {},
   "outputs": [],
   "source": [
    "y_pred = model.predict(X_test)"
   ]
  },
  {
   "cell_type": "code",
   "execution_count": 23,
   "metadata": {},
   "outputs": [
    {
     "data": {
      "text/plain": [
       "(1, 2734)"
      ]
     },
     "execution_count": 23,
     "metadata": {},
     "output_type": "execute_result"
    }
   ],
   "source": [
    "Y_train.reshape(1,-1).shape"
   ]
  },
  {
   "cell_type": "code",
   "execution_count": 24,
   "metadata": {},
   "outputs": [],
   "source": [
    "y_train_inv = scaler2.inverse_transform(Y_train.reshape(1,-1)) \n",
    "y_test_inv = scaler4.inverse_transform(Y_test.reshape(1,-1))\n",
    "y_pred_inv = scaler2.inverse_transform(y_pred)"
   ]
  },
  {
   "cell_type": "code",
   "execution_count": 25,
   "metadata": {},
   "outputs": [
    {
     "data": {
      "image/png": "[encoded data removed]",
      "text/plain": [
       "<Figure size 432x288 with 1 Axes>"
      ]
     },
     "metadata": {
      "needs_background": "light"
     },
     "output_type": "display_data"
    }
   ],
   "source": [
    "\n",
    "# plt.plot(y_pred_inv.flatten(),'r',marker='.', label='predicted')\n",
    "plt.plot(y_test_inv.flatten(), marker='.', label='true')\n",
    "plt.legend();"
   ]
  },
  {
   "cell_type": "code",
   "execution_count": 26,
   "metadata": {},
   "outputs": [
    {
     "data": {
      "text/plain": [
       "[<matplotlib.lines.Line2D at 0x1f03d69a520>]"
      ]
     },
     "execution_count": 26,
     "metadata": {},
     "output_type": "execute_result"
    },
    {
     "data": {
      "image/png": "[encoded data removed]",
      "text/plain": [
       "<Figure size 432x288 with 1 Axes>"
      ]
     },
     "metadata": {
      "needs_background": "light"
     },
     "output_type": "display_data"
    }
   ],
   "source": [
    "plt.plot(y_pred_inv.flatten(),'r',marker='.', label='predicted')"
   ]
  },
  {
   "cell_type": "code",
   "execution_count": 27,
   "metadata": {},
   "outputs": [
    {
     "data": {
      "image/png": "[encoded data removed]",
      "text/plain": [
       "<Figure size 432x288 with 1 Axes>"
      ]
     },
     "metadata": {
      "needs_background": "light"
     },
     "output_type": "display_data"
    }
   ],
   "source": [
    "plt.plot(y_test_inv.flatten(), marker='.', label='true')\n",
    "plt.plot(y_pred_inv.flatten(),'r',marker='.', label='predicted')\n",
    "\n",
    "plt.legend();"
   ]
  },
  {
   "cell_type": "code",
   "execution_count": 28,
   "metadata": {},
   "outputs": [
    {
     "data": {
      "text/plain": [
       "array([[2962.446 ],\n",
       "       [2966.5283],\n",
       "       [2980.186 ],\n",
       "       [2980.263 ],\n",
       "       [2974.2053],\n",
       "       [2969.7256],\n",
       "       [2970.8562],\n",
       "       [2977.923 ],\n",
       "       [2975.6792],\n",
       "       [2981.2966],\n",
       "       [2973.1885],\n",
       "       [2967.7798],\n",
       "       [2965.626 ],\n",
       "       [2970.0576],\n",
       "       [2973.8147],\n",
       "       [2970.77  ],\n",
       "       [2971.6797],\n",
       "       [2962.8853],\n",
       "       [2961.7695],\n",
       "       [2959.614 ],\n",
       "       [2950.3557],\n",
       "       [2956.322 ],\n",
       "       [2955.5781],\n",
       "       [2952.403 ],\n",
       "       [2944.6191],\n",
       "       [2932.8013],\n",
       "       [2945.7368],\n",
       "       [2946.8252],\n",
       "       [2949.5637],\n",
       "       [2951.1633],\n",
       "       [2973.0437],\n",
       "       [2980.917 ],\n",
       "       [2986.1536],\n",
       "       [2998.8835],\n",
       "       [3015.0022],\n",
       "       [3000.1533],\n",
       "       [2982.968 ],\n",
       "       [2988.8462],\n",
       "       [2982.7644],\n",
       "       [2978.3972],\n",
       "       [2969.4731],\n",
       "       [2956.9463],\n",
       "       [2954.557 ],\n",
       "       [2951.68  ],\n",
       "       [2966.8772],\n",
       "       [2975.7725],\n",
       "       [2983.1782],\n",
       "       [2999.3406],\n",
       "       [3007.466 ],\n",
       "       [3012.8635],\n",
       "       [3024.5015],\n",
       "       [3027.3618],\n",
       "       [3026.2278],\n",
       "       [3005.8508],\n",
       "       [2988.289 ],\n",
       "       [2982.1458],\n",
       "       [2990.3496],\n",
       "       [3004.5076],\n",
       "       [3002.4133],\n",
       "       [2999.0747],\n",
       "       [3004.8726],\n",
       "       [3014.837 ],\n",
       "       [3018.4563],\n",
       "       [3020.9941],\n",
       "       [2999.9556],\n",
       "       [2967.7344],\n",
       "       [2951.4966],\n",
       "       [2915.8276],\n",
       "       [2891.6316],\n",
       "       [2871.2776],\n",
       "       [2843.6843],\n",
       "       [2827.765 ],\n",
       "       [2805.0078],\n",
       "       [2813.6992],\n",
       "       [2816.6885],\n",
       "       [2813.048 ],\n",
       "       [2800.7468],\n",
       "       [2801.6196],\n",
       "       [2791.6746],\n",
       "       [2779.9846],\n",
       "       [2773.932 ],\n",
       "       [2769.287 ],\n",
       "       [2760.812 ],\n",
       "       [2760.8867],\n",
       "       [2774.8247],\n",
       "       [2789.4443],\n",
       "       [2785.661 ],\n",
       "       [2810.962 ],\n",
       "       [2825.0854],\n",
       "       [2826.2058],\n",
       "       [2813.6196],\n",
       "       [2811.8843],\n",
       "       [2816.2422],\n",
       "       [2808.8274],\n",
       "       [2803.1353],\n",
       "       [2806.9849],\n",
       "       [2796.6125],\n",
       "       [2803.8586],\n",
       "       [2808.1995],\n",
       "       [2798.7095],\n",
       "       [2822.0322],\n",
       "       [2812.5005],\n",
       "       [2823.8787],\n",
       "       [2846.993 ],\n",
       "       [2883.8083],\n",
       "       [2884.8762],\n",
       "       [2876.9324],\n",
       "       [2893.46  ],\n",
       "       [2910.4834],\n",
       "       [2906.0806],\n",
       "       [2885.6807],\n",
       "       [2860.9617],\n",
       "       [2841.055 ],\n",
       "       [2841.4211],\n",
       "       [2818.3792],\n",
       "       [2811.3706],\n",
       "       [2796.4985],\n",
       "       [2786.491 ],\n",
       "       [2780.6533],\n",
       "       [2733.2793],\n",
       "       [2704.7559],\n",
       "       [2685.01  ],\n",
       "       [2659.2573],\n",
       "       [2627.652 ],\n",
       "       [2611.8047],\n",
       "       [2586.3882],\n",
       "       [2553.347 ],\n",
       "       [2543.4849],\n",
       "       [2542.226 ],\n",
       "       [2529.5476],\n",
       "       [2517.3264],\n",
       "       [2511.4614],\n",
       "       [2500.5007],\n",
       "       [2507.065 ],\n",
       "       [2520.2385],\n",
       "       [2521.368 ],\n",
       "       [2513.0652],\n",
       "       [2508.2432],\n",
       "       [2495.5515],\n",
       "       [2487.8772],\n",
       "       [2477.4087],\n",
       "       [2462.4185],\n",
       "       [2453.6763],\n",
       "       [2445.8901],\n",
       "       [2445.315 ],\n",
       "       [2428.2515],\n",
       "       [2439.3354],\n",
       "       [2449.6904],\n",
       "       [2451.3765],\n",
       "       [2454.2505],\n",
       "       [2439.869 ],\n",
       "       [2418.8328],\n",
       "       [2398.8186],\n",
       "       [2391.5605],\n",
       "       [2359.2285],\n",
       "       [2348.5269],\n",
       "       [2349.4836],\n",
       "       [2346.201 ],\n",
       "       [2331.4365],\n",
       "       [2304.7776],\n",
       "       [2290.904 ],\n",
       "       [2288.8628],\n",
       "       [2298.4165],\n",
       "       [2315.0208],\n",
       "       [2312.994 ],\n",
       "       [2301.998 ],\n",
       "       [2305.7844],\n",
       "       [2276.6274],\n",
       "       [2277.6873],\n",
       "       [2266.1238],\n",
       "       [2245.6497],\n",
       "       [2229.7056],\n",
       "       [2238.9966],\n",
       "       [2219.404 ],\n",
       "       [2237.7412],\n",
       "       [2238.4104],\n",
       "       [2210.5002],\n",
       "       [2198.5168],\n",
       "       [2190.6333],\n",
       "       [2168.7632],\n",
       "       [2147.595 ],\n",
       "       [2137.9688],\n",
       "       [2127.2195],\n",
       "       [2117.5994],\n",
       "       [2100.1504],\n",
       "       [2082.864 ],\n",
       "       [2068.0227],\n",
       "       [2060.6326],\n",
       "       [2065.6194],\n",
       "       [2074.1443],\n",
       "       [2039.8928],\n",
       "       [2020.4683],\n",
       "       [2021.5991],\n",
       "       [2007.636 ],\n",
       "       [1976.0352],\n",
       "       [1960.5176],\n",
       "       [1934.9292],\n",
       "       [1915.3481],\n",
       "       [1901.5591],\n",
       "       [1881.9485],\n",
       "       [1870.4519],\n",
       "       [1851.8047],\n",
       "       [1845.467 ],\n",
       "       [1840.1821],\n",
       "       [1844.8721],\n",
       "       [1834.9624],\n",
       "       [1814.2834],\n",
       "       [1808.0908],\n",
       "       [1797.9199],\n",
       "       [1771.4705],\n",
       "       [1753.1394],\n",
       "       [1726.9231],\n",
       "       [1717.3267],\n",
       "       [1702.6077],\n",
       "       [1697.6309]], dtype=float32)"
      ]
     },
     "execution_count": 28,
     "metadata": {},
     "output_type": "execute_result"
    }
   ],
   "source": [
    "y_pred_inv"
   ]
  },
  {
   "cell_type": "code",
   "execution_count": 29,
   "metadata": {},
   "outputs": [
    {
     "data": {
      "text/plain": [
       "array([[9235.03616261, 9235.03616261, 9235.03616261, 9235.03616261,\n",
       "        9235.03616261, 9235.03616261, 9235.03616261, 9235.03616261,\n",
       "        9235.03616261, 9235.03616261, 9235.03616261, 9235.03616261,\n",
       "        9235.03616261, 9235.03616261, 9235.03616261, 9235.03616261,\n",
       "        9235.03616261, 9235.03616261, 9235.03616261, 9235.03616261,\n",
       "        9235.03616261, 9235.03616261, 9235.03616261, 9235.03616261,\n",
       "        9235.03616261, 9235.03616261, 9235.03616261, 9235.03616261,\n",
       "        9235.03616261, 9235.03616261, 9235.03616261, 9235.03616261,\n",
       "        9235.03616261, 9235.03616261, 9235.03616261, 9235.03616261,\n",
       "        9235.03616261, 9235.03616261, 9235.03616261, 9235.03616261,\n",
       "        9235.03616261, 9235.03616261, 9235.03616261, 9235.03616261,\n",
       "        9235.03616261, 9235.03616261, 9235.03616261, 9235.03616261,\n",
       "        9235.03616261, 9235.03616261, 9235.03616261, 9235.03616261,\n",
       "        9235.03616261, 9235.03616261, 9235.03616261, 9235.03616261,\n",
       "        9235.03616261, 9235.03616261, 9235.03616261, 9235.03616261,\n",
       "        9235.03616261, 9235.03616261, 9235.03616261, 9235.03616261,\n",
       "        9235.03616261, 9235.03616261, 9235.03616261, 9235.03616261,\n",
       "        9235.03616261, 9235.03616261, 9235.03616261, 9235.03616261,\n",
       "        9235.03616261, 9235.03616261, 9235.03616261, 9235.03616261,\n",
       "        9235.03616261, 9235.03616261, 9235.03616261, 9235.03616261,\n",
       "        9235.03616261, 9235.03616261, 9235.03616261, 9235.03616261,\n",
       "        9235.03616261, 9235.03616261, 9235.03616261, 9235.03616261,\n",
       "        9235.03616261, 9235.03616261, 9235.03616261, 9235.03616261,\n",
       "        9235.03616261, 9235.03616261, 9235.03616261, 9235.03616261,\n",
       "        9235.03616261, 9235.03616261, 9235.03616261, 9235.03616261,\n",
       "        9235.03616261, 9235.03616261, 9235.03616261, 9235.03616261,\n",
       "        9235.03616261, 9235.03616261, 9235.03616261, 9235.03616261,\n",
       "        9235.03616261, 9235.03616261, 9235.03616261, 9235.03616261,\n",
       "        9235.03616261, 9235.03616261, 9235.03616261, 9235.03616261,\n",
       "        9235.03616261, 9235.03616261, 9235.03616261, 9235.03616261,\n",
       "        9235.03616261, 9235.03616261, 9235.03616261, 9235.03616261,\n",
       "        9235.03616261, 9235.03616261, 9235.03616261, 9235.03616261,\n",
       "        9235.03616261, 9235.03616261, 9235.03616261, 9235.03616261,\n",
       "        9235.03616261, 9235.03616261, 9235.03616261, 9235.03616261,\n",
       "        9235.03616261, 9235.03616261, 9235.03616261, 9235.03616261,\n",
       "        9235.03616261, 9235.03616261, 9235.03616261, 9235.03616261,\n",
       "        9235.03616261, 9235.03616261, 9235.03616261, 9235.03616261,\n",
       "        9235.03616261, 9235.03616261, 9235.03616261, 9235.03616261,\n",
       "        9235.03616261, 9235.03616261, 9235.03616261, 9235.03616261,\n",
       "        9235.03616261, 9235.03616261, 9235.03616261, 9235.03616261,\n",
       "        9235.03616261, 9235.03616261, 9235.03616261, 9235.03616261,\n",
       "        9235.03616261, 9235.03616261, 9235.03616261, 9235.03616261,\n",
       "        9235.03616261, 9235.03616261, 9235.03616261, 9235.03616261,\n",
       "        9235.03616261, 9235.03616261, 9235.03616261, 9235.03616261,\n",
       "        9235.03616261, 9235.03616261, 9235.03616261, 9235.03616261,\n",
       "        9235.03616261, 9235.03616261, 9235.03616261, 9235.03616261,\n",
       "        9235.03616261, 9235.03616261, 9235.03616261, 9235.03616261,\n",
       "        9235.03616261, 9235.03616261, 9235.03616261, 9235.03616261,\n",
       "        9235.03616261, 9235.03616261, 9235.03616261, 9235.03616261,\n",
       "        9235.03616261, 9235.03616261, 9235.03616261, 9235.03616261,\n",
       "        9235.03616261, 9235.03616261, 9235.03616261, 9235.03616261,\n",
       "        9235.03616261, 9235.03616261, 9235.03616261, 9235.03616261,\n",
       "        9235.03616261, 9235.03616261, 9235.03616261, 9235.03616261,\n",
       "        9235.03616261, 9235.03616261, 9235.03616261]])"
      ]
     },
     "execution_count": 29,
     "metadata": {},
     "output_type": "execute_result"
    }
   ],
   "source": [
    "y_test_inv"
   ]
  },
  {
   "cell_type": "code",
   "execution_count": null,
   "metadata": {},
   "outputs": [],
   "source": []
  },
  {
   "cell_type": "code",
   "execution_count": null,
   "metadata": {},
   "outputs": [],
   "source": []
  },
  {
   "cell_type": "code",
   "execution_count": null,
   "metadata": {},
   "outputs": [],
   "source": []
  },
  {
   "cell_type": "code",
   "execution_count": null,
   "metadata": {},
   "outputs": [],
   "source": []
  }
 ],
 "metadata": {
  "kernelspec": {
   "display_name": "Python 3",
   "language": "python",
   "name": "python3"
  },
  "language_info": {
   "codemirror_mode": {
    "name": "ipython",
    "version": 3
   },
   "file_extension": ".py",
   "mimetype": "text/x-python",
   "name": "python",
   "nbconvert_exporter": "python",
   "pygments_lexer": "ipython3",
   "version": "3.8.5"
  }
 },
 "nbformat": 4,
 "nbformat_minor": 4
}
